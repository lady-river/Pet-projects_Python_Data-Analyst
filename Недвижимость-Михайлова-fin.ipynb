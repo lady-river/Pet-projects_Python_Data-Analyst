{
 "cells": [
  {
   "cell_type": "markdown",
   "id": "5c2983f4",
   "metadata": {},
   "source": [
    "<div style=\"border:solid green 3px; padding: 20px\">\n",
    "\n",
    "<b>Привет!</b>\n",
    "\n",
    "Меня зовут Сороколетов Илья и я буду проверять твой проект. \n",
    "\n",
    "Предлагаю общаться на «**ты**», но если тебе будет комфортнее общаться на «**вы**», то сообщи об этом в комментариях)\n",
    "\n",
    "\n",
    "Для твоего удобства, я буду выделять свои комментарии следующим образом:\n",
    "\n",
    "<div class=\"alert alert-danger\">\n",
    "<b>❌ Комментарий ревьюера v1:</b> Самые важные замечания. Они указывают на ключевые моменты, которые влияют на конечный результат проекта. </div>\n",
    "\n",
    "<div class=\"alert alert-warning\">\n",
    "<b>⚠️ Комментарий ревьюера v1:</b> Советы или замечания, которые помогут сделать твою работу лучше, но необязательны к выполнению.\n",
    "\n",
    "</div>\n",
    "\n",
    "<div class=\"alert alert-success\">\n",
    "<b>✔️ Комментарий ревьюера v1:</b> Так я выделяю все остальные комментарии.</div>\n",
    "\n",
    "\n",
    "Пометками <b>v1-v2-v3-...</b> я буду отмечать версию проверки. Так ты сможешь быстро найти мои новые комментарии.\n",
    "\n",
    "Давай работать над проектом в диалоге: если ты что-то меняешь в проекте по моим рекомендациям — пиши об этом. Выбери для своих комментариев какой-то заметный цвет, так мне будет легче отследить изменения, например вот так:\n",
    "    \n",
    "<div class=\"alert alert-info\">\n",
    "<b>Комментарий студента:</b>\n",
    "<br>\n",
    "</div>\n",
    "\n",
    "<b>Пожалуйста, не перемещай, не изменяй и не удаляй мои комментарии.</b> Если ты оставляешь свои комментарии, то делай это под моими, чтобы сообщения были расположены в хронологическом порядке. Всё это поможет выполнить повторную проверку твоего проекта быстрее. \n",
    "\n",
    "Перед отправкой работы я рекомендую нажимать Kernel -> Restart & Run All. Это перезапустит ядро и по очереди выполнит все ячейки. Так ты сможешь проверить, что всё работает корректно. Кнопка Kernel находится в панели сверху\n",
    "\n",
    "Обязательно задавай вопросы если они возникнут, а я перехожу к проверке)\n",
    "\n",
    "P.S. На всякий случай, я оставлю пустой шаблон для твоих комментариев ниже. Кликни два раза на мой комментарий, скопируй последние четыре строчки кода и вставляй их в пустую ячейку там, где ты хочешь оставить комментарий. Не забудь только перед этим сменить тип ячейки на Markdown. Быстро это можно сделать так: кликнуть на ячейку - нажать ESC - нажать M. \n",
    "    \n",
    "    \n",
    "<div class=\"alert alert-info\">\n",
    "<b>Комментарий студента:</b>\n",
    "<br>Удали этот текст и вместо него напиши свой комментарий 🙂\n",
    "</div>"
   ]
  },
  {
   "cell_type": "markdown",
   "id": "e975ce1b",
   "metadata": {},
   "source": [
    "<div class=\"alert alert-danger\">\n",
    "<b>❌ Комментарий ревьюера:</b> \n",
    "<br>Перед отправкой проекта обязательно перезапускай ядро через Kernel -> Restart & Run All и проверяй, чтобы все ячейки отработали без ошибок. 7 ячейка сейчас падает с ошибкой. Поправь, пожалуйста, чтобы я смог проверить твой проект\n",
    "</div>\n"
   ]
  },
  {
   "cell_type": "markdown",
   "id": "db5e6b33",
   "metadata": {},
   "source": [
    "<div class=\"alert alert-info\">\n",
    "<b>Комментарий студента:</b>\n",
    "<br>Добрый день! Перезапускала проект и все работало, видимо инструменты по разному воспринимаю. Как в будущем такого можно избежать? Тренажер бывает недоступен, по этому не очень хотелось бы выполнять в нем проекты. \n",
    "</div>"
   ]
  },
  {
   "cell_type": "markdown",
   "id": "03060235",
   "metadata": {},
   "source": [
    "<div class=\"alert alert-danger\">\n",
    "<b>❌ Комментарий ревьюера:</b> \n",
    "<br>1. Делать проект на платформе\n",
    "<br>2. Если делаешь локально, убедиться в том, что версии библиотек полностью совпадают с теми, что установлены на платформе\n",
    "<br>3. Если библиотеки не совпадают, то добавь в свой проект код, который будет обновлять библиотеку до той версии, которую используешь ты. \n",
    "    \n",
    "<br>Ошибка сохраняется. Добавь, пожалуйста, код для обновления библиотек\n",
    "</div>"
   ]
  },
  {
   "cell_type": "markdown",
   "id": "35a4ab11",
   "metadata": {},
   "source": [
    "<div class=\"alert alert-info\">\n",
    "<b>Комментарий студента:</b>\n",
    "<br>Добрый день! не стала грузить новую версию, пробую отправить в тренажере.  Нашла ошибку - при перезапуске работает. \n",
    "</div>"
   ]
  },
  {
   "cell_type": "markdown",
   "id": "dd546d43",
   "metadata": {},
   "source": [
    "<div class=\"alert alert-success\">\n",
    "<b>✔️ Комментарий ревьюера v1:</b>\n",
    "<br>Теперь всё работает. Спасибо) Перехожу к проверке!\n",
    "</div>"
   ]
  },
  {
   "cell_type": "markdown",
   "id": "bcec3e79",
   "metadata": {},
   "source": [
    "# Исследовательский анализ объявлений о продаже квартир"
   ]
  },
  {
   "cell_type": "markdown",
   "id": "b4cc3d1e",
   "metadata": {},
   "source": [
    "В вашем распоряжении данные сервиса Яндекс Недвижимость — архив объявлений за несколько лет о продаже квартир в Санкт-Петербурге и соседних населённых пунктах.\n",
    "О каждой квартире в базе содержится два типа данных: добавленные пользователем и картографические. Например, к первому типу относятся площадь квартиры, её этаж и количество балконов, ко второму — расстояния до центра города, аэропорта и ближайшего парка."
   ]
  },
  {
   "cell_type": "markdown",
   "id": "bb8d2351",
   "metadata": {},
   "source": [
    "- airports_nearest — расстояние до ближайшего аэропорта в метрах (м)\n",
    "- balcony — число балконов\n",
    "- ceiling_height — высота потолков (м)\n",
    "- cityCenters_nearest — расстояние до центра города (м)\n",
    "- days_exposition — сколько дней было размещено объявление (от публикации до снятия)\n",
    "- first_day_exposition — дата публикации\n",
    "- floor — этаж\n",
    "- floors_total — всего этажей в доме\n",
    "- is_apartment — апартаменты (булев тип)\n",
    "- kitchen_area — площадь кухни в квадратных метрах (м²)\n",
    "- last_price — цена на момент снятия с публикации\n",
    "- living_area — жилая площадь в квадратных метрах (м²)\n",
    "- locality_name — название населённого пункта\n",
    "- open_plan — свободная планировка (булев тип)\n",
    "- parks_around3000 — число парков в радиусе 3 км\n",
    "- parks_nearest — расстояние до ближайшего парка (м)\n",
    "- ponds_around3000 — число водоёмов в радиусе 3 км\n",
    "- ponds_nearest — расстояние до ближайшего водоёма (м)\n",
    "- rooms — число комнат\n",
    "- studio — квартира-студия (булев тип)\n",
    "- total_area — общая площадь квартиры в квадратных метрах (м²)\n",
    "- total_images — число фотографий квартиры в объявлении"
   ]
  },
  {
   "cell_type": "markdown",
   "id": "7ec1ea0d",
   "metadata": {},
   "source": [
    "## Общая информация о данных"
   ]
  },
  {
   "cell_type": "code",
   "execution_count": 1,
   "id": "f91c6e6b",
   "metadata": {},
   "outputs": [],
   "source": [
    "import pandas as pd\n",
    "import matplotlib.pyplot as plt\n",
    "import numpy as np\n",
    "import seaborn as sns\n",
    "\n",
    "import warnings #убрать предупреждения \n",
    "warnings.simplefilter(\"ignore\")"
   ]
  },
  {
   "cell_type": "code",
   "execution_count": 2,
   "id": "723531b4",
   "metadata": {},
   "outputs": [
    {
     "name": "stdout",
     "output_type": "stream",
     "text": [
      "Name: pandas\r\n",
      "Version: 1.2.4\r\n",
      "Summary: Powerful data structures for data analysis, time series, and statistics\r\n",
      "Home-page: https://pandas.pydata.org\r\n",
      "Author: None\r\n",
      "Author-email: None\r\n",
      "License: BSD\r\n",
      "Location: /opt/conda/lib/python3.9/site-packages\r\n",
      "Requires: python-dateutil, pytz, numpy\r\n",
      "Required-by: statsmodels, seaborn, catboost\r\n"
     ]
    }
   ],
   "source": [
    "!pip show pandas "
   ]
  },
  {
   "cell_type": "code",
   "execution_count": 3,
   "id": "249238e9",
   "metadata": {},
   "outputs": [],
   "source": [
    "try:\n",
    "    data = pd.read_csv('/Users/Taras/Documents/я-практикум/data/data/real_estate_data.csv', sep='\\t')\n",
    "except:\n",
    "    data = pd.read_csv('https://code.s3.yandex.net/datasets/real_estate_data.csv', sep='\\t')"
   ]
  },
  {
   "cell_type": "code",
   "execution_count": 4,
   "id": "cb9c2dce",
   "metadata": {},
   "outputs": [],
   "source": [
    "pd.set_option('display.max_columns', None)  #показать все столбцы таблицы\n"
   ]
  },
  {
   "cell_type": "code",
   "execution_count": 5,
   "id": "d1650959",
   "metadata": {
    "scrolled": true
   },
   "outputs": [
    {
     "data": {
      "text/html": [
       "<div>\n",
       "<style scoped>\n",
       "    .dataframe tbody tr th:only-of-type {\n",
       "        vertical-align: middle;\n",
       "    }\n",
       "\n",
       "    .dataframe tbody tr th {\n",
       "        vertical-align: top;\n",
       "    }\n",
       "\n",
       "    .dataframe thead th {\n",
       "        text-align: right;\n",
       "    }\n",
       "</style>\n",
       "<table border=\"1\" class=\"dataframe\">\n",
       "  <thead>\n",
       "    <tr style=\"text-align: right;\">\n",
       "      <th></th>\n",
       "      <th>total_images</th>\n",
       "      <th>last_price</th>\n",
       "      <th>total_area</th>\n",
       "      <th>first_day_exposition</th>\n",
       "      <th>rooms</th>\n",
       "      <th>ceiling_height</th>\n",
       "      <th>floors_total</th>\n",
       "      <th>living_area</th>\n",
       "      <th>floor</th>\n",
       "      <th>is_apartment</th>\n",
       "      <th>studio</th>\n",
       "      <th>open_plan</th>\n",
       "      <th>kitchen_area</th>\n",
       "      <th>balcony</th>\n",
       "      <th>locality_name</th>\n",
       "      <th>airports_nearest</th>\n",
       "      <th>cityCenters_nearest</th>\n",
       "      <th>parks_around3000</th>\n",
       "      <th>parks_nearest</th>\n",
       "      <th>ponds_around3000</th>\n",
       "      <th>ponds_nearest</th>\n",
       "      <th>days_exposition</th>\n",
       "    </tr>\n",
       "  </thead>\n",
       "  <tbody>\n",
       "    <tr>\n",
       "      <th>0</th>\n",
       "      <td>20</td>\n",
       "      <td>13000000.0</td>\n",
       "      <td>108.00</td>\n",
       "      <td>2019-03-07T00:00:00</td>\n",
       "      <td>3</td>\n",
       "      <td>2.70</td>\n",
       "      <td>16.0</td>\n",
       "      <td>51.00</td>\n",
       "      <td>8</td>\n",
       "      <td>NaN</td>\n",
       "      <td>False</td>\n",
       "      <td>False</td>\n",
       "      <td>25.00</td>\n",
       "      <td>NaN</td>\n",
       "      <td>Санкт-Петербург</td>\n",
       "      <td>18863.0</td>\n",
       "      <td>16028.0</td>\n",
       "      <td>1.0</td>\n",
       "      <td>482.0</td>\n",
       "      <td>2.0</td>\n",
       "      <td>755.0</td>\n",
       "      <td>NaN</td>\n",
       "    </tr>\n",
       "    <tr>\n",
       "      <th>1</th>\n",
       "      <td>7</td>\n",
       "      <td>3350000.0</td>\n",
       "      <td>40.40</td>\n",
       "      <td>2018-12-04T00:00:00</td>\n",
       "      <td>1</td>\n",
       "      <td>NaN</td>\n",
       "      <td>11.0</td>\n",
       "      <td>18.60</td>\n",
       "      <td>1</td>\n",
       "      <td>NaN</td>\n",
       "      <td>False</td>\n",
       "      <td>False</td>\n",
       "      <td>11.00</td>\n",
       "      <td>2.0</td>\n",
       "      <td>посёлок Шушары</td>\n",
       "      <td>12817.0</td>\n",
       "      <td>18603.0</td>\n",
       "      <td>0.0</td>\n",
       "      <td>NaN</td>\n",
       "      <td>0.0</td>\n",
       "      <td>NaN</td>\n",
       "      <td>81.0</td>\n",
       "    </tr>\n",
       "    <tr>\n",
       "      <th>2</th>\n",
       "      <td>10</td>\n",
       "      <td>5196000.0</td>\n",
       "      <td>56.00</td>\n",
       "      <td>2015-08-20T00:00:00</td>\n",
       "      <td>2</td>\n",
       "      <td>NaN</td>\n",
       "      <td>5.0</td>\n",
       "      <td>34.30</td>\n",
       "      <td>4</td>\n",
       "      <td>NaN</td>\n",
       "      <td>False</td>\n",
       "      <td>False</td>\n",
       "      <td>8.30</td>\n",
       "      <td>0.0</td>\n",
       "      <td>Санкт-Петербург</td>\n",
       "      <td>21741.0</td>\n",
       "      <td>13933.0</td>\n",
       "      <td>1.0</td>\n",
       "      <td>90.0</td>\n",
       "      <td>2.0</td>\n",
       "      <td>574.0</td>\n",
       "      <td>558.0</td>\n",
       "    </tr>\n",
       "    <tr>\n",
       "      <th>3</th>\n",
       "      <td>0</td>\n",
       "      <td>64900000.0</td>\n",
       "      <td>159.00</td>\n",
       "      <td>2015-07-24T00:00:00</td>\n",
       "      <td>3</td>\n",
       "      <td>NaN</td>\n",
       "      <td>14.0</td>\n",
       "      <td>NaN</td>\n",
       "      <td>9</td>\n",
       "      <td>NaN</td>\n",
       "      <td>False</td>\n",
       "      <td>False</td>\n",
       "      <td>NaN</td>\n",
       "      <td>0.0</td>\n",
       "      <td>Санкт-Петербург</td>\n",
       "      <td>28098.0</td>\n",
       "      <td>6800.0</td>\n",
       "      <td>2.0</td>\n",
       "      <td>84.0</td>\n",
       "      <td>3.0</td>\n",
       "      <td>234.0</td>\n",
       "      <td>424.0</td>\n",
       "    </tr>\n",
       "    <tr>\n",
       "      <th>4</th>\n",
       "      <td>2</td>\n",
       "      <td>10000000.0</td>\n",
       "      <td>100.00</td>\n",
       "      <td>2018-06-19T00:00:00</td>\n",
       "      <td>2</td>\n",
       "      <td>3.03</td>\n",
       "      <td>14.0</td>\n",
       "      <td>32.00</td>\n",
       "      <td>13</td>\n",
       "      <td>NaN</td>\n",
       "      <td>False</td>\n",
       "      <td>False</td>\n",
       "      <td>41.00</td>\n",
       "      <td>NaN</td>\n",
       "      <td>Санкт-Петербург</td>\n",
       "      <td>31856.0</td>\n",
       "      <td>8098.0</td>\n",
       "      <td>2.0</td>\n",
       "      <td>112.0</td>\n",
       "      <td>1.0</td>\n",
       "      <td>48.0</td>\n",
       "      <td>121.0</td>\n",
       "    </tr>\n",
       "    <tr>\n",
       "      <th>5</th>\n",
       "      <td>10</td>\n",
       "      <td>2890000.0</td>\n",
       "      <td>30.40</td>\n",
       "      <td>2018-09-10T00:00:00</td>\n",
       "      <td>1</td>\n",
       "      <td>NaN</td>\n",
       "      <td>12.0</td>\n",
       "      <td>14.40</td>\n",
       "      <td>5</td>\n",
       "      <td>NaN</td>\n",
       "      <td>False</td>\n",
       "      <td>False</td>\n",
       "      <td>9.10</td>\n",
       "      <td>NaN</td>\n",
       "      <td>городской посёлок Янино-1</td>\n",
       "      <td>NaN</td>\n",
       "      <td>NaN</td>\n",
       "      <td>NaN</td>\n",
       "      <td>NaN</td>\n",
       "      <td>NaN</td>\n",
       "      <td>NaN</td>\n",
       "      <td>55.0</td>\n",
       "    </tr>\n",
       "    <tr>\n",
       "      <th>6</th>\n",
       "      <td>6</td>\n",
       "      <td>3700000.0</td>\n",
       "      <td>37.30</td>\n",
       "      <td>2017-11-02T00:00:00</td>\n",
       "      <td>1</td>\n",
       "      <td>NaN</td>\n",
       "      <td>26.0</td>\n",
       "      <td>10.60</td>\n",
       "      <td>6</td>\n",
       "      <td>NaN</td>\n",
       "      <td>False</td>\n",
       "      <td>False</td>\n",
       "      <td>14.40</td>\n",
       "      <td>1.0</td>\n",
       "      <td>посёлок Парголово</td>\n",
       "      <td>52996.0</td>\n",
       "      <td>19143.0</td>\n",
       "      <td>0.0</td>\n",
       "      <td>NaN</td>\n",
       "      <td>0.0</td>\n",
       "      <td>NaN</td>\n",
       "      <td>155.0</td>\n",
       "    </tr>\n",
       "    <tr>\n",
       "      <th>7</th>\n",
       "      <td>5</td>\n",
       "      <td>7915000.0</td>\n",
       "      <td>71.60</td>\n",
       "      <td>2019-04-18T00:00:00</td>\n",
       "      <td>2</td>\n",
       "      <td>NaN</td>\n",
       "      <td>24.0</td>\n",
       "      <td>NaN</td>\n",
       "      <td>22</td>\n",
       "      <td>NaN</td>\n",
       "      <td>False</td>\n",
       "      <td>False</td>\n",
       "      <td>18.90</td>\n",
       "      <td>2.0</td>\n",
       "      <td>Санкт-Петербург</td>\n",
       "      <td>23982.0</td>\n",
       "      <td>11634.0</td>\n",
       "      <td>0.0</td>\n",
       "      <td>NaN</td>\n",
       "      <td>0.0</td>\n",
       "      <td>NaN</td>\n",
       "      <td>NaN</td>\n",
       "    </tr>\n",
       "    <tr>\n",
       "      <th>8</th>\n",
       "      <td>20</td>\n",
       "      <td>2900000.0</td>\n",
       "      <td>33.16</td>\n",
       "      <td>2018-05-23T00:00:00</td>\n",
       "      <td>1</td>\n",
       "      <td>NaN</td>\n",
       "      <td>27.0</td>\n",
       "      <td>15.43</td>\n",
       "      <td>26</td>\n",
       "      <td>NaN</td>\n",
       "      <td>False</td>\n",
       "      <td>False</td>\n",
       "      <td>8.81</td>\n",
       "      <td>NaN</td>\n",
       "      <td>посёлок Мурино</td>\n",
       "      <td>NaN</td>\n",
       "      <td>NaN</td>\n",
       "      <td>NaN</td>\n",
       "      <td>NaN</td>\n",
       "      <td>NaN</td>\n",
       "      <td>NaN</td>\n",
       "      <td>189.0</td>\n",
       "    </tr>\n",
       "    <tr>\n",
       "      <th>9</th>\n",
       "      <td>18</td>\n",
       "      <td>5400000.0</td>\n",
       "      <td>61.00</td>\n",
       "      <td>2017-02-26T00:00:00</td>\n",
       "      <td>3</td>\n",
       "      <td>2.50</td>\n",
       "      <td>9.0</td>\n",
       "      <td>43.60</td>\n",
       "      <td>7</td>\n",
       "      <td>NaN</td>\n",
       "      <td>False</td>\n",
       "      <td>False</td>\n",
       "      <td>6.50</td>\n",
       "      <td>2.0</td>\n",
       "      <td>Санкт-Петербург</td>\n",
       "      <td>50898.0</td>\n",
       "      <td>15008.0</td>\n",
       "      <td>0.0</td>\n",
       "      <td>NaN</td>\n",
       "      <td>0.0</td>\n",
       "      <td>NaN</td>\n",
       "      <td>289.0</td>\n",
       "    </tr>\n",
       "    <tr>\n",
       "      <th>10</th>\n",
       "      <td>5</td>\n",
       "      <td>5050000.0</td>\n",
       "      <td>39.60</td>\n",
       "      <td>2017-11-16T00:00:00</td>\n",
       "      <td>1</td>\n",
       "      <td>2.67</td>\n",
       "      <td>12.0</td>\n",
       "      <td>20.30</td>\n",
       "      <td>3</td>\n",
       "      <td>NaN</td>\n",
       "      <td>False</td>\n",
       "      <td>False</td>\n",
       "      <td>8.50</td>\n",
       "      <td>NaN</td>\n",
       "      <td>Санкт-Петербург</td>\n",
       "      <td>38357.0</td>\n",
       "      <td>13878.0</td>\n",
       "      <td>1.0</td>\n",
       "      <td>310.0</td>\n",
       "      <td>2.0</td>\n",
       "      <td>553.0</td>\n",
       "      <td>137.0</td>\n",
       "    </tr>\n",
       "    <tr>\n",
       "      <th>11</th>\n",
       "      <td>9</td>\n",
       "      <td>3300000.0</td>\n",
       "      <td>44.00</td>\n",
       "      <td>2018-08-27T00:00:00</td>\n",
       "      <td>2</td>\n",
       "      <td>NaN</td>\n",
       "      <td>5.0</td>\n",
       "      <td>31.00</td>\n",
       "      <td>4</td>\n",
       "      <td>False</td>\n",
       "      <td>False</td>\n",
       "      <td>False</td>\n",
       "      <td>6.00</td>\n",
       "      <td>1.0</td>\n",
       "      <td>Ломоносов</td>\n",
       "      <td>48252.0</td>\n",
       "      <td>51677.0</td>\n",
       "      <td>0.0</td>\n",
       "      <td>NaN</td>\n",
       "      <td>0.0</td>\n",
       "      <td>NaN</td>\n",
       "      <td>7.0</td>\n",
       "    </tr>\n",
       "    <tr>\n",
       "      <th>12</th>\n",
       "      <td>10</td>\n",
       "      <td>3890000.0</td>\n",
       "      <td>54.00</td>\n",
       "      <td>2016-06-30T00:00:00</td>\n",
       "      <td>2</td>\n",
       "      <td>NaN</td>\n",
       "      <td>5.0</td>\n",
       "      <td>30.00</td>\n",
       "      <td>5</td>\n",
       "      <td>NaN</td>\n",
       "      <td>False</td>\n",
       "      <td>False</td>\n",
       "      <td>9.00</td>\n",
       "      <td>0.0</td>\n",
       "      <td>Сертолово</td>\n",
       "      <td>NaN</td>\n",
       "      <td>NaN</td>\n",
       "      <td>NaN</td>\n",
       "      <td>NaN</td>\n",
       "      <td>NaN</td>\n",
       "      <td>NaN</td>\n",
       "      <td>90.0</td>\n",
       "    </tr>\n",
       "    <tr>\n",
       "      <th>13</th>\n",
       "      <td>20</td>\n",
       "      <td>3550000.0</td>\n",
       "      <td>42.80</td>\n",
       "      <td>2017-07-01T00:00:00</td>\n",
       "      <td>2</td>\n",
       "      <td>2.56</td>\n",
       "      <td>5.0</td>\n",
       "      <td>27.00</td>\n",
       "      <td>5</td>\n",
       "      <td>NaN</td>\n",
       "      <td>False</td>\n",
       "      <td>False</td>\n",
       "      <td>5.20</td>\n",
       "      <td>1.0</td>\n",
       "      <td>Петергоф</td>\n",
       "      <td>37868.0</td>\n",
       "      <td>33058.0</td>\n",
       "      <td>1.0</td>\n",
       "      <td>294.0</td>\n",
       "      <td>3.0</td>\n",
       "      <td>298.0</td>\n",
       "      <td>366.0</td>\n",
       "    </tr>\n",
       "    <tr>\n",
       "      <th>14</th>\n",
       "      <td>1</td>\n",
       "      <td>4400000.0</td>\n",
       "      <td>36.00</td>\n",
       "      <td>2016-06-23T00:00:00</td>\n",
       "      <td>1</td>\n",
       "      <td>NaN</td>\n",
       "      <td>6.0</td>\n",
       "      <td>17.00</td>\n",
       "      <td>1</td>\n",
       "      <td>NaN</td>\n",
       "      <td>False</td>\n",
       "      <td>False</td>\n",
       "      <td>8.00</td>\n",
       "      <td>0.0</td>\n",
       "      <td>Пушкин</td>\n",
       "      <td>20782.0</td>\n",
       "      <td>30759.0</td>\n",
       "      <td>0.0</td>\n",
       "      <td>NaN</td>\n",
       "      <td>1.0</td>\n",
       "      <td>96.0</td>\n",
       "      <td>203.0</td>\n",
       "    </tr>\n",
       "    <tr>\n",
       "      <th>15</th>\n",
       "      <td>16</td>\n",
       "      <td>4650000.0</td>\n",
       "      <td>39.00</td>\n",
       "      <td>2017-11-18T00:00:00</td>\n",
       "      <td>1</td>\n",
       "      <td>NaN</td>\n",
       "      <td>14.0</td>\n",
       "      <td>20.50</td>\n",
       "      <td>5</td>\n",
       "      <td>NaN</td>\n",
       "      <td>False</td>\n",
       "      <td>False</td>\n",
       "      <td>7.60</td>\n",
       "      <td>1.0</td>\n",
       "      <td>Санкт-Петербург</td>\n",
       "      <td>12900.0</td>\n",
       "      <td>14259.0</td>\n",
       "      <td>1.0</td>\n",
       "      <td>590.0</td>\n",
       "      <td>1.0</td>\n",
       "      <td>296.0</td>\n",
       "      <td>19.0</td>\n",
       "    </tr>\n",
       "    <tr>\n",
       "      <th>16</th>\n",
       "      <td>11</td>\n",
       "      <td>6700000.0</td>\n",
       "      <td>82.00</td>\n",
       "      <td>2017-11-23T00:00:00</td>\n",
       "      <td>3</td>\n",
       "      <td>3.05</td>\n",
       "      <td>5.0</td>\n",
       "      <td>55.60</td>\n",
       "      <td>1</td>\n",
       "      <td>NaN</td>\n",
       "      <td>False</td>\n",
       "      <td>False</td>\n",
       "      <td>9.00</td>\n",
       "      <td>NaN</td>\n",
       "      <td>Санкт-Петербург</td>\n",
       "      <td>22108.0</td>\n",
       "      <td>10698.0</td>\n",
       "      <td>3.0</td>\n",
       "      <td>420.0</td>\n",
       "      <td>0.0</td>\n",
       "      <td>NaN</td>\n",
       "      <td>397.0</td>\n",
       "    </tr>\n",
       "    <tr>\n",
       "      <th>17</th>\n",
       "      <td>6</td>\n",
       "      <td>4180000.0</td>\n",
       "      <td>36.00</td>\n",
       "      <td>2016-09-09T00:00:00</td>\n",
       "      <td>1</td>\n",
       "      <td>NaN</td>\n",
       "      <td>17.0</td>\n",
       "      <td>16.50</td>\n",
       "      <td>7</td>\n",
       "      <td>NaN</td>\n",
       "      <td>False</td>\n",
       "      <td>False</td>\n",
       "      <td>11.00</td>\n",
       "      <td>1.0</td>\n",
       "      <td>Санкт-Петербург</td>\n",
       "      <td>33564.0</td>\n",
       "      <td>14616.0</td>\n",
       "      <td>0.0</td>\n",
       "      <td>NaN</td>\n",
       "      <td>1.0</td>\n",
       "      <td>859.0</td>\n",
       "      <td>571.0</td>\n",
       "    </tr>\n",
       "    <tr>\n",
       "      <th>18</th>\n",
       "      <td>8</td>\n",
       "      <td>3250000.0</td>\n",
       "      <td>31.00</td>\n",
       "      <td>2017-01-27T00:00:00</td>\n",
       "      <td>1</td>\n",
       "      <td>2.50</td>\n",
       "      <td>5.0</td>\n",
       "      <td>19.40</td>\n",
       "      <td>2</td>\n",
       "      <td>NaN</td>\n",
       "      <td>False</td>\n",
       "      <td>False</td>\n",
       "      <td>5.60</td>\n",
       "      <td>1.0</td>\n",
       "      <td>Санкт-Петербург</td>\n",
       "      <td>44060.0</td>\n",
       "      <td>10842.0</td>\n",
       "      <td>1.0</td>\n",
       "      <td>759.0</td>\n",
       "      <td>0.0</td>\n",
       "      <td>NaN</td>\n",
       "      <td>168.0</td>\n",
       "    </tr>\n",
       "    <tr>\n",
       "      <th>19</th>\n",
       "      <td>16</td>\n",
       "      <td>14200000.0</td>\n",
       "      <td>121.00</td>\n",
       "      <td>2019-01-09T00:00:00</td>\n",
       "      <td>3</td>\n",
       "      <td>2.75</td>\n",
       "      <td>16.0</td>\n",
       "      <td>76.00</td>\n",
       "      <td>8</td>\n",
       "      <td>NaN</td>\n",
       "      <td>False</td>\n",
       "      <td>False</td>\n",
       "      <td>12.00</td>\n",
       "      <td>NaN</td>\n",
       "      <td>Санкт-Петербург</td>\n",
       "      <td>38900.0</td>\n",
       "      <td>12843.0</td>\n",
       "      <td>0.0</td>\n",
       "      <td>NaN</td>\n",
       "      <td>0.0</td>\n",
       "      <td>NaN</td>\n",
       "      <td>97.0</td>\n",
       "    </tr>\n",
       "  </tbody>\n",
       "</table>\n",
       "</div>"
      ],
      "text/plain": [
       "    total_images  last_price  total_area first_day_exposition  rooms  \\\n",
       "0             20  13000000.0      108.00  2019-03-07T00:00:00      3   \n",
       "1              7   3350000.0       40.40  2018-12-04T00:00:00      1   \n",
       "2             10   5196000.0       56.00  2015-08-20T00:00:00      2   \n",
       "3              0  64900000.0      159.00  2015-07-24T00:00:00      3   \n",
       "4              2  10000000.0      100.00  2018-06-19T00:00:00      2   \n",
       "5             10   2890000.0       30.40  2018-09-10T00:00:00      1   \n",
       "6              6   3700000.0       37.30  2017-11-02T00:00:00      1   \n",
       "7              5   7915000.0       71.60  2019-04-18T00:00:00      2   \n",
       "8             20   2900000.0       33.16  2018-05-23T00:00:00      1   \n",
       "9             18   5400000.0       61.00  2017-02-26T00:00:00      3   \n",
       "10             5   5050000.0       39.60  2017-11-16T00:00:00      1   \n",
       "11             9   3300000.0       44.00  2018-08-27T00:00:00      2   \n",
       "12            10   3890000.0       54.00  2016-06-30T00:00:00      2   \n",
       "13            20   3550000.0       42.80  2017-07-01T00:00:00      2   \n",
       "14             1   4400000.0       36.00  2016-06-23T00:00:00      1   \n",
       "15            16   4650000.0       39.00  2017-11-18T00:00:00      1   \n",
       "16            11   6700000.0       82.00  2017-11-23T00:00:00      3   \n",
       "17             6   4180000.0       36.00  2016-09-09T00:00:00      1   \n",
       "18             8   3250000.0       31.00  2017-01-27T00:00:00      1   \n",
       "19            16  14200000.0      121.00  2019-01-09T00:00:00      3   \n",
       "\n",
       "    ceiling_height  floors_total  living_area  floor is_apartment  studio  \\\n",
       "0             2.70          16.0        51.00      8          NaN   False   \n",
       "1              NaN          11.0        18.60      1          NaN   False   \n",
       "2              NaN           5.0        34.30      4          NaN   False   \n",
       "3              NaN          14.0          NaN      9          NaN   False   \n",
       "4             3.03          14.0        32.00     13          NaN   False   \n",
       "5              NaN          12.0        14.40      5          NaN   False   \n",
       "6              NaN          26.0        10.60      6          NaN   False   \n",
       "7              NaN          24.0          NaN     22          NaN   False   \n",
       "8              NaN          27.0        15.43     26          NaN   False   \n",
       "9             2.50           9.0        43.60      7          NaN   False   \n",
       "10            2.67          12.0        20.30      3          NaN   False   \n",
       "11             NaN           5.0        31.00      4        False   False   \n",
       "12             NaN           5.0        30.00      5          NaN   False   \n",
       "13            2.56           5.0        27.00      5          NaN   False   \n",
       "14             NaN           6.0        17.00      1          NaN   False   \n",
       "15             NaN          14.0        20.50      5          NaN   False   \n",
       "16            3.05           5.0        55.60      1          NaN   False   \n",
       "17             NaN          17.0        16.50      7          NaN   False   \n",
       "18            2.50           5.0        19.40      2          NaN   False   \n",
       "19            2.75          16.0        76.00      8          NaN   False   \n",
       "\n",
       "    open_plan  kitchen_area  balcony              locality_name  \\\n",
       "0       False         25.00      NaN            Санкт-Петербург   \n",
       "1       False         11.00      2.0             посёлок Шушары   \n",
       "2       False          8.30      0.0            Санкт-Петербург   \n",
       "3       False           NaN      0.0            Санкт-Петербург   \n",
       "4       False         41.00      NaN            Санкт-Петербург   \n",
       "5       False          9.10      NaN  городской посёлок Янино-1   \n",
       "6       False         14.40      1.0          посёлок Парголово   \n",
       "7       False         18.90      2.0            Санкт-Петербург   \n",
       "8       False          8.81      NaN             посёлок Мурино   \n",
       "9       False          6.50      2.0            Санкт-Петербург   \n",
       "10      False          8.50      NaN            Санкт-Петербург   \n",
       "11      False          6.00      1.0                  Ломоносов   \n",
       "12      False          9.00      0.0                  Сертолово   \n",
       "13      False          5.20      1.0                   Петергоф   \n",
       "14      False          8.00      0.0                     Пушкин   \n",
       "15      False          7.60      1.0            Санкт-Петербург   \n",
       "16      False          9.00      NaN            Санкт-Петербург   \n",
       "17      False         11.00      1.0            Санкт-Петербург   \n",
       "18      False          5.60      1.0            Санкт-Петербург   \n",
       "19      False         12.00      NaN            Санкт-Петербург   \n",
       "\n",
       "    airports_nearest  cityCenters_nearest  parks_around3000  parks_nearest  \\\n",
       "0            18863.0              16028.0               1.0          482.0   \n",
       "1            12817.0              18603.0               0.0            NaN   \n",
       "2            21741.0              13933.0               1.0           90.0   \n",
       "3            28098.0               6800.0               2.0           84.0   \n",
       "4            31856.0               8098.0               2.0          112.0   \n",
       "5                NaN                  NaN               NaN            NaN   \n",
       "6            52996.0              19143.0               0.0            NaN   \n",
       "7            23982.0              11634.0               0.0            NaN   \n",
       "8                NaN                  NaN               NaN            NaN   \n",
       "9            50898.0              15008.0               0.0            NaN   \n",
       "10           38357.0              13878.0               1.0          310.0   \n",
       "11           48252.0              51677.0               0.0            NaN   \n",
       "12               NaN                  NaN               NaN            NaN   \n",
       "13           37868.0              33058.0               1.0          294.0   \n",
       "14           20782.0              30759.0               0.0            NaN   \n",
       "15           12900.0              14259.0               1.0          590.0   \n",
       "16           22108.0              10698.0               3.0          420.0   \n",
       "17           33564.0              14616.0               0.0            NaN   \n",
       "18           44060.0              10842.0               1.0          759.0   \n",
       "19           38900.0              12843.0               0.0            NaN   \n",
       "\n",
       "    ponds_around3000  ponds_nearest  days_exposition  \n",
       "0                2.0          755.0              NaN  \n",
       "1                0.0            NaN             81.0  \n",
       "2                2.0          574.0            558.0  \n",
       "3                3.0          234.0            424.0  \n",
       "4                1.0           48.0            121.0  \n",
       "5                NaN            NaN             55.0  \n",
       "6                0.0            NaN            155.0  \n",
       "7                0.0            NaN              NaN  \n",
       "8                NaN            NaN            189.0  \n",
       "9                0.0            NaN            289.0  \n",
       "10               2.0          553.0            137.0  \n",
       "11               0.0            NaN              7.0  \n",
       "12               NaN            NaN             90.0  \n",
       "13               3.0          298.0            366.0  \n",
       "14               1.0           96.0            203.0  \n",
       "15               1.0          296.0             19.0  \n",
       "16               0.0            NaN            397.0  \n",
       "17               1.0          859.0            571.0  \n",
       "18               0.0            NaN            168.0  \n",
       "19               0.0            NaN             97.0  "
      ]
     },
     "execution_count": 5,
     "metadata": {},
     "output_type": "execute_result"
    }
   ],
   "source": [
    "# изучим первые 20 строчек\n",
    "data.head(20)"
   ]
  },
  {
   "cell_type": "markdown",
   "id": "894fe0ef",
   "metadata": {},
   "source": [
    "<div class=\"alert alert-warning\">\n",
    "<b>⚠️ Комментарий ревьюера v1:</b> \n",
    "<br>Обрати внимание, что часть столбцов заменилась на \"...\". Чтобы это исправить, нужно увеличить максимальное количество отображающихся столбцов командой\n",
    "\n",
    "\tpd.set_option('display.max_columns', None)\n",
    "</div>"
   ]
  },
  {
   "cell_type": "markdown",
   "id": "f218acb9",
   "metadata": {},
   "source": [
    "<div class=\"alert alert-info\">\n",
    "<b>Комментарий студента:</b>\n",
    "<br>Спасибо за подсказку. добавила!\n",
    "</div>"
   ]
  },
  {
   "cell_type": "code",
   "execution_count": 6,
   "id": "84cc9831",
   "metadata": {},
   "outputs": [
    {
     "name": "stdout",
     "output_type": "stream",
     "text": [
      "<class 'pandas.core.frame.DataFrame'>\n",
      "RangeIndex: 23699 entries, 0 to 23698\n",
      "Data columns (total 22 columns):\n",
      " #   Column                Non-Null Count  Dtype  \n",
      "---  ------                --------------  -----  \n",
      " 0   total_images          23699 non-null  int64  \n",
      " 1   last_price            23699 non-null  float64\n",
      " 2   total_area            23699 non-null  float64\n",
      " 3   first_day_exposition  23699 non-null  object \n",
      " 4   rooms                 23699 non-null  int64  \n",
      " 5   ceiling_height        14504 non-null  float64\n",
      " 6   floors_total          23613 non-null  float64\n",
      " 7   living_area           21796 non-null  float64\n",
      " 8   floor                 23699 non-null  int64  \n",
      " 9   is_apartment          2775 non-null   object \n",
      " 10  studio                23699 non-null  bool   \n",
      " 11  open_plan             23699 non-null  bool   \n",
      " 12  kitchen_area          21421 non-null  float64\n",
      " 13  balcony               12180 non-null  float64\n",
      " 14  locality_name         23650 non-null  object \n",
      " 15  airports_nearest      18157 non-null  float64\n",
      " 16  cityCenters_nearest   18180 non-null  float64\n",
      " 17  parks_around3000      18181 non-null  float64\n",
      " 18  parks_nearest         8079 non-null   float64\n",
      " 19  ponds_around3000      18181 non-null  float64\n",
      " 20  ponds_nearest         9110 non-null   float64\n",
      " 21  days_exposition       20518 non-null  float64\n",
      "dtypes: bool(2), float64(14), int64(3), object(3)\n",
      "memory usage: 3.7+ MB\n"
     ]
    }
   ],
   "source": [
    "#посмотрим информацию о датасете\n",
    "data.info()"
   ]
  },
  {
   "cell_type": "code",
   "execution_count": 7,
   "id": "d5e95d01",
   "metadata": {},
   "outputs": [
    {
     "data": {
      "text/plain": [
       "0"
      ]
     },
     "execution_count": 7,
     "metadata": {},
     "output_type": "execute_result"
    }
   ],
   "source": [
    "#Проверим на явные дубликаты\n",
    "data.duplicated().sum() "
   ]
  },
  {
   "cell_type": "code",
   "execution_count": 8,
   "id": "5949361c",
   "metadata": {},
   "outputs": [
    {
     "data": {
      "text/plain": [
       "total_images                0\n",
       "last_price                  0\n",
       "total_area                  0\n",
       "first_day_exposition        0\n",
       "rooms                       0\n",
       "ceiling_height           9195\n",
       "floors_total               86\n",
       "living_area              1903\n",
       "floor                       0\n",
       "is_apartment            20924\n",
       "studio                      0\n",
       "open_plan                   0\n",
       "kitchen_area             2278\n",
       "balcony                 11519\n",
       "locality_name              49\n",
       "airports_nearest         5542\n",
       "cityCenters_nearest      5519\n",
       "parks_around3000         5518\n",
       "parks_nearest           15620\n",
       "ponds_around3000         5518\n",
       "ponds_nearest           14589\n",
       "days_exposition          3181\n",
       "dtype: int64"
      ]
     },
     "execution_count": 8,
     "metadata": {},
     "output_type": "execute_result"
    }
   ],
   "source": [
    "#ценим колличество пропусков\n",
    "data.isna().sum()"
   ]
  },
  {
   "cell_type": "markdown",
   "id": "b4cce15e",
   "metadata": {},
   "source": [
    "<div class=\"alert alert-danger\">\n",
    "<b>❌ Комментарий ревьюера v1:</b> \n",
    "<br>Не выполнено задание 1.3:   \n",
    "<br>Постройте общую гистограмму для всех столбцов таблицы. Например, для датафрейма data это можно сделать командой data.hist(figsize=(15, 20)).\n",
    "</div>"
   ]
  },
  {
   "cell_type": "markdown",
   "id": "efb6a81d",
   "metadata": {},
   "source": [
    "<div class=\"alert alert-danger\">\n",
    "<b>❌ Комментарий ревьюера v1:</b> \n",
    "<br>Здесь необходимо написать короткий вывод о проблемах с данными (пропуски, дубликаты, неверный тип данных, странные значения и т.д.)\n",
    "</div>"
   ]
  },
  {
   "cell_type": "markdown",
   "id": "dbd178cc",
   "metadata": {},
   "source": [
    "<div class=\"alert alert-success\">\n",
    "<b>✔️ Комментарий ревьюера v2:</b>\n",
    "<br>Правка выполнена 👍\n",
    "</div>"
   ]
  },
  {
   "cell_type": "code",
   "execution_count": 9,
   "id": "1d3b5658",
   "metadata": {},
   "outputs": [
    {
     "data": {
      "text/plain": [
       "array([[<AxesSubplot:title={'center':'total_images'}>,\n",
       "        <AxesSubplot:title={'center':'last_price'}>,\n",
       "        <AxesSubplot:title={'center':'total_area'}>,\n",
       "        <AxesSubplot:title={'center':'rooms'}>],\n",
       "       [<AxesSubplot:title={'center':'ceiling_height'}>,\n",
       "        <AxesSubplot:title={'center':'floors_total'}>,\n",
       "        <AxesSubplot:title={'center':'living_area'}>,\n",
       "        <AxesSubplot:title={'center':'floor'}>],\n",
       "       [<AxesSubplot:title={'center':'kitchen_area'}>,\n",
       "        <AxesSubplot:title={'center':'balcony'}>,\n",
       "        <AxesSubplot:title={'center':'airports_nearest'}>,\n",
       "        <AxesSubplot:title={'center':'cityCenters_nearest'}>],\n",
       "       [<AxesSubplot:title={'center':'parks_around3000'}>,\n",
       "        <AxesSubplot:title={'center':'parks_nearest'}>,\n",
       "        <AxesSubplot:title={'center':'ponds_around3000'}>,\n",
       "        <AxesSubplot:title={'center':'ponds_nearest'}>],\n",
       "       [<AxesSubplot:title={'center':'days_exposition'}>, <AxesSubplot:>,\n",
       "        <AxesSubplot:>, <AxesSubplot:>]], dtype=object)"
      ]
     },
     "execution_count": 9,
     "metadata": {},
     "output_type": "execute_result"
    },
    {
     "data": {
      "image/png": "[encoded data removed]",
      "text/plain": [
       "<Figure size 1080x1440 with 20 Axes>"
      ]
     },
     "metadata": {
      "needs_background": "light"
     },
     "output_type": "display_data"
    }
   ],
   "source": [
    "data.hist(figsize=(15, 20))"
   ]
  },
  {
   "cell_type": "markdown",
   "id": "980d3e76",
   "metadata": {},
   "source": [
    "<div class=\"alert alert-success\">\n",
    "<b>✔️ Комментарий ревьюера v2:</b> \n",
    "<br>Графики построено верно! \n",
    "</div>\n",
    "\t\t\n",
    "<div class=\"alert alert-warning\">\n",
    "<b>⚠️ Комментарий ревьюера v2:</b> \n",
    "<br>Если после кода вызывающего график добавить \";\", то мы избавимся от строчки над графиком)\n",
    "</div>"
   ]
  },
  {
   "cell_type": "markdown",
   "id": "6d9733ad",
   "metadata": {},
   "source": [
    "**Вывод:**\n",
    "- 23699 строк и 22 столбца  \n",
    "- 13 столбцов содержат пропуски, необходимо проанализировать их - возможно ли заполнить пропуски. \n",
    "- Явных дубликатов нет, стоит подробнее изучить столбец locality_name и стандартизировать значения, если будет необходимо.\n",
    "- Некорректый тип данных в столбцах floors_total, first_day_exposition, last_price, balcony\n"
   ]
  },
  {
   "cell_type": "markdown",
   "id": "6a2fbccd",
   "metadata": {},
   "source": [
    "## Предобработка данных"
   ]
  },
  {
   "cell_type": "markdown",
   "id": "0f0c63a6",
   "metadata": {},
   "source": [
    "**Рассмотрим пропуски и тип данных в каждом столбце и  внесем изменения там, где это необходимо**\n"
   ]
  },
  {
   "cell_type": "markdown",
   "id": "00669300",
   "metadata": {},
   "source": [
    "Изменим тип столбца 'last_price' на int для дальнейшего анализа"
   ]
  },
  {
   "cell_type": "code",
   "execution_count": 10,
   "id": "d5aa7d1a",
   "metadata": {},
   "outputs": [],
   "source": [
    "data['last_price'] = data['last_price'].astype('int')\n"
   ]
  },
  {
   "cell_type": "markdown",
   "id": "d2ba0a68",
   "metadata": {},
   "source": [
    "### Колличество комнат"
   ]
  },
  {
   "cell_type": "markdown",
   "id": "27f43a85",
   "metadata": {},
   "source": [
    "Посмотрим уникальные значения в rooms."
   ]
  },
  {
   "cell_type": "code",
   "execution_count": 11,
   "id": "f4f2d2c4",
   "metadata": {},
   "outputs": [
    {
     "data": {
      "text/plain": [
       "1     8047\n",
       "2     7940\n",
       "3     5814\n",
       "4     1180\n",
       "5      326\n",
       "0      197\n",
       "6      105\n",
       "7       59\n",
       "8       12\n",
       "9        8\n",
       "10       3\n",
       "11       2\n",
       "14       2\n",
       "19       1\n",
       "16       1\n",
       "12       1\n",
       "15       1\n",
       "Name: rooms, dtype: int64"
      ]
     },
     "execution_count": 11,
     "metadata": {},
     "output_type": "execute_result"
    }
   ],
   "source": [
    "data['rooms'].value_counts()"
   ]
  },
  {
   "cell_type": "markdown",
   "id": "80d3202c",
   "metadata": {},
   "source": [
    "Посмотрим как изменяется площаль квартир, в зависимости от колличества комнат. "
   ]
  },
  {
   "cell_type": "code",
   "execution_count": 12,
   "id": "db12500a",
   "metadata": {},
   "outputs": [
    {
     "data": {
      "text/plain": [
       "<AxesSubplot:xlabel='rooms'>"
      ]
     },
     "execution_count": 12,
     "metadata": {},
     "output_type": "execute_result"
    },
    {
     "data": {
      "image/png": "[encoded data removed]",
      "text/plain": [
       "<Figure size 504x216 with 1 Axes>"
      ]
     },
     "metadata": {
      "needs_background": "light"
     },
     "output_type": "display_data"
    }
   ],
   "source": [
    "data.pivot_table(index='rooms',values='total_area',aggfunc='mean').plot( style='o', figsize=(7, 3), grid=True)"
   ]
  },
  {
   "cell_type": "markdown",
   "id": "778370d7",
   "metadata": {},
   "source": [
    "Зависимость между площадью и колличеством комнат четко прослеживается только до 12-комнатных квартир, а дальше какие-то рандомные выбросы. \n",
    "Оценим колличество квартир с колличеством комнат больше 12. "
   ]
  },
  {
   "cell_type": "code",
   "execution_count": 13,
   "id": "4e9ee738",
   "metadata": {},
   "outputs": [
    {
     "data": {
      "text/html": [
       "<div>\n",
       "<style scoped>\n",
       "    .dataframe tbody tr th:only-of-type {\n",
       "        vertical-align: middle;\n",
       "    }\n",
       "\n",
       "    .dataframe tbody tr th {\n",
       "        vertical-align: top;\n",
       "    }\n",
       "\n",
       "    .dataframe thead th {\n",
       "        text-align: right;\n",
       "    }\n",
       "</style>\n",
       "<table border=\"1\" class=\"dataframe\">\n",
       "  <thead>\n",
       "    <tr style=\"text-align: right;\">\n",
       "      <th></th>\n",
       "      <th>total_images</th>\n",
       "      <th>last_price</th>\n",
       "      <th>total_area</th>\n",
       "      <th>first_day_exposition</th>\n",
       "      <th>rooms</th>\n",
       "      <th>ceiling_height</th>\n",
       "      <th>floors_total</th>\n",
       "      <th>living_area</th>\n",
       "      <th>floor</th>\n",
       "      <th>is_apartment</th>\n",
       "      <th>studio</th>\n",
       "      <th>open_plan</th>\n",
       "      <th>kitchen_area</th>\n",
       "      <th>balcony</th>\n",
       "      <th>locality_name</th>\n",
       "      <th>airports_nearest</th>\n",
       "      <th>cityCenters_nearest</th>\n",
       "      <th>parks_around3000</th>\n",
       "      <th>parks_nearest</th>\n",
       "      <th>ponds_around3000</th>\n",
       "      <th>ponds_nearest</th>\n",
       "      <th>days_exposition</th>\n",
       "    </tr>\n",
       "  </thead>\n",
       "  <tbody>\n",
       "    <tr>\n",
       "      <th>866</th>\n",
       "      <td>5</td>\n",
       "      <td>25000000</td>\n",
       "      <td>363.0</td>\n",
       "      <td>2017-12-23T00:00:00</td>\n",
       "      <td>14</td>\n",
       "      <td>3.16</td>\n",
       "      <td>5.0</td>\n",
       "      <td>222.0</td>\n",
       "      <td>4</td>\n",
       "      <td>NaN</td>\n",
       "      <td>False</td>\n",
       "      <td>False</td>\n",
       "      <td>16.6</td>\n",
       "      <td>NaN</td>\n",
       "      <td>Санкт-Петербург</td>\n",
       "      <td>38076.0</td>\n",
       "      <td>7950.0</td>\n",
       "      <td>0.0</td>\n",
       "      <td>NaN</td>\n",
       "      <td>2.0</td>\n",
       "      <td>435.0</td>\n",
       "      <td>418.0</td>\n",
       "    </tr>\n",
       "    <tr>\n",
       "      <th>5358</th>\n",
       "      <td>20</td>\n",
       "      <td>65000000</td>\n",
       "      <td>590.0</td>\n",
       "      <td>2019-02-14T00:00:00</td>\n",
       "      <td>15</td>\n",
       "      <td>3.50</td>\n",
       "      <td>6.0</td>\n",
       "      <td>409.0</td>\n",
       "      <td>3</td>\n",
       "      <td>NaN</td>\n",
       "      <td>False</td>\n",
       "      <td>False</td>\n",
       "      <td>100.0</td>\n",
       "      <td>NaN</td>\n",
       "      <td>Санкт-Петербург</td>\n",
       "      <td>24447.0</td>\n",
       "      <td>4666.0</td>\n",
       "      <td>1.0</td>\n",
       "      <td>767.0</td>\n",
       "      <td>0.0</td>\n",
       "      <td>NaN</td>\n",
       "      <td>14.0</td>\n",
       "    </tr>\n",
       "    <tr>\n",
       "      <th>14498</th>\n",
       "      <td>6</td>\n",
       "      <td>32250000</td>\n",
       "      <td>374.6</td>\n",
       "      <td>2018-06-09T00:00:00</td>\n",
       "      <td>19</td>\n",
       "      <td>NaN</td>\n",
       "      <td>5.0</td>\n",
       "      <td>264.5</td>\n",
       "      <td>2</td>\n",
       "      <td>NaN</td>\n",
       "      <td>False</td>\n",
       "      <td>False</td>\n",
       "      <td>27.6</td>\n",
       "      <td>NaN</td>\n",
       "      <td>Санкт-Петербург</td>\n",
       "      <td>19497.0</td>\n",
       "      <td>3574.0</td>\n",
       "      <td>0.0</td>\n",
       "      <td>NaN</td>\n",
       "      <td>2.0</td>\n",
       "      <td>548.0</td>\n",
       "      <td>114.0</td>\n",
       "    </tr>\n",
       "    <tr>\n",
       "      <th>18848</th>\n",
       "      <td>6</td>\n",
       "      <td>28500000</td>\n",
       "      <td>270.0</td>\n",
       "      <td>2015-03-02T00:00:00</td>\n",
       "      <td>16</td>\n",
       "      <td>3.00</td>\n",
       "      <td>4.0</td>\n",
       "      <td>180.0</td>\n",
       "      <td>4</td>\n",
       "      <td>NaN</td>\n",
       "      <td>False</td>\n",
       "      <td>False</td>\n",
       "      <td>13.0</td>\n",
       "      <td>1.0</td>\n",
       "      <td>Санкт-Петербург</td>\n",
       "      <td>23575.0</td>\n",
       "      <td>4142.0</td>\n",
       "      <td>1.0</td>\n",
       "      <td>516.0</td>\n",
       "      <td>0.0</td>\n",
       "      <td>NaN</td>\n",
       "      <td>1365.0</td>\n",
       "    </tr>\n",
       "    <tr>\n",
       "      <th>20829</th>\n",
       "      <td>6</td>\n",
       "      <td>28659000</td>\n",
       "      <td>245.4</td>\n",
       "      <td>2016-03-31T00:00:00</td>\n",
       "      <td>14</td>\n",
       "      <td>NaN</td>\n",
       "      <td>4.0</td>\n",
       "      <td>168.3</td>\n",
       "      <td>2</td>\n",
       "      <td>NaN</td>\n",
       "      <td>False</td>\n",
       "      <td>False</td>\n",
       "      <td>25.9</td>\n",
       "      <td>0.0</td>\n",
       "      <td>Санкт-Петербург</td>\n",
       "      <td>21104.0</td>\n",
       "      <td>2054.0</td>\n",
       "      <td>3.0</td>\n",
       "      <td>541.0</td>\n",
       "      <td>2.0</td>\n",
       "      <td>118.0</td>\n",
       "      <td>95.0</td>\n",
       "    </tr>\n",
       "  </tbody>\n",
       "</table>\n",
       "</div>"
      ],
      "text/plain": [
       "       total_images  last_price  total_area first_day_exposition  rooms  \\\n",
       "866               5    25000000       363.0  2017-12-23T00:00:00     14   \n",
       "5358             20    65000000       590.0  2019-02-14T00:00:00     15   \n",
       "14498             6    32250000       374.6  2018-06-09T00:00:00     19   \n",
       "18848             6    28500000       270.0  2015-03-02T00:00:00     16   \n",
       "20829             6    28659000       245.4  2016-03-31T00:00:00     14   \n",
       "\n",
       "       ceiling_height  floors_total  living_area  floor is_apartment  studio  \\\n",
       "866              3.16           5.0        222.0      4          NaN   False   \n",
       "5358             3.50           6.0        409.0      3          NaN   False   \n",
       "14498             NaN           5.0        264.5      2          NaN   False   \n",
       "18848            3.00           4.0        180.0      4          NaN   False   \n",
       "20829             NaN           4.0        168.3      2          NaN   False   \n",
       "\n",
       "       open_plan  kitchen_area  balcony    locality_name  airports_nearest  \\\n",
       "866        False          16.6      NaN  Санкт-Петербург           38076.0   \n",
       "5358       False         100.0      NaN  Санкт-Петербург           24447.0   \n",
       "14498      False          27.6      NaN  Санкт-Петербург           19497.0   \n",
       "18848      False          13.0      1.0  Санкт-Петербург           23575.0   \n",
       "20829      False          25.9      0.0  Санкт-Петербург           21104.0   \n",
       "\n",
       "       cityCenters_nearest  parks_around3000  parks_nearest  ponds_around3000  \\\n",
       "866                 7950.0               0.0            NaN               2.0   \n",
       "5358                4666.0               1.0          767.0               0.0   \n",
       "14498               3574.0               0.0            NaN               2.0   \n",
       "18848               4142.0               1.0          516.0               0.0   \n",
       "20829               2054.0               3.0          541.0               2.0   \n",
       "\n",
       "       ponds_nearest  days_exposition  \n",
       "866            435.0            418.0  \n",
       "5358             NaN             14.0  \n",
       "14498          548.0            114.0  \n",
       "18848            NaN           1365.0  \n",
       "20829          118.0             95.0  "
      ]
     },
     "execution_count": 13,
     "metadata": {},
     "output_type": "execute_result"
    }
   ],
   "source": [
    "big_flats = data[data['rooms'] > 12]\n",
    "big_flats"
   ]
  },
  {
   "cell_type": "markdown",
   "id": "83dbed5a",
   "metadata": {},
   "source": [
    "Таких квартир всего 5, значит их можно убрать из выборки. "
   ]
  },
  {
   "cell_type": "code",
   "execution_count": 14,
   "id": "d6f2666b",
   "metadata": {},
   "outputs": [
    {
     "data": {
      "text/plain": [
       "23693"
      ]
     },
     "execution_count": 14,
     "metadata": {},
     "output_type": "execute_result"
    }
   ],
   "source": [
    "data=data[(data['rooms']<12)] \n",
    "len(data)  #проверяем размер выборки"
   ]
  },
  {
   "cell_type": "markdown",
   "id": "bb6ef186",
   "metadata": {},
   "source": [
    "Посмотрим среднюю площадь квартир, где число комната равно 0. "
   ]
  },
  {
   "cell_type": "code",
   "execution_count": 15,
   "id": "1d4ad238",
   "metadata": {},
   "outputs": [
    {
     "data": {
      "text/html": [
       "<div>\n",
       "<style scoped>\n",
       "    .dataframe tbody tr th:only-of-type {\n",
       "        vertical-align: middle;\n",
       "    }\n",
       "\n",
       "    .dataframe tbody tr th {\n",
       "        vertical-align: top;\n",
       "    }\n",
       "\n",
       "    .dataframe thead th {\n",
       "        text-align: right;\n",
       "    }\n",
       "</style>\n",
       "<table border=\"1\" class=\"dataframe\">\n",
       "  <thead>\n",
       "    <tr style=\"text-align: right;\">\n",
       "      <th></th>\n",
       "      <th>total_images</th>\n",
       "      <th>last_price</th>\n",
       "      <th>total_area</th>\n",
       "      <th>rooms</th>\n",
       "      <th>ceiling_height</th>\n",
       "      <th>floors_total</th>\n",
       "      <th>living_area</th>\n",
       "      <th>floor</th>\n",
       "      <th>kitchen_area</th>\n",
       "      <th>balcony</th>\n",
       "      <th>airports_nearest</th>\n",
       "      <th>cityCenters_nearest</th>\n",
       "      <th>parks_around3000</th>\n",
       "      <th>parks_nearest</th>\n",
       "      <th>ponds_around3000</th>\n",
       "      <th>ponds_nearest</th>\n",
       "      <th>days_exposition</th>\n",
       "    </tr>\n",
       "  </thead>\n",
       "  <tbody>\n",
       "    <tr>\n",
       "      <th>count</th>\n",
       "      <td>197.000000</td>\n",
       "      <td>1.970000e+02</td>\n",
       "      <td>197.000000</td>\n",
       "      <td>197.0</td>\n",
       "      <td>82.000000</td>\n",
       "      <td>194.000000</td>\n",
       "      <td>183.000000</td>\n",
       "      <td>197.000000</td>\n",
       "      <td>0.0</td>\n",
       "      <td>126.000000</td>\n",
       "      <td>118.000000</td>\n",
       "      <td>118.000000</td>\n",
       "      <td>118.000000</td>\n",
       "      <td>29.000000</td>\n",
       "      <td>118.000000</td>\n",
       "      <td>69.000000</td>\n",
       "      <td>183.000000</td>\n",
       "    </tr>\n",
       "    <tr>\n",
       "      <th>mean</th>\n",
       "      <td>7.776650</td>\n",
       "      <td>3.337724e+06</td>\n",
       "      <td>29.279746</td>\n",
       "      <td>0.0</td>\n",
       "      <td>3.104268</td>\n",
       "      <td>16.896907</td>\n",
       "      <td>18.865246</td>\n",
       "      <td>8.578680</td>\n",
       "      <td>NaN</td>\n",
       "      <td>1.579365</td>\n",
       "      <td>24516.432203</td>\n",
       "      <td>13388.610169</td>\n",
       "      <td>0.296610</td>\n",
       "      <td>594.862069</td>\n",
       "      <td>0.822034</td>\n",
       "      <td>526.043478</td>\n",
       "      <td>109.180328</td>\n",
       "    </tr>\n",
       "    <tr>\n",
       "      <th>std</th>\n",
       "      <td>5.079055</td>\n",
       "      <td>5.046022e+06</td>\n",
       "      <td>25.855264</td>\n",
       "      <td>0.0</td>\n",
       "      <td>2.698948</td>\n",
       "      <td>6.925936</td>\n",
       "      <td>6.549527</td>\n",
       "      <td>6.290595</td>\n",
       "      <td>NaN</td>\n",
       "      <td>0.661552</td>\n",
       "      <td>12386.969865</td>\n",
       "      <td>5028.479861</td>\n",
       "      <td>0.559446</td>\n",
       "      <td>302.820164</td>\n",
       "      <td>0.873458</td>\n",
       "      <td>274.811509</td>\n",
       "      <td>158.847377</td>\n",
       "    </tr>\n",
       "    <tr>\n",
       "      <th>min</th>\n",
       "      <td>0.000000</td>\n",
       "      <td>9.457500e+05</td>\n",
       "      <td>15.500000</td>\n",
       "      <td>0.0</td>\n",
       "      <td>2.500000</td>\n",
       "      <td>3.000000</td>\n",
       "      <td>2.000000</td>\n",
       "      <td>1.000000</td>\n",
       "      <td>NaN</td>\n",
       "      <td>0.000000</td>\n",
       "      <td>6989.000000</td>\n",
       "      <td>1261.000000</td>\n",
       "      <td>0.000000</td>\n",
       "      <td>38.000000</td>\n",
       "      <td>0.000000</td>\n",
       "      <td>72.000000</td>\n",
       "      <td>3.000000</td>\n",
       "    </tr>\n",
       "    <tr>\n",
       "      <th>25%</th>\n",
       "      <td>4.000000</td>\n",
       "      <td>2.300000e+06</td>\n",
       "      <td>24.050000</td>\n",
       "      <td>0.0</td>\n",
       "      <td>2.700000</td>\n",
       "      <td>12.000000</td>\n",
       "      <td>16.000000</td>\n",
       "      <td>3.000000</td>\n",
       "      <td>NaN</td>\n",
       "      <td>1.000000</td>\n",
       "      <td>14567.000000</td>\n",
       "      <td>11618.000000</td>\n",
       "      <td>0.000000</td>\n",
       "      <td>396.000000</td>\n",
       "      <td>0.000000</td>\n",
       "      <td>348.000000</td>\n",
       "      <td>27.500000</td>\n",
       "    </tr>\n",
       "    <tr>\n",
       "      <th>50%</th>\n",
       "      <td>7.000000</td>\n",
       "      <td>2.700000e+06</td>\n",
       "      <td>26.050000</td>\n",
       "      <td>0.0</td>\n",
       "      <td>2.750000</td>\n",
       "      <td>17.000000</td>\n",
       "      <td>18.000000</td>\n",
       "      <td>7.000000</td>\n",
       "      <td>NaN</td>\n",
       "      <td>2.000000</td>\n",
       "      <td>21460.000000</td>\n",
       "      <td>13595.500000</td>\n",
       "      <td>0.000000</td>\n",
       "      <td>535.000000</td>\n",
       "      <td>1.000000</td>\n",
       "      <td>528.000000</td>\n",
       "      <td>50.000000</td>\n",
       "    </tr>\n",
       "    <tr>\n",
       "      <th>75%</th>\n",
       "      <td>11.000000</td>\n",
       "      <td>3.380000e+06</td>\n",
       "      <td>28.400000</td>\n",
       "      <td>0.0</td>\n",
       "      <td>2.800000</td>\n",
       "      <td>23.000000</td>\n",
       "      <td>19.950000</td>\n",
       "      <td>13.000000</td>\n",
       "      <td>NaN</td>\n",
       "      <td>2.000000</td>\n",
       "      <td>34004.750000</td>\n",
       "      <td>16383.750000</td>\n",
       "      <td>0.000000</td>\n",
       "      <td>761.000000</td>\n",
       "      <td>1.000000</td>\n",
       "      <td>674.000000</td>\n",
       "      <td>117.500000</td>\n",
       "    </tr>\n",
       "    <tr>\n",
       "      <th>max</th>\n",
       "      <td>21.000000</td>\n",
       "      <td>7.100000e+07</td>\n",
       "      <td>371.000000</td>\n",
       "      <td>0.0</td>\n",
       "      <td>27.000000</td>\n",
       "      <td>35.000000</td>\n",
       "      <td>68.000000</td>\n",
       "      <td>26.000000</td>\n",
       "      <td>NaN</td>\n",
       "      <td>2.000000</td>\n",
       "      <td>55551.000000</td>\n",
       "      <td>29846.000000</td>\n",
       "      <td>2.000000</td>\n",
       "      <td>1199.000000</td>\n",
       "      <td>3.000000</td>\n",
       "      <td>1159.000000</td>\n",
       "      <td>931.000000</td>\n",
       "    </tr>\n",
       "  </tbody>\n",
       "</table>\n",
       "</div>"
      ],
      "text/plain": [
       "       total_images    last_price  total_area  rooms  ceiling_height  \\\n",
       "count    197.000000  1.970000e+02  197.000000  197.0       82.000000   \n",
       "mean       7.776650  3.337724e+06   29.279746    0.0        3.104268   \n",
       "std        5.079055  5.046022e+06   25.855264    0.0        2.698948   \n",
       "min        0.000000  9.457500e+05   15.500000    0.0        2.500000   \n",
       "25%        4.000000  2.300000e+06   24.050000    0.0        2.700000   \n",
       "50%        7.000000  2.700000e+06   26.050000    0.0        2.750000   \n",
       "75%       11.000000  3.380000e+06   28.400000    0.0        2.800000   \n",
       "max       21.000000  7.100000e+07  371.000000    0.0       27.000000   \n",
       "\n",
       "       floors_total  living_area       floor  kitchen_area     balcony  \\\n",
       "count    194.000000   183.000000  197.000000           0.0  126.000000   \n",
       "mean      16.896907    18.865246    8.578680           NaN    1.579365   \n",
       "std        6.925936     6.549527    6.290595           NaN    0.661552   \n",
       "min        3.000000     2.000000    1.000000           NaN    0.000000   \n",
       "25%       12.000000    16.000000    3.000000           NaN    1.000000   \n",
       "50%       17.000000    18.000000    7.000000           NaN    2.000000   \n",
       "75%       23.000000    19.950000   13.000000           NaN    2.000000   \n",
       "max       35.000000    68.000000   26.000000           NaN    2.000000   \n",
       "\n",
       "       airports_nearest  cityCenters_nearest  parks_around3000  parks_nearest  \\\n",
       "count        118.000000           118.000000        118.000000      29.000000   \n",
       "mean       24516.432203         13388.610169          0.296610     594.862069   \n",
       "std        12386.969865          5028.479861          0.559446     302.820164   \n",
       "min         6989.000000          1261.000000          0.000000      38.000000   \n",
       "25%        14567.000000         11618.000000          0.000000     396.000000   \n",
       "50%        21460.000000         13595.500000          0.000000     535.000000   \n",
       "75%        34004.750000         16383.750000          0.000000     761.000000   \n",
       "max        55551.000000         29846.000000          2.000000    1199.000000   \n",
       "\n",
       "       ponds_around3000  ponds_nearest  days_exposition  \n",
       "count        118.000000      69.000000       183.000000  \n",
       "mean           0.822034     526.043478       109.180328  \n",
       "std            0.873458     274.811509       158.847377  \n",
       "min            0.000000      72.000000         3.000000  \n",
       "25%            0.000000     348.000000        27.500000  \n",
       "50%            1.000000     528.000000        50.000000  \n",
       "75%            1.000000     674.000000       117.500000  \n",
       "max            3.000000    1159.000000       931.000000  "
      ]
     },
     "execution_count": 15,
     "metadata": {},
     "output_type": "execute_result"
    }
   ],
   "source": [
    "data[data['rooms'] == 0].describe()"
   ]
  },
  {
   "cell_type": "markdown",
   "id": "e269372f",
   "metadata": {},
   "source": [
    "Площадь таких квартир маленькая, максимальная в такой выборке всего 21 метр. Там, где указана открытая планировка - оставим нулевые значения, а остальные заменим на 1, прировнях их к однушкам. "
   ]
  },
  {
   "cell_type": "code",
   "execution_count": 16,
   "id": "02000109",
   "metadata": {},
   "outputs": [
    {
     "name": "stdout",
     "output_type": "stream",
     "text": [
      "59\n"
     ]
    }
   ],
   "source": [
    "#посчитаем сколько нулевых значений останется\n",
    "print(len(data.loc[(data['rooms'] == 0) & (data['open_plan'] == True)]))\n",
    "\n",
    "# присвоем 1, остальным\n",
    "data.loc[(data['rooms'] == 0) & (data['open_plan'] == False)] = 1"
   ]
  },
  {
   "cell_type": "markdown",
   "id": "21a134fe",
   "metadata": {},
   "source": [
    "### Этажи и высота потолков"
   ]
  },
  {
   "cell_type": "markdown",
   "id": "0cac5833",
   "metadata": {},
   "source": [
    "Сначала посмотрим данные по колличеству этажей в доме. "
   ]
  },
  {
   "cell_type": "code",
   "execution_count": 17,
   "id": "d269c7da",
   "metadata": {},
   "outputs": [
    {
     "data": {
      "text/plain": [
       "83"
      ]
     },
     "execution_count": 17,
     "metadata": {},
     "output_type": "execute_result"
    }
   ],
   "source": [
    "data['floors_total'].isna().sum()    "
   ]
  },
  {
   "cell_type": "markdown",
   "id": "d0a3cb62",
   "metadata": {},
   "source": [
    "Удалим эти строки, так как их доля несущественна, а отсутствие данных будет мешать исследованию. "
   ]
  },
  {
   "cell_type": "code",
   "execution_count": 18,
   "id": "6825d693",
   "metadata": {},
   "outputs": [
    {
     "data": {
      "text/plain": [
       "0"
      ]
     },
     "execution_count": 18,
     "metadata": {},
     "output_type": "execute_result"
    }
   ],
   "source": [
    "data = data.dropna(subset=['floors_total']) \n",
    "data['floors_total'].isna().sum()    "
   ]
  },
  {
   "cell_type": "code",
   "execution_count": 19,
   "id": "7fec2eef",
   "metadata": {},
   "outputs": [],
   "source": [
    "data['floors_total'] = data['floors_total'].astype('int64')"
   ]
  },
  {
   "cell_type": "markdown",
   "id": "a08f8021",
   "metadata": {},
   "source": [
    "Рассмотрим данные по высоте потолков.\n",
    "Для начала запоним пропуски медианой, там где это возможно в соответствии с этажность домов."
   ]
  },
  {
   "cell_type": "code",
   "execution_count": 20,
   "id": "3945a34d",
   "metadata": {},
   "outputs": [
    {
     "data": {
      "text/plain": [
       "9053"
      ]
     },
     "execution_count": 20,
     "metadata": {},
     "output_type": "execute_result"
    }
   ],
   "source": [
    "data['ceiling_height'].isna().sum()    "
   ]
  },
  {
   "cell_type": "code",
   "execution_count": 21,
   "id": "3a20e38f",
   "metadata": {},
   "outputs": [
    {
     "data": {
      "text/plain": [
       "1"
      ]
     },
     "execution_count": 21,
     "metadata": {},
     "output_type": "execute_result"
    }
   ],
   "source": [
    "for h in data['floors_total'].unique(): \n",
    "    data.loc[(data['floors_total'] == h) & (data['ceiling_height'].isna()), 'ceiling_height'] = \\\n",
    "    data.loc[(data['floors_total'] == h), 'ceiling_height'].median()\n",
    "    \n",
    "data['ceiling_height'].isna().sum()    "
   ]
  },
  {
   "cell_type": "markdown",
   "id": "0b719f99",
   "metadata": {},
   "source": [
    "<div class=\"alert alert-success\">\n",
    "<b>✔️ Комментарий ревьюера v1:</b> \n",
    "<br>Согласен с таким решением, так как основная часть данных в этом столбце находится в небольшом диапазоне. Только ты тут почему-то смотришь количество пропусков в жилой площади)\n",
    "</div>"
   ]
  },
  {
   "cell_type": "markdown",
   "id": "9de4c8b0",
   "metadata": {},
   "source": [
    "Теперь посмотрим значения. "
   ]
  },
  {
   "cell_type": "code",
   "execution_count": 22,
   "id": "34acb1c1",
   "metadata": {},
   "outputs": [
    {
     "data": {
      "text/plain": [
       "array([  1.  ,   1.2 ,   1.75,   2.  ,   2.2 ,   2.25,   2.3 ,   2.34,\n",
       "         2.4 ,   2.45,   2.46,   2.47,   2.48,   2.49,   2.5 ,   2.51,\n",
       "         2.52,   2.53,   2.54,   2.55,   2.56,   2.57,   2.58,   2.59,\n",
       "         2.6 ,   2.61,   2.62,   2.63,   2.64,   2.65,   2.66,   2.67,\n",
       "         2.68,   2.69,   2.7 ,   2.71,   2.72,   2.73,   2.74,   2.75,\n",
       "         2.76,   2.77,   2.78,   2.79,   2.8 ,   2.81,   2.82,   2.83,\n",
       "         2.84,   2.85,   2.86,   2.87,   2.88,   2.89,   2.9 ,   2.91,\n",
       "         2.92,   2.93,   2.94,   2.95,   2.96,   2.97,   2.98,   2.99,\n",
       "         3.  ,   3.01,   3.02,   3.03,   3.04,   3.05,   3.06,   3.07,\n",
       "         3.08,   3.09,   3.1 ,   3.11,   3.12,   3.13,   3.14,   3.15,\n",
       "         3.16,   3.17,   3.18,   3.2 ,   3.21,   3.22,   3.23,   3.24,\n",
       "         3.25,   3.26,   3.27,   3.28,   3.29,   3.3 ,   3.31,   3.32,\n",
       "         3.33,   3.34,   3.35,   3.36,   3.37,   3.38,   3.39,   3.4 ,\n",
       "         3.42,   3.43,   3.44,   3.45,   3.46,   3.47,   3.48,   3.49,\n",
       "         3.5 ,   3.51,   3.52,   3.53,   3.54,   3.55,   3.56,   3.57,\n",
       "         3.58,   3.59,   3.6 ,   3.62,   3.63,   3.65,   3.66,   3.67,\n",
       "         3.68,   3.69,   3.7 ,   3.75,   3.76,   3.78,   3.8 ,   3.82,\n",
       "         3.83,   3.84,   3.85,   3.86,   3.87,   3.88,   3.9 ,   3.93,\n",
       "         3.95,   3.98,   4.  ,   4.06,   4.1 ,   4.14,   4.15,   4.19,\n",
       "         4.2 ,   4.25,   4.3 ,   4.37,   4.4 ,   4.45,   4.5 ,   4.65,\n",
       "         4.7 ,   4.8 ,   4.9 ,   5.  ,   5.2 ,   5.3 ,   5.5 ,   5.6 ,\n",
       "         6.  ,   8.  ,   8.3 ,  10.3 ,  14.  ,  14.85,  20.  ,  22.6 ,\n",
       "        24.  ,  25.  ,  26.  ,  27.  ,  27.5 ,  32.  , 100.  ,    nan])"
      ]
     },
     "execution_count": 22,
     "metadata": {},
     "output_type": "execute_result"
    }
   ],
   "source": [
    "data['ceiling_height'].sort_values().unique()"
   ]
  },
  {
   "cell_type": "code",
   "execution_count": 23,
   "id": "59c690df",
   "metadata": {},
   "outputs": [
    {
     "data": {
      "text/plain": [
       "count    23609.000000\n",
       "mean         2.724414\n",
       "std          1.005568\n",
       "min          1.000000\n",
       "25%          2.550000\n",
       "50%          2.650000\n",
       "75%          2.750000\n",
       "max        100.000000\n",
       "Name: ceiling_height, dtype: float64"
      ]
     },
     "execution_count": 23,
     "metadata": {},
     "output_type": "execute_result"
    }
   ],
   "source": [
    "data['ceiling_height'].describe()"
   ]
  },
  {
   "cell_type": "markdown",
   "id": "823ef93d",
   "metadata": {},
   "source": [
    "Согласно ГОСТ в этом регионе минимальная высота потолков должна быть 2,5 м. Это значение совпадает со значением первой квартили. \n",
    "Посчитаем колличество строк, где высота потолков ниже ГОСТ и их долю в датасете. Аналогичные действия сделаем для потолков высотой 2 м:"
   ]
  },
  {
   "cell_type": "code",
   "execution_count": 24,
   "id": "8aa01911",
   "metadata": {},
   "outputs": [
    {
     "name": "stdout",
     "output_type": "stream",
     "text": [
      "0.15777037005780833\n",
      "0.007046710831680661\n"
     ]
    }
   ],
   "source": [
    "i = len(data.query('ceiling_height <= 2.5'))\n",
    "print(i / 23699)\n",
    "\n",
    "x = len(data.query('ceiling_height <= 2'))\n",
    "print(x / 23699)"
   ]
  },
  {
   "cell_type": "markdown",
   "id": "a48bea12",
   "metadata": {},
   "source": [
    "15% это слишком много. Будем отсеивать только строки, где высота меньше 2 метров. Вместе с ними удалим выброс равный 100м. "
   ]
  },
  {
   "cell_type": "code",
   "execution_count": 25,
   "id": "39a3db67",
   "metadata": {},
   "outputs": [
    {
     "data": {
      "text/plain": [
       "array([ 2.5 ,  2.51,  2.52,  2.53,  2.54,  2.55,  2.56,  2.57,  2.58,\n",
       "        2.59,  2.6 ,  2.61,  2.62,  2.63,  2.64,  2.65,  2.66,  2.67,\n",
       "        2.68,  2.69,  2.7 ,  2.71,  2.72,  2.73,  2.74,  2.75,  2.76,\n",
       "        2.77,  2.78,  2.79,  2.8 ,  2.81,  2.82,  2.83,  2.84,  2.85,\n",
       "        2.86,  2.87,  2.88,  2.89,  2.9 ,  2.91,  2.92,  2.93,  2.94,\n",
       "        2.95,  2.96,  2.97,  2.98,  2.99,  3.  ,  3.01,  3.02,  3.03,\n",
       "        3.04,  3.05,  3.06,  3.07,  3.08,  3.09,  3.1 ,  3.11,  3.12,\n",
       "        3.13,  3.14,  3.15,  3.16,  3.17,  3.18,  3.2 ,  3.21,  3.22,\n",
       "        3.23,  3.24,  3.25,  3.26,  3.27,  3.28,  3.29,  3.3 ,  3.31,\n",
       "        3.32,  3.33,  3.34,  3.35,  3.36,  3.37,  3.38,  3.39,  3.4 ,\n",
       "        3.42,  3.43,  3.44,  3.45,  3.46,  3.47,  3.48,  3.49,  3.5 ,\n",
       "        3.51,  3.52,  3.53,  3.54,  3.55,  3.56,  3.57,  3.58,  3.59,\n",
       "        3.6 ,  3.62,  3.63,  3.65,  3.66,  3.67,  3.68,  3.69,  3.7 ,\n",
       "        3.75,  3.76,  3.78,  3.8 ,  3.82,  3.83,  3.84,  3.85,  3.86,\n",
       "        3.87,  3.88,  3.9 ,  3.93,  3.95,  3.98,  4.  ,  4.06,  4.1 ,\n",
       "        4.14,  4.15,  4.19,  4.2 ,  4.25,  4.3 ,  4.37,  4.4 ,  4.45,\n",
       "        4.5 ,  4.65,  4.7 ,  4.8 ,  4.9 ,  5.  ,  5.2 ,  5.3 ,  5.5 ,\n",
       "        5.6 ,  6.  ,  8.  ,  8.3 , 10.3 , 14.  , 14.85, 20.  , 22.6 ,\n",
       "       24.  , 25.  , 26.  , 27.  , 27.5 , 32.  ])"
      ]
     },
     "execution_count": 25,
     "metadata": {},
     "output_type": "execute_result"
    }
   ],
   "source": [
    "data.query('ceiling_height <= 2').count()\n",
    "data=data[(data['ceiling_height']>=2.5) & (data['ceiling_height']!=100 )]\n",
    "data['ceiling_height'].sort_values().unique()"
   ]
  },
  {
   "cell_type": "markdown",
   "id": "ac8b59db",
   "metadata": {},
   "source": [
    "Двигаемся дальше. Встречаются значения больше 20 м. Если посмотреть на среднее значение выборки равное 2.65, то можно предположить что, такие большие значения появились из-за пропуска запятой при заполнении поля. \n",
    "Попробуем исправить ошибку. "
   ]
  },
  {
   "cell_type": "code",
   "execution_count": 26,
   "id": "1f33f291",
   "metadata": {},
   "outputs": [
    {
     "data": {
      "text/plain": [
       "array([ 2.  ,  2.26,  2.4 ,  2.5 ,  2.51,  2.52,  2.53,  2.54,  2.55,\n",
       "        2.56,  2.57,  2.58,  2.59,  2.6 ,  2.61,  2.62,  2.63,  2.64,\n",
       "        2.65,  2.66,  2.67,  2.68,  2.69,  2.7 ,  2.71,  2.72,  2.73,\n",
       "        2.74,  2.75,  2.76,  2.77,  2.78,  2.79,  2.8 ,  2.81,  2.82,\n",
       "        2.83,  2.84,  2.85,  2.86,  2.87,  2.88,  2.89,  2.9 ,  2.91,\n",
       "        2.92,  2.93,  2.94,  2.95,  2.96,  2.97,  2.98,  2.99,  3.  ,\n",
       "        3.01,  3.02,  3.03,  3.04,  3.05,  3.06,  3.07,  3.08,  3.09,\n",
       "        3.1 ,  3.11,  3.12,  3.13,  3.14,  3.15,  3.16,  3.17,  3.18,\n",
       "        3.2 ,  3.21,  3.22,  3.23,  3.24,  3.25,  3.26,  3.27,  3.28,\n",
       "        3.29,  3.3 ,  3.31,  3.32,  3.33,  3.34,  3.35,  3.36,  3.37,\n",
       "        3.38,  3.39,  3.4 ,  3.42,  3.43,  3.44,  3.45,  3.46,  3.47,\n",
       "        3.48,  3.49,  3.5 ,  3.51,  3.52,  3.53,  3.54,  3.55,  3.56,\n",
       "        3.57,  3.58,  3.59,  3.6 ,  3.62,  3.63,  3.65,  3.66,  3.67,\n",
       "        3.68,  3.69,  3.7 ,  3.75,  3.76,  3.78,  3.8 ,  3.82,  3.83,\n",
       "        3.84,  3.85,  3.86,  3.87,  3.88,  3.9 ,  3.93,  3.95,  3.98,\n",
       "        4.  ,  4.06,  4.1 ,  4.14,  4.15,  4.19,  4.2 ,  4.25,  4.3 ,\n",
       "        4.37,  4.4 ,  4.45,  4.5 ,  4.65,  4.7 ,  4.8 ,  4.9 ,  5.  ,\n",
       "        5.2 ,  5.3 ,  5.5 ,  5.6 ,  6.  ,  8.  ,  8.3 , 10.3 , 14.  ,\n",
       "       14.85])"
      ]
     },
     "execution_count": 26,
     "metadata": {},
     "output_type": "execute_result"
    }
   ],
   "source": [
    "#Найдем список индексов строк, где высота потолков больше 20 метров и меньше 32. \n",
    "ceiling_height_index=data.query('32>=ceiling_height>=20').index\n",
    "\n",
    "# по индексу обратимся к этим строкам и поделим текущее значение на 10\n",
    "data.loc[ceiling_height_index,'ceiling_height'] = data.loc[ceiling_height_index,'ceiling_height']/10\n",
    "\n",
    "# посмотрим, что получилось\n",
    "data['ceiling_height'].sort_values().unique()"
   ]
  },
  {
   "cell_type": "markdown",
   "id": "ff968927",
   "metadata": {},
   "source": [
    "### Общая площадь квартиры, жилая площадь, площадь кухни"
   ]
  },
  {
   "cell_type": "markdown",
   "id": "0f9c236f",
   "metadata": {},
   "source": [
    "В столбце total_area нет пропусков. Посмотрим значения. "
   ]
  },
  {
   "cell_type": "code",
   "execution_count": 27,
   "id": "3cbde90c",
   "metadata": {},
   "outputs": [
    {
     "data": {
      "text/plain": [
       "count    23382.000000\n",
       "mean        60.461380\n",
       "std         34.950903\n",
       "min         12.000000\n",
       "25%         40.000000\n",
       "50%         52.000000\n",
       "75%         70.000000\n",
       "max        631.200000\n",
       "Name: total_area, dtype: float64"
      ]
     },
     "execution_count": 27,
     "metadata": {},
     "output_type": "execute_result"
    }
   ],
   "source": [
    "data['total_area'].describe()"
   ]
  },
  {
   "cell_type": "markdown",
   "id": "cb69f37b",
   "metadata": {},
   "source": [
    "Встречаются неправдаподобно маленькие значения. Рассмотрим их подробнее. "
   ]
  },
  {
   "cell_type": "code",
   "execution_count": 28,
   "id": "ffa465dd",
   "metadata": {
    "scrolled": true
   },
   "outputs": [
    {
     "data": {
      "text/html": [
       "<div>\n",
       "<style scoped>\n",
       "    .dataframe tbody tr th:only-of-type {\n",
       "        vertical-align: middle;\n",
       "    }\n",
       "\n",
       "    .dataframe tbody tr th {\n",
       "        vertical-align: top;\n",
       "    }\n",
       "\n",
       "    .dataframe thead th {\n",
       "        text-align: right;\n",
       "    }\n",
       "</style>\n",
       "<table border=\"1\" class=\"dataframe\">\n",
       "  <thead>\n",
       "    <tr style=\"text-align: right;\">\n",
       "      <th></th>\n",
       "      <th>total_images</th>\n",
       "      <th>last_price</th>\n",
       "      <th>total_area</th>\n",
       "      <th>first_day_exposition</th>\n",
       "      <th>rooms</th>\n",
       "      <th>ceiling_height</th>\n",
       "      <th>floors_total</th>\n",
       "      <th>living_area</th>\n",
       "      <th>floor</th>\n",
       "      <th>is_apartment</th>\n",
       "      <th>studio</th>\n",
       "      <th>open_plan</th>\n",
       "      <th>kitchen_area</th>\n",
       "      <th>balcony</th>\n",
       "      <th>locality_name</th>\n",
       "      <th>airports_nearest</th>\n",
       "      <th>cityCenters_nearest</th>\n",
       "      <th>parks_around3000</th>\n",
       "      <th>parks_nearest</th>\n",
       "      <th>ponds_around3000</th>\n",
       "      <th>ponds_nearest</th>\n",
       "      <th>days_exposition</th>\n",
       "    </tr>\n",
       "  </thead>\n",
       "  <tbody>\n",
       "    <tr>\n",
       "      <th>17961</th>\n",
       "      <td>3</td>\n",
       "      <td>1400000</td>\n",
       "      <td>13.0</td>\n",
       "      <td>2017-12-03T00:00:00</td>\n",
       "      <td>1</td>\n",
       "      <td>2.60</td>\n",
       "      <td>9</td>\n",
       "      <td>NaN</td>\n",
       "      <td>1</td>\n",
       "      <td>NaN</td>\n",
       "      <td>False</td>\n",
       "      <td>False</td>\n",
       "      <td>NaN</td>\n",
       "      <td>NaN</td>\n",
       "      <td>Санкт-Петербург</td>\n",
       "      <td>14350.0</td>\n",
       "      <td>15945.0</td>\n",
       "      <td>0.0</td>\n",
       "      <td>NaN</td>\n",
       "      <td>1.0</td>\n",
       "      <td>185.0</td>\n",
       "      <td>410.0</td>\n",
       "    </tr>\n",
       "    <tr>\n",
       "      <th>19546</th>\n",
       "      <td>3</td>\n",
       "      <td>1850000</td>\n",
       "      <td>13.0</td>\n",
       "      <td>2019-03-11T00:00:00</td>\n",
       "      <td>1</td>\n",
       "      <td>3.40</td>\n",
       "      <td>5</td>\n",
       "      <td>NaN</td>\n",
       "      <td>2</td>\n",
       "      <td>False</td>\n",
       "      <td>False</td>\n",
       "      <td>False</td>\n",
       "      <td>NaN</td>\n",
       "      <td>NaN</td>\n",
       "      <td>Санкт-Петербург</td>\n",
       "      <td>24915.0</td>\n",
       "      <td>5483.0</td>\n",
       "      <td>1.0</td>\n",
       "      <td>644.0</td>\n",
       "      <td>0.0</td>\n",
       "      <td>NaN</td>\n",
       "      <td>24.0</td>\n",
       "    </tr>\n",
       "    <tr>\n",
       "      <th>19558</th>\n",
       "      <td>2</td>\n",
       "      <td>1686000</td>\n",
       "      <td>13.2</td>\n",
       "      <td>2018-12-17T00:00:00</td>\n",
       "      <td>1</td>\n",
       "      <td>2.55</td>\n",
       "      <td>5</td>\n",
       "      <td>NaN</td>\n",
       "      <td>1</td>\n",
       "      <td>NaN</td>\n",
       "      <td>False</td>\n",
       "      <td>False</td>\n",
       "      <td>NaN</td>\n",
       "      <td>NaN</td>\n",
       "      <td>Санкт-Петербург</td>\n",
       "      <td>19891.0</td>\n",
       "      <td>4165.0</td>\n",
       "      <td>1.0</td>\n",
       "      <td>361.0</td>\n",
       "      <td>1.0</td>\n",
       "      <td>155.0</td>\n",
       "      <td>19.0</td>\n",
       "    </tr>\n",
       "    <tr>\n",
       "      <th>19642</th>\n",
       "      <td>5</td>\n",
       "      <td>1190000</td>\n",
       "      <td>14.0</td>\n",
       "      <td>2018-07-29T00:00:00</td>\n",
       "      <td>1</td>\n",
       "      <td>2.55</td>\n",
       "      <td>5</td>\n",
       "      <td>11.0</td>\n",
       "      <td>1</td>\n",
       "      <td>NaN</td>\n",
       "      <td>False</td>\n",
       "      <td>False</td>\n",
       "      <td>2.0</td>\n",
       "      <td>NaN</td>\n",
       "      <td>Санкт-Петербург</td>\n",
       "      <td>9898.0</td>\n",
       "      <td>11122.0</td>\n",
       "      <td>0.0</td>\n",
       "      <td>NaN</td>\n",
       "      <td>0.0</td>\n",
       "      <td>NaN</td>\n",
       "      <td>4.0</td>\n",
       "    </tr>\n",
       "    <tr>\n",
       "      <th>19807</th>\n",
       "      <td>0</td>\n",
       "      <td>3800000</td>\n",
       "      <td>13.0</td>\n",
       "      <td>2018-07-04T00:00:00</td>\n",
       "      <td>1</td>\n",
       "      <td>2.55</td>\n",
       "      <td>5</td>\n",
       "      <td>10.0</td>\n",
       "      <td>3</td>\n",
       "      <td>NaN</td>\n",
       "      <td>False</td>\n",
       "      <td>False</td>\n",
       "      <td>NaN</td>\n",
       "      <td>NaN</td>\n",
       "      <td>Санкт-Петербург</td>\n",
       "      <td>21302.0</td>\n",
       "      <td>1242.0</td>\n",
       "      <td>1.0</td>\n",
       "      <td>592.0</td>\n",
       "      <td>3.0</td>\n",
       "      <td>27.0</td>\n",
       "      <td>9.0</td>\n",
       "    </tr>\n",
       "    <tr>\n",
       "      <th>19904</th>\n",
       "      <td>4</td>\n",
       "      <td>2400000</td>\n",
       "      <td>12.0</td>\n",
       "      <td>2017-07-19T00:00:00</td>\n",
       "      <td>1</td>\n",
       "      <td>2.55</td>\n",
       "      <td>5</td>\n",
       "      <td>10.0</td>\n",
       "      <td>2</td>\n",
       "      <td>NaN</td>\n",
       "      <td>False</td>\n",
       "      <td>False</td>\n",
       "      <td>NaN</td>\n",
       "      <td>NaN</td>\n",
       "      <td>Санкт-Петербург</td>\n",
       "      <td>21314.0</td>\n",
       "      <td>964.0</td>\n",
       "      <td>1.0</td>\n",
       "      <td>886.0</td>\n",
       "      <td>2.0</td>\n",
       "      <td>45.0</td>\n",
       "      <td>200.0</td>\n",
       "    </tr>\n",
       "  </tbody>\n",
       "</table>\n",
       "</div>"
      ],
      "text/plain": [
       "       total_images  last_price  total_area first_day_exposition  rooms  \\\n",
       "17961             3     1400000        13.0  2017-12-03T00:00:00      1   \n",
       "19546             3     1850000        13.0  2019-03-11T00:00:00      1   \n",
       "19558             2     1686000        13.2  2018-12-17T00:00:00      1   \n",
       "19642             5     1190000        14.0  2018-07-29T00:00:00      1   \n",
       "19807             0     3800000        13.0  2018-07-04T00:00:00      1   \n",
       "19904             4     2400000        12.0  2017-07-19T00:00:00      1   \n",
       "\n",
       "       ceiling_height  floors_total  living_area  floor is_apartment studio  \\\n",
       "17961            2.60             9          NaN      1          NaN  False   \n",
       "19546            3.40             5          NaN      2        False  False   \n",
       "19558            2.55             5          NaN      1          NaN  False   \n",
       "19642            2.55             5         11.0      1          NaN  False   \n",
       "19807            2.55             5         10.0      3          NaN  False   \n",
       "19904            2.55             5         10.0      2          NaN  False   \n",
       "\n",
       "      open_plan  kitchen_area  balcony    locality_name  airports_nearest  \\\n",
       "17961     False           NaN      NaN  Санкт-Петербург           14350.0   \n",
       "19546     False           NaN      NaN  Санкт-Петербург           24915.0   \n",
       "19558     False           NaN      NaN  Санкт-Петербург           19891.0   \n",
       "19642     False           2.0      NaN  Санкт-Петербург            9898.0   \n",
       "19807     False           NaN      NaN  Санкт-Петербург           21302.0   \n",
       "19904     False           NaN      NaN  Санкт-Петербург           21314.0   \n",
       "\n",
       "       cityCenters_nearest  parks_around3000  parks_nearest  ponds_around3000  \\\n",
       "17961              15945.0               0.0            NaN               1.0   \n",
       "19546               5483.0               1.0          644.0               0.0   \n",
       "19558               4165.0               1.0          361.0               1.0   \n",
       "19642              11122.0               0.0            NaN               0.0   \n",
       "19807               1242.0               1.0          592.0               3.0   \n",
       "19904                964.0               1.0          886.0               2.0   \n",
       "\n",
       "       ponds_nearest  days_exposition  \n",
       "17961          185.0            410.0  \n",
       "19546            NaN             24.0  \n",
       "19558          155.0             19.0  \n",
       "19642            NaN              4.0  \n",
       "19807           27.0              9.0  \n",
       "19904           45.0            200.0  "
      ]
     },
     "execution_count": 28,
     "metadata": {},
     "output_type": "execute_result"
    }
   ],
   "source": [
    "data.query('total_area < 15')"
   ]
  },
  {
   "cell_type": "markdown",
   "id": "cbe1626d",
   "metadata": {},
   "source": [
    "Предпологалось, что мы сможем удалить эти данные как артефакты, но судя по стоимости, колличеству комнат и тд они выглят правдоподобно. "
   ]
  },
  {
   "cell_type": "markdown",
   "id": "94c9ce6a",
   "metadata": {},
   "source": [
    "В таблице есть пропуски в living_area и в kitchen_area. Их можно заполнить средним значением по таблице, но высок риск получить значения, которые будут больше, чем площадь всей квартиры. \n",
    "По этому заполним их средним значением аналогичных по площади квартир. \n"
   ]
  },
  {
   "cell_type": "code",
   "execution_count": 29,
   "id": "73377e7f",
   "metadata": {},
   "outputs": [
    {
     "data": {
      "text/plain": [
       "133"
      ]
     },
     "execution_count": 29,
     "metadata": {},
     "output_type": "execute_result"
    }
   ],
   "source": [
    "# перебираем каждое значение в total_area\n",
    "for s in data['total_area'].unique():\n",
    "    \n",
    "    # на каждом шаге цикла ищем строки, в которых \n",
    "    # total_area (принятый за s) и есть пропуски в living_area\n",
    "    # и записываем в них среднее значение living_area для каждого total_area\n",
    "    \n",
    "    data.loc[(data['total_area'] == s) & (data['living_area'].isna()), 'living_area'] = \\\n",
    "    data.loc[(data['total_area'] == s), 'living_area'].median()\n",
    "    \n",
    "data['living_area'].isna().sum()"
   ]
  },
  {
   "cell_type": "markdown",
   "id": "46af16b1",
   "metadata": {},
   "source": [
    "<div class=\"alert alert-success\">\n",
    "<b>✔️ Комментарий ревьюера v1:</b> \n",
    "<br>Хороший способ)\n",
    "</div>"
   ]
  },
  {
   "cell_type": "markdown",
   "id": "41c3ce60",
   "metadata": {},
   "source": [
    "<div class=\"alert alert-warning\">\n",
    "<b>⚠️ Комментарий ревьюера v1:</b> \n",
    "<br>Чтобы избавиться от вывода предупреждений, нужно добавить эти две строчки. Добавлять их лучше в самую первую ячейку к остальным библиотекам\n",
    "    \n",
    "    import warnings\n",
    "    warnings.simplefilter(\"ignore\")\n",
    "</div>"
   ]
  },
  {
   "cell_type": "markdown",
   "id": "23d2c3f3",
   "metadata": {},
   "source": [
    "<div class=\"alert alert-info\">\n",
    "<b>Комментарий студента:</b>\n",
    "<br>done!\n",
    "</div>"
   ]
  },
  {
   "cell_type": "code",
   "execution_count": 30,
   "id": "c6b84d08",
   "metadata": {},
   "outputs": [
    {
     "data": {
      "text/plain": [
       "151"
      ]
     },
     "execution_count": 30,
     "metadata": {},
     "output_type": "execute_result"
    }
   ],
   "source": [
    "# перебираем каждое значение в total_area\n",
    "for s in data['total_area'].unique():\n",
    "    \n",
    "    # на каждом шаге цикла ищем строки, в которых \n",
    "    # total_area (принятый за s) и есть пропуски в kitchen_area\n",
    "    # и записываем в них среднее значение kitchen_area для каждого total_area\n",
    "    \n",
    "    data.loc[(data['total_area'] == s) & (data['kitchen_area'].isna()), 'kitchen_area'] = \\\n",
    "    data.loc[(data['total_area'] == s), 'kitchen_area'].median()\n",
    "    \n",
    "data['kitchen_area'].isna().sum()"
   ]
  },
  {
   "cell_type": "code",
   "execution_count": 31,
   "id": "ef39d1e2",
   "metadata": {},
   "outputs": [
    {
     "name": "stdout",
     "output_type": "stream",
     "text": [
      "0\n"
     ]
    },
    {
     "data": {
      "text/plain": [
       "0"
      ]
     },
     "execution_count": 31,
     "metadata": {},
     "output_type": "execute_result"
    }
   ],
   "source": [
    "#Удаляем отсатки, так как их число несущственно.\n",
    "\n",
    "\n",
    "data = data.dropna(subset=['living_area']) \n",
    "print(data['living_area'].isna().sum())\n",
    "\n",
    "\n",
    "data = data.dropna(subset=['kitchen_area']) \n",
    "data['kitchen_area'].isna().sum()"
   ]
  },
  {
   "cell_type": "markdown",
   "id": "46d20109",
   "metadata": {},
   "source": [
    "### Названия населённы пунктов"
   ]
  },
  {
   "cell_type": "markdown",
   "id": "1dafd3cc",
   "metadata": {},
   "source": [
    "Пропуски в locality_name скорее всего ошибка при выгрузке или баг, так как в сервисе это обязательная информация. \n",
    "Удалим эти строки, чтобы при анализе не возникало путницы. "
   ]
  },
  {
   "cell_type": "code",
   "execution_count": 32,
   "id": "75aa6357",
   "metadata": {},
   "outputs": [
    {
     "data": {
      "text/plain": [
       "0"
      ]
     },
     "execution_count": 32,
     "metadata": {},
     "output_type": "execute_result"
    }
   ],
   "source": [
    "data = data.dropna(subset=['locality_name']) \n",
    "data['locality_name'].isna().sum()"
   ]
  },
  {
   "cell_type": "code",
   "execution_count": 33,
   "id": "e2c1d3f2",
   "metadata": {},
   "outputs": [
    {
     "data": {
      "text/plain": [
       "array(['Бокситогорск', 'Волосово', 'Волхов', 'Всеволожск', 'Выборг',\n",
       "       'Высоцк', 'Гатчина', 'Зеленогорск', 'Ивангород', 'Каменногорск',\n",
       "       'Кингисепп', 'Кириши', 'Кировск', 'Колпино', 'Коммунар',\n",
       "       'Красное Село', 'Кронштадт', 'Кудрово', 'Лодейное Поле',\n",
       "       'Ломоносов', 'Луга', 'Любань', 'Мурино', 'Никольское',\n",
       "       'Новая Ладога', 'Отрадное', 'Павловск', 'Петергоф', 'Пикалёво',\n",
       "       'Подпорожье', 'Приморск', 'Приозерск', 'Пушкин', 'Санкт-Петербург',\n",
       "       'Светогорск', 'Сертолово', 'Сестрорецк', 'Сланцы', 'Сосновый Бор',\n",
       "       'Сясьстрой', 'Тихвин', 'Тосно', 'Шлиссельбург',\n",
       "       'городской поселок Большая Ижора', 'городской поселок Янино-1',\n",
       "       'городской посёлок Будогощь', 'городской посёлок Виллози',\n",
       "       'городской посёлок Лесогорский', 'городской посёлок Мга',\n",
       "       'городской посёлок Назия', 'городской посёлок Новоселье',\n",
       "       'городской посёлок Павлово', 'городской посёлок Рощино',\n",
       "       'городской посёлок Советский', 'городской посёлок Фёдоровское',\n",
       "       'городской посёлок Янино-1', 'деревня Агалатово', 'деревня Аро',\n",
       "       'деревня Батово', 'деревня Бегуницы', 'деревня Белогорка',\n",
       "       'деревня Большая Вруда', 'деревня Большая Пустомержа',\n",
       "       'деревня Большие Колпаны', 'деревня Большое Рейзино',\n",
       "       'деревня Большой Сабск', 'деревня Бор', 'деревня Борисова Грива',\n",
       "       'деревня Ваганово', 'деревня Вартемяги', 'деревня Вахнова Кара',\n",
       "       'деревня Выскатка', 'деревня Гарболово', 'деревня Глинка',\n",
       "       'деревня Горбунки', 'деревня Гостилицы', 'деревня Заклинье',\n",
       "       'деревня Заневка', 'деревня Зимитицы', 'деревня Извара',\n",
       "       'деревня Иссад', 'деревня Калитино', 'деревня Кальтино',\n",
       "       'деревня Камышовка', 'деревня Каськово', 'деревня Келози',\n",
       "       'деревня Кипень', 'деревня Кисельня', 'деревня Колтуши',\n",
       "       'деревня Коркино', 'деревня Котлы', 'деревня Кривко',\n",
       "       'деревня Кудрово', 'деревня Кузьмолово', 'деревня Курковицы',\n",
       "       'деревня Куровицы', 'деревня Куттузи', 'деревня Лаврики',\n",
       "       'деревня Лаголово', 'деревня Лампово', 'деревня Лесколово',\n",
       "       'деревня Лопухинка', 'деревня Лупполово',\n",
       "       'деревня Малая Романовка', 'деревня Малое Верево',\n",
       "       'деревня Малое Карлино', 'деревня Малые Колпаны',\n",
       "       'деревня Мануйлово', 'деревня Меньково', 'деревня Мины',\n",
       "       'деревня Мистолово', 'деревня Ненимяки', 'деревня Нижние Осельки',\n",
       "       'деревня Нижняя', 'деревня Низино', 'деревня Новое Девяткино',\n",
       "       'деревня Новолисино', 'деревня Нурма', 'деревня Оржицы',\n",
       "       'деревня Парицы', 'деревня Пельгора', 'деревня Пеники',\n",
       "       'деревня Пижма', 'деревня Пикколово', 'деревня Пудомяги',\n",
       "       'деревня Пустынка', 'деревня Пчева', 'деревня Рабитицы',\n",
       "       'деревня Разбегаево', 'деревня Раздолье', 'деревня Разметелево',\n",
       "       'деревня Рапполово', 'деревня Реброво', 'деревня Русско',\n",
       "       'деревня Снегирёвка', 'деревня Старая', 'деревня Старая Пустошь',\n",
       "       'деревня Старое Хинколово', 'деревня Старополье',\n",
       "       'деревня Старосиверская', 'деревня Старые Бегуницы',\n",
       "       'деревня Суоранда', 'деревня Сяськелево', 'деревня Тарасово',\n",
       "       'деревня Терпилицы', 'деревня Тихковицы', 'деревня Тойворово',\n",
       "       'деревня Торосово', 'деревня Торошковичи', 'деревня Трубников Бор',\n",
       "       'деревня Фалилеево', 'деревня Фёдоровское', 'деревня Хапо-Ое',\n",
       "       'деревня Хязельки', 'деревня Чудской Бор', 'деревня Шпаньково',\n",
       "       'деревня Щеглово', 'деревня Юкки', 'деревня Ялгино',\n",
       "       'деревня Яльгелево', 'деревня Ям-Тесово',\n",
       "       'коттеджный поселок Кивеннапа Север', 'коттеджный поселок Счастье',\n",
       "       'коттеджный посёлок Лесное', 'поселок Аннино', 'поселок Барышево',\n",
       "       'поселок Бугры', 'поселок Возрождение', 'поселок Войсковицы',\n",
       "       'поселок Володарское', 'поселок Гаврилово', 'поселок Гарболово',\n",
       "       'поселок Гладкое', 'поселок Глажево', 'поселок Глебычево',\n",
       "       'поселок Гончарово', 'поселок Громово', 'поселок Дружноселье',\n",
       "       'поселок Елизаветино', 'поселок Жилгородок', 'поселок Жилпосёлок',\n",
       "       'поселок Житково', 'поселок Заводской', 'поселок Запорожское',\n",
       "       'поселок Зимитицы', 'поселок Ильичёво', 'поселок Калитино',\n",
       "       'поселок Каложицы', 'поселок Кингисеппский', 'поселок Кирпичное',\n",
       "       'поселок Кобралово', 'поселок Кобринское', 'поселок Коммунары',\n",
       "       'поселок Коробицыно', 'поселок Котельский',\n",
       "       'поселок Красная Долина', 'поселок Красносельское',\n",
       "       'поселок Лесное', 'поселок Лисий Нос', 'поселок Лукаши',\n",
       "       'поселок Любань', 'поселок Мельниково', 'поселок Мичуринское',\n",
       "       'поселок Молодцово', 'поселок Мурино', 'поселок Новый Свет',\n",
       "       'поселок Новый Учхоз', 'поселок Оредеж',\n",
       "       'поселок Пансионат Зелёный Бор', 'поселок Первомайское',\n",
       "       'поселок Перово', 'поселок Петровское', 'поселок Победа',\n",
       "       'поселок Поляны', 'поселок Почап', 'поселок Починок',\n",
       "       'поселок Пушное', 'поселок Рабитицы', 'поселок Романовка',\n",
       "       'поселок Ромашки', 'поселок Рябово', 'поселок Севастьяново',\n",
       "       'поселок Селезнёво', 'поселок Сельцо', 'поселок Семиозерье',\n",
       "       'поселок Семрино', 'поселок Серебрянский', 'поселок Совхозный',\n",
       "       'поселок Старая Малукса', 'поселок Стеклянный', 'поселок Сумино',\n",
       "       'поселок Суходолье', 'поселок Тельмана', 'поселок Терволово',\n",
       "       'поселок Торковичи', 'поселок Тёсово-4', 'поселок Углово',\n",
       "       'поселок Усть-Луга', 'поселок Ушаки', 'поселок Цвелодубово',\n",
       "       'поселок Цвылёво', 'поселок городского типа Большая Ижора',\n",
       "       'поселок городского типа Вырица',\n",
       "       'поселок городского типа Дружная Горка',\n",
       "       'поселок городского типа Дубровка',\n",
       "       'поселок городского типа Ефимовский',\n",
       "       'поселок городского типа Кондратьево',\n",
       "       'поселок городского типа Красный Бор',\n",
       "       'поселок городского типа Кузьмоловский',\n",
       "       'поселок городского типа Лебяжье',\n",
       "       'поселок городского типа Лесогорский',\n",
       "       'поселок городского типа Назия',\n",
       "       'поселок городского типа Никольский',\n",
       "       'поселок городского типа Приладожский',\n",
       "       'поселок городского типа Рахья', 'поселок городского типа Рощино',\n",
       "       'поселок городского типа Рябово',\n",
       "       'поселок городского типа Синявино',\n",
       "       'поселок городского типа Советский',\n",
       "       'поселок городского типа Токсово',\n",
       "       'поселок городского типа Форносово',\n",
       "       'поселок городского типа имени Свердлова',\n",
       "       'поселок станции Вещево', 'поселок станции Лужайка',\n",
       "       'поселок станции Приветнинское', 'посёлок Александровская',\n",
       "       'посёлок Алексеевка', 'посёлок Аннино', 'посёлок Белоостров',\n",
       "       'посёлок Бугры', 'посёлок Возрождение', 'посёлок Войскорово',\n",
       "       'посёлок Высокоключевой', 'посёлок Гаврилово',\n",
       "       'посёлок Дзержинского', 'посёлок Жилгородок', 'посёлок Ильичёво',\n",
       "       'посёлок Кикерино', 'посёлок Кобралово', 'посёлок Коробицыно',\n",
       "       'посёлок Левашово', 'посёлок Ленинское', 'посёлок Лисий Нос',\n",
       "       'посёлок Мельниково', 'посёлок Металлострой',\n",
       "       'посёлок Мичуринское', 'посёлок Молодёжное', 'посёлок Мурино',\n",
       "       'посёлок Мыза-Ивановка', 'посёлок Новогорелово',\n",
       "       'посёлок Новый Свет', 'посёлок Пансионат Зелёный Бор',\n",
       "       'посёлок Парголово', 'посёлок Перово', 'посёлок Песочный',\n",
       "       'посёлок Петровское', 'посёлок Платформа 69-й километр',\n",
       "       'посёлок Плодовое', 'посёлок Плоское', 'посёлок Победа',\n",
       "       'посёлок Поляны', 'посёлок Понтонный', 'посёлок Пригородный',\n",
       "       'посёлок Пудость', 'посёлок Репино', 'посёлок Ропша',\n",
       "       'посёлок Сапёрное', 'посёлок Сапёрный', 'посёлок Сосново',\n",
       "       'посёлок Старая Малукса', 'посёлок Стеклянный', 'посёлок Стрельна',\n",
       "       'посёлок Суйда', 'посёлок Сумино', 'посёлок Тельмана',\n",
       "       'посёлок Терволово', 'посёлок Торфяное', 'посёлок Усть-Ижора',\n",
       "       'посёлок Усть-Луга', 'посёлок Форт Красная Горка',\n",
       "       'посёлок Шугозеро', 'посёлок Шушары', 'посёлок Щеглово',\n",
       "       'посёлок городского типа Важины',\n",
       "       'посёлок городского типа Вознесенье',\n",
       "       'посёлок городского типа Вырица',\n",
       "       'посёлок городского типа Красный Бор',\n",
       "       'посёлок городского типа Кузнечное',\n",
       "       'посёлок городского типа Кузьмоловский',\n",
       "       'посёлок городского типа Лебяжье', 'посёлок городского типа Мга',\n",
       "       'посёлок городского типа Павлово',\n",
       "       'посёлок городского типа Рощино', 'посёлок городского типа Рябово',\n",
       "       'посёлок городского типа Сиверский',\n",
       "       'посёлок городского типа Тайцы', 'посёлок городского типа Токсово',\n",
       "       'посёлок городского типа Ульяновка',\n",
       "       'посёлок городского типа Форносово',\n",
       "       'посёлок городского типа имени Морозова',\n",
       "       'посёлок городского типа имени Свердлова',\n",
       "       'посёлок при железнодорожной станции Вещево',\n",
       "       'посёлок при железнодорожной станции Приветнинское',\n",
       "       'посёлок станции Громово', 'посёлок станции Свирь',\n",
       "       'садоводческое некоммерческое товарищество Лесная Поляна',\n",
       "       'садовое товарищество Новая Ропша',\n",
       "       'садовое товарищество Приладожский', 'садовое товарищество Рахья',\n",
       "       'садовое товарищество Садко', 'село Копорье', 'село Никольское',\n",
       "       'село Павлово', 'село Паша', 'село Путилово', 'село Рождествено',\n",
       "       'село Русско-Высоцкое', 'село Старая Ладога', 'село Шум'],\n",
       "      dtype=object)"
      ]
     },
     "execution_count": 33,
     "metadata": {},
     "output_type": "execute_result"
    }
   ],
   "source": [
    "data['locality_name'].sort_values().unique()"
   ]
  },
  {
   "cell_type": "markdown",
   "id": "fceea56f",
   "metadata": {},
   "source": [
    "Пойдем простым и быстрым путем:\n",
    "- Избавимся от ё, заменим на е\n",
    "- Удалим типы населенных пунктов. Это не совсем верно, но поиск каждого корректного названия займет много времени. \n",
    "    "
   ]
  },
  {
   "cell_type": "code",
   "execution_count": 34,
   "id": "bb1726d4",
   "metadata": {},
   "outputs": [
    {
     "data": {
      "text/plain": [
       "array([' Вещево', ' Приветнинское', 'Агалатово', 'Александровская',\n",
       "       'Алексеевка', 'Аннино', 'Аро', 'Барышево', 'Батово', 'Бегуницы',\n",
       "       'Белогорка', 'Белоостров', 'Бокситогорск', 'Большая Вруда',\n",
       "       'Большая Ижора', 'Большая Пустомержа', 'Большие Колпаны',\n",
       "       'Большое Рейзино', 'Большой Сабск', 'Бор', 'Борисова Грива',\n",
       "       'Бугры', 'Будогощь', 'Ваганово', 'Важины', 'Вартемяги',\n",
       "       'Вахнова Кара', 'Вещево', 'Виллози', 'Вознесенье', 'Возрождение',\n",
       "       'Войсковицы', 'Войскорово', 'Володарское', 'Волосово', 'Волхов',\n",
       "       'Всеволожск', 'Выборг', 'Вырица', 'Выскатка', 'Высокоключевой',\n",
       "       'Высоцк', 'Гаврилово', 'Гарболово', 'Гатчина', 'Гладкое',\n",
       "       'Глажево', 'Глебычево', 'Глинка', 'Гончарово', 'Горбунки',\n",
       "       'Гостилицы', 'Громово', 'Дзержинского', 'Дружная Горка',\n",
       "       'Дружноселье', 'Дубровка', 'Елизаветино', 'Ефимовский',\n",
       "       'Жилгородок', 'Жилпоселок', 'Житково', 'Заводской', 'Заклинье',\n",
       "       'Заневка', 'Запорожское', 'Зеленогорск', 'Зимитицы', 'Ивангород',\n",
       "       'Извара', 'Ильичево', 'Иссад', 'Калитино', 'Каложицы', 'Кальтино',\n",
       "       'Каменногорск', 'Камышовка', 'Каськово', 'Келози',\n",
       "       'Кивеннапа Север', 'Кикерино', 'Кингисепп', 'Кингисеппский',\n",
       "       'Кипень', 'Кириши', 'Кировск', 'Кирпичное', 'Кисельня',\n",
       "       'Кобралово', 'Кобринское', 'Колпино', 'Колтуши', 'Коммунар',\n",
       "       'Коммунары', 'Кондратьево', 'Копорье', 'Коркино', 'Коробицыно',\n",
       "       'Котельский', 'Котлы', 'Красная Долина', 'Красное Село',\n",
       "       'Красносельское', 'Красный Бор', 'Кривко', 'Кронштадт', 'Кудрово',\n",
       "       'Кузнечное', 'Кузьмолово', 'Кузьмоловский', 'Курковицы',\n",
       "       'Куровицы', 'Куттузи', 'Лаврики', 'Лаголово', 'Лампово', 'Лебяжье',\n",
       "       'Левашово', 'Ленинское', 'Лесколово', 'Лесная Поляна', 'Лесное',\n",
       "       'Лесогорский', 'Лисий Нос', 'Лодейное Поле', 'Ломоносов',\n",
       "       'Лопухинка', 'Луга', 'Лужайка', 'Лукаши', 'Лупполово', 'Любань',\n",
       "       'Малая Романовка', 'Малое Верево', 'Малое Карлино',\n",
       "       'Малые Колпаны', 'Мануйлово', 'Мга', 'Мельниково', 'Меньково',\n",
       "       'Металлострой', 'Мины', 'Мистолово', 'Мичуринское', 'Молодежное',\n",
       "       'Молодцово', 'Морозова', 'Мурино', 'Мыза-Ивановка', 'Назия',\n",
       "       'Ненимяки', 'Нижние Осельки', 'Нижняя', 'Низино', 'Никольский',\n",
       "       'Никольское', 'Новая Ладога', 'Новая Ропша', 'Новогорелово',\n",
       "       'Новое Девяткино', 'Новолисино', 'Новоселье', 'Новый Свет',\n",
       "       'Новый Учхоз', 'Нурма', 'Оредеж', 'Оржицы', 'Отрадное', 'Павлово',\n",
       "       'Павловск', 'Пансионат Зеленый Бор', 'Парголово', 'Парицы', 'Паша',\n",
       "       'Пельгора', 'Пеники', 'Первомайское', 'Перово', 'Песочный',\n",
       "       'Петергоф', 'Петровское', 'Пижма', 'Пикалево', 'Пикколово',\n",
       "       'Платформа 69-й километр', 'Плодовое', 'Плоское', 'Победа',\n",
       "       'Подпорожье', 'Поляны', 'Понтонный', 'Почап', 'Починок',\n",
       "       'Приветнинское', 'Пригородный', 'Приладожский', 'Приморск',\n",
       "       'Приозерск', 'Пудомяги', 'Пудость', 'Пустынка', 'Путилово',\n",
       "       'Пушкин', 'Пушное', 'Пчева', 'Рабитицы', 'Разбегаево', 'Раздолье',\n",
       "       'Разметелево', 'Рапполово', 'Рахья', 'Реброво', 'Репино',\n",
       "       'Рождествено', 'Романовка', 'Ромашки', 'Ропша', 'Рощино', 'Русско',\n",
       "       'Русско-Высоцкое', 'Рябово', 'Садко', 'Санкт-Петербург',\n",
       "       'Саперное', 'Саперный', 'Свердлова', 'Светогорск', 'Свирь',\n",
       "       'Севастьяново', 'Селезнево', 'Сельцо', 'Семиозерье', 'Семрино',\n",
       "       'Серебрянский', 'Сертолово', 'Сестрорецк', 'Сиверский', 'Синявино',\n",
       "       'Сланцы', 'Снегиревка', 'Советский', 'Совхозный', 'Сосново',\n",
       "       'Сосновый Бор', 'Старая', 'Старая Ладога', 'Старая Малукса',\n",
       "       'Старая Пустошь', 'Старое Хинколово', 'Старополье',\n",
       "       'Старосиверская', 'Старые Бегуницы', 'Стеклянный', 'Стрельна',\n",
       "       'Суйда', 'Сумино', 'Суоранда', 'Суходолье', 'Счастье',\n",
       "       'Сяськелево', 'Сясьстрой', 'Тайцы', 'Тарасово', 'Тельмана',\n",
       "       'Терволово', 'Терпилицы', 'Тесово-4', 'Тихвин', 'Тихковицы',\n",
       "       'Тойворово', 'Токсово', 'Торковичи', 'Торосово', 'Торошковичи',\n",
       "       'Торфяное', 'Тосно', 'Трубников Бор', 'Углово', 'Ульяновка',\n",
       "       'Усть-Ижора', 'Усть-Луга', 'Ушаки', 'Фалилеево', 'Федоровское',\n",
       "       'Форносово', 'Форт Красная Горка', 'Хапо-Ое', 'Хязельки',\n",
       "       'Цвелодубово', 'Цвылево', 'Чудской Бор', 'Шлиссельбург',\n",
       "       'Шпаньково', 'Шугозеро', 'Шум', 'Шушары', 'Щеглово', 'Юкки',\n",
       "       'Ялгино', 'Яльгелево', 'Ям-Тесово', 'Янино-1'], dtype=object)"
      ]
     },
     "execution_count": 34,
     "metadata": {},
     "output_type": "execute_result"
    }
   ],
   "source": [
    "data['locality_name'] = data['locality_name'].str.replace('ё','е')\n",
    "\n",
    "#Создадим список ненужных типов населенных пунктов которые хотим убрать\n",
    "type_list = {'городской ' , 'коттеджный поселок ', 'городской поселок ', 'поселок городского типа ', 'городского типа ', 'поселок при железнодорожной станции ', 'поселок станции ' , 'садоводческое некоммерческое товарищество ' , \n",
    "    'садовое товарищество ', 'село ', 'поселок ', 'деревня ', 'при железнодорожной станции ' , 'имени ', 'коттеджный ',  'станции ' , 'при железнодорожной' }\n",
    "#важно не забыть пробел в конце, чтобы убрать пробелы\n",
    "data['locality_name'] = data['locality_name'].replace(type_list, '', regex=True)\n",
    "data['locality_name'].sort_values().unique()"
   ]
  },
  {
   "cell_type": "markdown",
   "id": "d4bacb17",
   "metadata": {},
   "source": [
    "<div class=\"alert alert-success\">\n",
    "<b>✔️ Комментарий ревьюера v1:</b> \n",
    "<br>Супер! Здесь всё верно)\n",
    "</div>"
   ]
  },
  {
   "cell_type": "markdown",
   "id": "10e0ab63",
   "metadata": {},
   "source": [
    "### Аппартаменты"
   ]
  },
  {
   "cell_type": "code",
   "execution_count": 35,
   "id": "93c97361",
   "metadata": {},
   "outputs": [
    {
     "data": {
      "text/plain": [
       "False    23045\n",
       "True        48\n",
       "Name: is_apartment, dtype: int64"
      ]
     },
     "execution_count": 35,
     "metadata": {},
     "output_type": "execute_result"
    }
   ],
   "source": [
    "#9 \n",
    "#Столбец is_apartment, вероятнее всего, является не обязательным полем в карточке, по этому много пропусков\n",
    "#Предположим, что пользователи заполняя карточку аппартаментов отмечают это, а остальные просто пропускают.\n",
    "#Заменим пропущенные значения на False, \n",
    "\n",
    "data['is_apartment'] = data['is_apartment'].fillna(False)\n",
    "data['is_apartment'].value_counts()\n"
   ]
  },
  {
   "cell_type": "markdown",
   "id": "6df5a501",
   "metadata": {},
   "source": [
    "### Балконы\n"
   ]
  },
  {
   "cell_type": "markdown",
   "id": "dd8baa34",
   "metadata": {},
   "source": [
    "Предположим, что если продавец не указал колличество балконов, то их нет в квартире. \n",
    "Заполним пустые значения '0'  и изменим тип данных на целое"
   ]
  },
  {
   "cell_type": "code",
   "execution_count": 36,
   "id": "e2631916",
   "metadata": {},
   "outputs": [
    {
     "data": {
      "text/plain": [
       "0    14869\n",
       "1     4126\n",
       "2     3544\n",
       "5      296\n",
       "4      180\n",
       "3       78\n",
       "Name: balcony, dtype: int64"
      ]
     },
     "execution_count": 36,
     "metadata": {},
     "output_type": "execute_result"
    }
   ],
   "source": [
    "data['balcony'] = data['balcony'].fillna(0)\n",
    "data['balcony'] = data['balcony'].astype('int64')\n",
    "\n",
    "#Итого\n",
    "data['balcony'].value_counts()"
   ]
  },
  {
   "cell_type": "markdown",
   "id": "88ca4e6e",
   "metadata": {},
   "source": [
    "### Дни публикации "
   ]
  },
  {
   "cell_type": "code",
   "execution_count": 37,
   "id": "72880a9e",
   "metadata": {},
   "outputs": [
    {
     "data": {
      "text/plain": [
       "0.13169332039326553"
      ]
     },
     "execution_count": 37,
     "metadata": {},
     "output_type": "execute_result"
    }
   ],
   "source": [
    "data['days_exposition'].isna().sum() / 23699 # доля в общей массе"
   ]
  },
  {
   "cell_type": "markdown",
   "id": "7844f832",
   "metadata": {},
   "source": [
    "Доля достаточно весома. Это объявления о непроданных квартирах на момент выгрузки. \n",
    "Нам необходимо перевести days_exposition в int, но пустые строки нам мешают, посмотрим как их можно маркировать."
   ]
  },
  {
   "cell_type": "code",
   "execution_count": 38,
   "id": "fbff877f",
   "metadata": {},
   "outputs": [
    {
     "data": {
      "text/plain": [
       "count    19972.000000\n",
       "mean       181.539856\n",
       "std        220.048824\n",
       "min          1.000000\n",
       "25%         45.000000\n",
       "50%         96.000000\n",
       "75%        232.250000\n",
       "max       1580.000000\n",
       "Name: days_exposition, dtype: float64"
      ]
     },
     "execution_count": 38,
     "metadata": {},
     "output_type": "execute_result"
    }
   ],
   "source": [
    "data['days_exposition'].describe()"
   ]
  },
  {
   "cell_type": "code",
   "execution_count": 39,
   "id": "4b6cee07",
   "metadata": {},
   "outputs": [
    {
     "data": {
      "image/png": "[encoded data removed]",
      "text/plain": [
       "<Figure size 720x144 with 1 Axes>"
      ]
     },
     "metadata": {
      "needs_background": "light"
     },
     "output_type": "display_data"
    }
   ],
   "source": [
    "data.boxplot(column='days_exposition',vert=False,figsize=(10,2))\n",
    "plt.show()"
   ]
  },
  {
   "cell_type": "code",
   "execution_count": 40,
   "id": "888ccecc",
   "metadata": {},
   "outputs": [],
   "source": [
    "#заполним их 9999 как в примере на вебинаре\n",
    "data['days_exposition'] = data['days_exposition'].fillna(9999)\n",
    "data['days_exposition'] = data['days_exposition'].astype('int64')\n"
   ]
  },
  {
   "cell_type": "markdown",
   "id": "2b72530e",
   "metadata": {},
   "source": [
    "### Картографические данные"
   ]
  },
  {
   "cell_type": "markdown",
   "id": "4a8c8809",
   "metadata": {},
   "source": [
    "К картографическим данным относятся расстояния до центра города, аэропорта и ближайшего парка\\водоема.\n",
    "Пропуски не будем трогать. \n",
    "\n"
   ]
  },
  {
   "cell_type": "markdown",
   "id": "d464d0ab",
   "metadata": {},
   "source": [
    "<div class=\"alert alert-success\">\n",
    "<b>✔️ Комментарий ревьюера v1:</b> \n",
    "<br>Отличная работа! Ты корректно обработала пропуски, удалила дубликаты и поработала с аномалиями. Ещё тут можно отбросить квартиры со слишком высокой ценой. Молодец, что смотришь количество данных, которые ты потеряла на этапе предобработки. Оно не должно превышать 10%\n",
    "</div>"
   ]
  },
  {
   "cell_type": "code",
   "execution_count": 41,
   "id": "bdb9ef0a",
   "metadata": {},
   "outputs": [
    {
     "data": {
      "text/plain": [
       "count    2.309300e+04\n",
       "mean     6.486968e+06\n",
       "std      1.031937e+07\n",
       "min      1.219000e+04\n",
       "25%      3.450000e+06\n",
       "50%      4.650000e+06\n",
       "75%      6.800000e+06\n",
       "max      7.630000e+08\n",
       "Name: last_price, dtype: float64"
      ]
     },
     "execution_count": 41,
     "metadata": {},
     "output_type": "execute_result"
    }
   ],
   "source": [
    "data['last_price'].describe()"
   ]
  },
  {
   "cell_type": "code",
   "execution_count": 42,
   "id": "dfeb21c8",
   "metadata": {},
   "outputs": [
    {
     "data": {
      "image/png": "[encoded data removed]",
      "text/plain": [
       "<Figure size 720x144 with 1 Axes>"
      ]
     },
     "metadata": {
      "needs_background": "light"
     },
     "output_type": "display_data"
    }
   ],
   "source": [
    "#действительно по цифрам не очень понятно, построим диаграмму размаха\n",
    "data.boxplot(column='last_price',vert=False,figsize=(10,2))\n",
    "plt.show()"
   ]
  },
  {
   "cell_type": "markdown",
   "id": "f66f1847",
   "metadata": {},
   "source": [
    "Есть выбросы после 70 мл. Оценим, можно ли от них избавится. "
   ]
  },
  {
   "cell_type": "code",
   "execution_count": 43,
   "id": "b51bde02",
   "metadata": {},
   "outputs": [
    {
     "data": {
      "text/html": [
       "<div>\n",
       "<style scoped>\n",
       "    .dataframe tbody tr th:only-of-type {\n",
       "        vertical-align: middle;\n",
       "    }\n",
       "\n",
       "    .dataframe tbody tr th {\n",
       "        vertical-align: top;\n",
       "    }\n",
       "\n",
       "    .dataframe thead th {\n",
       "        text-align: right;\n",
       "    }\n",
       "</style>\n",
       "<table border=\"1\" class=\"dataframe\">\n",
       "  <thead>\n",
       "    <tr style=\"text-align: right;\">\n",
       "      <th></th>\n",
       "      <th>total_images</th>\n",
       "      <th>last_price</th>\n",
       "      <th>total_area</th>\n",
       "      <th>first_day_exposition</th>\n",
       "      <th>rooms</th>\n",
       "      <th>ceiling_height</th>\n",
       "      <th>floors_total</th>\n",
       "      <th>living_area</th>\n",
       "      <th>floor</th>\n",
       "      <th>is_apartment</th>\n",
       "      <th>studio</th>\n",
       "      <th>open_plan</th>\n",
       "      <th>kitchen_area</th>\n",
       "      <th>balcony</th>\n",
       "      <th>locality_name</th>\n",
       "      <th>airports_nearest</th>\n",
       "      <th>cityCenters_nearest</th>\n",
       "      <th>parks_around3000</th>\n",
       "      <th>parks_nearest</th>\n",
       "      <th>ponds_around3000</th>\n",
       "      <th>ponds_nearest</th>\n",
       "      <th>days_exposition</th>\n",
       "    </tr>\n",
       "  </thead>\n",
       "  <tbody>\n",
       "    <tr>\n",
       "      <th>7558</th>\n",
       "      <td>18</td>\n",
       "      <td>72000000</td>\n",
       "      <td>251.0</td>\n",
       "      <td>2016-02-19T00:00:00</td>\n",
       "      <td>3</td>\n",
       "      <td>2.75</td>\n",
       "      <td>4</td>\n",
       "      <td>169.00</td>\n",
       "      <td>3</td>\n",
       "      <td>False</td>\n",
       "      <td>False</td>\n",
       "      <td>False</td>\n",
       "      <td>30.50</td>\n",
       "      <td>0</td>\n",
       "      <td>Санкт-Петербург</td>\n",
       "      <td>24377.0</td>\n",
       "      <td>4471.0</td>\n",
       "      <td>3.0</td>\n",
       "      <td>570.0</td>\n",
       "      <td>0.0</td>\n",
       "      <td>NaN</td>\n",
       "      <td>500</td>\n",
       "    </tr>\n",
       "    <tr>\n",
       "      <th>11336</th>\n",
       "      <td>14</td>\n",
       "      <td>72375000</td>\n",
       "      <td>169.3</td>\n",
       "      <td>2015-06-18T00:00:00</td>\n",
       "      <td>4</td>\n",
       "      <td>3.00</td>\n",
       "      <td>8</td>\n",
       "      <td>95.40</td>\n",
       "      <td>4</td>\n",
       "      <td>False</td>\n",
       "      <td>False</td>\n",
       "      <td>False</td>\n",
       "      <td>22.50</td>\n",
       "      <td>0</td>\n",
       "      <td>Санкт-Петербург</td>\n",
       "      <td>26398.0</td>\n",
       "      <td>6737.0</td>\n",
       "      <td>3.0</td>\n",
       "      <td>251.0</td>\n",
       "      <td>2.0</td>\n",
       "      <td>599.0</td>\n",
       "      <td>571</td>\n",
       "    </tr>\n",
       "    <tr>\n",
       "      <th>14668</th>\n",
       "      <td>6</td>\n",
       "      <td>73884056</td>\n",
       "      <td>250.3</td>\n",
       "      <td>2018-03-25T00:00:00</td>\n",
       "      <td>3</td>\n",
       "      <td>3.08</td>\n",
       "      <td>12</td>\n",
       "      <td>101.54</td>\n",
       "      <td>12</td>\n",
       "      <td>False</td>\n",
       "      <td>False</td>\n",
       "      <td>False</td>\n",
       "      <td>31.73</td>\n",
       "      <td>0</td>\n",
       "      <td>Санкт-Петербург</td>\n",
       "      <td>31744.0</td>\n",
       "      <td>4836.0</td>\n",
       "      <td>0.0</td>\n",
       "      <td>NaN</td>\n",
       "      <td>3.0</td>\n",
       "      <td>153.0</td>\n",
       "      <td>215</td>\n",
       "    </tr>\n",
       "    <tr>\n",
       "      <th>20820</th>\n",
       "      <td>7</td>\n",
       "      <td>73900000</td>\n",
       "      <td>342.0</td>\n",
       "      <td>2015-06-18T00:00:00</td>\n",
       "      <td>5</td>\n",
       "      <td>3.00</td>\n",
       "      <td>4</td>\n",
       "      <td>187.00</td>\n",
       "      <td>2</td>\n",
       "      <td>False</td>\n",
       "      <td>False</td>\n",
       "      <td>False</td>\n",
       "      <td>10.00</td>\n",
       "      <td>0</td>\n",
       "      <td>Санкт-Петербург</td>\n",
       "      <td>25079.0</td>\n",
       "      <td>5544.0</td>\n",
       "      <td>0.0</td>\n",
       "      <td>NaN</td>\n",
       "      <td>1.0</td>\n",
       "      <td>251.0</td>\n",
       "      <td>377</td>\n",
       "    </tr>\n",
       "    <tr>\n",
       "      <th>19267</th>\n",
       "      <td>20</td>\n",
       "      <td>74000000</td>\n",
       "      <td>153.6</td>\n",
       "      <td>2019-04-29T00:00:00</td>\n",
       "      <td>3</td>\n",
       "      <td>3.30</td>\n",
       "      <td>8</td>\n",
       "      <td>56.00</td>\n",
       "      <td>6</td>\n",
       "      <td>False</td>\n",
       "      <td>False</td>\n",
       "      <td>False</td>\n",
       "      <td>50.00</td>\n",
       "      <td>0</td>\n",
       "      <td>Санкт-Петербург</td>\n",
       "      <td>NaN</td>\n",
       "      <td>NaN</td>\n",
       "      <td>NaN</td>\n",
       "      <td>NaN</td>\n",
       "      <td>NaN</td>\n",
       "      <td>NaN</td>\n",
       "      <td>9999</td>\n",
       "    </tr>\n",
       "    <tr>\n",
       "      <th>...</th>\n",
       "      <td>...</td>\n",
       "      <td>...</td>\n",
       "      <td>...</td>\n",
       "      <td>...</td>\n",
       "      <td>...</td>\n",
       "      <td>...</td>\n",
       "      <td>...</td>\n",
       "      <td>...</td>\n",
       "      <td>...</td>\n",
       "      <td>...</td>\n",
       "      <td>...</td>\n",
       "      <td>...</td>\n",
       "      <td>...</td>\n",
       "      <td>...</td>\n",
       "      <td>...</td>\n",
       "      <td>...</td>\n",
       "      <td>...</td>\n",
       "      <td>...</td>\n",
       "      <td>...</td>\n",
       "      <td>...</td>\n",
       "      <td>...</td>\n",
       "      <td>...</td>\n",
       "    </tr>\n",
       "    <tr>\n",
       "      <th>22831</th>\n",
       "      <td>18</td>\n",
       "      <td>289238400</td>\n",
       "      <td>187.5</td>\n",
       "      <td>2019-03-19T00:00:00</td>\n",
       "      <td>2</td>\n",
       "      <td>3.37</td>\n",
       "      <td>6</td>\n",
       "      <td>63.70</td>\n",
       "      <td>6</td>\n",
       "      <td>False</td>\n",
       "      <td>False</td>\n",
       "      <td>False</td>\n",
       "      <td>30.20</td>\n",
       "      <td>0</td>\n",
       "      <td>Санкт-Петербург</td>\n",
       "      <td>22494.0</td>\n",
       "      <td>1073.0</td>\n",
       "      <td>3.0</td>\n",
       "      <td>386.0</td>\n",
       "      <td>3.0</td>\n",
       "      <td>188.0</td>\n",
       "      <td>9999</td>\n",
       "    </tr>\n",
       "    <tr>\n",
       "      <th>15651</th>\n",
       "      <td>20</td>\n",
       "      <td>300000000</td>\n",
       "      <td>618.0</td>\n",
       "      <td>2017-12-18T00:00:00</td>\n",
       "      <td>7</td>\n",
       "      <td>3.40</td>\n",
       "      <td>7</td>\n",
       "      <td>258.00</td>\n",
       "      <td>5</td>\n",
       "      <td>False</td>\n",
       "      <td>False</td>\n",
       "      <td>False</td>\n",
       "      <td>70.00</td>\n",
       "      <td>0</td>\n",
       "      <td>Санкт-Петербург</td>\n",
       "      <td>32440.0</td>\n",
       "      <td>5297.0</td>\n",
       "      <td>0.0</td>\n",
       "      <td>NaN</td>\n",
       "      <td>2.0</td>\n",
       "      <td>198.0</td>\n",
       "      <td>111</td>\n",
       "    </tr>\n",
       "    <tr>\n",
       "      <th>1436</th>\n",
       "      <td>19</td>\n",
       "      <td>330000000</td>\n",
       "      <td>190.0</td>\n",
       "      <td>2018-04-04T00:00:00</td>\n",
       "      <td>3</td>\n",
       "      <td>3.50</td>\n",
       "      <td>7</td>\n",
       "      <td>95.00</td>\n",
       "      <td>5</td>\n",
       "      <td>False</td>\n",
       "      <td>False</td>\n",
       "      <td>False</td>\n",
       "      <td>40.00</td>\n",
       "      <td>0</td>\n",
       "      <td>Санкт-Петербург</td>\n",
       "      <td>23011.0</td>\n",
       "      <td>1197.0</td>\n",
       "      <td>3.0</td>\n",
       "      <td>519.0</td>\n",
       "      <td>3.0</td>\n",
       "      <td>285.0</td>\n",
       "      <td>233</td>\n",
       "    </tr>\n",
       "    <tr>\n",
       "      <th>14706</th>\n",
       "      <td>15</td>\n",
       "      <td>401300000</td>\n",
       "      <td>401.0</td>\n",
       "      <td>2016-02-20T00:00:00</td>\n",
       "      <td>5</td>\n",
       "      <td>2.55</td>\n",
       "      <td>9</td>\n",
       "      <td>204.00</td>\n",
       "      <td>9</td>\n",
       "      <td>False</td>\n",
       "      <td>False</td>\n",
       "      <td>False</td>\n",
       "      <td>24.00</td>\n",
       "      <td>3</td>\n",
       "      <td>Санкт-Петербург</td>\n",
       "      <td>21912.0</td>\n",
       "      <td>2389.0</td>\n",
       "      <td>1.0</td>\n",
       "      <td>545.0</td>\n",
       "      <td>1.0</td>\n",
       "      <td>478.0</td>\n",
       "      <td>393</td>\n",
       "    </tr>\n",
       "    <tr>\n",
       "      <th>12971</th>\n",
       "      <td>19</td>\n",
       "      <td>763000000</td>\n",
       "      <td>400.0</td>\n",
       "      <td>2017-09-30T00:00:00</td>\n",
       "      <td>7</td>\n",
       "      <td>2.60</td>\n",
       "      <td>10</td>\n",
       "      <td>250.00</td>\n",
       "      <td>10</td>\n",
       "      <td>False</td>\n",
       "      <td>False</td>\n",
       "      <td>False</td>\n",
       "      <td>50.00</td>\n",
       "      <td>2</td>\n",
       "      <td>Санкт-Петербург</td>\n",
       "      <td>25108.0</td>\n",
       "      <td>3956.0</td>\n",
       "      <td>1.0</td>\n",
       "      <td>530.0</td>\n",
       "      <td>3.0</td>\n",
       "      <td>756.0</td>\n",
       "      <td>33</td>\n",
       "    </tr>\n",
       "  </tbody>\n",
       "</table>\n",
       "<p>66 rows × 22 columns</p>\n",
       "</div>"
      ],
      "text/plain": [
       "       total_images  last_price  total_area first_day_exposition  rooms  \\\n",
       "7558             18    72000000       251.0  2016-02-19T00:00:00      3   \n",
       "11336            14    72375000       169.3  2015-06-18T00:00:00      4   \n",
       "14668             6    73884056       250.3  2018-03-25T00:00:00      3   \n",
       "20820             7    73900000       342.0  2015-06-18T00:00:00      5   \n",
       "19267            20    74000000       153.6  2019-04-29T00:00:00      3   \n",
       "...             ...         ...         ...                  ...    ...   \n",
       "22831            18   289238400       187.5  2019-03-19T00:00:00      2   \n",
       "15651            20   300000000       618.0  2017-12-18T00:00:00      7   \n",
       "1436             19   330000000       190.0  2018-04-04T00:00:00      3   \n",
       "14706            15   401300000       401.0  2016-02-20T00:00:00      5   \n",
       "12971            19   763000000       400.0  2017-09-30T00:00:00      7   \n",
       "\n",
       "       ceiling_height  floors_total  living_area  floor  is_apartment studio  \\\n",
       "7558             2.75             4       169.00      3         False  False   \n",
       "11336            3.00             8        95.40      4         False  False   \n",
       "14668            3.08            12       101.54     12         False  False   \n",
       "20820            3.00             4       187.00      2         False  False   \n",
       "19267            3.30             8        56.00      6         False  False   \n",
       "...               ...           ...          ...    ...           ...    ...   \n",
       "22831            3.37             6        63.70      6         False  False   \n",
       "15651            3.40             7       258.00      5         False  False   \n",
       "1436             3.50             7        95.00      5         False  False   \n",
       "14706            2.55             9       204.00      9         False  False   \n",
       "12971            2.60            10       250.00     10         False  False   \n",
       "\n",
       "      open_plan  kitchen_area  balcony    locality_name  airports_nearest  \\\n",
       "7558      False         30.50        0  Санкт-Петербург           24377.0   \n",
       "11336     False         22.50        0  Санкт-Петербург           26398.0   \n",
       "14668     False         31.73        0  Санкт-Петербург           31744.0   \n",
       "20820     False         10.00        0  Санкт-Петербург           25079.0   \n",
       "19267     False         50.00        0  Санкт-Петербург               NaN   \n",
       "...         ...           ...      ...              ...               ...   \n",
       "22831     False         30.20        0  Санкт-Петербург           22494.0   \n",
       "15651     False         70.00        0  Санкт-Петербург           32440.0   \n",
       "1436      False         40.00        0  Санкт-Петербург           23011.0   \n",
       "14706     False         24.00        3  Санкт-Петербург           21912.0   \n",
       "12971     False         50.00        2  Санкт-Петербург           25108.0   \n",
       "\n",
       "       cityCenters_nearest  parks_around3000  parks_nearest  ponds_around3000  \\\n",
       "7558                4471.0               3.0          570.0               0.0   \n",
       "11336               6737.0               3.0          251.0               2.0   \n",
       "14668               4836.0               0.0            NaN               3.0   \n",
       "20820               5544.0               0.0            NaN               1.0   \n",
       "19267                  NaN               NaN            NaN               NaN   \n",
       "...                    ...               ...            ...               ...   \n",
       "22831               1073.0               3.0          386.0               3.0   \n",
       "15651               5297.0               0.0            NaN               2.0   \n",
       "1436                1197.0               3.0          519.0               3.0   \n",
       "14706               2389.0               1.0          545.0               1.0   \n",
       "12971               3956.0               1.0          530.0               3.0   \n",
       "\n",
       "       ponds_nearest  days_exposition  \n",
       "7558             NaN              500  \n",
       "11336          599.0              571  \n",
       "14668          153.0              215  \n",
       "20820          251.0              377  \n",
       "19267            NaN             9999  \n",
       "...              ...              ...  \n",
       "22831          188.0             9999  \n",
       "15651          198.0              111  \n",
       "1436           285.0              233  \n",
       "14706          478.0              393  \n",
       "12971          756.0               33  \n",
       "\n",
       "[66 rows x 22 columns]"
      ]
     },
     "execution_count": 43,
     "metadata": {},
     "output_type": "execute_result"
    }
   ],
   "source": [
    "data[data['last_price']>70000000].sort_values(by='last_price') "
   ]
  },
  {
   "cell_type": "markdown",
   "id": "ed282897",
   "metadata": {},
   "source": [
    "Удалим 66 строк. "
   ]
  },
  {
   "cell_type": "code",
   "execution_count": 44,
   "id": "f05b5698",
   "metadata": {},
   "outputs": [
    {
     "name": "stdout",
     "output_type": "stream",
     "text": [
      "<class 'pandas.core.frame.DataFrame'>\n",
      "Int64Index: 23027 entries, 0 to 23698\n",
      "Data columns (total 22 columns):\n",
      " #   Column                Non-Null Count  Dtype  \n",
      "---  ------                --------------  -----  \n",
      " 0   total_images          23027 non-null  int64  \n",
      " 1   last_price            23027 non-null  int64  \n",
      " 2   total_area            23027 non-null  float64\n",
      " 3   first_day_exposition  23027 non-null  object \n",
      " 4   rooms                 23027 non-null  int64  \n",
      " 5   ceiling_height        23027 non-null  float64\n",
      " 6   floors_total          23027 non-null  int64  \n",
      " 7   living_area           23027 non-null  float64\n",
      " 8   floor                 23027 non-null  int64  \n",
      " 9   is_apartment          23027 non-null  bool   \n",
      " 10  studio                23027 non-null  object \n",
      " 11  open_plan             23027 non-null  object \n",
      " 12  kitchen_area          23027 non-null  float64\n",
      " 13  balcony               23027 non-null  int64  \n",
      " 14  locality_name         23027 non-null  object \n",
      " 15  airports_nearest      17683 non-null  float64\n",
      " 16  cityCenters_nearest   17704 non-null  float64\n",
      " 17  parks_around3000      17705 non-null  float64\n",
      " 18  parks_nearest         7859 non-null   float64\n",
      " 19  ponds_around3000      17705 non-null  float64\n",
      " 20  ponds_nearest         8798 non-null   float64\n",
      " 21  days_exposition       23027 non-null  int64  \n",
      "dtypes: bool(1), float64(10), int64(7), object(4)\n",
      "memory usage: 3.9+ MB\n"
     ]
    }
   ],
   "source": [
    "data=data[data['last_price'] < 70000000]\n",
    "data.info()"
   ]
  },
  {
   "cell_type": "markdown",
   "id": "faa627fd",
   "metadata": {},
   "source": [
    "### Проверка итогов. "
   ]
  },
  {
   "cell_type": "markdown",
   "id": "05b00b8d",
   "metadata": {},
   "source": [
    "Нам была дана база с 23699 стороками. Осталось 23093. \n",
    "Посчитаем какой процент строк мы удалили"
   ]
  },
  {
   "cell_type": "code",
   "execution_count": 45,
   "id": "0b0db89c",
   "metadata": {},
   "outputs": [
    {
     "data": {
      "text/plain": [
       "2.8355626819697033"
      ]
     },
     "execution_count": 45,
     "metadata": {},
     "output_type": "execute_result"
    }
   ],
   "source": [
    "((23699 - 23027)/23699) * 100"
   ]
  },
  {
   "cell_type": "markdown",
   "id": "852b33ac",
   "metadata": {},
   "source": [
    "Мы удалили 2,8% базы.  "
   ]
  },
  {
   "cell_type": "markdown",
   "id": "374d5364",
   "metadata": {},
   "source": [
    " "
   ]
  },
  {
   "cell_type": "markdown",
   "id": "0676b611",
   "metadata": {},
   "source": [
    "## Добавление в таблицу новых столбцов"
   ]
  },
  {
   "cell_type": "markdown",
   "id": "3224835e",
   "metadata": {},
   "source": [
    "### Цена одного квадратного метра"
   ]
  },
  {
   "cell_type": "code",
   "execution_count": 46,
   "id": "ed0b1bd1",
   "metadata": {},
   "outputs": [
    {
     "data": {
      "text/plain": [
       "0        120370.370370\n",
       "1         82920.792079\n",
       "2         92785.714286\n",
       "3        408176.100629\n",
       "4        100000.000000\n",
       "             ...      \n",
       "23693     73717.948718\n",
       "23694     72490.845228\n",
       "23695     52542.372881\n",
       "23696     44091.710758\n",
       "23698     41795.665635\n",
       "Name: price_per_meter, Length: 23027, dtype: float64"
      ]
     },
     "execution_count": 46,
     "metadata": {},
     "output_type": "execute_result"
    }
   ],
   "source": [
    "data['price_per_meter'] = data['last_price'] / data['total_area']\n",
    "data['price_per_meter']"
   ]
  },
  {
   "cell_type": "markdown",
   "id": "a9c6f70a",
   "metadata": {},
   "source": [
    "### День недели, месяц, год публикации объявления"
   ]
  },
  {
   "cell_type": "markdown",
   "id": "d23203c3",
   "metadata": {},
   "source": [
    "Сначала изменим тип столбца 'first_day_exposition' на   формат даты (время в исходной таблице не указано)"
   ]
  },
  {
   "cell_type": "code",
   "execution_count": 47,
   "id": "d3ff9335",
   "metadata": {},
   "outputs": [
    {
     "data": {
      "text/plain": [
       "0       2019-03-07\n",
       "1       2018-12-04\n",
       "2       2015-08-20\n",
       "3       2015-07-24\n",
       "4       2018-06-19\n",
       "           ...    \n",
       "23693   2016-08-05\n",
       "23694   2017-03-21\n",
       "23695   2018-01-15\n",
       "23696   2018-02-11\n",
       "23698   2017-07-21\n",
       "Name: first_day_exposition, Length: 23027, dtype: datetime64[ns]"
      ]
     },
     "execution_count": 47,
     "metadata": {},
     "output_type": "execute_result"
    }
   ],
   "source": [
    "data['first_day_exposition']= pd.to_datetime(data['first_day_exposition'], format=\"%Y-%m-%d\")\n",
    "data['first_day_exposition']"
   ]
  },
  {
   "cell_type": "code",
   "execution_count": 48,
   "id": "8cf4fd36",
   "metadata": {},
   "outputs": [],
   "source": [
    "#Комментарий для ревьюера: во время итоговой проверки проекта у меня возникла ситуация, \n",
    "#что при перезапуске проекта эти строки выдавали ошибку AttributeError: Can only use .dt accessor with datetimelike values,\n",
    "#хотя до этого все работало. Мы с настаником ошибку не обнаружили. В итоге я переместила изменение формата\n",
    "#в эту часть проекта из предобработки и ошибка пока больше не вылезала. \n",
    "\n",
    "\n",
    "data['month_exposition'] = data['first_day_exposition'].dt.month\n",
    "data['year_exposition'] = data['first_day_exposition'].dt.year\n",
    "data['weekday_exposition'] = data['first_day_exposition'].dt.weekday\n"
   ]
  },
  {
   "cell_type": "code",
   "execution_count": 49,
   "id": "461468db",
   "metadata": {},
   "outputs": [
    {
     "data": {
      "text/plain": [
       "array(['чт', 'вт', 'пт', 'пн', 'ср', 'вск', 'сб'], dtype=object)"
      ]
     },
     "execution_count": 49,
     "metadata": {},
     "output_type": "execute_result"
    }
   ],
   "source": [
    "#Чтобы пользователя не вводил в заблуждение 0 = понедельнику, заменим цифры на названия\n",
    "\n",
    "data.loc[data['weekday_exposition'] == 0,'weekday_exposition']= 'пн'\n",
    "data.loc[data['weekday_exposition'] == 1,'weekday_exposition']= 'вт'\n",
    "data.loc[data['weekday_exposition'] == 2,'weekday_exposition']= 'ср'\n",
    "data.loc[data['weekday_exposition'] == 3,'weekday_exposition']= 'чт'\n",
    "data.loc[data['weekday_exposition'] == 4,'weekday_exposition']= 'пт'\n",
    "data.loc[data['weekday_exposition'] == 5,'weekday_exposition']= 'сб'\n",
    "data.loc[data['weekday_exposition'] == 6,'weekday_exposition']= 'вск'\n",
    "\n",
    "data['weekday_exposition'].unique()"
   ]
  },
  {
   "cell_type": "markdown",
   "id": "ffc4e8c8",
   "metadata": {},
   "source": [
    "### Расстояние до центра города в километрах"
   ]
  },
  {
   "cell_type": "code",
   "execution_count": 50,
   "id": "c730fdb7",
   "metadata": {},
   "outputs": [
    {
     "data": {
      "text/plain": [
       "0        16.028\n",
       "1        18.603\n",
       "2        13.933\n",
       "3         6.800\n",
       "4         8.098\n",
       "          ...  \n",
       "23693    34.104\n",
       "23694     4.232\n",
       "23695       NaN\n",
       "23696       NaN\n",
       "23698       NaN\n",
       "Name: cityCenters_nearest_km, Length: 23027, dtype: float64"
      ]
     },
     "execution_count": 50,
     "metadata": {},
     "output_type": "execute_result"
    }
   ],
   "source": [
    "data['cityCenters_nearest_km'] = data['cityCenters_nearest']/1000\n",
    "data['cityCenters_nearest_km']"
   ]
  },
  {
   "cell_type": "markdown",
   "id": "214658e4",
   "metadata": {},
   "source": [
    "### Тип этажа квартиры"
   ]
  },
  {
   "cell_type": "markdown",
   "id": "e022ecaa",
   "metadata": {},
   "source": [
    "Присвоим категорию этажа «первый», «последний», «другой» с помощью функции"
   ]
  },
  {
   "cell_type": "code",
   "execution_count": 51,
   "id": "c6702a77",
   "metadata": {},
   "outputs": [],
   "source": [
    "def floor_cat(row):\n",
    "    floors_total = row['floors_total']\n",
    "    floor = row['floor']\n",
    "    if floor == 1:\n",
    "        return 'первый'\n",
    "    elif floor == floors_total:\n",
    "        return 'последний'\n",
    "    elif 1 < floor < floors_total:\n",
    "        return 'другой'\n",
    "   "
   ]
  },
  {
   "cell_type": "code",
   "execution_count": 52,
   "id": "144638ff",
   "metadata": {},
   "outputs": [
    {
     "data": {
      "text/plain": [
       "0        другой\n",
       "1        первый\n",
       "2        другой\n",
       "3        другой\n",
       "4        другой\n",
       "          ...  \n",
       "23693    другой\n",
       "23694    другой\n",
       "23695    другой\n",
       "23696    первый\n",
       "23698    первый\n",
       "Name: floor_cat, Length: 23027, dtype: object"
      ]
     },
     "execution_count": 52,
     "metadata": {},
     "output_type": "execute_result"
    }
   ],
   "source": [
    "data['floor_cat'] = data.apply(floor_cat, axis = 1)\n",
    "data['floor_cat']"
   ]
  },
  {
   "cell_type": "markdown",
   "id": "630c95d3",
   "metadata": {},
   "source": [
    "<div class=\"alert alert-success\">\n",
    "<b>✔️ Комментарий ревьюера v1:</b> \n",
    "<br>Все необходимые колонки добавлены. Идём дальше)\n",
    "</div>"
   ]
  },
  {
   "cell_type": "markdown",
   "id": "5aa5d9e9",
   "metadata": {},
   "source": [
    "## Исследовательский анализ данных"
   ]
  },
  {
   "cell_type": "markdown",
   "id": "e4cdb578",
   "metadata": {},
   "source": [
    "Изучите следующие параметры объектов:\n",
    "общая площадь;\n",
    "жилая площадь;\n",
    "площадь кухни;\n",
    "цена объекта;\n",
    "количество комнат;\n",
    "высота потолков;\n",
    "этаж квартиры;\n",
    "тип этажа квартиры («первый», «последний», «другой»);\n",
    "общее количество этажей в доме;\n",
    "расстояние до центра города в метрах;\n",
    "расстояние до ближайшего аэропорта;\n",
    "расстояние до ближайшего парка;\n",
    "день и месяц публикации объявления.\n",
    "Постройте отдельные гистограммы для каждого из этих параметров. Опишите все ваши наблюдения по параметрам в ячейке с типом markdown."
   ]
  },
  {
   "cell_type": "markdown",
   "id": "331b50d8",
   "metadata": {},
   "source": [
    "### Общая площадь, жилая площадь, площадь кухни"
   ]
  },
  {
   "cell_type": "code",
   "execution_count": 53,
   "id": "8bb18059",
   "metadata": {},
   "outputs": [
    {
     "data": {
      "image/png": "[encoded data removed]",
      "text/plain": [
       "<Figure size 360x216 with 1 Axes>"
      ]
     },
     "metadata": {
      "needs_background": "light"
     },
     "output_type": "display_data"
    }
   ],
   "source": [
    "#Общая площадь\n",
    "data.plot(kind = 'hist', y = 'total_area', bins = 50, grid=True, figsize = (5,3), range = (0,200))\n",
    "plt.xlabel('Площадь квартиры')\n",
    "plt.ylabel('Количество объявлений')\n",
    "plt.show()"
   ]
  },
  {
   "cell_type": "code",
   "execution_count": 54,
   "id": "58bd7d7d",
   "metadata": {},
   "outputs": [
    {
     "data": {
      "text/plain": [
       "count    23027.000000\n",
       "mean        59.624091\n",
       "std         31.102370\n",
       "min         14.000000\n",
       "25%         40.195000\n",
       "50%         52.000000\n",
       "75%         69.500000\n",
       "max        517.000000\n",
       "Name: total_area, dtype: float64"
      ]
     },
     "execution_count": 54,
     "metadata": {},
     "output_type": "execute_result"
    }
   ],
   "source": [
    "data['total_area'].describe()"
   ]
  },
  {
   "cell_type": "code",
   "execution_count": 55,
   "id": "70aeb776",
   "metadata": {},
   "outputs": [
    {
     "data": {
      "image/png": "[encoded data removed]",
      "text/plain": [
       "<Figure size 360x216 with 1 Axes>"
      ]
     },
     "metadata": {
      "needs_background": "light"
     },
     "output_type": "display_data"
    }
   ],
   "source": [
    "# Жилая площадь\n",
    "data.plot(kind = 'hist', y = 'living_area', bins = 50, grid=True, figsize = (5,3), range = (0,200))\n",
    "plt.xlabel('Жилая площадь')\n",
    "plt.ylabel('Количество объявлений')\n",
    "plt.show()\n"
   ]
  },
  {
   "cell_type": "code",
   "execution_count": 56,
   "id": "aa4fa1fa",
   "metadata": {},
   "outputs": [
    {
     "data": {
      "text/plain": [
       "count    23027.000000\n",
       "mean        34.192967\n",
       "std         20.110433\n",
       "min          2.000000\n",
       "25%         18.700000\n",
       "50%         30.000000\n",
       "75%         42.255000\n",
       "max        332.000000\n",
       "Name: living_area, dtype: float64"
      ]
     },
     "execution_count": 56,
     "metadata": {},
     "output_type": "execute_result"
    }
   ],
   "source": [
    "data['living_area'].describe()"
   ]
  },
  {
   "cell_type": "code",
   "execution_count": 57,
   "id": "72a6ede4",
   "metadata": {},
   "outputs": [
    {
     "data": {
      "image/png": "[encoded data removed]",
      "text/plain": [
       "<Figure size 360x216 with 1 Axes>"
      ]
     },
     "metadata": {
      "needs_background": "light"
     },
     "output_type": "display_data"
    }
   ],
   "source": [
    "# Кухня\n",
    "data.plot(kind = 'hist', y = 'kitchen_area', bins = 50, grid=True, figsize = (5,3), range = (0,200))\n",
    "plt.xlabel('Площадь кухни')\n",
    "plt.ylabel('Количество объявлений')\n",
    "plt.show()\n"
   ]
  },
  {
   "cell_type": "code",
   "execution_count": 58,
   "id": "bd48f1bf",
   "metadata": {},
   "outputs": [
    {
     "data": {
      "text/plain": [
       "count    23027.000000\n",
       "mean        10.373173\n",
       "std          5.423867\n",
       "min          1.300000\n",
       "25%          7.000000\n",
       "50%          9.000000\n",
       "75%         11.800000\n",
       "max        100.700000\n",
       "Name: kitchen_area, dtype: float64"
      ]
     },
     "execution_count": 58,
     "metadata": {},
     "output_type": "execute_result"
    }
   ],
   "source": [
    "data['kitchen_area'].describe()"
   ]
  },
  {
   "cell_type": "markdown",
   "id": "c44d9d0d",
   "metadata": {},
   "source": [
    "Вывод:\n",
    "По графику мы видим, что есть несколько выбросов - это связано с типовыми однушками, двушками и тд. \n",
    "Медианы приходится на: \n",
    "- площадь 52 метра, \n",
    "- жилая площадь 30,\n",
    "- кухня 9 метров. \n",
    "\n",
    "что соответсвует среднестатистической двухкомнатной квартире. "
   ]
  },
  {
   "cell_type": "markdown",
   "id": "9c58fb17",
   "metadata": {},
   "source": [
    "### Количество комнат"
   ]
  },
  {
   "cell_type": "code",
   "execution_count": 59,
   "id": "139e789a",
   "metadata": {},
   "outputs": [
    {
     "data": {
      "image/png": "[encoded data removed]",
      "text/plain": [
       "<Figure size 360x216 with 1 Axes>"
      ]
     },
     "metadata": {
      "needs_background": "light"
     },
     "output_type": "display_data"
    }
   ],
   "source": [
    "#data.plot(y = 'rooms', kind = 'hist', bins = 20, grid=True, range = (0,10), figsize = (5,3))\n",
    "#в этом случаее столбчатая диаграмма будет более наглядной \n",
    "data['rooms'].value_counts().plot( kind='bar', figsize = (5,3) )\n",
    "plt.xlabel('Колличество комнат')\n",
    "plt.ylabel('Количество объявлений')\n",
    "plt.show()\n",
    "\n"
   ]
  },
  {
   "cell_type": "code",
   "execution_count": 60,
   "id": "6ba13b44",
   "metadata": {},
   "outputs": [
    {
     "data": {
      "text/plain": [
       "count    23027.000000\n",
       "mean         2.073913\n",
       "std          1.033618\n",
       "min          0.000000\n",
       "25%          1.000000\n",
       "50%          2.000000\n",
       "75%          3.000000\n",
       "max         11.000000\n",
       "Name: rooms, dtype: float64"
      ]
     },
     "execution_count": 60,
     "metadata": {},
     "output_type": "execute_result"
    }
   ],
   "source": [
    "data['rooms'].describe()"
   ]
  },
  {
   "cell_type": "markdown",
   "id": "c22efc99",
   "metadata": {},
   "source": [
    "**Вывод:**\n",
    "По граффику видно, что однушки больше всего продается на рынке недвижимости в СПБ, им чуть уступают двушки. "
   ]
  },
  {
   "cell_type": "markdown",
   "id": "9281610d",
   "metadata": {},
   "source": [
    "### Цена объекта"
   ]
  },
  {
   "cell_type": "code",
   "execution_count": 61,
   "id": "5154d131",
   "metadata": {},
   "outputs": [
    {
     "data": {
      "image/png": "[encoded data removed]",
      "text/plain": [
       "<Figure size 720x360 with 1 Axes>"
      ]
     },
     "metadata": {
      "needs_background": "light"
     },
     "output_type": "display_data"
    }
   ],
   "source": [
    "data['last_price']=data['last_price']/1000000\n",
    "#data.plot(y = 'last_price', kind = 'hist', bins = 50, grid=True, range = (0,20000000), figsize = (10,5))\n",
    "data.plot(y = 'last_price', kind = 'hist', bins = 50, grid=True, figsize = (10,5), range = (0,10))\n",
    "plt.xlabel('Стоимость квартиры')\n",
    "plt.ylabel('Количество объявлений')\n",
    "plt.show()\n",
    "\n",
    "\n"
   ]
  },
  {
   "cell_type": "code",
   "execution_count": 62,
   "id": "73cdcfc0",
   "metadata": {},
   "outputs": [
    {
     "data": {
      "text/plain": [
       "count    23027.000000\n",
       "mean         6.123307\n",
       "std          5.553184\n",
       "min          0.012190\n",
       "25%          3.450000\n",
       "50%          4.650000\n",
       "75%          6.750000\n",
       "max         68.500000\n",
       "Name: last_price, dtype: float64"
      ]
     },
     "execution_count": 62,
     "metadata": {},
     "output_type": "execute_result"
    }
   ],
   "source": [
    "data['last_price'].describe()"
   ]
  },
  {
   "cell_type": "markdown",
   "id": "fa33db76",
   "metadata": {},
   "source": [
    "<div class=\"alert alert-warning\">\n",
    "<b>⚠️ Комментарий ревьюера v1:</b> \n",
    "<br>Тут можно разделить все значения в столбце last_price на 1 млн, чтобы они пришли в более понятный вид)\n",
    "</div>"
   ]
  },
  {
   "cell_type": "markdown",
   "id": "4abee331",
   "metadata": {},
   "source": [
    "\n",
    "\n",
    "\n",
    "<div class=\"alert alert-info\">\n",
    "<b>Комментарий студента:</b>\n",
    "<br><b>Вывод:</b> Квартильный размах р в ценовом диапазоне от 3 до 6 миллионов рублей. Больше всего на рынке представленно квартир стоимостьтю 3 - 5 мл\n",
    "</div>"
   ]
  },
  {
   "cell_type": "markdown",
   "id": "b81e5c2e",
   "metadata": {},
   "source": [
    "### Высота потолков"
   ]
  },
  {
   "cell_type": "code",
   "execution_count": 63,
   "id": "a40bb36b",
   "metadata": {
    "scrolled": true
   },
   "outputs": [
    {
     "data": {
      "image/png": "[encoded data removed]",
      "text/plain": [
       "<Figure size 360x216 with 1 Axes>"
      ]
     },
     "metadata": {
      "needs_background": "light"
     },
     "output_type": "display_data"
    }
   ],
   "source": [
    "data.plot(y = 'ceiling_height', kind = 'hist', bins = 30, range = (2,6), grid=True, figsize = (5,3))\n",
    "plt.xlabel('Высота потолков')\n",
    "plt.ylabel('Количество объявлений')\n",
    "plt.show()\n",
    "\n"
   ]
  },
  {
   "cell_type": "code",
   "execution_count": 64,
   "id": "20b72aca",
   "metadata": {},
   "outputs": [
    {
     "data": {
      "text/plain": [
       "count    23027.000000\n",
       "mean         2.707922\n",
       "std          0.267521\n",
       "min          2.000000\n",
       "25%          2.550000\n",
       "50%          2.650000\n",
       "75%          2.750000\n",
       "max         14.850000\n",
       "Name: ceiling_height, dtype: float64"
      ]
     },
     "execution_count": 64,
     "metadata": {},
     "output_type": "execute_result"
    }
   ],
   "source": [
    "data['ceiling_height'].describe()"
   ]
  },
  {
   "cell_type": "markdown",
   "id": "70167b6b",
   "metadata": {},
   "source": [
    "**Вывод**\n",
    "Среднее значение по СПБ - 2,7 м. Самые распространенная высота потолков - 2,5 и 2,7"
   ]
  },
  {
   "cell_type": "markdown",
   "id": "16861d38",
   "metadata": {},
   "source": [
    "### Этажи"
   ]
  },
  {
   "cell_type": "code",
   "execution_count": 65,
   "id": "5484682e",
   "metadata": {
    "scrolled": true
   },
   "outputs": [
    {
     "data": {
      "image/png": "[encoded data removed]",
      "text/plain": [
       "<Figure size 360x216 with 1 Axes>"
      ]
     },
     "metadata": {
      "needs_background": "light"
     },
     "output_type": "display_data"
    }
   ],
   "source": [
    "data.plot(y = 'floor', kind = 'hist', bins = 50, range = (1,25), grid=True, figsize = (5,3))\n",
    "plt.xlabel('Этаж')\n",
    "plt.ylabel('Количество объявлений')\n",
    "plt.show()"
   ]
  },
  {
   "cell_type": "code",
   "execution_count": 66,
   "id": "090c4401",
   "metadata": {},
   "outputs": [
    {
     "data": {
      "text/plain": [
       "count    23027.000000\n",
       "mean         5.854345\n",
       "std          4.850987\n",
       "min          1.000000\n",
       "25%          2.000000\n",
       "50%          4.000000\n",
       "75%          8.000000\n",
       "max         33.000000\n",
       "Name: floor, dtype: float64"
      ]
     },
     "execution_count": 66,
     "metadata": {},
     "output_type": "execute_result"
    }
   ],
   "source": [
    "data['floor'].describe()"
   ]
  },
  {
   "cell_type": "code",
   "execution_count": 67,
   "id": "7290974d",
   "metadata": {
    "scrolled": true
   },
   "outputs": [
    {
     "data": {
      "image/png": "[encoded data removed]",
      "text/plain": [
       "<Figure size 360x216 with 1 Axes>"
      ]
     },
     "metadata": {
      "needs_background": "light"
     },
     "output_type": "display_data"
    }
   ],
   "source": [
    "#в этом случаее столбчатая диаграмма будет более наглядной \n",
    "data['floor_cat'].value_counts().plot( kind='bar', figsize = (5,3) )\n",
    "plt.xlabel('Тип этажа')\n",
    "plt.ylabel('Количество объявлений')\n",
    "plt.show()\n",
    "\n"
   ]
  },
  {
   "cell_type": "code",
   "execution_count": 68,
   "id": "0b5d3be2",
   "metadata": {},
   "outputs": [
    {
     "data": {
      "text/plain": [
       "count      23027\n",
       "unique         3\n",
       "top       другой\n",
       "freq       16942\n",
       "Name: floor_cat, dtype: object"
      ]
     },
     "execution_count": 68,
     "metadata": {},
     "output_type": "execute_result"
    }
   ],
   "source": [
    "data['floor_cat'].describe()"
   ]
  },
  {
   "cell_type": "code",
   "execution_count": 69,
   "id": "1f399ddc",
   "metadata": {},
   "outputs": [
    {
     "data": {
      "image/png": "[encoded data removed]",
      "text/plain": [
       "<Figure size 360x216 with 1 Axes>"
      ]
     },
     "metadata": {
      "needs_background": "light"
     },
     "output_type": "display_data"
    }
   ],
   "source": [
    "data.plot(y = 'floors_total', kind = 'hist', bins = 50, range = (1,25), grid=True, figsize = (5,3))\n",
    "plt.xlabel('Колличетво этажей в доме')\n",
    "plt.ylabel('Количество объявлений')\n",
    "plt.show()\n",
    "\n"
   ]
  },
  {
   "cell_type": "code",
   "execution_count": 70,
   "id": "115d45cc",
   "metadata": {},
   "outputs": [
    {
     "data": {
      "text/plain": [
       "count    23027.000000\n",
       "mean        10.627003\n",
       "std          6.560032\n",
       "min          1.000000\n",
       "25%          5.000000\n",
       "50%          9.000000\n",
       "75%         16.000000\n",
       "max         60.000000\n",
       "Name: floors_total, dtype: float64"
      ]
     },
     "execution_count": 70,
     "metadata": {},
     "output_type": "execute_result"
    }
   ],
   "source": [
    "data['floors_total'].describe()"
   ]
  },
  {
   "cell_type": "markdown",
   "id": "a70812e9",
   "metadata": {},
   "source": [
    "**Вывод**: \n",
    "1. Мы видим несколько больших скачков - 5, 9, 12, 16, 25. Это наиболее распространенная этажность домов. 5 и 9 сюдя по колличеству - это скорее старый фонд. \n",
    "2. Больше всего квартир на рынке в пятиэтажных домах. \n",
    "3. Среднее значение 4 этаж.\n",
    "4. Квартир на первом и последнем этажах, естественно меньше, чем остальных"
   ]
  },
  {
   "cell_type": "markdown",
   "id": "3a4220a7",
   "metadata": {},
   "source": [
    "### Инфраструктура"
   ]
  },
  {
   "cell_type": "markdown",
   "id": "d3df2deb",
   "metadata": {},
   "source": [
    "**Расстояние до центра**\n"
   ]
  },
  {
   "cell_type": "code",
   "execution_count": 71,
   "id": "03e31951",
   "metadata": {},
   "outputs": [
    {
     "data": {
      "image/png": "[encoded data removed]",
      "text/plain": [
       "<Figure size 720x360 with 1 Axes>"
      ]
     },
     "metadata": {
      "needs_background": "light"
     },
     "output_type": "display_data"
    },
    {
     "data": {
      "text/plain": [
       "count    17704.000000\n",
       "mean     14248.444419\n",
       "std       8626.252723\n",
       "min        181.000000\n",
       "25%       9327.500000\n",
       "50%      13138.000000\n",
       "75%      16293.000000\n",
       "max      65968.000000\n",
       "Name: cityCenters_nearest, dtype: float64"
      ]
     },
     "execution_count": 71,
     "metadata": {},
     "output_type": "execute_result"
    }
   ],
   "source": [
    "data.plot(y = 'cityCenters_nearest', kind = 'hist', bins = 100, range = (0,70000), grid=True, figsize = (10,5))\n",
    "plt.xlabel('Расстояние до центра')\n",
    "plt.ylabel('Количество объявлений')\n",
    "plt.show()\n",
    "\n",
    "data['cityCenters_nearest'].describe()"
   ]
  },
  {
   "cell_type": "markdown",
   "id": "f71704e7",
   "metadata": {},
   "source": [
    "**Вывод:** Медиана и стреднее 13-14 км. - это спальные районы на окраинах Питера. \n",
    "Остальные пики, это вероятнее всего крупные населенные пункты в ЛО, такие как Пушкин. "
   ]
  },
  {
   "cell_type": "markdown",
   "id": "577da18b",
   "metadata": {},
   "source": [
    "**Расстояние до ближайшего аэропорта**"
   ]
  },
  {
   "cell_type": "code",
   "execution_count": 72,
   "id": "263d3266",
   "metadata": {},
   "outputs": [
    {
     "data": {
      "image/png": "[encoded data removed]",
      "text/plain": [
       "<Figure size 720x360 with 1 Axes>"
      ]
     },
     "metadata": {
      "needs_background": "light"
     },
     "output_type": "display_data"
    },
    {
     "data": {
      "text/plain": [
       "count    17683.000000\n",
       "mean     28819.940169\n",
       "std      12660.602245\n",
       "min          0.000000\n",
       "25%      18539.000000\n",
       "50%      26785.000000\n",
       "75%      37310.000000\n",
       "max      84869.000000\n",
       "Name: airports_nearest, dtype: float64"
      ]
     },
     "execution_count": 72,
     "metadata": {},
     "output_type": "execute_result"
    }
   ],
   "source": [
    "data.plot(y = 'airports_nearest', kind = 'hist', bins = 100, range = (0,80000), grid=True, figsize = (10,5))\n",
    "plt.xlabel('Сколько дней было размещено объявление')\n",
    "plt.ylabel('Количество объявлений')\n",
    "plt.show()\n",
    "\n",
    "data['airports_nearest'].describe()"
   ]
  },
  {
   "cell_type": "markdown",
   "id": "dac4c8ae",
   "metadata": {},
   "source": [
    "**Вывод:** Аналогично предыдущему графику - пики, это населенные пункты. \n",
    "Основная застройка начинается от 10 км после аэропорта. Медиана и среднее это расстояние до севера СПБ. "
   ]
  },
  {
   "cell_type": "code",
   "execution_count": 73,
   "id": "a41c1f9c",
   "metadata": {},
   "outputs": [
    {
     "data": {
      "text/plain": [
       "count    7859.000000\n",
       "mean      490.205370\n",
       "std       340.156009\n",
       "min         1.000000\n",
       "25%       288.000000\n",
       "50%       455.000000\n",
       "75%       612.000000\n",
       "max      3190.000000\n",
       "Name: parks_nearest, dtype: float64"
      ]
     },
     "execution_count": 73,
     "metadata": {},
     "output_type": "execute_result"
    }
   ],
   "source": [
    "data['parks_nearest'].describe()"
   ]
  },
  {
   "cell_type": "markdown",
   "id": "02c887f9",
   "metadata": {},
   "source": [
    "**Вывод:** большая часть выставленных квартир находится в пределах 1 км от парка. "
   ]
  },
  {
   "cell_type": "markdown",
   "id": "77798523",
   "metadata": {},
   "source": [
    "### День и месяц публикации объявления"
   ]
  },
  {
   "cell_type": "code",
   "execution_count": 74,
   "id": "2141aedb",
   "metadata": {},
   "outputs": [
    {
     "data": {
      "image/png": "[encoded data removed]",
      "text/plain": [
       "<Figure size 360x216 with 1 Axes>"
      ]
     },
     "metadata": {
      "needs_background": "light"
     },
     "output_type": "display_data"
    }
   ],
   "source": [
    "data['weekday_exposition'].value_counts().plot( kind='bar', figsize = (5,3) )\n",
    "plt.xlabel('День недели')\n",
    "plt.ylabel('Количество объявлений')\n",
    "plt.show()"
   ]
  },
  {
   "cell_type": "code",
   "execution_count": 75,
   "id": "6a81a517",
   "metadata": {},
   "outputs": [
    {
     "data": {
      "image/png": "[encoded data removed]",
      "text/plain": [
       "<Figure size 360x216 with 1 Axes>"
      ]
     },
     "metadata": {
      "needs_background": "light"
     },
     "output_type": "display_data"
    }
   ],
   "source": [
    "data.plot(y = 'month_exposition', kind = 'hist', bins = 12,  grid=True, figsize = (5,3))\n",
    "plt.xlabel('Месяц')\n",
    "plt.ylabel('Количество объявлений')\n",
    "plt.show()"
   ]
  },
  {
   "cell_type": "markdown",
   "id": "9f361088",
   "metadata": {},
   "source": [
    "**Вывод:**\n",
    "- В выходные публикуется меньше объявлений, сотрудники агентсв, которые занимаются размещением объявлений в эти дни отдыхают. \n",
    "- Люди чаще продавали квартиры с февраля по апрель и с сентября по ноябрь. Летние отпуска и зимние праздники, скорее всего дают о себе знать. "
   ]
  },
  {
   "cell_type": "markdown",
   "id": "27dddfbe",
   "metadata": {},
   "source": [
    "<div class=\"alert alert-success\">\n",
    "<b>✔️ Комментарий ревьюера v1:</b> \n",
    "<br>Ты корректно подбираешь основные диапазоны, а также верно читаешь графики! \n",
    "</div>\n",
    "\n",
    "<div class=\"alert alert-warning\">\n",
    "<b>⚠️ Комментарий ревьюера v1:</b> \n",
    "<br>Для того чтобы подписать график мы можем использовать метод plt.title() и в конце кода применить plt.show(). По ссылкам ниже можно почитать подробнее как добавить название для графика или подписать его оси\n",
    "    \n",
    "    https://pyprog.pro/mpl/mpl_title.html\n",
    "    https://pyprog.pro/mpl/mpl_axis_signatures.html \n",
    "</div>"
   ]
  },
  {
   "cell_type": "markdown",
   "id": "2627aa73",
   "metadata": {},
   "source": [
    "<div class=\"alert alert-info\">\n",
    "<b>Комментарий студента:</b>\n",
    "<br>done.\n",
    "</div>"
   ]
  },
  {
   "cell_type": "markdown",
   "id": "54c783f8",
   "metadata": {},
   "source": [
    "### Скорость продажи квартир"
   ]
  },
  {
   "cell_type": "code",
   "execution_count": 76,
   "id": "d66a41a6",
   "metadata": {},
   "outputs": [
    {
     "data": {
      "text/plain": [
       "count    23027.000000\n",
       "mean      1506.267903\n",
       "std       3360.995112\n",
       "min          1.000000\n",
       "25%         45.000000\n",
       "50%        125.000000\n",
       "75%        392.000000\n",
       "max       9999.000000\n",
       "Name: days_exposition, dtype: float64"
      ]
     },
     "execution_count": 76,
     "metadata": {},
     "output_type": "execute_result"
    }
   ],
   "source": [
    "data['days_exposition'].describe()"
   ]
  },
  {
   "cell_type": "code",
   "execution_count": 77,
   "id": "8befcf96",
   "metadata": {},
   "outputs": [
    {
     "data": {
      "image/png": "[encoded data removed]",
      "text/plain": [
       "<Figure size 360x216 with 1 Axes>"
      ]
     },
     "metadata": {
      "needs_background": "light"
     },
     "output_type": "display_data"
    }
   ],
   "source": [
    "# не забываем про заполненные пропуски, по этому range = (0,1600)\n",
    "data.plot(y = 'days_exposition', kind = 'hist', bins = 10, grid=True, figsize = (5,3), range = (0,1600))\n",
    "plt.xlabel('days_exposition')\n",
    "plt.ylabel('Колличество объявлений')\n",
    "plt.show()"
   ]
  },
  {
   "cell_type": "markdown",
   "id": "56654372",
   "metadata": {},
   "source": [
    "**Вывод:** \n",
    "- Четверть квартир продается менее, чем за 1,5 месяца. \n",
    "- Половина квартир уходит за 3 месяца. \n",
    "- Есть и весомая часть квартир, которые продаются долго. Учитывая особенности недвижимости СПБ (коммуналки, старый фонд, новостройки без инфраструктуры) такое возможно. "
   ]
  },
  {
   "cell_type": "markdown",
   "id": "aeffbc70",
   "metadata": {},
   "source": [
    "<div class=\"alert alert-success\">\n",
    "<b>✔️ Комментарий ревьюера v1:</b> \n",
    "<br>Согласен! Если интересно, то можно посмотреть на диапазон от 0 до 100 дней. Там есть пики, которым можно найти очень логичное объяснение</div>\n",
    "</div>"
   ]
  },
  {
   "cell_type": "markdown",
   "id": "b6350760",
   "metadata": {},
   "source": [
    "Пришлось переделать весь пункт 2.7 и перевести days_exposition в int, заполнив пропуски 9999 и внести изменения в графики с помощью range = (0,1600)"
   ]
  },
  {
   "cell_type": "code",
   "execution_count": 78,
   "id": "d271a209",
   "metadata": {},
   "outputs": [
    {
     "data": {
      "image/png": "[encoded data removed]",
      "text/plain": [
       "<Figure size 360x216 with 1 Axes>"
      ]
     },
     "metadata": {
      "needs_background": "light"
     },
     "output_type": "display_data"
    }
   ],
   "source": [
    "hundred_days = data.query('days_exposition < 100')\n",
    "hundred_days\n",
    "hundred_days.plot(y = 'days_exposition', kind = 'hist', bins = 10, grid=True, figsize = (5,3))\n",
    "plt.xlabel('days_exposition')\n",
    "plt.ylabel('Колличество объявлений')\n",
    "plt.show()"
   ]
  },
  {
   "cell_type": "markdown",
   "id": "b21fbf16",
   "metadata": {},
   "source": [
    "<div class=\"alert alert-info\">\n",
    "<b>Комментарий студента:</b>\n",
    "<br>Пики 30 и 60 дней, но я , если честно, не очень понимаю откуда. Можно предположить, что это объявления от агенств и у них платное размещение. И в конце месяца они чистят базу. \n",
    "</div>"
   ]
  },
  {
   "cell_type": "markdown",
   "id": "d2a4adaf",
   "metadata": {},
   "source": [
    "<div class=\"alert alert-success\">\n",
    "<b>✔️ Комментарий ревьюера v2:</b> \n",
    "<br>Это особенность функционирования системы размещения объявлений) Убедиться в этом можно по ссылке ниже\n",
    "\n",
    "\thttps://yandex.ru/support/realty/owner/home/add-ads-housing.html\n",
    "</div>"
   ]
  },
  {
   "cell_type": "markdown",
   "id": "3c334d2c",
   "metadata": {},
   "source": [
    "## Факторы влияющие на стоимость объекта"
   ]
  },
  {
   "cell_type": "markdown",
   "id": "ba81cd6f",
   "metadata": {},
   "source": [
    "### Общая площадь"
   ]
  },
  {
   "cell_type": "code",
   "execution_count": 79,
   "id": "cb248a2d",
   "metadata": {},
   "outputs": [
    {
     "data": {
      "image/png": "[encoded data removed]",
      "text/plain": [
       "<Figure size 720x360 with 1 Axes>"
      ]
     },
     "metadata": {
      "needs_background": "light"
     },
     "output_type": "display_data"
    }
   ],
   "source": [
    "data.pivot_table(index='total_area',values='last_price',aggfunc='mean').plot(style='o', figsize=(10, 5), grid=True)\n",
    "plt.xlabel('Площадь квартиры')\n",
    "plt.ylabel('Стоимость квартиры')\n",
    "plt.show()"
   ]
  },
  {
   "cell_type": "code",
   "execution_count": 80,
   "id": "d0618338",
   "metadata": {},
   "outputs": [
    {
     "name": "stdout",
     "output_type": "stream",
     "text": [
      "0.7723004077415664\n"
     ]
    }
   ],
   "source": [
    "# расчет корреляции\n",
    "print(data['last_price'].corr(data['total_area']))"
   ]
  },
  {
   "cell_type": "markdown",
   "id": "1e1f7ed7",
   "metadata": {},
   "source": [
    "Взаимосвязь цены и площади хорошо прослеживается для квартир площадью до 200 м2. Далее предложения очень разные.  "
   ]
  },
  {
   "cell_type": "markdown",
   "id": "57a839bd",
   "metadata": {},
   "source": [
    "**Жилая площадь и площадь кухни**"
   ]
  },
  {
   "cell_type": "code",
   "execution_count": 81,
   "id": "350714e4",
   "metadata": {},
   "outputs": [
    {
     "data": {
      "image/png": "[encoded data removed]",
      "text/plain": [
       "<Figure size 720x360 with 1 Axes>"
      ]
     },
     "metadata": {
      "needs_background": "light"
     },
     "output_type": "display_data"
    }
   ],
   "source": [
    "data.pivot_table(index='living_area',values='last_price',aggfunc='mean').plot( style='o', figsize=(10, 5), grid=True)\n",
    "plt.xlabel('Жилая площадь')\n",
    "plt.ylabel('Стоимость квартиры')\n",
    "plt.show()"
   ]
  },
  {
   "cell_type": "code",
   "execution_count": 82,
   "id": "0d3a328c",
   "metadata": {},
   "outputs": [
    {
     "name": "stdout",
     "output_type": "stream",
     "text": [
      "0.68377674198773\n"
     ]
    }
   ],
   "source": [
    "# расчет корреляции\n",
    "print(data['last_price'].corr(data['living_area']))"
   ]
  },
  {
   "cell_type": "code",
   "execution_count": 83,
   "id": "46d8bb3d",
   "metadata": {},
   "outputs": [
    {
     "data": {
      "image/png": "[encoded data removed]",
      "text/plain": [
       "<Figure size 720x360 with 1 Axes>"
      ]
     },
     "metadata": {
      "needs_background": "light"
     },
     "output_type": "display_data"
    }
   ],
   "source": [
    "data.pivot_table(index='kitchen_area',values='last_price',aggfunc='mean').plot( style='o', figsize=(10, 5), grid=True)\n",
    "plt.xlabel('Площадь кухни')\n",
    "plt.ylabel('Стоимость квартиры')\n",
    "plt.show()"
   ]
  },
  {
   "cell_type": "code",
   "execution_count": 84,
   "id": "9d7c0d4e",
   "metadata": {},
   "outputs": [
    {
     "name": "stdout",
     "output_type": "stream",
     "text": [
      "0.5908719448935625\n"
     ]
    }
   ],
   "source": [
    "# расчет корреляции\n",
    "print(data['last_price'].corr(data['kitchen_area']))"
   ]
  },
  {
   "cell_type": "markdown",
   "id": "967482db",
   "metadata": {},
   "source": [
    "Зависимость цены от того сколько метров приходится на жилую и кухонную зоны есть, но она не сильная. "
   ]
  },
  {
   "cell_type": "markdown",
   "id": "0c925676",
   "metadata": {},
   "source": [
    "### Колличество комнат "
   ]
  },
  {
   "cell_type": "code",
   "execution_count": 85,
   "id": "77de02f8",
   "metadata": {},
   "outputs": [
    {
     "data": {
      "image/png": "[encoded data removed]",
      "text/plain": [
       "<Figure size 720x360 with 1 Axes>"
      ]
     },
     "metadata": {
      "needs_background": "light"
     },
     "output_type": "display_data"
    }
   ],
   "source": [
    "data.pivot_table(index='rooms',values='last_price',aggfunc='mean').plot( style='o', figsize=(10, 5), grid=True)\n",
    "plt.xlabel('Колличество комнат')\n",
    "plt.ylabel('Стоимость квартиры')\n",
    "plt.show()\n"
   ]
  },
  {
   "cell_type": "code",
   "execution_count": 86,
   "id": "b55cc5f1",
   "metadata": {},
   "outputs": [
    {
     "name": "stdout",
     "output_type": "stream",
     "text": [
      "0.49136963337073164\n"
     ]
    }
   ],
   "source": [
    "# расчет корреляции\n",
    "print(data['last_price'].corr(data['rooms']))"
   ]
  },
  {
   "cell_type": "markdown",
   "id": "5fc86b7e",
   "metadata": {},
   "source": [
    "Цена квартиры, опрелделенно зависит от колличества комнат - больше комнат, больше метров, "
   ]
  },
  {
   "cell_type": "markdown",
   "id": "a1a5042b",
   "metadata": {},
   "source": [
    "<div class=\"alert alert-danger\">\n",
    "<b>❌ Комментарий ревьюера v1:</b> \n",
    "<br>Давай ещё добавим расчет корреляции для общей цены, общей площади, жилой площади, площади кухни и количества комнат используя .corr()\n",
    "</div>"
   ]
  },
  {
   "cell_type": "markdown",
   "id": "b9c1a16f",
   "metadata": {},
   "source": [
    "<div class=\"alert alert-info\">\n",
    "<b>Комментарий студента:</b>\n",
    "<br>добавила для каждого блока отдельно\n",
    "</div>"
   ]
  },
  {
   "cell_type": "markdown",
   "id": "70eeb5e7",
   "metadata": {},
   "source": [
    "<div class=\"alert alert-success\">\n",
    "<b>✔️ Комментарий ревьюера v2:</b>\n",
    "<br>Правка выполнена 👍\n",
    "</div>"
   ]
  },
  {
   "cell_type": "markdown",
   "id": "813dbb50",
   "metadata": {},
   "source": [
    "### Этажи"
   ]
  },
  {
   "cell_type": "code",
   "execution_count": 87,
   "id": "2127aa5c",
   "metadata": {},
   "outputs": [
    {
     "data": {
      "image/png": "[encoded data removed]",
      "text/plain": [
       "<Figure size 288x288 with 1 Axes>"
      ]
     },
     "metadata": {
      "needs_background": "light"
     },
     "output_type": "display_data"
    }
   ],
   "source": [
    "#как и ранее используем столбчатую диаграмму\n",
    "data.pivot_table(index='floor_cat',values='last_price',aggfunc='mean').plot( kind='bar', figsize=(4, 4), grid=True)\n",
    "plt.xlabel('Этаж')\n",
    "plt.ylabel('Стоимость квартиры')\n",
    "plt.show()"
   ]
  },
  {
   "cell_type": "markdown",
   "id": "df3d1afe",
   "metadata": {},
   "source": [
    "Квартиры на первом этаже дешевле. А на последнем немного дороже - никто не топает и вид радует. "
   ]
  },
  {
   "cell_type": "markdown",
   "id": "11299ccb",
   "metadata": {},
   "source": [
    "### Дата размещения "
   ]
  },
  {
   "cell_type": "code",
   "execution_count": 88,
   "id": "36e991ea",
   "metadata": {},
   "outputs": [
    {
     "data": {
      "image/png": "[encoded data removed]",
      "text/plain": [
       "<Figure size 504x288 with 1 Axes>"
      ]
     },
     "metadata": {
      "needs_background": "light"
     },
     "output_type": "display_data"
    }
   ],
   "source": [
    "#день недели\n",
    "data.pivot_table(index='weekday_exposition',values='last_price',aggfunc='mean').plot( kind='bar', figsize=(7, 4), grid=True)\n",
    "plt.xlabel('День недели')\n",
    "plt.ylabel('Стоимость квартиры')\n",
    "plt.show()"
   ]
  },
  {
   "cell_type": "markdown",
   "id": "3cc581f1",
   "metadata": {},
   "source": []
  },
  {
   "cell_type": "code",
   "execution_count": 89,
   "id": "0466b316",
   "metadata": {},
   "outputs": [
    {
     "data": {
      "image/png": "[encoded data removed]",
      "text/plain": [
       "<Figure size 432x288 with 1 Axes>"
      ]
     },
     "metadata": {
      "needs_background": "light"
     },
     "output_type": "display_data"
    }
   ],
   "source": [
    "#месяц\n",
    "data.pivot_table(index='month_exposition',values='last_price',aggfunc='mean').plot( kind='bar', figsize=(6, 4), grid=True)\n",
    "plt.xlabel('Месяц')\n",
    "plt.ylabel('Стоимость квартиры')\n",
    "plt.show()"
   ]
  },
  {
   "cell_type": "markdown",
   "id": "addb0791",
   "metadata": {},
   "source": [
    "В апреле, сентябре и декабре цены чуть выше. "
   ]
  },
  {
   "cell_type": "code",
   "execution_count": 90,
   "id": "11553706",
   "metadata": {},
   "outputs": [
    {
     "data": {
      "image/png": "[encoded data removed]",
      "text/plain": [
       "<Figure size 432x288 with 1 Axes>"
      ]
     },
     "metadata": {
      "needs_background": "light"
     },
     "output_type": "display_data"
    }
   ],
   "source": [
    "#год\n",
    "data.pivot_table(index='year_exposition',values='last_price',aggfunc='mean').plot( kind='bar', figsize=(6, 4), grid=True)\n",
    "plt.xlabel('Год')\n",
    "plt.ylabel('Стоимость квартиры')\n",
    "plt.show()"
   ]
  },
  {
   "cell_type": "markdown",
   "id": "11970dca",
   "metadata": {},
   "source": [
    "Кажется, что в 2014 году квартиры были дороже. Попробуем проверить. Добавим в сводную таблицу колличество объявлений за год. \n"
   ]
  },
  {
   "cell_type": "code",
   "execution_count": 91,
   "id": "d1c992f9",
   "metadata": {},
   "outputs": [
    {
     "data": {
      "text/html": [
       "<div>\n",
       "<style scoped>\n",
       "    .dataframe tbody tr th:only-of-type {\n",
       "        vertical-align: middle;\n",
       "    }\n",
       "\n",
       "    .dataframe tbody tr th {\n",
       "        vertical-align: top;\n",
       "    }\n",
       "\n",
       "    .dataframe thead tr th {\n",
       "        text-align: left;\n",
       "    }\n",
       "\n",
       "    .dataframe thead tr:last-of-type th {\n",
       "        text-align: right;\n",
       "    }\n",
       "</style>\n",
       "<table border=\"1\" class=\"dataframe\">\n",
       "  <thead>\n",
       "    <tr>\n",
       "      <th></th>\n",
       "      <th>mean</th>\n",
       "      <th>count</th>\n",
       "    </tr>\n",
       "    <tr>\n",
       "      <th></th>\n",
       "      <th>last_price</th>\n",
       "      <th>last_price</th>\n",
       "    </tr>\n",
       "    <tr>\n",
       "      <th>year_exposition</th>\n",
       "      <th></th>\n",
       "      <th></th>\n",
       "    </tr>\n",
       "  </thead>\n",
       "  <tbody>\n",
       "    <tr>\n",
       "      <th>2014</th>\n",
       "      <td>11.604467</td>\n",
       "      <td>134</td>\n",
       "    </tr>\n",
       "    <tr>\n",
       "      <th>2015</th>\n",
       "      <td>7.444071</td>\n",
       "      <td>1139</td>\n",
       "    </tr>\n",
       "    <tr>\n",
       "      <th>2016</th>\n",
       "      <td>6.286464</td>\n",
       "      <td>2706</td>\n",
       "    </tr>\n",
       "    <tr>\n",
       "      <th>2017</th>\n",
       "      <td>6.052700</td>\n",
       "      <td>7988</td>\n",
       "    </tr>\n",
       "    <tr>\n",
       "      <th>2018</th>\n",
       "      <td>5.780294</td>\n",
       "      <td>8256</td>\n",
       "    </tr>\n",
       "    <tr>\n",
       "      <th>2019</th>\n",
       "      <td>6.378514</td>\n",
       "      <td>2804</td>\n",
       "    </tr>\n",
       "  </tbody>\n",
       "</table>\n",
       "</div>"
      ],
      "text/plain": [
       "                      mean      count\n",
       "                last_price last_price\n",
       "year_exposition                      \n",
       "2014             11.604467        134\n",
       "2015              7.444071       1139\n",
       "2016              6.286464       2706\n",
       "2017              6.052700       7988\n",
       "2018              5.780294       8256\n",
       "2019              6.378514       2804"
      ]
     },
     "execution_count": 91,
     "metadata": {},
     "output_type": "execute_result"
    }
   ],
   "source": [
    "data.pivot_table(index='year_exposition',values='last_price',aggfunc=['mean','count'])"
   ]
  },
  {
   "cell_type": "markdown",
   "id": "382c2039",
   "metadata": {},
   "source": [
    "В 2014 году в сервисе было размещено всего 135 объявлений, мы не можем однозначно сказать, что все квартиры в том году были дороже, возможно в выборку просто попали с ценой выше среднего. "
   ]
  },
  {
   "cell_type": "markdown",
   "id": "3ceb804a",
   "metadata": {},
   "source": [
    "<div class=\"alert alert-success\">\n",
    "<b>✔️ Комментарий ревьюера v1:</b>\n",
    "<br>Зависимость цены изучена верно! Ещё тут можно использовать для визуализации pairplot из библиотеки seaborn \n",
    "    \n",
    "    https://seaborn.pydata.org/generated/seaborn.pairplot.html\n",
    "</div>"
   ]
  },
  {
   "cell_type": "code",
   "execution_count": null,
   "id": "7bc14945",
   "metadata": {},
   "outputs": [],
   "source": []
  },
  {
   "cell_type": "markdown",
   "id": "e6e93e09",
   "metadata": {},
   "source": [
    "## Задания"
   ]
  },
  {
   "cell_type": "markdown",
   "id": "6cddd4d8",
   "metadata": {},
   "source": [
    "### Посчитайте среднюю цену одного квадратного метра в 10 населённых пунктах с наибольшим числом объявлений \n"
   ]
  },
  {
   "cell_type": "code",
   "execution_count": 92,
   "id": "55a027d1",
   "metadata": {},
   "outputs": [
    {
     "data": {
      "text/html": [
       "<div>\n",
       "<style scoped>\n",
       "    .dataframe tbody tr th:only-of-type {\n",
       "        vertical-align: middle;\n",
       "    }\n",
       "\n",
       "    .dataframe tbody tr th {\n",
       "        vertical-align: top;\n",
       "    }\n",
       "\n",
       "    .dataframe thead th {\n",
       "        text-align: right;\n",
       "    }\n",
       "</style>\n",
       "<table border=\"1\" class=\"dataframe\">\n",
       "  <thead>\n",
       "    <tr style=\"text-align: right;\">\n",
       "      <th></th>\n",
       "      <th>locality_name</th>\n",
       "      <th>total</th>\n",
       "      <th>price_per_meter</th>\n",
       "    </tr>\n",
       "  </thead>\n",
       "  <tbody>\n",
       "    <tr>\n",
       "      <th>222</th>\n",
       "      <td>Санкт-Петербург</td>\n",
       "      <td>15307</td>\n",
       "      <td>112791.679391</td>\n",
       "    </tr>\n",
       "    <tr>\n",
       "      <th>202</th>\n",
       "      <td>Пушкин</td>\n",
       "      <td>363</td>\n",
       "      <td>102904.793163</td>\n",
       "    </tr>\n",
       "    <tr>\n",
       "      <th>106</th>\n",
       "      <td>Кудрово</td>\n",
       "      <td>442</td>\n",
       "      <td>95047.563469</td>\n",
       "    </tr>\n",
       "    <tr>\n",
       "      <th>171</th>\n",
       "      <td>Парголово</td>\n",
       "      <td>324</td>\n",
       "      <td>90461.200175</td>\n",
       "    </tr>\n",
       "    <tr>\n",
       "      <th>147</th>\n",
       "      <td>Мурино</td>\n",
       "      <td>534</td>\n",
       "      <td>85505.375356</td>\n",
       "    </tr>\n",
       "    <tr>\n",
       "      <th>295</th>\n",
       "      <td>Шушары</td>\n",
       "      <td>435</td>\n",
       "      <td>78277.935520</td>\n",
       "    </tr>\n",
       "    <tr>\n",
       "      <th>90</th>\n",
       "      <td>Колпино</td>\n",
       "      <td>336</td>\n",
       "      <td>75427.753616</td>\n",
       "    </tr>\n",
       "    <tr>\n",
       "      <th>36</th>\n",
       "      <td>Всеволожск</td>\n",
       "      <td>389</td>\n",
       "      <td>68789.499649</td>\n",
       "    </tr>\n",
       "    <tr>\n",
       "      <th>44</th>\n",
       "      <td>Гатчина</td>\n",
       "      <td>307</td>\n",
       "      <td>68746.146763</td>\n",
       "    </tr>\n",
       "    <tr>\n",
       "      <th>37</th>\n",
       "      <td>Выборг</td>\n",
       "      <td>235</td>\n",
       "      <td>58238.143141</td>\n",
       "    </tr>\n",
       "  </tbody>\n",
       "</table>\n",
       "</div>"
      ],
      "text/plain": [
       "       locality_name  total  price_per_meter\n",
       "222  Санкт-Петербург  15307    112791.679391\n",
       "202           Пушкин    363    102904.793163\n",
       "106          Кудрово    442     95047.563469\n",
       "171        Парголово    324     90461.200175\n",
       "147           Мурино    534     85505.375356\n",
       "295           Шушары    435     78277.935520\n",
       "90           Колпино    336     75427.753616\n",
       "36        Всеволожск    389     68789.499649\n",
       "44           Гатчина    307     68746.146763\n",
       "37            Выборг    235     58238.143141"
      ]
     },
     "execution_count": 92,
     "metadata": {},
     "output_type": "execute_result"
    }
   ],
   "source": [
    "#создадим сводную таблицу, в ней найдем колличество объявлений и среднюю стоимость для населенного пункта\n",
    "find_top_10 = data.pivot_table(index='locality_name', values='price_per_meter', aggfunc=['count','mean']).reset_index()\n",
    "\n",
    "find_top_10.columns=['locality_name', 'total', 'price_per_meter'] # 'total' - Всего объявлений\n",
    "\n",
    "top_10 = find_top_10.sort_values(by = 'total', ascending = False).head(10) #сделаем выборку топ-10 по колличеству объявлений\n",
    "\n",
    "top_10.sort_values(by = 'price_per_meter', ascending = False) # отсортируем ее по цене за метр"
   ]
  },
  {
   "cell_type": "code",
   "execution_count": 93,
   "id": "9b22c5b9",
   "metadata": {},
   "outputs": [
    {
     "data": {
      "text/plain": [
       "<AxesSubplot:xlabel='locality_name'>"
      ]
     },
     "execution_count": 93,
     "metadata": {},
     "output_type": "execute_result"
    },
    {
     "data": {
      "image/png": "[encoded data removed]",
      "text/plain": [
       "<Figure size 720x432 with 1 Axes>"
      ]
     },
     "metadata": {
      "needs_background": "light"
     },
     "output_type": "display_data"
    }
   ],
   "source": [
    "top_10.plot(x='locality_name', y='price_per_meter', kind='bar', grid=True, figsize=(10, 6))"
   ]
  },
  {
   "cell_type": "markdown",
   "id": "30d39f70",
   "metadata": {},
   "source": [
    "Самая высокая стоимость квадратного метра - Санкт-Петербург (114557.657978 руб.) \n",
    "Самая низкая стоимость квадратного метра - Выборг(58238.143141 руб)"
   ]
  },
  {
   "cell_type": "markdown",
   "id": "b35b76c9",
   "metadata": {},
   "source": [
    "<div class=\"alert alert-success\">\n",
    "<b>✔️ Комментарий ревьюера v1:</b> \n",
    "<br>Всё верно! Как вариант, тут можно построить барплот для топ10, так будет более наглядно)\n",
    "</div>"
   ]
  },
  {
   "cell_type": "markdown",
   "id": "3368fa0a",
   "metadata": {},
   "source": [
    "<div class=\"alert alert-info\">\n",
    "<b>Комментарий студента:</b>\n",
    "<br>добавила)\n",
    "</div>"
   ]
  },
  {
   "cell_type": "markdown",
   "id": "4928b40a",
   "metadata": {},
   "source": [
    "### Выделите квартиры в Санкт-Петербурге с помощью столбца locality_name и вычислите среднюю цену каждого километра. \n",
    "Опишите, как стоимость объектов зависит от расстояния до центра города."
   ]
  },
  {
   "cell_type": "code",
   "execution_count": 94,
   "id": "ae6d608b",
   "metadata": {},
   "outputs": [
    {
     "data": {
      "text/html": [
       "<div>\n",
       "<style scoped>\n",
       "    .dataframe tbody tr th:only-of-type {\n",
       "        vertical-align: middle;\n",
       "    }\n",
       "\n",
       "    .dataframe tbody tr th {\n",
       "        vertical-align: top;\n",
       "    }\n",
       "\n",
       "    .dataframe thead th {\n",
       "        text-align: right;\n",
       "    }\n",
       "</style>\n",
       "<table border=\"1\" class=\"dataframe\">\n",
       "  <thead>\n",
       "    <tr style=\"text-align: right;\">\n",
       "      <th></th>\n",
       "      <th>total_images</th>\n",
       "      <th>last_price</th>\n",
       "      <th>total_area</th>\n",
       "      <th>first_day_exposition</th>\n",
       "      <th>rooms</th>\n",
       "      <th>ceiling_height</th>\n",
       "      <th>floors_total</th>\n",
       "      <th>living_area</th>\n",
       "      <th>floor</th>\n",
       "      <th>is_apartment</th>\n",
       "      <th>studio</th>\n",
       "      <th>open_plan</th>\n",
       "      <th>kitchen_area</th>\n",
       "      <th>balcony</th>\n",
       "      <th>locality_name</th>\n",
       "      <th>airports_nearest</th>\n",
       "      <th>cityCenters_nearest</th>\n",
       "      <th>parks_around3000</th>\n",
       "      <th>parks_nearest</th>\n",
       "      <th>ponds_around3000</th>\n",
       "      <th>ponds_nearest</th>\n",
       "      <th>days_exposition</th>\n",
       "      <th>price_per_meter</th>\n",
       "      <th>month_exposition</th>\n",
       "      <th>year_exposition</th>\n",
       "      <th>weekday_exposition</th>\n",
       "      <th>cityCenters_nearest_km</th>\n",
       "      <th>floor_cat</th>\n",
       "    </tr>\n",
       "  </thead>\n",
       "  <tbody>\n",
       "    <tr>\n",
       "      <th>0</th>\n",
       "      <td>20</td>\n",
       "      <td>13.000</td>\n",
       "      <td>108.00</td>\n",
       "      <td>2019-03-07</td>\n",
       "      <td>3</td>\n",
       "      <td>2.70</td>\n",
       "      <td>16</td>\n",
       "      <td>51.0</td>\n",
       "      <td>8</td>\n",
       "      <td>False</td>\n",
       "      <td>False</td>\n",
       "      <td>False</td>\n",
       "      <td>25.00</td>\n",
       "      <td>0</td>\n",
       "      <td>Санкт-Петербург</td>\n",
       "      <td>18863.0</td>\n",
       "      <td>16028.0</td>\n",
       "      <td>1.0</td>\n",
       "      <td>482.0</td>\n",
       "      <td>2.0</td>\n",
       "      <td>755.0</td>\n",
       "      <td>9999</td>\n",
       "      <td>120370.370370</td>\n",
       "      <td>3</td>\n",
       "      <td>2019</td>\n",
       "      <td>чт</td>\n",
       "      <td>16.028</td>\n",
       "      <td>другой</td>\n",
       "    </tr>\n",
       "    <tr>\n",
       "      <th>2</th>\n",
       "      <td>10</td>\n",
       "      <td>5.196</td>\n",
       "      <td>56.00</td>\n",
       "      <td>2015-08-20</td>\n",
       "      <td>2</td>\n",
       "      <td>2.55</td>\n",
       "      <td>5</td>\n",
       "      <td>34.3</td>\n",
       "      <td>4</td>\n",
       "      <td>False</td>\n",
       "      <td>False</td>\n",
       "      <td>False</td>\n",
       "      <td>8.30</td>\n",
       "      <td>0</td>\n",
       "      <td>Санкт-Петербург</td>\n",
       "      <td>21741.0</td>\n",
       "      <td>13933.0</td>\n",
       "      <td>1.0</td>\n",
       "      <td>90.0</td>\n",
       "      <td>2.0</td>\n",
       "      <td>574.0</td>\n",
       "      <td>558</td>\n",
       "      <td>92785.714286</td>\n",
       "      <td>8</td>\n",
       "      <td>2015</td>\n",
       "      <td>чт</td>\n",
       "      <td>13.933</td>\n",
       "      <td>другой</td>\n",
       "    </tr>\n",
       "    <tr>\n",
       "      <th>3</th>\n",
       "      <td>0</td>\n",
       "      <td>64.900</td>\n",
       "      <td>159.00</td>\n",
       "      <td>2015-07-24</td>\n",
       "      <td>3</td>\n",
       "      <td>2.60</td>\n",
       "      <td>14</td>\n",
       "      <td>95.0</td>\n",
       "      <td>9</td>\n",
       "      <td>False</td>\n",
       "      <td>False</td>\n",
       "      <td>False</td>\n",
       "      <td>15.00</td>\n",
       "      <td>0</td>\n",
       "      <td>Санкт-Петербург</td>\n",
       "      <td>28098.0</td>\n",
       "      <td>6800.0</td>\n",
       "      <td>2.0</td>\n",
       "      <td>84.0</td>\n",
       "      <td>3.0</td>\n",
       "      <td>234.0</td>\n",
       "      <td>424</td>\n",
       "      <td>408176.100629</td>\n",
       "      <td>7</td>\n",
       "      <td>2015</td>\n",
       "      <td>пт</td>\n",
       "      <td>6.800</td>\n",
       "      <td>другой</td>\n",
       "    </tr>\n",
       "    <tr>\n",
       "      <th>4</th>\n",
       "      <td>2</td>\n",
       "      <td>10.000</td>\n",
       "      <td>100.00</td>\n",
       "      <td>2018-06-19</td>\n",
       "      <td>2</td>\n",
       "      <td>3.03</td>\n",
       "      <td>14</td>\n",
       "      <td>32.0</td>\n",
       "      <td>13</td>\n",
       "      <td>False</td>\n",
       "      <td>False</td>\n",
       "      <td>False</td>\n",
       "      <td>41.00</td>\n",
       "      <td>0</td>\n",
       "      <td>Санкт-Петербург</td>\n",
       "      <td>31856.0</td>\n",
       "      <td>8098.0</td>\n",
       "      <td>2.0</td>\n",
       "      <td>112.0</td>\n",
       "      <td>1.0</td>\n",
       "      <td>48.0</td>\n",
       "      <td>121</td>\n",
       "      <td>100000.000000</td>\n",
       "      <td>6</td>\n",
       "      <td>2018</td>\n",
       "      <td>вт</td>\n",
       "      <td>8.098</td>\n",
       "      <td>другой</td>\n",
       "    </tr>\n",
       "    <tr>\n",
       "      <th>7</th>\n",
       "      <td>5</td>\n",
       "      <td>7.915</td>\n",
       "      <td>71.60</td>\n",
       "      <td>2019-04-18</td>\n",
       "      <td>2</td>\n",
       "      <td>2.75</td>\n",
       "      <td>24</td>\n",
       "      <td>44.3</td>\n",
       "      <td>22</td>\n",
       "      <td>False</td>\n",
       "      <td>False</td>\n",
       "      <td>False</td>\n",
       "      <td>18.90</td>\n",
       "      <td>2</td>\n",
       "      <td>Санкт-Петербург</td>\n",
       "      <td>23982.0</td>\n",
       "      <td>11634.0</td>\n",
       "      <td>0.0</td>\n",
       "      <td>NaN</td>\n",
       "      <td>0.0</td>\n",
       "      <td>NaN</td>\n",
       "      <td>9999</td>\n",
       "      <td>110544.692737</td>\n",
       "      <td>4</td>\n",
       "      <td>2019</td>\n",
       "      <td>чт</td>\n",
       "      <td>11.634</td>\n",
       "      <td>другой</td>\n",
       "    </tr>\n",
       "    <tr>\n",
       "      <th>...</th>\n",
       "      <td>...</td>\n",
       "      <td>...</td>\n",
       "      <td>...</td>\n",
       "      <td>...</td>\n",
       "      <td>...</td>\n",
       "      <td>...</td>\n",
       "      <td>...</td>\n",
       "      <td>...</td>\n",
       "      <td>...</td>\n",
       "      <td>...</td>\n",
       "      <td>...</td>\n",
       "      <td>...</td>\n",
       "      <td>...</td>\n",
       "      <td>...</td>\n",
       "      <td>...</td>\n",
       "      <td>...</td>\n",
       "      <td>...</td>\n",
       "      <td>...</td>\n",
       "      <td>...</td>\n",
       "      <td>...</td>\n",
       "      <td>...</td>\n",
       "      <td>...</td>\n",
       "      <td>...</td>\n",
       "      <td>...</td>\n",
       "      <td>...</td>\n",
       "      <td>...</td>\n",
       "      <td>...</td>\n",
       "      <td>...</td>\n",
       "    </tr>\n",
       "    <tr>\n",
       "      <th>23688</th>\n",
       "      <td>19</td>\n",
       "      <td>9.200</td>\n",
       "      <td>101.00</td>\n",
       "      <td>2019-04-01</td>\n",
       "      <td>3</td>\n",
       "      <td>3.05</td>\n",
       "      <td>15</td>\n",
       "      <td>63.0</td>\n",
       "      <td>12</td>\n",
       "      <td>False</td>\n",
       "      <td>False</td>\n",
       "      <td>False</td>\n",
       "      <td>15.00</td>\n",
       "      <td>0</td>\n",
       "      <td>Санкт-Петербург</td>\n",
       "      <td>15632.0</td>\n",
       "      <td>14428.0</td>\n",
       "      <td>0.0</td>\n",
       "      <td>NaN</td>\n",
       "      <td>0.0</td>\n",
       "      <td>NaN</td>\n",
       "      <td>23</td>\n",
       "      <td>91089.108911</td>\n",
       "      <td>4</td>\n",
       "      <td>2019</td>\n",
       "      <td>пн</td>\n",
       "      <td>14.428</td>\n",
       "      <td>другой</td>\n",
       "    </tr>\n",
       "    <tr>\n",
       "      <th>23689</th>\n",
       "      <td>13</td>\n",
       "      <td>3.550</td>\n",
       "      <td>35.30</td>\n",
       "      <td>2018-02-28</td>\n",
       "      <td>1</td>\n",
       "      <td>2.86</td>\n",
       "      <td>15</td>\n",
       "      <td>16.3</td>\n",
       "      <td>4</td>\n",
       "      <td>False</td>\n",
       "      <td>False</td>\n",
       "      <td>False</td>\n",
       "      <td>9.10</td>\n",
       "      <td>2</td>\n",
       "      <td>Санкт-Петербург</td>\n",
       "      <td>17284.0</td>\n",
       "      <td>16081.0</td>\n",
       "      <td>1.0</td>\n",
       "      <td>353.0</td>\n",
       "      <td>2.0</td>\n",
       "      <td>652.0</td>\n",
       "      <td>29</td>\n",
       "      <td>100566.572238</td>\n",
       "      <td>2</td>\n",
       "      <td>2018</td>\n",
       "      <td>ср</td>\n",
       "      <td>16.081</td>\n",
       "      <td>другой</td>\n",
       "    </tr>\n",
       "    <tr>\n",
       "      <th>23690</th>\n",
       "      <td>3</td>\n",
       "      <td>5.500</td>\n",
       "      <td>52.00</td>\n",
       "      <td>2018-07-19</td>\n",
       "      <td>2</td>\n",
       "      <td>2.55</td>\n",
       "      <td>5</td>\n",
       "      <td>31.0</td>\n",
       "      <td>2</td>\n",
       "      <td>False</td>\n",
       "      <td>False</td>\n",
       "      <td>False</td>\n",
       "      <td>6.00</td>\n",
       "      <td>0</td>\n",
       "      <td>Санкт-Петербург</td>\n",
       "      <td>20151.0</td>\n",
       "      <td>6263.0</td>\n",
       "      <td>1.0</td>\n",
       "      <td>300.0</td>\n",
       "      <td>0.0</td>\n",
       "      <td>NaN</td>\n",
       "      <td>15</td>\n",
       "      <td>105769.230769</td>\n",
       "      <td>7</td>\n",
       "      <td>2018</td>\n",
       "      <td>чт</td>\n",
       "      <td>6.263</td>\n",
       "      <td>другой</td>\n",
       "    </tr>\n",
       "    <tr>\n",
       "      <th>23691</th>\n",
       "      <td>11</td>\n",
       "      <td>9.470</td>\n",
       "      <td>72.90</td>\n",
       "      <td>2016-10-13</td>\n",
       "      <td>2</td>\n",
       "      <td>2.75</td>\n",
       "      <td>25</td>\n",
       "      <td>40.3</td>\n",
       "      <td>7</td>\n",
       "      <td>False</td>\n",
       "      <td>False</td>\n",
       "      <td>False</td>\n",
       "      <td>10.60</td>\n",
       "      <td>1</td>\n",
       "      <td>Санкт-Петербург</td>\n",
       "      <td>19424.0</td>\n",
       "      <td>4489.0</td>\n",
       "      <td>0.0</td>\n",
       "      <td>NaN</td>\n",
       "      <td>1.0</td>\n",
       "      <td>806.0</td>\n",
       "      <td>519</td>\n",
       "      <td>129903.978052</td>\n",
       "      <td>10</td>\n",
       "      <td>2016</td>\n",
       "      <td>чт</td>\n",
       "      <td>4.489</td>\n",
       "      <td>другой</td>\n",
       "    </tr>\n",
       "    <tr>\n",
       "      <th>23694</th>\n",
       "      <td>9</td>\n",
       "      <td>9.700</td>\n",
       "      <td>133.81</td>\n",
       "      <td>2017-03-21</td>\n",
       "      <td>3</td>\n",
       "      <td>3.70</td>\n",
       "      <td>5</td>\n",
       "      <td>73.3</td>\n",
       "      <td>3</td>\n",
       "      <td>False</td>\n",
       "      <td>False</td>\n",
       "      <td>False</td>\n",
       "      <td>13.83</td>\n",
       "      <td>0</td>\n",
       "      <td>Санкт-Петербург</td>\n",
       "      <td>24665.0</td>\n",
       "      <td>4232.0</td>\n",
       "      <td>1.0</td>\n",
       "      <td>796.0</td>\n",
       "      <td>3.0</td>\n",
       "      <td>381.0</td>\n",
       "      <td>9999</td>\n",
       "      <td>72490.845228</td>\n",
       "      <td>3</td>\n",
       "      <td>2017</td>\n",
       "      <td>вт</td>\n",
       "      <td>4.232</td>\n",
       "      <td>другой</td>\n",
       "    </tr>\n",
       "  </tbody>\n",
       "</table>\n",
       "<p>15307 rows × 28 columns</p>\n",
       "</div>"
      ],
      "text/plain": [
       "       total_images  last_price  total_area first_day_exposition  rooms  \\\n",
       "0                20      13.000      108.00           2019-03-07      3   \n",
       "2                10       5.196       56.00           2015-08-20      2   \n",
       "3                 0      64.900      159.00           2015-07-24      3   \n",
       "4                 2      10.000      100.00           2018-06-19      2   \n",
       "7                 5       7.915       71.60           2019-04-18      2   \n",
       "...             ...         ...         ...                  ...    ...   \n",
       "23688            19       9.200      101.00           2019-04-01      3   \n",
       "23689            13       3.550       35.30           2018-02-28      1   \n",
       "23690             3       5.500       52.00           2018-07-19      2   \n",
       "23691            11       9.470       72.90           2016-10-13      2   \n",
       "23694             9       9.700      133.81           2017-03-21      3   \n",
       "\n",
       "       ceiling_height  floors_total  living_area  floor  is_apartment studio  \\\n",
       "0                2.70            16         51.0      8         False  False   \n",
       "2                2.55             5         34.3      4         False  False   \n",
       "3                2.60            14         95.0      9         False  False   \n",
       "4                3.03            14         32.0     13         False  False   \n",
       "7                2.75            24         44.3     22         False  False   \n",
       "...               ...           ...          ...    ...           ...    ...   \n",
       "23688            3.05            15         63.0     12         False  False   \n",
       "23689            2.86            15         16.3      4         False  False   \n",
       "23690            2.55             5         31.0      2         False  False   \n",
       "23691            2.75            25         40.3      7         False  False   \n",
       "23694            3.70             5         73.3      3         False  False   \n",
       "\n",
       "      open_plan  kitchen_area  balcony    locality_name  airports_nearest  \\\n",
       "0         False         25.00        0  Санкт-Петербург           18863.0   \n",
       "2         False          8.30        0  Санкт-Петербург           21741.0   \n",
       "3         False         15.00        0  Санкт-Петербург           28098.0   \n",
       "4         False         41.00        0  Санкт-Петербург           31856.0   \n",
       "7         False         18.90        2  Санкт-Петербург           23982.0   \n",
       "...         ...           ...      ...              ...               ...   \n",
       "23688     False         15.00        0  Санкт-Петербург           15632.0   \n",
       "23689     False          9.10        2  Санкт-Петербург           17284.0   \n",
       "23690     False          6.00        0  Санкт-Петербург           20151.0   \n",
       "23691     False         10.60        1  Санкт-Петербург           19424.0   \n",
       "23694     False         13.83        0  Санкт-Петербург           24665.0   \n",
       "\n",
       "       cityCenters_nearest  parks_around3000  parks_nearest  ponds_around3000  \\\n",
       "0                  16028.0               1.0          482.0               2.0   \n",
       "2                  13933.0               1.0           90.0               2.0   \n",
       "3                   6800.0               2.0           84.0               3.0   \n",
       "4                   8098.0               2.0          112.0               1.0   \n",
       "7                  11634.0               0.0            NaN               0.0   \n",
       "...                    ...               ...            ...               ...   \n",
       "23688              14428.0               0.0            NaN               0.0   \n",
       "23689              16081.0               1.0          353.0               2.0   \n",
       "23690               6263.0               1.0          300.0               0.0   \n",
       "23691               4489.0               0.0            NaN               1.0   \n",
       "23694               4232.0               1.0          796.0               3.0   \n",
       "\n",
       "       ponds_nearest  days_exposition  price_per_meter  month_exposition  \\\n",
       "0              755.0             9999    120370.370370                 3   \n",
       "2              574.0              558     92785.714286                 8   \n",
       "3              234.0              424    408176.100629                 7   \n",
       "4               48.0              121    100000.000000                 6   \n",
       "7                NaN             9999    110544.692737                 4   \n",
       "...              ...              ...              ...               ...   \n",
       "23688            NaN               23     91089.108911                 4   \n",
       "23689          652.0               29    100566.572238                 2   \n",
       "23690            NaN               15    105769.230769                 7   \n",
       "23691          806.0              519    129903.978052                10   \n",
       "23694          381.0             9999     72490.845228                 3   \n",
       "\n",
       "       year_exposition weekday_exposition  cityCenters_nearest_km floor_cat  \n",
       "0                 2019                 чт                  16.028    другой  \n",
       "2                 2015                 чт                  13.933    другой  \n",
       "3                 2015                 пт                   6.800    другой  \n",
       "4                 2018                 вт                   8.098    другой  \n",
       "7                 2019                 чт                  11.634    другой  \n",
       "...                ...                ...                     ...       ...  \n",
       "23688             2019                 пн                  14.428    другой  \n",
       "23689             2018                 ср                  16.081    другой  \n",
       "23690             2018                 чт                   6.263    другой  \n",
       "23691             2016                 чт                   4.489    другой  \n",
       "23694             2017                 вт                   4.232    другой  \n",
       "\n",
       "[15307 rows x 28 columns]"
      ]
     },
     "execution_count": 94,
     "metadata": {},
     "output_type": "execute_result"
    }
   ],
   "source": [
    "#отфильтруем таблицу по значанию locality_name = Санкт-Петербург\n",
    "\n",
    "spb_realty = data.query('locality_name == \"Санкт-Петербург\"')\n",
    "spb_realty"
   ]
  },
  {
   "cell_type": "code",
   "execution_count": 95,
   "id": "4de74726",
   "metadata": {},
   "outputs": [
    {
     "data": {
      "text/html": [
       "<div>\n",
       "<style scoped>\n",
       "    .dataframe tbody tr th:only-of-type {\n",
       "        vertical-align: middle;\n",
       "    }\n",
       "\n",
       "    .dataframe tbody tr th {\n",
       "        vertical-align: top;\n",
       "    }\n",
       "\n",
       "    .dataframe thead th {\n",
       "        text-align: right;\n",
       "    }\n",
       "</style>\n",
       "<table border=\"1\" class=\"dataframe\">\n",
       "  <thead>\n",
       "    <tr style=\"text-align: right;\">\n",
       "      <th></th>\n",
       "      <th>cityCenters_nearest_km</th>\n",
       "      <th>price_per_meter</th>\n",
       "    </tr>\n",
       "  </thead>\n",
       "  <tbody>\n",
       "    <tr>\n",
       "      <th>0</th>\n",
       "      <td>0.181</td>\n",
       "      <td>195591.194969</td>\n",
       "    </tr>\n",
       "    <tr>\n",
       "      <th>1</th>\n",
       "      <td>0.208</td>\n",
       "      <td>172619.047619</td>\n",
       "    </tr>\n",
       "    <tr>\n",
       "      <th>2</th>\n",
       "      <td>0.215</td>\n",
       "      <td>109900.000000</td>\n",
       "    </tr>\n",
       "    <tr>\n",
       "      <th>3</th>\n",
       "      <td>0.287</td>\n",
       "      <td>88796.296296</td>\n",
       "    </tr>\n",
       "    <tr>\n",
       "      <th>4</th>\n",
       "      <td>0.291</td>\n",
       "      <td>101321.585903</td>\n",
       "    </tr>\n",
       "    <tr>\n",
       "      <th>...</th>\n",
       "      <td>...</td>\n",
       "      <td>...</td>\n",
       "    </tr>\n",
       "    <tr>\n",
       "      <th>6223</th>\n",
       "      <td>28.644</td>\n",
       "      <td>85191.334598</td>\n",
       "    </tr>\n",
       "    <tr>\n",
       "      <th>6224</th>\n",
       "      <td>28.806</td>\n",
       "      <td>79890.310786</td>\n",
       "    </tr>\n",
       "    <tr>\n",
       "      <th>6225</th>\n",
       "      <td>29.263</td>\n",
       "      <td>56526.806527</td>\n",
       "    </tr>\n",
       "    <tr>\n",
       "      <th>6226</th>\n",
       "      <td>29.343</td>\n",
       "      <td>73943.661972</td>\n",
       "    </tr>\n",
       "    <tr>\n",
       "      <th>6227</th>\n",
       "      <td>29.493</td>\n",
       "      <td>56976.744186</td>\n",
       "    </tr>\n",
       "  </tbody>\n",
       "</table>\n",
       "<p>6228 rows × 2 columns</p>\n",
       "</div>"
      ],
      "text/plain": [
       "      cityCenters_nearest_km  price_per_meter\n",
       "0                      0.181    195591.194969\n",
       "1                      0.208    172619.047619\n",
       "2                      0.215    109900.000000\n",
       "3                      0.287     88796.296296\n",
       "4                      0.291    101321.585903\n",
       "...                      ...              ...\n",
       "6223                  28.644     85191.334598\n",
       "6224                  28.806     79890.310786\n",
       "6225                  29.263     56526.806527\n",
       "6226                  29.343     73943.661972\n",
       "6227                  29.493     56976.744186\n",
       "\n",
       "[6228 rows x 2 columns]"
      ]
     },
     "execution_count": 95,
     "metadata": {},
     "output_type": "execute_result"
    }
   ],
   "source": [
    "#построим сводную таблицу, где для каждого расстояния от центра найдем стреднюю стоимотсь квадратного метра\n",
    "# используем reset_index(), чтобы \n",
    "spb_realty_pivot = spb_realty.pivot_table(index = 'cityCenters_nearest_km', values = 'price_per_meter', aggfunc = 'mean').reset_index()\n",
    "\n",
    "spb_realty_pivot  "
   ]
  },
  {
   "cell_type": "code",
   "execution_count": 96,
   "id": "a23e30e1",
   "metadata": {},
   "outputs": [
    {
     "data": {
      "text/html": [
       "<div>\n",
       "<style scoped>\n",
       "    .dataframe tbody tr th:only-of-type {\n",
       "        vertical-align: middle;\n",
       "    }\n",
       "\n",
       "    .dataframe tbody tr th {\n",
       "        vertical-align: top;\n",
       "    }\n",
       "\n",
       "    .dataframe thead th {\n",
       "        text-align: right;\n",
       "    }\n",
       "</style>\n",
       "<table border=\"1\" class=\"dataframe\">\n",
       "  <thead>\n",
       "    <tr style=\"text-align: right;\">\n",
       "      <th></th>\n",
       "      <th>cityCenters_nearest_km</th>\n",
       "      <th>price_per_meter</th>\n",
       "    </tr>\n",
       "  </thead>\n",
       "  <tbody>\n",
       "    <tr>\n",
       "      <th>0</th>\n",
       "      <td>0.181</td>\n",
       "      <td>195591.194969</td>\n",
       "    </tr>\n",
       "    <tr>\n",
       "      <th>1</th>\n",
       "      <td>0.208</td>\n",
       "      <td>172619.047619</td>\n",
       "    </tr>\n",
       "    <tr>\n",
       "      <th>2</th>\n",
       "      <td>0.215</td>\n",
       "      <td>109900.000000</td>\n",
       "    </tr>\n",
       "    <tr>\n",
       "      <th>3</th>\n",
       "      <td>0.287</td>\n",
       "      <td>88796.296296</td>\n",
       "    </tr>\n",
       "    <tr>\n",
       "      <th>4</th>\n",
       "      <td>0.291</td>\n",
       "      <td>101321.585903</td>\n",
       "    </tr>\n",
       "    <tr>\n",
       "      <th>...</th>\n",
       "      <td>...</td>\n",
       "      <td>...</td>\n",
       "    </tr>\n",
       "    <tr>\n",
       "      <th>6223</th>\n",
       "      <td>28.644</td>\n",
       "      <td>85191.334598</td>\n",
       "    </tr>\n",
       "    <tr>\n",
       "      <th>6224</th>\n",
       "      <td>28.806</td>\n",
       "      <td>79890.310786</td>\n",
       "    </tr>\n",
       "    <tr>\n",
       "      <th>6225</th>\n",
       "      <td>29.263</td>\n",
       "      <td>56526.806527</td>\n",
       "    </tr>\n",
       "    <tr>\n",
       "      <th>6226</th>\n",
       "      <td>29.343</td>\n",
       "      <td>73943.661972</td>\n",
       "    </tr>\n",
       "    <tr>\n",
       "      <th>6227</th>\n",
       "      <td>29.493</td>\n",
       "      <td>56976.744186</td>\n",
       "    </tr>\n",
       "  </tbody>\n",
       "</table>\n",
       "<p>6228 rows × 2 columns</p>\n",
       "</div>"
      ],
      "text/plain": [
       "      cityCenters_nearest_km  price_per_meter\n",
       "0                      0.181    195591.194969\n",
       "1                      0.208    172619.047619\n",
       "2                      0.215    109900.000000\n",
       "3                      0.287     88796.296296\n",
       "4                      0.291    101321.585903\n",
       "...                      ...              ...\n",
       "6223                  28.644     85191.334598\n",
       "6224                  28.806     79890.310786\n",
       "6225                  29.263     56526.806527\n",
       "6226                  29.343     73943.661972\n",
       "6227                  29.493     56976.744186\n",
       "\n",
       "[6228 rows x 2 columns]"
      ]
     },
     "execution_count": 96,
     "metadata": {},
     "output_type": "execute_result"
    }
   ],
   "source": [
    "spb_realty_pivot = spb_realty_pivot.sort_values(by='cityCenters_nearest_km', ascending = True)\n",
    "spb_realty_pivot"
   ]
  },
  {
   "cell_type": "code",
   "execution_count": 97,
   "id": "6fb4abb7",
   "metadata": {},
   "outputs": [
    {
     "data": {
      "image/png": "[encoded data removed]",
      "text/plain": [
       "<Figure size 1008x432 with 1 Axes>"
      ]
     },
     "metadata": {
      "needs_background": "light"
     },
     "output_type": "display_data"
    }
   ],
   "source": [
    "spb_realty_pivot.plot( \n",
    "    x='cityCenters_nearest_km',\n",
    "    y='price_per_meter',\n",
    "    style='-',\n",
    "    grid=True,\n",
    "    figsize=(14, 6),\n",
    ") \n",
    "\n",
    "plt.xlabel('Расстояние от центра города')\n",
    "plt.ylabel('Стоимость квадратного метра')\n",
    "plt.show()"
   ]
  },
  {
   "cell_type": "markdown",
   "id": "463a2c22",
   "metadata": {},
   "source": [
    "Чем дальше от центра, тем дешевле. Но есть и всплески, это элитные районы в районе Московского проспекта. Также есть всплеск в конце, скорее всего это курортный район. "
   ]
  },
  {
   "cell_type": "markdown",
   "id": "feec9c18",
   "metadata": {},
   "source": [
    "<div class=\"alert alert-warning\">\n",
    "<b>⚠️ Комментарий ревьюера v1:</b> \n",
    "<br>На каком километре заканчивается центр города на твой взгляд, судя по графику?\n",
    "</div>"
   ]
  },
  {
   "cell_type": "markdown",
   "id": "02d8554e",
   "metadata": {},
   "source": [
    "<div class=\"alert alert-info\">\n",
    "<b>Комментарий студента:</b>\n",
    "<br> Радиус около 2 км - это центр, судя по падению цены кв метра. \n",
    "</div>"
   ]
  },
  {
   "cell_type": "markdown",
   "id": "b8962cba",
   "metadata": {},
   "source": [
    "<div class=\"alert alert-warning\">\n",
    "<b>⚠️ Комментарий ревьюера v2:</b> \n",
    "<br>Все же скорее центр заканчивается после 6-7 км, так как после этого идёт резкое снижение цены, а потом она практически все время плавно уменьшается\n",
    "</div>"
   ]
  },
  {
   "cell_type": "markdown",
   "id": "b50f3780",
   "metadata": {},
   "source": [
    "## Общий вывод"
   ]
  },
  {
   "cell_type": "markdown",
   "id": "21e7299b",
   "metadata": {},
   "source": [
    "В ходе предопработки мы удалили 2,8 % данных, которые сочли не пригодными для анализа. \n",
    "Были обработаны пропуски в некоторых столбцах:\n",
    " - Удалили квартиры с количеством комнат больше 12, так как для них не отслеживается увеличение площади.\n",
    "- Нулевые значения оставили только для открытой планировки, остальные прировняли к однушкам. \n",
    "- Пропуске в столбце «высота потолков» заполнили медианой в зависимости от этажности дома. Убрали аномально низкие и высокие потолки.\n",
    "- living_area и в kitchen_area мы заполнили медианными значениями в зависимости от площади квартиры. Так как квартиры преимущественно типовые, то такое допущение вполне возможно. \n",
    "- Переработали список населенных пунктов, убрав оттуда типы населенных пунктов. \n",
    "- Пропуски в столбце с балконами заполнили нулями, предположив, что в таком случае балконов нет. \n",
    "- Аналогично поступили с апартаментами.\n",
    "\n",
    "В дальнейшем рекомендуется сделать обязательными те поля, которые являются важными для анализа работы сервиса. Возможно стоит добавить небольшие подсказки как правильно определить жилую площадь, площадь кухни количество комнат для разного типа квартир и разной планировки.  Для населенных пунктов рекомендуется сделать выбор из списка. \n",
    "\n",
    "\n",
    "\n",
    "**Изучив данные можно сделать несколько выводов**\n",
    "1.  На рынке недвижимости СПБ больше всего представлены однокомнатные квартиры, им немного уступают двухкомнатные.\n",
    "2.  Широко представлены типовые квартиры – двушки с кухней 9 метров. \n",
    "3.  Средняя высота потолков 2,7. Но 25% квартир с потолками выше 3 метров – это особенность старого фонда СПБ. \n",
    "4.  На стоимость квартиры влияет: площадь и район (удаленность от центра).  Последний этаж чуть дороже, нет соседей с верху и вид лучше; первые этажи на которых меньше света и холоднее – дешевле. \n",
    "5.  В исследуемый период не были распространены апартаменты и открытая планировка. \n",
    "6.  Квартиры в СПБ дороже, чем в области.\n",
    "7. Среднее время продажи квартиры - 3 месяца. Половина квартир уходит за 3 месяца.\n",
    "8. Больше всего на рынке представленно квартир стоимостьтю 3 - 5 мл"
   ]
  },
  {
   "cell_type": "markdown",
   "id": "1d9bcb41",
   "metadata": {},
   "source": [
    "<div class=\"alert alert-danger\">\n",
    "<b>❌ Комментарий ревьюера v1:</b> \n",
    "<br>После всех внесённых правок, обязательно перепроверь общий вывод и промежуточные выводы и поправь их по необходимости\n",
    "</div>"
   ]
  },
  {
   "cell_type": "markdown",
   "id": "34f59d92",
   "metadata": {},
   "source": [
    "<div class=\"alert alert-danger\">\n",
    "<b>❌ Итоговый комментарий ревьюера v1:</b> \n",
    "<br>Ты хорошо потрудилась, большая часть работы сделана, но остаётся внести следующие правки:\n",
    "<br>- выполнить задание 1.3\n",
    "<br>- написать короткий вывод после первичного просмотра данных\n",
    "<br>- добавить расчет корреляции\n",
    "<br>- поправить выводы там, где это необходимо\n",
    "</div>"
   ]
  },
  {
   "cell_type": "markdown",
   "id": "0d84579a",
   "metadata": {},
   "source": [
    "<div class=\"alert alert-success\">\n",
    "<b>✔️ Итоговый комментарий ревьюера v2:</b>\n",
    "<br>Все правки выполнены. Молодец!\n",
    "<br>Проделана огромная работа! У тебя подробные, понятные и логичные выводы, которые ты подкрепляешь фактами. Были использованы разные графики и способы, чтобы как можно более тщательно изучить данные и у тебя это получилось! \n",
    "<br>Я рад был поработать над проверкой твоей работы) В качестве дополнительного материала для изучения могу порекомендовать следующий ресурс:\n",
    "\n",
    "\thttps://www.python-graph-gallery.com/\n",
    "<br>В нем содержится большая библиотека графиков с готовым кодом, который можно использовать при работе.\n",
    "<br>Поздравляю со сдачей проекта и желаю удачи в дальнейшем обучении! 😉    \n",
    "</div>"
   ]
  },
  {
   "cell_type": "markdown",
   "id": "51000a3e",
   "metadata": {},
   "source": []
  },
  {
   "cell_type": "markdown",
   "id": "086b0898",
   "metadata": {},
   "source": []
  },
  {
   "cell_type": "markdown",
   "id": "388a9ecc",
   "metadata": {},
   "source": []
  }
 ],
 "metadata": {
  "ExecuteTimeLog": [
   {
    "duration": 858,
    "start_time": "2022-11-30T14:03:08.921Z"
   },
   {
    "duration": 255,
    "start_time": "2022-11-30T14:03:09.782Z"
   },
   {
    "duration": 11,
    "start_time": "2022-11-30T14:03:10.039Z"
   },
   {
    "duration": 16,
    "start_time": "2022-11-30T14:03:10.051Z"
   },
   {
    "duration": 27,
    "start_time": "2022-11-30T14:03:10.068Z"
   },
   {
    "duration": 8,
    "start_time": "2022-11-30T14:03:10.097Z"
   },
   {
    "duration": 1355,
    "start_time": "2022-11-30T14:03:10.106Z"
   },
   {
    "duration": 0,
    "start_time": "2022-11-30T14:03:11.467Z"
   },
   {
    "duration": 0,
    "start_time": "2022-11-30T14:03:11.468Z"
   },
   {
    "duration": 0,
    "start_time": "2022-11-30T14:03:11.470Z"
   },
   {
    "duration": 0,
    "start_time": "2022-11-30T14:03:11.472Z"
   },
   {
    "duration": 0,
    "start_time": "2022-11-30T14:03:11.473Z"
   },
   {
    "duration": 0,
    "start_time": "2022-11-30T14:03:11.474Z"
   },
   {
    "duration": 0,
    "start_time": "2022-11-30T14:03:11.476Z"
   },
   {
    "duration": 0,
    "start_time": "2022-11-30T14:03:11.478Z"
   },
   {
    "duration": 0,
    "start_time": "2022-11-30T14:03:11.479Z"
   },
   {
    "duration": 0,
    "start_time": "2022-11-30T14:03:11.481Z"
   },
   {
    "duration": 0,
    "start_time": "2022-11-30T14:03:11.482Z"
   },
   {
    "duration": 0,
    "start_time": "2022-11-30T14:03:11.484Z"
   },
   {
    "duration": 0,
    "start_time": "2022-11-30T14:03:11.486Z"
   },
   {
    "duration": 0,
    "start_time": "2022-11-30T14:03:11.487Z"
   },
   {
    "duration": 0,
    "start_time": "2022-11-30T14:03:11.488Z"
   },
   {
    "duration": 0,
    "start_time": "2022-11-30T14:03:11.489Z"
   },
   {
    "duration": 0,
    "start_time": "2022-11-30T14:03:11.491Z"
   },
   {
    "duration": 0,
    "start_time": "2022-11-30T14:03:11.492Z"
   },
   {
    "duration": 0,
    "start_time": "2022-11-30T14:03:11.493Z"
   },
   {
    "duration": 0,
    "start_time": "2022-11-30T14:03:11.495Z"
   },
   {
    "duration": 0,
    "start_time": "2022-11-30T14:03:11.496Z"
   },
   {
    "duration": 0,
    "start_time": "2022-11-30T14:03:11.497Z"
   },
   {
    "duration": 0,
    "start_time": "2022-11-30T14:03:11.499Z"
   },
   {
    "duration": 0,
    "start_time": "2022-11-30T14:03:11.537Z"
   },
   {
    "duration": 0,
    "start_time": "2022-11-30T14:03:11.539Z"
   },
   {
    "duration": 0,
    "start_time": "2022-11-30T14:03:11.541Z"
   },
   {
    "duration": 0,
    "start_time": "2022-11-30T14:03:11.542Z"
   },
   {
    "duration": 0,
    "start_time": "2022-11-30T14:03:11.544Z"
   },
   {
    "duration": 1,
    "start_time": "2022-11-30T14:03:11.545Z"
   },
   {
    "duration": 0,
    "start_time": "2022-11-30T14:03:11.547Z"
   },
   {
    "duration": 0,
    "start_time": "2022-11-30T14:03:11.549Z"
   },
   {
    "duration": 0,
    "start_time": "2022-11-30T14:03:11.550Z"
   },
   {
    "duration": 0,
    "start_time": "2022-11-30T14:03:11.552Z"
   },
   {
    "duration": 0,
    "start_time": "2022-11-30T14:03:11.553Z"
   },
   {
    "duration": 0,
    "start_time": "2022-11-30T14:03:11.554Z"
   },
   {
    "duration": 0,
    "start_time": "2022-11-30T14:03:11.556Z"
   },
   {
    "duration": 0,
    "start_time": "2022-11-30T14:03:11.557Z"
   },
   {
    "duration": 0,
    "start_time": "2022-11-30T14:03:11.560Z"
   },
   {
    "duration": 0,
    "start_time": "2022-11-30T14:03:11.561Z"
   },
   {
    "duration": 0,
    "start_time": "2022-11-30T14:03:11.563Z"
   },
   {
    "duration": 0,
    "start_time": "2022-11-30T14:03:11.564Z"
   },
   {
    "duration": 0,
    "start_time": "2022-11-30T14:03:11.566Z"
   },
   {
    "duration": 0,
    "start_time": "2022-11-30T14:03:11.567Z"
   },
   {
    "duration": 0,
    "start_time": "2022-11-30T14:03:11.568Z"
   },
   {
    "duration": 0,
    "start_time": "2022-11-30T14:03:11.569Z"
   },
   {
    "duration": 0,
    "start_time": "2022-11-30T14:03:11.571Z"
   },
   {
    "duration": 0,
    "start_time": "2022-11-30T14:03:11.572Z"
   },
   {
    "duration": 0,
    "start_time": "2022-11-30T14:03:11.574Z"
   },
   {
    "duration": 0,
    "start_time": "2022-11-30T14:03:11.575Z"
   },
   {
    "duration": 0,
    "start_time": "2022-11-30T14:03:11.637Z"
   },
   {
    "duration": 0,
    "start_time": "2022-11-30T14:03:11.639Z"
   },
   {
    "duration": 0,
    "start_time": "2022-11-30T14:03:11.641Z"
   },
   {
    "duration": 0,
    "start_time": "2022-11-30T14:03:11.642Z"
   },
   {
    "duration": 0,
    "start_time": "2022-11-30T14:03:11.644Z"
   },
   {
    "duration": 0,
    "start_time": "2022-11-30T14:03:11.645Z"
   },
   {
    "duration": 0,
    "start_time": "2022-11-30T14:03:11.646Z"
   },
   {
    "duration": 0,
    "start_time": "2022-11-30T14:03:11.648Z"
   },
   {
    "duration": 0,
    "start_time": "2022-11-30T14:03:11.650Z"
   },
   {
    "duration": 0,
    "start_time": "2022-11-30T14:03:11.651Z"
   },
   {
    "duration": 0,
    "start_time": "2022-11-30T14:03:11.653Z"
   },
   {
    "duration": 0,
    "start_time": "2022-11-30T14:03:11.654Z"
   },
   {
    "duration": 0,
    "start_time": "2022-11-30T14:03:11.656Z"
   },
   {
    "duration": 0,
    "start_time": "2022-11-30T14:03:11.658Z"
   },
   {
    "duration": 0,
    "start_time": "2022-11-30T14:03:11.659Z"
   },
   {
    "duration": 0,
    "start_time": "2022-11-30T14:03:11.661Z"
   },
   {
    "duration": 0,
    "start_time": "2022-11-30T14:03:11.663Z"
   },
   {
    "duration": 683,
    "start_time": "2022-12-01T05:16:45.619Z"
   },
   {
    "duration": 228,
    "start_time": "2022-12-01T05:16:46.303Z"
   },
   {
    "duration": 44,
    "start_time": "2022-12-01T05:16:46.533Z"
   },
   {
    "duration": 16,
    "start_time": "2022-12-01T05:16:46.579Z"
   },
   {
    "duration": 46,
    "start_time": "2022-12-01T05:16:46.597Z"
   },
   {
    "duration": 9,
    "start_time": "2022-12-01T05:16:46.645Z"
   },
   {
    "duration": 106,
    "start_time": "2022-12-01T05:16:46.656Z"
   },
   {
    "duration": 0,
    "start_time": "2022-12-01T05:16:46.766Z"
   },
   {
    "duration": 0,
    "start_time": "2022-12-01T05:16:46.768Z"
   },
   {
    "duration": 0,
    "start_time": "2022-12-01T05:16:46.769Z"
   },
   {
    "duration": 0,
    "start_time": "2022-12-01T05:16:46.770Z"
   },
   {
    "duration": 0,
    "start_time": "2022-12-01T05:16:46.771Z"
   },
   {
    "duration": 0,
    "start_time": "2022-12-01T05:16:46.773Z"
   },
   {
    "duration": 0,
    "start_time": "2022-12-01T05:16:46.774Z"
   },
   {
    "duration": 0,
    "start_time": "2022-12-01T05:16:46.776Z"
   },
   {
    "duration": 0,
    "start_time": "2022-12-01T05:16:46.777Z"
   },
   {
    "duration": 0,
    "start_time": "2022-12-01T05:16:46.779Z"
   },
   {
    "duration": 0,
    "start_time": "2022-12-01T05:16:46.780Z"
   },
   {
    "duration": 0,
    "start_time": "2022-12-01T05:16:46.782Z"
   },
   {
    "duration": 0,
    "start_time": "2022-12-01T05:16:46.786Z"
   },
   {
    "duration": 0,
    "start_time": "2022-12-01T05:16:46.788Z"
   },
   {
    "duration": 0,
    "start_time": "2022-12-01T05:16:46.790Z"
   },
   {
    "duration": 0,
    "start_time": "2022-12-01T05:16:46.792Z"
   },
   {
    "duration": 0,
    "start_time": "2022-12-01T05:16:46.793Z"
   },
   {
    "duration": 0,
    "start_time": "2022-12-01T05:16:46.835Z"
   },
   {
    "duration": 0,
    "start_time": "2022-12-01T05:16:46.837Z"
   },
   {
    "duration": 0,
    "start_time": "2022-12-01T05:16:46.838Z"
   },
   {
    "duration": 0,
    "start_time": "2022-12-01T05:16:46.840Z"
   },
   {
    "duration": 0,
    "start_time": "2022-12-01T05:16:46.841Z"
   },
   {
    "duration": 0,
    "start_time": "2022-12-01T05:16:46.842Z"
   },
   {
    "duration": 0,
    "start_time": "2022-12-01T05:16:46.844Z"
   },
   {
    "duration": 0,
    "start_time": "2022-12-01T05:16:46.845Z"
   },
   {
    "duration": 0,
    "start_time": "2022-12-01T05:16:46.847Z"
   },
   {
    "duration": 0,
    "start_time": "2022-12-01T05:16:46.848Z"
   },
   {
    "duration": 0,
    "start_time": "2022-12-01T05:16:46.850Z"
   },
   {
    "duration": 0,
    "start_time": "2022-12-01T05:16:46.851Z"
   },
   {
    "duration": 0,
    "start_time": "2022-12-01T05:16:46.852Z"
   },
   {
    "duration": 0,
    "start_time": "2022-12-01T05:16:46.854Z"
   },
   {
    "duration": 0,
    "start_time": "2022-12-01T05:16:46.855Z"
   },
   {
    "duration": 0,
    "start_time": "2022-12-01T05:16:46.857Z"
   },
   {
    "duration": 0,
    "start_time": "2022-12-01T05:16:46.857Z"
   },
   {
    "duration": 0,
    "start_time": "2022-12-01T05:16:46.858Z"
   },
   {
    "duration": 0,
    "start_time": "2022-12-01T05:16:46.860Z"
   },
   {
    "duration": 0,
    "start_time": "2022-12-01T05:16:46.861Z"
   },
   {
    "duration": 0,
    "start_time": "2022-12-01T05:16:46.862Z"
   },
   {
    "duration": 0,
    "start_time": "2022-12-01T05:16:46.863Z"
   },
   {
    "duration": 0,
    "start_time": "2022-12-01T05:16:46.864Z"
   },
   {
    "duration": 0,
    "start_time": "2022-12-01T05:16:46.865Z"
   },
   {
    "duration": 0,
    "start_time": "2022-12-01T05:16:46.867Z"
   },
   {
    "duration": 0,
    "start_time": "2022-12-01T05:16:46.867Z"
   },
   {
    "duration": 0,
    "start_time": "2022-12-01T05:16:46.868Z"
   },
   {
    "duration": 0,
    "start_time": "2022-12-01T05:16:46.869Z"
   },
   {
    "duration": 0,
    "start_time": "2022-12-01T05:16:46.871Z"
   },
   {
    "duration": 0,
    "start_time": "2022-12-01T05:16:46.872Z"
   },
   {
    "duration": 0,
    "start_time": "2022-12-01T05:16:46.935Z"
   },
   {
    "duration": 0,
    "start_time": "2022-12-01T05:16:46.936Z"
   },
   {
    "duration": 0,
    "start_time": "2022-12-01T05:16:46.938Z"
   },
   {
    "duration": 0,
    "start_time": "2022-12-01T05:16:46.939Z"
   },
   {
    "duration": 0,
    "start_time": "2022-12-01T05:16:46.940Z"
   },
   {
    "duration": 0,
    "start_time": "2022-12-01T05:16:46.941Z"
   },
   {
    "duration": 0,
    "start_time": "2022-12-01T05:16:46.942Z"
   },
   {
    "duration": 0,
    "start_time": "2022-12-01T05:16:46.943Z"
   },
   {
    "duration": 0,
    "start_time": "2022-12-01T05:16:46.945Z"
   },
   {
    "duration": 0,
    "start_time": "2022-12-01T05:16:46.946Z"
   },
   {
    "duration": 0,
    "start_time": "2022-12-01T05:16:46.947Z"
   },
   {
    "duration": 0,
    "start_time": "2022-12-01T05:16:46.949Z"
   },
   {
    "duration": 0,
    "start_time": "2022-12-01T05:16:46.950Z"
   },
   {
    "duration": 0,
    "start_time": "2022-12-01T05:16:46.950Z"
   },
   {
    "duration": 0,
    "start_time": "2022-12-01T05:16:46.951Z"
   },
   {
    "duration": 0,
    "start_time": "2022-12-01T05:16:46.953Z"
   },
   {
    "duration": 0,
    "start_time": "2022-12-01T05:16:46.954Z"
   },
   {
    "duration": 0,
    "start_time": "2022-12-01T05:16:46.955Z"
   },
   {
    "duration": 0,
    "start_time": "2022-12-01T05:16:46.956Z"
   },
   {
    "duration": 742,
    "start_time": "2022-12-01T10:51:45.026Z"
   },
   {
    "duration": 233,
    "start_time": "2022-12-01T10:51:45.770Z"
   },
   {
    "duration": 41,
    "start_time": "2022-12-01T10:51:46.005Z"
   },
   {
    "duration": 14,
    "start_time": "2022-12-01T10:51:46.049Z"
   },
   {
    "duration": 31,
    "start_time": "2022-12-01T10:51:46.065Z"
   },
   {
    "duration": 8,
    "start_time": "2022-12-01T10:51:46.098Z"
   },
   {
    "duration": 89,
    "start_time": "2022-12-01T10:51:46.108Z"
   },
   {
    "duration": 0,
    "start_time": "2022-12-01T10:51:46.201Z"
   },
   {
    "duration": 0,
    "start_time": "2022-12-01T10:51:46.202Z"
   },
   {
    "duration": 0,
    "start_time": "2022-12-01T10:51:46.203Z"
   },
   {
    "duration": 0,
    "start_time": "2022-12-01T10:51:46.204Z"
   },
   {
    "duration": 0,
    "start_time": "2022-12-01T10:51:46.206Z"
   },
   {
    "duration": 0,
    "start_time": "2022-12-01T10:51:46.207Z"
   },
   {
    "duration": 0,
    "start_time": "2022-12-01T10:51:46.208Z"
   },
   {
    "duration": 0,
    "start_time": "2022-12-01T10:51:46.210Z"
   },
   {
    "duration": 0,
    "start_time": "2022-12-01T10:51:46.211Z"
   },
   {
    "duration": 0,
    "start_time": "2022-12-01T10:51:46.213Z"
   },
   {
    "duration": 0,
    "start_time": "2022-12-01T10:51:46.214Z"
   },
   {
    "duration": 0,
    "start_time": "2022-12-01T10:51:46.215Z"
   },
   {
    "duration": 0,
    "start_time": "2022-12-01T10:51:46.217Z"
   },
   {
    "duration": 0,
    "start_time": "2022-12-01T10:51:46.218Z"
   },
   {
    "duration": 0,
    "start_time": "2022-12-01T10:51:46.219Z"
   },
   {
    "duration": 0,
    "start_time": "2022-12-01T10:51:46.220Z"
   },
   {
    "duration": 0,
    "start_time": "2022-12-01T10:51:46.222Z"
   },
   {
    "duration": 0,
    "start_time": "2022-12-01T10:51:46.223Z"
   },
   {
    "duration": 0,
    "start_time": "2022-12-01T10:51:46.225Z"
   },
   {
    "duration": 0,
    "start_time": "2022-12-01T10:51:46.226Z"
   },
   {
    "duration": 0,
    "start_time": "2022-12-01T10:51:46.227Z"
   },
   {
    "duration": 0,
    "start_time": "2022-12-01T10:51:46.228Z"
   },
   {
    "duration": 0,
    "start_time": "2022-12-01T10:51:46.230Z"
   },
   {
    "duration": 0,
    "start_time": "2022-12-01T10:51:46.231Z"
   },
   {
    "duration": 0,
    "start_time": "2022-12-01T10:51:46.278Z"
   },
   {
    "duration": 0,
    "start_time": "2022-12-01T10:51:46.279Z"
   },
   {
    "duration": 0,
    "start_time": "2022-12-01T10:51:46.281Z"
   },
   {
    "duration": 0,
    "start_time": "2022-12-01T10:51:46.282Z"
   },
   {
    "duration": 0,
    "start_time": "2022-12-01T10:51:46.283Z"
   },
   {
    "duration": 0,
    "start_time": "2022-12-01T10:51:46.285Z"
   },
   {
    "duration": 0,
    "start_time": "2022-12-01T10:51:46.286Z"
   },
   {
    "duration": 0,
    "start_time": "2022-12-01T10:51:46.288Z"
   },
   {
    "duration": 0,
    "start_time": "2022-12-01T10:51:46.289Z"
   },
   {
    "duration": 0,
    "start_time": "2022-12-01T10:51:46.290Z"
   },
   {
    "duration": 0,
    "start_time": "2022-12-01T10:51:46.292Z"
   },
   {
    "duration": 0,
    "start_time": "2022-12-01T10:51:46.293Z"
   },
   {
    "duration": 0,
    "start_time": "2022-12-01T10:51:46.294Z"
   },
   {
    "duration": 0,
    "start_time": "2022-12-01T10:51:46.296Z"
   },
   {
    "duration": 1,
    "start_time": "2022-12-01T10:51:46.297Z"
   },
   {
    "duration": 0,
    "start_time": "2022-12-01T10:51:46.299Z"
   },
   {
    "duration": 0,
    "start_time": "2022-12-01T10:51:46.301Z"
   },
   {
    "duration": 0,
    "start_time": "2022-12-01T10:51:46.302Z"
   },
   {
    "duration": 0,
    "start_time": "2022-12-01T10:51:46.303Z"
   },
   {
    "duration": 0,
    "start_time": "2022-12-01T10:51:46.305Z"
   },
   {
    "duration": 0,
    "start_time": "2022-12-01T10:51:46.306Z"
   },
   {
    "duration": 0,
    "start_time": "2022-12-01T10:51:46.307Z"
   },
   {
    "duration": 0,
    "start_time": "2022-12-01T10:51:46.308Z"
   },
   {
    "duration": 0,
    "start_time": "2022-12-01T10:51:46.310Z"
   },
   {
    "duration": 0,
    "start_time": "2022-12-01T10:51:46.311Z"
   },
   {
    "duration": 0,
    "start_time": "2022-12-01T10:51:46.313Z"
   },
   {
    "duration": 0,
    "start_time": "2022-12-01T10:51:46.314Z"
   },
   {
    "duration": 0,
    "start_time": "2022-12-01T10:51:46.315Z"
   },
   {
    "duration": 0,
    "start_time": "2022-12-01T10:51:46.316Z"
   },
   {
    "duration": 0,
    "start_time": "2022-12-01T10:51:46.378Z"
   },
   {
    "duration": 0,
    "start_time": "2022-12-01T10:51:46.379Z"
   },
   {
    "duration": 0,
    "start_time": "2022-12-01T10:51:46.381Z"
   },
   {
    "duration": 0,
    "start_time": "2022-12-01T10:51:46.382Z"
   },
   {
    "duration": 0,
    "start_time": "2022-12-01T10:51:46.383Z"
   },
   {
    "duration": 0,
    "start_time": "2022-12-01T10:51:46.384Z"
   },
   {
    "duration": 0,
    "start_time": "2022-12-01T10:51:46.385Z"
   },
   {
    "duration": 0,
    "start_time": "2022-12-01T10:51:46.386Z"
   },
   {
    "duration": 0,
    "start_time": "2022-12-01T10:51:46.387Z"
   },
   {
    "duration": 0,
    "start_time": "2022-12-01T10:51:46.388Z"
   },
   {
    "duration": 0,
    "start_time": "2022-12-01T10:51:46.389Z"
   },
   {
    "duration": 0,
    "start_time": "2022-12-01T10:51:46.390Z"
   },
   {
    "duration": 0,
    "start_time": "2022-12-01T10:51:46.391Z"
   },
   {
    "duration": 613,
    "start_time": "2022-12-01T10:52:48.084Z"
   },
   {
    "duration": 152,
    "start_time": "2022-12-01T10:52:48.699Z"
   },
   {
    "duration": 40,
    "start_time": "2022-12-01T10:52:48.853Z"
   },
   {
    "duration": 15,
    "start_time": "2022-12-01T10:52:48.896Z"
   },
   {
    "duration": 22,
    "start_time": "2022-12-01T10:52:48.912Z"
   },
   {
    "duration": 10,
    "start_time": "2022-12-01T10:52:48.936Z"
   },
   {
    "duration": 32,
    "start_time": "2022-12-01T10:52:48.947Z"
   },
   {
    "duration": 5,
    "start_time": "2022-12-01T10:52:48.981Z"
   },
   {
    "duration": 166,
    "start_time": "2022-12-01T10:52:48.988Z"
   },
   {
    "duration": 30,
    "start_time": "2022-12-01T10:52:49.156Z"
   },
   {
    "duration": 6,
    "start_time": "2022-12-01T10:52:49.188Z"
   },
   {
    "duration": 70,
    "start_time": "2022-12-01T10:52:49.196Z"
   },
   {
    "duration": 12,
    "start_time": "2022-12-01T10:52:49.268Z"
   },
   {
    "duration": 20,
    "start_time": "2022-12-01T10:52:49.281Z"
   },
   {
    "duration": 29,
    "start_time": "2022-12-01T10:52:49.302Z"
   },
   {
    "duration": 28,
    "start_time": "2022-12-01T10:52:49.333Z"
   },
   {
    "duration": 30,
    "start_time": "2022-12-01T10:52:49.363Z"
   },
   {
    "duration": 85,
    "start_time": "2022-12-01T10:52:49.394Z"
   },
   {
    "duration": 7,
    "start_time": "2022-12-01T10:52:49.481Z"
   },
   {
    "duration": 24,
    "start_time": "2022-12-01T10:52:49.489Z"
   },
   {
    "duration": 15,
    "start_time": "2022-12-01T10:52:49.514Z"
   },
   {
    "duration": 29,
    "start_time": "2022-12-01T10:52:49.530Z"
   },
   {
    "duration": 19,
    "start_time": "2022-12-01T10:52:49.560Z"
   },
   {
    "duration": 8,
    "start_time": "2022-12-01T10:52:49.581Z"
   },
   {
    "duration": 36,
    "start_time": "2022-12-01T10:52:49.591Z"
   },
   {
    "duration": 2820,
    "start_time": "2022-12-01T10:52:49.628Z"
   },
   {
    "duration": 2795,
    "start_time": "2022-12-01T10:52:52.450Z"
   },
   {
    "duration": 13,
    "start_time": "2022-12-01T10:52:55.250Z"
   },
   {
    "duration": 19,
    "start_time": "2022-12-01T10:52:55.265Z"
   },
   {
    "duration": 16,
    "start_time": "2022-12-01T10:52:55.285Z"
   },
   {
    "duration": 314,
    "start_time": "2022-12-01T10:52:55.302Z"
   },
   {
    "duration": 9,
    "start_time": "2022-12-01T10:52:55.618Z"
   },
   {
    "duration": 14,
    "start_time": "2022-12-01T10:52:55.628Z"
   },
   {
    "duration": 5,
    "start_time": "2022-12-01T10:52:55.643Z"
   },
   {
    "duration": 5,
    "start_time": "2022-12-01T10:52:55.649Z"
   },
   {
    "duration": 35,
    "start_time": "2022-12-01T10:52:55.656Z"
   },
   {
    "duration": 7,
    "start_time": "2022-12-01T10:52:55.692Z"
   },
   {
    "duration": 10,
    "start_time": "2022-12-01T10:52:55.700Z"
   },
   {
    "duration": 12,
    "start_time": "2022-12-01T10:52:55.712Z"
   },
   {
    "duration": 18,
    "start_time": "2022-12-01T10:52:55.725Z"
   },
   {
    "duration": 6,
    "start_time": "2022-12-01T10:52:55.744Z"
   },
   {
    "duration": 4,
    "start_time": "2022-12-01T10:52:55.778Z"
   },
   {
    "duration": 310,
    "start_time": "2022-12-01T10:52:55.783Z"
   },
   {
    "duration": 221,
    "start_time": "2022-12-01T10:52:56.095Z"
   },
   {
    "duration": 205,
    "start_time": "2022-12-01T10:52:56.318Z"
   },
   {
    "duration": 209,
    "start_time": "2022-12-01T10:52:56.524Z"
   },
   {
    "duration": 131,
    "start_time": "2022-12-01T10:52:56.734Z"
   },
   {
    "duration": 250,
    "start_time": "2022-12-01T10:52:56.866Z"
   },
   {
    "duration": 175,
    "start_time": "2022-12-01T10:52:57.118Z"
   },
   {
    "duration": 201,
    "start_time": "2022-12-01T10:52:57.294Z"
   },
   {
    "duration": 171,
    "start_time": "2022-12-01T10:52:57.497Z"
   },
   {
    "duration": 198,
    "start_time": "2022-12-01T10:52:57.677Z"
   },
   {
    "duration": 298,
    "start_time": "2022-12-01T10:52:57.877Z"
   },
   {
    "duration": 292,
    "start_time": "2022-12-01T10:52:58.177Z"
   },
   {
    "duration": 14,
    "start_time": "2022-12-01T10:52:58.470Z"
   },
   {
    "duration": 132,
    "start_time": "2022-12-01T10:52:58.485Z"
   },
   {
    "duration": 130,
    "start_time": "2022-12-01T10:52:58.619Z"
   },
   {
    "duration": 9,
    "start_time": "2022-12-01T10:52:58.750Z"
   },
   {
    "duration": 171,
    "start_time": "2022-12-01T10:52:58.761Z"
   },
   {
    "duration": 192,
    "start_time": "2022-12-01T10:52:58.933Z"
   },
   {
    "duration": 164,
    "start_time": "2022-12-01T10:52:59.127Z"
   },
   {
    "duration": 224,
    "start_time": "2022-12-01T10:52:59.293Z"
   },
   {
    "duration": 143,
    "start_time": "2022-12-01T10:52:59.519Z"
   },
   {
    "duration": 164,
    "start_time": "2022-12-01T10:52:59.663Z"
   },
   {
    "duration": 156,
    "start_time": "2022-12-01T10:52:59.828Z"
   },
   {
    "duration": 245,
    "start_time": "2022-12-01T10:52:59.985Z"
   },
   {
    "duration": 237,
    "start_time": "2022-12-01T10:53:00.233Z"
   },
   {
    "duration": 25,
    "start_time": "2022-12-01T10:53:00.472Z"
   },
   {
    "duration": 55,
    "start_time": "2022-12-01T10:53:00.500Z"
   },
   {
    "duration": 86,
    "start_time": "2022-12-01T10:53:00.557Z"
   },
   {
    "duration": 23,
    "start_time": "2022-12-01T10:53:00.644Z"
   },
   {
    "duration": 48,
    "start_time": "2022-12-01T10:53:00.669Z"
   },
   {
    "duration": 222,
    "start_time": "2022-12-01T10:53:00.719Z"
   },
   {
    "duration": 1869,
    "start_time": "2022-12-01T10:56:04.237Z"
   },
   {
    "duration": 581,
    "start_time": "2022-12-01T11:04:26.830Z"
   },
   {
    "duration": 1847,
    "start_time": "2022-12-01T11:04:27.413Z"
   },
   {
    "duration": 232,
    "start_time": "2022-12-01T11:04:29.262Z"
   },
   {
    "duration": 39,
    "start_time": "2022-12-01T11:04:29.496Z"
   },
   {
    "duration": 14,
    "start_time": "2022-12-01T11:04:29.536Z"
   },
   {
    "duration": 36,
    "start_time": "2022-12-01T11:04:29.552Z"
   },
   {
    "duration": 9,
    "start_time": "2022-12-01T11:04:29.589Z"
   },
   {
    "duration": 5,
    "start_time": "2022-12-01T11:04:29.599Z"
   },
   {
    "duration": 6,
    "start_time": "2022-12-01T11:04:29.605Z"
   },
   {
    "duration": 164,
    "start_time": "2022-12-01T11:04:29.615Z"
   },
   {
    "duration": 25,
    "start_time": "2022-12-01T11:04:29.781Z"
   },
   {
    "duration": 6,
    "start_time": "2022-12-01T11:04:29.807Z"
   },
   {
    "duration": 65,
    "start_time": "2022-12-01T11:04:29.815Z"
   },
   {
    "duration": 12,
    "start_time": "2022-12-01T11:04:29.882Z"
   },
   {
    "duration": 6,
    "start_time": "2022-12-01T11:04:29.896Z"
   },
   {
    "duration": 14,
    "start_time": "2022-12-01T11:04:29.903Z"
   },
   {
    "duration": 3,
    "start_time": "2022-12-01T11:04:29.918Z"
   },
   {
    "duration": 8,
    "start_time": "2022-12-01T11:04:29.923Z"
   },
   {
    "duration": 79,
    "start_time": "2022-12-01T11:04:29.933Z"
   },
   {
    "duration": 8,
    "start_time": "2022-12-01T11:04:30.013Z"
   },
   {
    "duration": 13,
    "start_time": "2022-12-01T11:04:30.022Z"
   },
   {
    "duration": 25,
    "start_time": "2022-12-01T11:04:30.037Z"
   },
   {
    "duration": 24,
    "start_time": "2022-12-01T11:04:30.064Z"
   },
   {
    "duration": 12,
    "start_time": "2022-12-01T11:04:30.090Z"
   },
   {
    "duration": 8,
    "start_time": "2022-12-01T11:04:30.104Z"
   },
   {
    "duration": 28,
    "start_time": "2022-12-01T11:04:30.114Z"
   },
   {
    "duration": 2853,
    "start_time": "2022-12-01T11:04:30.143Z"
   },
   {
    "duration": 2846,
    "start_time": "2022-12-01T11:04:33.001Z"
   },
   {
    "duration": 13,
    "start_time": "2022-12-01T11:04:35.849Z"
   },
   {
    "duration": 21,
    "start_time": "2022-12-01T11:04:35.864Z"
   },
   {
    "duration": 17,
    "start_time": "2022-12-01T11:04:35.887Z"
   },
   {
    "duration": 329,
    "start_time": "2022-12-01T11:04:35.905Z"
   },
   {
    "duration": 9,
    "start_time": "2022-12-01T11:04:36.236Z"
   },
   {
    "duration": 21,
    "start_time": "2022-12-01T11:04:36.247Z"
   },
   {
    "duration": 39,
    "start_time": "2022-12-01T11:04:36.270Z"
   },
   {
    "duration": 29,
    "start_time": "2022-12-01T11:04:36.311Z"
   },
   {
    "duration": 32,
    "start_time": "2022-12-01T11:04:36.341Z"
   },
   {
    "duration": 15,
    "start_time": "2022-12-01T11:04:36.375Z"
   },
   {
    "duration": 37,
    "start_time": "2022-12-01T11:04:36.391Z"
   },
   {
    "duration": 34,
    "start_time": "2022-12-01T11:04:36.429Z"
   },
   {
    "duration": 52,
    "start_time": "2022-12-01T11:04:36.465Z"
   },
   {
    "duration": 33,
    "start_time": "2022-12-01T11:04:36.519Z"
   },
   {
    "duration": 11,
    "start_time": "2022-12-01T11:04:36.553Z"
   },
   {
    "duration": 315,
    "start_time": "2022-12-01T11:04:36.565Z"
   },
   {
    "duration": 219,
    "start_time": "2022-12-01T11:04:36.882Z"
   },
   {
    "duration": 206,
    "start_time": "2022-12-01T11:04:37.103Z"
   },
   {
    "duration": 235,
    "start_time": "2022-12-01T11:04:37.311Z"
   },
   {
    "duration": 133,
    "start_time": "2022-12-01T11:04:37.548Z"
   },
   {
    "duration": 243,
    "start_time": "2022-12-01T11:04:37.683Z"
   },
   {
    "duration": 194,
    "start_time": "2022-12-01T11:04:37.927Z"
   },
   {
    "duration": 205,
    "start_time": "2022-12-01T11:04:38.122Z"
   },
   {
    "duration": 180,
    "start_time": "2022-12-01T11:04:38.329Z"
   },
   {
    "duration": 195,
    "start_time": "2022-12-01T11:04:38.510Z"
   },
   {
    "duration": 296,
    "start_time": "2022-12-01T11:04:38.707Z"
   },
   {
    "duration": 299,
    "start_time": "2022-12-01T11:04:39.005Z"
   },
   {
    "duration": 9,
    "start_time": "2022-12-01T11:04:39.305Z"
   },
   {
    "duration": 122,
    "start_time": "2022-12-01T11:04:39.316Z"
   },
   {
    "duration": 149,
    "start_time": "2022-12-01T11:04:39.439Z"
   },
   {
    "duration": 10,
    "start_time": "2022-12-01T11:04:39.589Z"
   },
   {
    "duration": 158,
    "start_time": "2022-12-01T11:04:39.601Z"
   },
   {
    "duration": 172,
    "start_time": "2022-12-01T11:04:39.761Z"
   },
   {
    "duration": 196,
    "start_time": "2022-12-01T11:04:39.935Z"
   },
   {
    "duration": 226,
    "start_time": "2022-12-01T11:04:40.133Z"
   },
   {
    "duration": 137,
    "start_time": "2022-12-01T11:04:40.360Z"
   },
   {
    "duration": 134,
    "start_time": "2022-12-01T11:04:40.498Z"
   },
   {
    "duration": 164,
    "start_time": "2022-12-01T11:04:40.634Z"
   },
   {
    "duration": 181,
    "start_time": "2022-12-01T11:04:40.800Z"
   },
   {
    "duration": 152,
    "start_time": "2022-12-01T11:04:40.982Z"
   },
   {
    "duration": 21,
    "start_time": "2022-12-01T11:04:41.136Z"
   },
   {
    "duration": 40,
    "start_time": "2022-12-01T11:04:41.159Z"
   },
   {
    "duration": 43,
    "start_time": "2022-12-01T11:04:41.200Z"
   },
   {
    "duration": 34,
    "start_time": "2022-12-01T11:04:41.245Z"
   },
   {
    "duration": 10,
    "start_time": "2022-12-01T11:04:41.280Z"
   },
   {
    "duration": 176,
    "start_time": "2022-12-01T11:04:41.292Z"
   },
   {
    "duration": 847,
    "start_time": "2022-12-01T17:57:49.999Z"
   },
   {
    "duration": 2520,
    "start_time": "2022-12-01T17:57:50.849Z"
   },
   {
    "duration": 198,
    "start_time": "2022-12-01T17:57:53.372Z"
   },
   {
    "duration": 74,
    "start_time": "2022-12-01T17:57:53.573Z"
   },
   {
    "duration": 25,
    "start_time": "2022-12-01T17:57:53.659Z"
   },
   {
    "duration": 50,
    "start_time": "2022-12-01T17:57:53.686Z"
   },
   {
    "duration": 18,
    "start_time": "2022-12-01T17:57:53.738Z"
   },
   {
    "duration": 13,
    "start_time": "2022-12-01T17:57:53.758Z"
   },
   {
    "duration": 7,
    "start_time": "2022-12-01T17:57:53.773Z"
   },
   {
    "duration": 190,
    "start_time": "2022-12-01T17:57:53.782Z"
   },
   {
    "duration": 39,
    "start_time": "2022-12-01T17:57:53.973Z"
   },
   {
    "duration": 34,
    "start_time": "2022-12-01T17:57:54.014Z"
   },
   {
    "duration": 92,
    "start_time": "2022-12-01T17:57:54.050Z"
   },
   {
    "duration": 23,
    "start_time": "2022-12-01T17:57:54.151Z"
   },
   {
    "duration": 6,
    "start_time": "2022-12-01T17:57:54.176Z"
   },
   {
    "duration": 13,
    "start_time": "2022-12-01T17:57:54.184Z"
   },
   {
    "duration": 6,
    "start_time": "2022-12-01T17:57:54.199Z"
   },
   {
    "duration": 12,
    "start_time": "2022-12-01T17:57:54.206Z"
   },
   {
    "duration": 110,
    "start_time": "2022-12-01T17:57:54.241Z"
   },
   {
    "duration": 10,
    "start_time": "2022-12-01T17:57:54.353Z"
   },
   {
    "duration": 15,
    "start_time": "2022-12-01T17:57:54.365Z"
   },
   {
    "duration": 18,
    "start_time": "2022-12-01T17:57:54.382Z"
   },
   {
    "duration": 54,
    "start_time": "2022-12-01T17:57:54.402Z"
   },
   {
    "duration": 30,
    "start_time": "2022-12-01T17:57:54.458Z"
   },
   {
    "duration": 12,
    "start_time": "2022-12-01T17:57:54.490Z"
   },
   {
    "duration": 47,
    "start_time": "2022-12-01T17:57:54.504Z"
   },
   {
    "duration": 3230,
    "start_time": "2022-12-01T17:57:54.553Z"
   },
   {
    "duration": 3207,
    "start_time": "2022-12-01T17:57:57.785Z"
   },
   {
    "duration": 16,
    "start_time": "2022-12-01T17:58:00.993Z"
   },
   {
    "duration": 63,
    "start_time": "2022-12-01T17:58:01.010Z"
   },
   {
    "duration": 79,
    "start_time": "2022-12-01T17:58:01.076Z"
   },
   {
    "duration": 368,
    "start_time": "2022-12-01T17:58:01.158Z"
   },
   {
    "duration": 22,
    "start_time": "2022-12-01T17:58:01.528Z"
   },
   {
    "duration": 29,
    "start_time": "2022-12-01T17:58:01.552Z"
   },
   {
    "duration": 14,
    "start_time": "2022-12-01T17:58:01.584Z"
   },
   {
    "duration": 16,
    "start_time": "2022-12-01T17:58:01.600Z"
   },
   {
    "duration": 46,
    "start_time": "2022-12-01T17:58:01.619Z"
   },
   {
    "duration": 16,
    "start_time": "2022-12-01T17:58:01.667Z"
   },
   {
    "duration": 16,
    "start_time": "2022-12-01T17:58:01.685Z"
   },
   {
    "duration": 37,
    "start_time": "2022-12-01T17:58:01.703Z"
   },
   {
    "duration": 41,
    "start_time": "2022-12-01T17:58:01.746Z"
   },
   {
    "duration": 9,
    "start_time": "2022-12-01T17:58:01.789Z"
   },
   {
    "duration": 33,
    "start_time": "2022-12-01T17:58:01.800Z"
   },
   {
    "duration": 446,
    "start_time": "2022-12-01T17:58:01.838Z"
   },
   {
    "duration": 289,
    "start_time": "2022-12-01T17:58:02.286Z"
   },
   {
    "duration": 327,
    "start_time": "2022-12-01T17:58:02.577Z"
   },
   {
    "duration": 256,
    "start_time": "2022-12-01T17:58:02.906Z"
   },
   {
    "duration": 211,
    "start_time": "2022-12-01T17:58:03.164Z"
   },
   {
    "duration": 306,
    "start_time": "2022-12-01T17:58:03.378Z"
   },
   {
    "duration": 306,
    "start_time": "2022-12-01T17:58:03.686Z"
   },
   {
    "duration": 262,
    "start_time": "2022-12-01T17:58:03.994Z"
   },
   {
    "duration": 211,
    "start_time": "2022-12-01T17:58:04.258Z"
   },
   {
    "duration": 232,
    "start_time": "2022-12-01T17:58:04.471Z"
   },
   {
    "duration": 357,
    "start_time": "2022-12-01T17:58:04.706Z"
   },
   {
    "duration": 355,
    "start_time": "2022-12-01T17:58:05.066Z"
   },
   {
    "duration": 23,
    "start_time": "2022-12-01T17:58:05.423Z"
   },
   {
    "duration": 138,
    "start_time": "2022-12-01T17:58:05.448Z"
   },
   {
    "duration": 183,
    "start_time": "2022-12-01T17:58:05.588Z"
   },
   {
    "duration": 11,
    "start_time": "2022-12-01T17:58:05.773Z"
   },
   {
    "duration": 193,
    "start_time": "2022-12-01T17:58:05.785Z"
   },
   {
    "duration": 206,
    "start_time": "2022-12-01T17:58:05.980Z"
   },
   {
    "duration": 196,
    "start_time": "2022-12-01T17:58:06.187Z"
   },
   {
    "duration": 266,
    "start_time": "2022-12-01T17:58:06.386Z"
   },
   {
    "duration": 196,
    "start_time": "2022-12-01T17:58:06.657Z"
   },
   {
    "duration": 161,
    "start_time": "2022-12-01T17:58:06.856Z"
   },
   {
    "duration": 183,
    "start_time": "2022-12-01T17:58:07.019Z"
   },
   {
    "duration": 204,
    "start_time": "2022-12-01T17:58:07.204Z"
   },
   {
    "duration": 204,
    "start_time": "2022-12-01T17:58:07.410Z"
   },
   {
    "duration": 28,
    "start_time": "2022-12-01T17:58:07.615Z"
   },
   {
    "duration": 41,
    "start_time": "2022-12-01T17:58:07.645Z"
   },
   {
    "duration": 65,
    "start_time": "2022-12-01T17:58:07.687Z"
   },
   {
    "duration": 17,
    "start_time": "2022-12-01T17:58:07.757Z"
   },
   {
    "duration": 10,
    "start_time": "2022-12-01T17:58:07.776Z"
   },
   {
    "duration": 216,
    "start_time": "2022-12-01T17:58:07.788Z"
   },
   {
    "duration": 17,
    "start_time": "2022-12-01T18:03:13.425Z"
   },
   {
    "duration": 15,
    "start_time": "2022-12-01T18:05:13.260Z"
   },
   {
    "duration": 92,
    "start_time": "2022-12-01T18:05:16.953Z"
   },
   {
    "duration": 10,
    "start_time": "2022-12-01T18:06:50.872Z"
   },
   {
    "duration": 47,
    "start_time": "2022-12-03T11:30:23.275Z"
   },
   {
    "duration": 784,
    "start_time": "2022-12-03T11:30:30.348Z"
   },
   {
    "duration": 1944,
    "start_time": "2022-12-03T11:30:31.134Z"
   },
   {
    "duration": 303,
    "start_time": "2022-12-03T11:30:33.080Z"
   },
   {
    "duration": 4,
    "start_time": "2022-12-03T11:30:33.385Z"
   },
   {
    "duration": 48,
    "start_time": "2022-12-03T11:30:33.391Z"
   },
   {
    "duration": 18,
    "start_time": "2022-12-03T11:30:33.442Z"
   },
   {
    "duration": 43,
    "start_time": "2022-12-03T11:30:33.462Z"
   },
   {
    "duration": 9,
    "start_time": "2022-12-03T11:30:33.507Z"
   },
   {
    "duration": 17,
    "start_time": "2022-12-03T11:30:33.518Z"
   },
   {
    "duration": 9,
    "start_time": "2022-12-03T11:30:33.539Z"
   },
   {
    "duration": 182,
    "start_time": "2022-12-03T11:30:33.550Z"
   },
   {
    "duration": 21,
    "start_time": "2022-12-03T11:30:33.734Z"
   },
   {
    "duration": 10,
    "start_time": "2022-12-03T11:30:33.757Z"
   },
   {
    "duration": 88,
    "start_time": "2022-12-03T11:30:33.769Z"
   },
   {
    "duration": 13,
    "start_time": "2022-12-03T11:30:33.859Z"
   },
   {
    "duration": 4,
    "start_time": "2022-12-03T11:30:33.874Z"
   },
   {
    "duration": 27,
    "start_time": "2022-12-03T11:30:33.880Z"
   },
   {
    "duration": 4,
    "start_time": "2022-12-03T11:30:33.909Z"
   },
   {
    "duration": 5,
    "start_time": "2022-12-03T11:30:33.915Z"
   },
   {
    "duration": 56,
    "start_time": "2022-12-03T11:30:33.922Z"
   },
   {
    "duration": 32,
    "start_time": "2022-12-03T11:30:33.979Z"
   },
   {
    "duration": 10,
    "start_time": "2022-12-03T11:30:34.013Z"
   },
   {
    "duration": 14,
    "start_time": "2022-12-03T11:30:34.025Z"
   },
   {
    "duration": 16,
    "start_time": "2022-12-03T11:30:34.041Z"
   },
   {
    "duration": 49,
    "start_time": "2022-12-03T11:30:34.058Z"
   },
   {
    "duration": 11,
    "start_time": "2022-12-03T11:30:34.109Z"
   },
   {
    "duration": 24,
    "start_time": "2022-12-03T11:30:34.122Z"
   },
   {
    "duration": 2872,
    "start_time": "2022-12-03T11:30:34.150Z"
   },
   {
    "duration": 2825,
    "start_time": "2022-12-03T11:30:37.024Z"
   },
   {
    "duration": 14,
    "start_time": "2022-12-03T11:30:39.850Z"
   },
   {
    "duration": 10,
    "start_time": "2022-12-03T11:30:39.866Z"
   },
   {
    "duration": 19,
    "start_time": "2022-12-03T11:30:39.904Z"
   },
   {
    "duration": 351,
    "start_time": "2022-12-03T11:30:39.925Z"
   },
   {
    "duration": 9,
    "start_time": "2022-12-03T11:30:40.277Z"
   },
   {
    "duration": 9,
    "start_time": "2022-12-03T11:30:40.304Z"
   },
   {
    "duration": 5,
    "start_time": "2022-12-03T11:30:40.314Z"
   },
   {
    "duration": 20,
    "start_time": "2022-12-03T11:30:40.321Z"
   },
   {
    "duration": 22,
    "start_time": "2022-12-03T11:30:40.343Z"
   },
   {
    "duration": 6,
    "start_time": "2022-12-03T11:30:40.367Z"
   },
   {
    "duration": 11,
    "start_time": "2022-12-03T11:30:40.405Z"
   },
   {
    "duration": 19,
    "start_time": "2022-12-03T11:30:40.418Z"
   },
   {
    "duration": 20,
    "start_time": "2022-12-03T11:30:40.438Z"
   },
   {
    "duration": 7,
    "start_time": "2022-12-03T11:30:40.459Z"
   },
   {
    "duration": 38,
    "start_time": "2022-12-03T11:30:40.468Z"
   },
   {
    "duration": 350,
    "start_time": "2022-12-03T11:30:40.507Z"
   },
   {
    "duration": 231,
    "start_time": "2022-12-03T11:30:40.858Z"
   },
   {
    "duration": 222,
    "start_time": "2022-12-03T11:30:41.091Z"
   },
   {
    "duration": 251,
    "start_time": "2022-12-03T11:30:41.315Z"
   },
   {
    "duration": 163,
    "start_time": "2022-12-03T11:30:41.568Z"
   },
   {
    "duration": 251,
    "start_time": "2022-12-03T11:30:41.733Z"
   },
   {
    "duration": 197,
    "start_time": "2022-12-03T11:30:41.986Z"
   },
   {
    "duration": 224,
    "start_time": "2022-12-03T11:30:42.185Z"
   },
   {
    "duration": 198,
    "start_time": "2022-12-03T11:30:42.411Z"
   },
   {
    "duration": 209,
    "start_time": "2022-12-03T11:30:42.610Z"
   },
   {
    "duration": 290,
    "start_time": "2022-12-03T11:30:42.821Z"
   },
   {
    "duration": 343,
    "start_time": "2022-12-03T11:30:43.113Z"
   },
   {
    "duration": 10,
    "start_time": "2022-12-03T11:30:43.457Z"
   },
   {
    "duration": 146,
    "start_time": "2022-12-03T11:30:43.469Z"
   },
   {
    "duration": 155,
    "start_time": "2022-12-03T11:30:43.616Z"
   },
   {
    "duration": 10,
    "start_time": "2022-12-03T11:30:43.773Z"
   },
   {
    "duration": 168,
    "start_time": "2022-12-03T11:30:43.804Z"
   },
   {
    "duration": 179,
    "start_time": "2022-12-03T11:30:43.974Z"
   },
   {
    "duration": 191,
    "start_time": "2022-12-03T11:30:44.155Z"
   },
   {
    "duration": 256,
    "start_time": "2022-12-03T11:30:44.348Z"
   },
   {
    "duration": 149,
    "start_time": "2022-12-03T11:30:44.606Z"
   },
   {
    "duration": 159,
    "start_time": "2022-12-03T11:30:44.757Z"
   },
   {
    "duration": 202,
    "start_time": "2022-12-03T11:30:44.918Z"
   },
   {
    "duration": 194,
    "start_time": "2022-12-03T11:30:45.122Z"
   },
   {
    "duration": 171,
    "start_time": "2022-12-03T11:30:45.318Z"
   },
   {
    "duration": 27,
    "start_time": "2022-12-03T11:30:45.491Z"
   },
   {
    "duration": 27,
    "start_time": "2022-12-03T11:30:45.520Z"
   },
   {
    "duration": 69,
    "start_time": "2022-12-03T11:30:45.552Z"
   },
   {
    "duration": 25,
    "start_time": "2022-12-03T11:30:45.622Z"
   },
   {
    "duration": 12,
    "start_time": "2022-12-03T11:30:45.649Z"
   },
   {
    "duration": 247,
    "start_time": "2022-12-03T11:30:45.663Z"
   },
   {
    "duration": 3,
    "start_time": "2022-12-03T11:35:59.911Z"
   },
   {
    "duration": 83,
    "start_time": "2022-12-03T11:36:04.854Z"
   },
   {
    "duration": 0,
    "start_time": "2022-12-03T11:36:04.941Z"
   },
   {
    "duration": 0,
    "start_time": "2022-12-03T11:36:04.943Z"
   },
   {
    "duration": 0,
    "start_time": "2022-12-03T11:36:04.944Z"
   },
   {
    "duration": 0,
    "start_time": "2022-12-03T11:36:04.945Z"
   },
   {
    "duration": 0,
    "start_time": "2022-12-03T11:36:04.946Z"
   },
   {
    "duration": 0,
    "start_time": "2022-12-03T11:36:04.948Z"
   },
   {
    "duration": 0,
    "start_time": "2022-12-03T11:36:04.949Z"
   },
   {
    "duration": 0,
    "start_time": "2022-12-03T11:36:04.950Z"
   },
   {
    "duration": 0,
    "start_time": "2022-12-03T11:36:04.951Z"
   },
   {
    "duration": 0,
    "start_time": "2022-12-03T11:36:04.952Z"
   },
   {
    "duration": 0,
    "start_time": "2022-12-03T11:36:04.953Z"
   },
   {
    "duration": 0,
    "start_time": "2022-12-03T11:36:04.954Z"
   },
   {
    "duration": 0,
    "start_time": "2022-12-03T11:36:04.956Z"
   },
   {
    "duration": 0,
    "start_time": "2022-12-03T11:36:04.957Z"
   },
   {
    "duration": 0,
    "start_time": "2022-12-03T11:36:04.958Z"
   },
   {
    "duration": 0,
    "start_time": "2022-12-03T11:36:04.959Z"
   },
   {
    "duration": 0,
    "start_time": "2022-12-03T11:36:04.960Z"
   },
   {
    "duration": 0,
    "start_time": "2022-12-03T11:36:04.961Z"
   },
   {
    "duration": 0,
    "start_time": "2022-12-03T11:36:04.962Z"
   },
   {
    "duration": 0,
    "start_time": "2022-12-03T11:36:04.963Z"
   },
   {
    "duration": 0,
    "start_time": "2022-12-03T11:36:04.964Z"
   },
   {
    "duration": 0,
    "start_time": "2022-12-03T11:36:04.965Z"
   },
   {
    "duration": 0,
    "start_time": "2022-12-03T11:36:04.966Z"
   },
   {
    "duration": 0,
    "start_time": "2022-12-03T11:36:04.967Z"
   },
   {
    "duration": 0,
    "start_time": "2022-12-03T11:36:04.968Z"
   },
   {
    "duration": 0,
    "start_time": "2022-12-03T11:36:04.970Z"
   },
   {
    "duration": 0,
    "start_time": "2022-12-03T11:36:04.971Z"
   },
   {
    "duration": 0,
    "start_time": "2022-12-03T11:36:04.972Z"
   },
   {
    "duration": 0,
    "start_time": "2022-12-03T11:36:05.005Z"
   },
   {
    "duration": 0,
    "start_time": "2022-12-03T11:36:05.006Z"
   },
   {
    "duration": 0,
    "start_time": "2022-12-03T11:36:05.007Z"
   },
   {
    "duration": 0,
    "start_time": "2022-12-03T11:36:05.009Z"
   },
   {
    "duration": 0,
    "start_time": "2022-12-03T11:36:05.010Z"
   },
   {
    "duration": 101,
    "start_time": "2022-12-03T11:36:05.016Z"
   },
   {
    "duration": 0,
    "start_time": "2022-12-03T11:36:05.120Z"
   },
   {
    "duration": 0,
    "start_time": "2022-12-03T11:36:05.121Z"
   },
   {
    "duration": 0,
    "start_time": "2022-12-03T11:36:05.123Z"
   },
   {
    "duration": 1,
    "start_time": "2022-12-03T11:36:05.123Z"
   },
   {
    "duration": 0,
    "start_time": "2022-12-03T11:36:05.125Z"
   },
   {
    "duration": 0,
    "start_time": "2022-12-03T11:36:05.126Z"
   },
   {
    "duration": 0,
    "start_time": "2022-12-03T11:36:05.127Z"
   },
   {
    "duration": 0,
    "start_time": "2022-12-03T11:36:05.129Z"
   },
   {
    "duration": 0,
    "start_time": "2022-12-03T11:36:05.130Z"
   },
   {
    "duration": 0,
    "start_time": "2022-12-03T11:36:05.131Z"
   },
   {
    "duration": 0,
    "start_time": "2022-12-03T11:36:05.132Z"
   },
   {
    "duration": 0,
    "start_time": "2022-12-03T11:36:05.133Z"
   },
   {
    "duration": 0,
    "start_time": "2022-12-03T11:36:05.134Z"
   },
   {
    "duration": 0,
    "start_time": "2022-12-03T11:36:05.135Z"
   },
   {
    "duration": 0,
    "start_time": "2022-12-03T11:36:05.136Z"
   },
   {
    "duration": 0,
    "start_time": "2022-12-03T11:36:05.137Z"
   },
   {
    "duration": 0,
    "start_time": "2022-12-03T11:36:05.139Z"
   },
   {
    "duration": 0,
    "start_time": "2022-12-03T11:36:05.139Z"
   },
   {
    "duration": 0,
    "start_time": "2022-12-03T11:36:05.141Z"
   },
   {
    "duration": 0,
    "start_time": "2022-12-03T11:36:05.142Z"
   },
   {
    "duration": 0,
    "start_time": "2022-12-03T11:36:05.143Z"
   },
   {
    "duration": 0,
    "start_time": "2022-12-03T11:36:05.144Z"
   },
   {
    "duration": 0,
    "start_time": "2022-12-03T11:36:05.145Z"
   },
   {
    "duration": 0,
    "start_time": "2022-12-03T11:36:05.146Z"
   },
   {
    "duration": 1,
    "start_time": "2022-12-03T11:36:05.204Z"
   },
   {
    "duration": 0,
    "start_time": "2022-12-03T11:36:05.206Z"
   },
   {
    "duration": 0,
    "start_time": "2022-12-03T11:36:05.207Z"
   },
   {
    "duration": 0,
    "start_time": "2022-12-03T11:36:05.208Z"
   },
   {
    "duration": 0,
    "start_time": "2022-12-03T11:36:05.209Z"
   },
   {
    "duration": 0,
    "start_time": "2022-12-03T11:36:05.210Z"
   },
   {
    "duration": 0,
    "start_time": "2022-12-03T11:36:05.211Z"
   },
   {
    "duration": 0,
    "start_time": "2022-12-03T11:36:05.212Z"
   },
   {
    "duration": 0,
    "start_time": "2022-12-03T11:36:05.213Z"
   },
   {
    "duration": 0,
    "start_time": "2022-12-03T11:36:05.214Z"
   },
   {
    "duration": 0,
    "start_time": "2022-12-03T11:36:05.215Z"
   },
   {
    "duration": 0,
    "start_time": "2022-12-03T11:36:05.216Z"
   },
   {
    "duration": 0,
    "start_time": "2022-12-03T11:36:05.217Z"
   },
   {
    "duration": 0,
    "start_time": "2022-12-03T11:36:05.218Z"
   },
   {
    "duration": 0,
    "start_time": "2022-12-03T11:36:05.219Z"
   },
   {
    "duration": 0,
    "start_time": "2022-12-03T11:36:05.220Z"
   },
   {
    "duration": 6,
    "start_time": "2022-12-03T11:36:35.095Z"
   },
   {
    "duration": 74,
    "start_time": "2022-12-03T11:36:40.700Z"
   },
   {
    "duration": 0,
    "start_time": "2022-12-03T11:36:40.777Z"
   },
   {
    "duration": 0,
    "start_time": "2022-12-03T11:36:40.778Z"
   },
   {
    "duration": 0,
    "start_time": "2022-12-03T11:36:40.780Z"
   },
   {
    "duration": 0,
    "start_time": "2022-12-03T11:36:40.781Z"
   },
   {
    "duration": 0,
    "start_time": "2022-12-03T11:36:40.783Z"
   },
   {
    "duration": 0,
    "start_time": "2022-12-03T11:36:40.784Z"
   },
   {
    "duration": 0,
    "start_time": "2022-12-03T11:36:40.785Z"
   },
   {
    "duration": 0,
    "start_time": "2022-12-03T11:36:40.787Z"
   },
   {
    "duration": 0,
    "start_time": "2022-12-03T11:36:40.788Z"
   },
   {
    "duration": 0,
    "start_time": "2022-12-03T11:36:40.790Z"
   },
   {
    "duration": 0,
    "start_time": "2022-12-03T11:36:40.791Z"
   },
   {
    "duration": 0,
    "start_time": "2022-12-03T11:36:40.792Z"
   },
   {
    "duration": 0,
    "start_time": "2022-12-03T11:36:40.793Z"
   },
   {
    "duration": 0,
    "start_time": "2022-12-03T11:36:40.794Z"
   },
   {
    "duration": 0,
    "start_time": "2022-12-03T11:36:40.795Z"
   },
   {
    "duration": 0,
    "start_time": "2022-12-03T11:36:40.796Z"
   },
   {
    "duration": 0,
    "start_time": "2022-12-03T11:36:40.797Z"
   },
   {
    "duration": 0,
    "start_time": "2022-12-03T11:36:40.798Z"
   },
   {
    "duration": 0,
    "start_time": "2022-12-03T11:36:40.800Z"
   },
   {
    "duration": 0,
    "start_time": "2022-12-03T11:36:40.801Z"
   },
   {
    "duration": 0,
    "start_time": "2022-12-03T11:36:40.802Z"
   },
   {
    "duration": 0,
    "start_time": "2022-12-03T11:36:40.803Z"
   },
   {
    "duration": 0,
    "start_time": "2022-12-03T11:36:40.804Z"
   },
   {
    "duration": 0,
    "start_time": "2022-12-03T11:36:40.805Z"
   },
   {
    "duration": 0,
    "start_time": "2022-12-03T11:36:40.806Z"
   },
   {
    "duration": 0,
    "start_time": "2022-12-03T11:36:40.807Z"
   },
   {
    "duration": 0,
    "start_time": "2022-12-03T11:36:40.808Z"
   },
   {
    "duration": 0,
    "start_time": "2022-12-03T11:36:40.809Z"
   },
   {
    "duration": 0,
    "start_time": "2022-12-03T11:36:40.811Z"
   },
   {
    "duration": 0,
    "start_time": "2022-12-03T11:36:40.812Z"
   },
   {
    "duration": 0,
    "start_time": "2022-12-03T11:36:40.813Z"
   },
   {
    "duration": 0,
    "start_time": "2022-12-03T11:36:40.814Z"
   },
   {
    "duration": 0,
    "start_time": "2022-12-03T11:36:40.815Z"
   },
   {
    "duration": 112,
    "start_time": "2022-12-03T11:36:40.820Z"
   },
   {
    "duration": 0,
    "start_time": "2022-12-03T11:36:40.934Z"
   },
   {
    "duration": 0,
    "start_time": "2022-12-03T11:36:40.934Z"
   },
   {
    "duration": 0,
    "start_time": "2022-12-03T11:36:40.935Z"
   },
   {
    "duration": 0,
    "start_time": "2022-12-03T11:36:40.936Z"
   },
   {
    "duration": 0,
    "start_time": "2022-12-03T11:36:40.938Z"
   },
   {
    "duration": 0,
    "start_time": "2022-12-03T11:36:40.940Z"
   },
   {
    "duration": 0,
    "start_time": "2022-12-03T11:36:40.941Z"
   },
   {
    "duration": 0,
    "start_time": "2022-12-03T11:36:40.942Z"
   },
   {
    "duration": 0,
    "start_time": "2022-12-03T11:36:40.945Z"
   },
   {
    "duration": 0,
    "start_time": "2022-12-03T11:36:40.946Z"
   },
   {
    "duration": 0,
    "start_time": "2022-12-03T11:36:40.949Z"
   },
   {
    "duration": 0,
    "start_time": "2022-12-03T11:36:40.950Z"
   },
   {
    "duration": 0,
    "start_time": "2022-12-03T11:36:40.951Z"
   },
   {
    "duration": 0,
    "start_time": "2022-12-03T11:36:41.005Z"
   },
   {
    "duration": 0,
    "start_time": "2022-12-03T11:36:41.006Z"
   },
   {
    "duration": 0,
    "start_time": "2022-12-03T11:36:41.007Z"
   },
   {
    "duration": 0,
    "start_time": "2022-12-03T11:36:41.008Z"
   },
   {
    "duration": 0,
    "start_time": "2022-12-03T11:36:41.009Z"
   },
   {
    "duration": 0,
    "start_time": "2022-12-03T11:36:41.011Z"
   },
   {
    "duration": 0,
    "start_time": "2022-12-03T11:36:41.012Z"
   },
   {
    "duration": 0,
    "start_time": "2022-12-03T11:36:41.014Z"
   },
   {
    "duration": 0,
    "start_time": "2022-12-03T11:36:41.015Z"
   },
   {
    "duration": 0,
    "start_time": "2022-12-03T11:36:41.016Z"
   },
   {
    "duration": 0,
    "start_time": "2022-12-03T11:36:41.017Z"
   },
   {
    "duration": 0,
    "start_time": "2022-12-03T11:36:41.018Z"
   },
   {
    "duration": 0,
    "start_time": "2022-12-03T11:36:41.019Z"
   },
   {
    "duration": 0,
    "start_time": "2022-12-03T11:36:41.020Z"
   },
   {
    "duration": 0,
    "start_time": "2022-12-03T11:36:41.021Z"
   },
   {
    "duration": 0,
    "start_time": "2022-12-03T11:36:41.022Z"
   },
   {
    "duration": 0,
    "start_time": "2022-12-03T11:36:41.024Z"
   },
   {
    "duration": 0,
    "start_time": "2022-12-03T11:36:41.025Z"
   },
   {
    "duration": 0,
    "start_time": "2022-12-03T11:36:41.026Z"
   },
   {
    "duration": 0,
    "start_time": "2022-12-03T11:36:41.027Z"
   },
   {
    "duration": 0,
    "start_time": "2022-12-03T11:36:41.028Z"
   },
   {
    "duration": 0,
    "start_time": "2022-12-03T11:36:41.029Z"
   },
   {
    "duration": 0,
    "start_time": "2022-12-03T11:36:41.030Z"
   },
   {
    "duration": 0,
    "start_time": "2022-12-03T11:36:41.031Z"
   },
   {
    "duration": 0,
    "start_time": "2022-12-03T11:36:41.033Z"
   },
   {
    "duration": 0,
    "start_time": "2022-12-03T11:36:41.034Z"
   },
   {
    "duration": 0,
    "start_time": "2022-12-03T11:36:41.035Z"
   },
   {
    "duration": 0,
    "start_time": "2022-12-03T11:36:41.037Z"
   },
   {
    "duration": 600,
    "start_time": "2022-12-03T11:38:18.325Z"
   },
   {
    "duration": 1881,
    "start_time": "2022-12-03T11:38:18.926Z"
   },
   {
    "duration": 734,
    "start_time": "2022-12-03T11:38:20.809Z"
   },
   {
    "duration": 2,
    "start_time": "2022-12-03T11:38:21.545Z"
   },
   {
    "duration": 58,
    "start_time": "2022-12-03T11:38:21.549Z"
   },
   {
    "duration": 19,
    "start_time": "2022-12-03T11:38:21.608Z"
   },
   {
    "duration": 35,
    "start_time": "2022-12-03T11:38:21.629Z"
   },
   {
    "duration": 26,
    "start_time": "2022-12-03T11:38:21.666Z"
   },
   {
    "duration": 1905,
    "start_time": "2022-12-03T11:38:21.693Z"
   },
   {
    "duration": 5,
    "start_time": "2022-12-03T11:38:23.600Z"
   },
   {
    "duration": 37,
    "start_time": "2022-12-03T11:38:23.606Z"
   },
   {
    "duration": 168,
    "start_time": "2022-12-03T11:38:23.645Z"
   },
   {
    "duration": 21,
    "start_time": "2022-12-03T11:38:23.814Z"
   },
   {
    "duration": 28,
    "start_time": "2022-12-03T11:38:23.836Z"
   },
   {
    "duration": 67,
    "start_time": "2022-12-03T11:38:23.866Z"
   },
   {
    "duration": 17,
    "start_time": "2022-12-03T11:38:23.935Z"
   },
   {
    "duration": 51,
    "start_time": "2022-12-03T11:38:23.953Z"
   },
   {
    "duration": 49,
    "start_time": "2022-12-03T11:38:24.005Z"
   },
   {
    "duration": 27,
    "start_time": "2022-12-03T11:38:24.055Z"
   },
   {
    "duration": 44,
    "start_time": "2022-12-03T11:38:24.083Z"
   },
   {
    "duration": 101,
    "start_time": "2022-12-03T11:38:24.129Z"
   },
   {
    "duration": 7,
    "start_time": "2022-12-03T11:38:24.232Z"
   },
   {
    "duration": 39,
    "start_time": "2022-12-03T11:38:24.240Z"
   },
   {
    "duration": 38,
    "start_time": "2022-12-03T11:38:24.280Z"
   },
   {
    "duration": 49,
    "start_time": "2022-12-03T11:38:24.319Z"
   },
   {
    "duration": 13,
    "start_time": "2022-12-03T11:38:24.370Z"
   },
   {
    "duration": 34,
    "start_time": "2022-12-03T11:38:24.384Z"
   },
   {
    "duration": 58,
    "start_time": "2022-12-03T11:38:24.422Z"
   },
   {
    "duration": 2643,
    "start_time": "2022-12-03T11:38:24.482Z"
   },
   {
    "duration": 2760,
    "start_time": "2022-12-03T11:38:27.127Z"
   },
   {
    "duration": 22,
    "start_time": "2022-12-03T11:38:29.888Z"
   },
   {
    "duration": 34,
    "start_time": "2022-12-03T11:38:29.911Z"
   },
   {
    "duration": 23,
    "start_time": "2022-12-03T11:38:29.946Z"
   },
   {
    "duration": 360,
    "start_time": "2022-12-03T11:38:29.971Z"
   },
   {
    "duration": 8,
    "start_time": "2022-12-03T11:38:30.332Z"
   },
   {
    "duration": 60,
    "start_time": "2022-12-03T11:38:30.342Z"
   },
   {
    "duration": 32,
    "start_time": "2022-12-03T11:38:30.403Z"
   },
   {
    "duration": 23,
    "start_time": "2022-12-03T11:38:30.436Z"
   },
   {
    "duration": 51,
    "start_time": "2022-12-03T11:38:30.461Z"
   },
   {
    "duration": 52,
    "start_time": "2022-12-03T11:38:30.513Z"
   },
   {
    "duration": 48,
    "start_time": "2022-12-03T11:38:30.567Z"
   },
   {
    "duration": 88,
    "start_time": "2022-12-03T11:38:30.617Z"
   },
   {
    "duration": 32,
    "start_time": "2022-12-03T11:38:30.706Z"
   },
   {
    "duration": 42,
    "start_time": "2022-12-03T11:38:30.740Z"
   },
   {
    "duration": 45,
    "start_time": "2022-12-03T11:38:30.783Z"
   },
   {
    "duration": 296,
    "start_time": "2022-12-03T11:38:30.830Z"
   },
   {
    "duration": 206,
    "start_time": "2022-12-03T11:38:31.128Z"
   },
   {
    "duration": 273,
    "start_time": "2022-12-03T11:38:31.335Z"
   },
   {
    "duration": 220,
    "start_time": "2022-12-03T11:38:31.610Z"
   },
   {
    "duration": 135,
    "start_time": "2022-12-03T11:38:31.832Z"
   },
   {
    "duration": 248,
    "start_time": "2022-12-03T11:38:31.969Z"
   },
   {
    "duration": 181,
    "start_time": "2022-12-03T11:38:32.219Z"
   },
   {
    "duration": 200,
    "start_time": "2022-12-03T11:38:32.401Z"
   },
   {
    "duration": 119,
    "start_time": "2022-12-03T11:38:32.602Z"
   },
   {
    "duration": 208,
    "start_time": "2022-12-03T11:38:32.722Z"
   },
   {
    "duration": 375,
    "start_time": "2022-12-03T11:38:32.932Z"
   },
   {
    "duration": 288,
    "start_time": "2022-12-03T11:38:33.309Z"
   },
   {
    "duration": 12,
    "start_time": "2022-12-03T11:38:33.599Z"
   },
   {
    "duration": 126,
    "start_time": "2022-12-03T11:38:33.613Z"
   },
   {
    "duration": 148,
    "start_time": "2022-12-03T11:38:33.740Z"
   },
   {
    "duration": 16,
    "start_time": "2022-12-03T11:38:33.889Z"
   },
   {
    "duration": 158,
    "start_time": "2022-12-03T11:38:33.906Z"
   },
   {
    "duration": 184,
    "start_time": "2022-12-03T11:38:34.066Z"
   },
   {
    "duration": 180,
    "start_time": "2022-12-03T11:38:34.251Z"
   },
   {
    "duration": 161,
    "start_time": "2022-12-03T11:38:34.432Z"
   },
   {
    "duration": 131,
    "start_time": "2022-12-03T11:38:34.595Z"
   },
   {
    "duration": 221,
    "start_time": "2022-12-03T11:38:34.728Z"
   },
   {
    "duration": 158,
    "start_time": "2022-12-03T11:38:34.951Z"
   },
   {
    "duration": 174,
    "start_time": "2022-12-03T11:38:35.111Z"
   },
   {
    "duration": 139,
    "start_time": "2022-12-03T11:38:35.287Z"
   },
   {
    "duration": 20,
    "start_time": "2022-12-03T11:38:35.427Z"
   },
   {
    "duration": 20,
    "start_time": "2022-12-03T11:38:35.449Z"
   },
   {
    "duration": 60,
    "start_time": "2022-12-03T11:38:35.471Z"
   },
   {
    "duration": 16,
    "start_time": "2022-12-03T11:38:35.533Z"
   },
   {
    "duration": 8,
    "start_time": "2022-12-03T11:38:35.551Z"
   },
   {
    "duration": 187,
    "start_time": "2022-12-03T11:38:35.561Z"
   },
   {
    "duration": 44,
    "start_time": "2022-12-04T11:06:03.778Z"
   },
   {
    "duration": 753,
    "start_time": "2022-12-04T11:06:10.300Z"
   },
   {
    "duration": 1706,
    "start_time": "2022-12-04T11:06:11.055Z"
   },
   {
    "duration": 243,
    "start_time": "2022-12-04T11:06:12.763Z"
   },
   {
    "duration": 3,
    "start_time": "2022-12-04T11:06:13.008Z"
   },
   {
    "duration": 45,
    "start_time": "2022-12-04T11:06:13.012Z"
   },
   {
    "duration": 23,
    "start_time": "2022-12-04T11:06:13.059Z"
   },
   {
    "duration": 25,
    "start_time": "2022-12-04T11:06:13.084Z"
   },
   {
    "duration": 10,
    "start_time": "2022-12-04T11:06:13.110Z"
   },
   {
    "duration": 2282,
    "start_time": "2022-12-04T11:06:13.122Z"
   },
   {
    "duration": 5,
    "start_time": "2022-12-04T11:06:15.407Z"
   },
   {
    "duration": 13,
    "start_time": "2022-12-04T11:06:15.414Z"
   },
   {
    "duration": 166,
    "start_time": "2022-12-04T11:06:15.429Z"
   },
   {
    "duration": 25,
    "start_time": "2022-12-04T11:06:15.597Z"
   },
   {
    "duration": 10,
    "start_time": "2022-12-04T11:06:15.624Z"
   },
   {
    "duration": 84,
    "start_time": "2022-12-04T11:06:15.636Z"
   },
   {
    "duration": 19,
    "start_time": "2022-12-04T11:06:15.723Z"
   },
   {
    "duration": 32,
    "start_time": "2022-12-04T11:06:15.745Z"
   },
   {
    "duration": 19,
    "start_time": "2022-12-04T11:06:15.780Z"
   },
   {
    "duration": 6,
    "start_time": "2022-12-04T11:06:15.801Z"
   },
   {
    "duration": 7,
    "start_time": "2022-12-04T11:06:15.809Z"
   },
   {
    "duration": 91,
    "start_time": "2022-12-04T11:06:15.818Z"
   },
   {
    "duration": 9,
    "start_time": "2022-12-04T11:06:15.910Z"
   },
   {
    "duration": 10,
    "start_time": "2022-12-04T11:06:15.920Z"
   },
   {
    "duration": 12,
    "start_time": "2022-12-04T11:06:15.932Z"
   },
   {
    "duration": 45,
    "start_time": "2022-12-04T11:06:15.946Z"
   },
   {
    "duration": 16,
    "start_time": "2022-12-04T11:06:15.992Z"
   },
   {
    "duration": 13,
    "start_time": "2022-12-04T11:06:16.010Z"
   },
   {
    "duration": 50,
    "start_time": "2022-12-04T11:06:16.028Z"
   },
   {
    "duration": 2787,
    "start_time": "2022-12-04T11:06:16.080Z"
   },
   {
    "duration": 2705,
    "start_time": "2022-12-04T11:06:18.868Z"
   },
   {
    "duration": 13,
    "start_time": "2022-12-04T11:06:21.575Z"
   },
   {
    "duration": 22,
    "start_time": "2022-12-04T11:06:21.590Z"
   },
   {
    "duration": 49,
    "start_time": "2022-12-04T11:06:21.614Z"
   },
   {
    "duration": 320,
    "start_time": "2022-12-04T11:06:21.665Z"
   },
   {
    "duration": 8,
    "start_time": "2022-12-04T11:06:21.987Z"
   },
   {
    "duration": 14,
    "start_time": "2022-12-04T11:06:21.996Z"
   },
   {
    "duration": 34,
    "start_time": "2022-12-04T11:06:22.012Z"
   },
   {
    "duration": 23,
    "start_time": "2022-12-04T11:06:22.047Z"
   },
   {
    "duration": 36,
    "start_time": "2022-12-04T11:06:22.071Z"
   },
   {
    "duration": 22,
    "start_time": "2022-12-04T11:06:22.109Z"
   },
   {
    "duration": 37,
    "start_time": "2022-12-04T11:06:22.133Z"
   },
   {
    "duration": 52,
    "start_time": "2022-12-04T11:06:22.171Z"
   },
   {
    "duration": 64,
    "start_time": "2022-12-04T11:06:22.224Z"
   },
   {
    "duration": 29,
    "start_time": "2022-12-04T11:06:22.289Z"
   },
   {
    "duration": 20,
    "start_time": "2022-12-04T11:06:22.320Z"
   },
   {
    "duration": 330,
    "start_time": "2022-12-04T11:06:22.341Z"
   },
   {
    "duration": 219,
    "start_time": "2022-12-04T11:06:22.672Z"
   },
   {
    "duration": 309,
    "start_time": "2022-12-04T11:06:22.893Z"
   },
   {
    "duration": 213,
    "start_time": "2022-12-04T11:06:23.204Z"
   },
   {
    "duration": 140,
    "start_time": "2022-12-04T11:06:23.419Z"
   },
   {
    "duration": 253,
    "start_time": "2022-12-04T11:06:23.561Z"
   },
   {
    "duration": 229,
    "start_time": "2022-12-04T11:06:23.816Z"
   },
   {
    "duration": 242,
    "start_time": "2022-12-04T11:06:24.048Z"
   },
   {
    "duration": 129,
    "start_time": "2022-12-04T11:06:24.292Z"
   },
   {
    "duration": 210,
    "start_time": "2022-12-04T11:06:24.423Z"
   },
   {
    "duration": 394,
    "start_time": "2022-12-04T11:06:24.635Z"
   },
   {
    "duration": 294,
    "start_time": "2022-12-04T11:06:25.031Z"
   },
   {
    "duration": 10,
    "start_time": "2022-12-04T11:06:25.327Z"
   },
   {
    "duration": 119,
    "start_time": "2022-12-04T11:06:25.339Z"
   },
   {
    "duration": 149,
    "start_time": "2022-12-04T11:06:25.459Z"
   },
   {
    "duration": 9,
    "start_time": "2022-12-04T11:06:25.610Z"
   },
   {
    "duration": 190,
    "start_time": "2022-12-04T11:06:25.620Z"
   },
   {
    "duration": 167,
    "start_time": "2022-12-04T11:06:25.812Z"
   },
   {
    "duration": 168,
    "start_time": "2022-12-04T11:06:25.981Z"
   },
   {
    "duration": 163,
    "start_time": "2022-12-04T11:06:26.151Z"
   },
   {
    "duration": 133,
    "start_time": "2022-12-04T11:06:26.315Z"
   },
   {
    "duration": 218,
    "start_time": "2022-12-04T11:06:26.450Z"
   },
   {
    "duration": 152,
    "start_time": "2022-12-04T11:06:26.670Z"
   },
   {
    "duration": 190,
    "start_time": "2022-12-04T11:06:26.824Z"
   },
   {
    "duration": 148,
    "start_time": "2022-12-04T11:06:27.016Z"
   },
   {
    "duration": 27,
    "start_time": "2022-12-04T11:06:27.166Z"
   },
   {
    "duration": 21,
    "start_time": "2022-12-04T11:06:27.195Z"
   },
   {
    "duration": 81,
    "start_time": "2022-12-04T11:06:27.217Z"
   },
   {
    "duration": 29,
    "start_time": "2022-12-04T11:06:27.300Z"
   },
   {
    "duration": 23,
    "start_time": "2022-12-04T11:06:27.331Z"
   },
   {
    "duration": 197,
    "start_time": "2022-12-04T11:06:27.355Z"
   },
   {
    "duration": 63,
    "start_time": "2022-12-04T11:06:43.929Z"
   },
   {
    "duration": 219,
    "start_time": "2022-12-04T11:07:42.831Z"
   },
   {
    "duration": 258,
    "start_time": "2022-12-04T11:07:52.211Z"
   },
   {
    "duration": 261,
    "start_time": "2022-12-04T11:07:59.501Z"
   },
   {
    "duration": 272,
    "start_time": "2022-12-04T11:08:02.658Z"
   },
   {
    "duration": 234,
    "start_time": "2022-12-04T11:08:09.043Z"
   },
   {
    "duration": 316,
    "start_time": "2022-12-04T11:08:40.218Z"
   },
   {
    "duration": 212,
    "start_time": "2022-12-04T11:08:45.401Z"
   },
   {
    "duration": 213,
    "start_time": "2022-12-04T11:08:50.638Z"
   },
   {
    "duration": 250,
    "start_time": "2022-12-04T11:13:58.612Z"
   },
   {
    "duration": 221,
    "start_time": "2022-12-04T11:14:11.012Z"
   },
   {
    "duration": 235,
    "start_time": "2022-12-04T11:14:18.809Z"
   },
   {
    "duration": 605,
    "start_time": "2022-12-04T11:14:26.515Z"
   },
   {
    "duration": 1647,
    "start_time": "2022-12-04T11:14:27.122Z"
   },
   {
    "duration": 358,
    "start_time": "2022-12-04T11:14:28.771Z"
   },
   {
    "duration": 3,
    "start_time": "2022-12-04T11:14:29.131Z"
   },
   {
    "duration": 45,
    "start_time": "2022-12-04T11:14:29.136Z"
   },
   {
    "duration": 16,
    "start_time": "2022-12-04T11:14:29.183Z"
   },
   {
    "duration": 24,
    "start_time": "2022-12-04T11:14:29.201Z"
   },
   {
    "duration": 9,
    "start_time": "2022-12-04T11:14:29.227Z"
   },
   {
    "duration": 1918,
    "start_time": "2022-12-04T11:14:29.238Z"
   },
   {
    "duration": 5,
    "start_time": "2022-12-04T11:14:31.158Z"
   },
   {
    "duration": 10,
    "start_time": "2022-12-04T11:14:31.164Z"
   },
   {
    "duration": 136,
    "start_time": "2022-12-04T11:14:31.176Z"
   },
   {
    "duration": 21,
    "start_time": "2022-12-04T11:14:31.313Z"
   },
   {
    "duration": 10,
    "start_time": "2022-12-04T11:14:31.336Z"
   },
   {
    "duration": 68,
    "start_time": "2022-12-04T11:14:31.348Z"
   },
   {
    "duration": 12,
    "start_time": "2022-12-04T11:14:31.418Z"
   },
   {
    "duration": 4,
    "start_time": "2022-12-04T11:14:31.432Z"
   },
   {
    "duration": 15,
    "start_time": "2022-12-04T11:14:31.438Z"
   },
   {
    "duration": 26,
    "start_time": "2022-12-04T11:14:31.454Z"
   },
   {
    "duration": 5,
    "start_time": "2022-12-04T11:14:31.482Z"
   },
   {
    "duration": 60,
    "start_time": "2022-12-04T11:14:31.488Z"
   },
   {
    "duration": 7,
    "start_time": "2022-12-04T11:14:31.550Z"
   },
   {
    "duration": 9,
    "start_time": "2022-12-04T11:14:31.578Z"
   },
   {
    "duration": 12,
    "start_time": "2022-12-04T11:14:31.588Z"
   },
   {
    "duration": 18,
    "start_time": "2022-12-04T11:14:31.602Z"
   },
   {
    "duration": 13,
    "start_time": "2022-12-04T11:14:31.621Z"
   },
   {
    "duration": 8,
    "start_time": "2022-12-04T11:14:31.636Z"
   },
   {
    "duration": 51,
    "start_time": "2022-12-04T11:14:31.648Z"
   },
   {
    "duration": 2920,
    "start_time": "2022-12-04T11:14:31.701Z"
   },
   {
    "duration": 2797,
    "start_time": "2022-12-04T11:14:34.623Z"
   },
   {
    "duration": 15,
    "start_time": "2022-12-04T11:14:37.422Z"
   },
   {
    "duration": 10,
    "start_time": "2022-12-04T11:14:37.438Z"
   },
   {
    "duration": 35,
    "start_time": "2022-12-04T11:14:37.450Z"
   },
   {
    "duration": 289,
    "start_time": "2022-12-04T11:14:37.486Z"
   },
   {
    "duration": 8,
    "start_time": "2022-12-04T11:14:37.778Z"
   },
   {
    "duration": 9,
    "start_time": "2022-12-04T11:14:37.788Z"
   },
   {
    "duration": 5,
    "start_time": "2022-12-04T11:14:37.798Z"
   },
   {
    "duration": 5,
    "start_time": "2022-12-04T11:14:37.804Z"
   },
   {
    "duration": 17,
    "start_time": "2022-12-04T11:14:37.810Z"
   },
   {
    "duration": 7,
    "start_time": "2022-12-04T11:14:37.828Z"
   },
   {
    "duration": 43,
    "start_time": "2022-12-04T11:14:37.837Z"
   },
   {
    "duration": 11,
    "start_time": "2022-12-04T11:14:37.882Z"
   },
   {
    "duration": 18,
    "start_time": "2022-12-04T11:14:37.895Z"
   },
   {
    "duration": 7,
    "start_time": "2022-12-04T11:14:37.914Z"
   },
   {
    "duration": 3,
    "start_time": "2022-12-04T11:14:37.923Z"
   },
   {
    "duration": 284,
    "start_time": "2022-12-04T11:14:37.927Z"
   },
   {
    "duration": 206,
    "start_time": "2022-12-04T11:14:38.212Z"
   },
   {
    "duration": 288,
    "start_time": "2022-12-04T11:14:38.420Z"
   },
   {
    "duration": 217,
    "start_time": "2022-12-04T11:14:38.710Z"
   },
   {
    "duration": 135,
    "start_time": "2022-12-04T11:14:38.928Z"
   },
   {
    "duration": 235,
    "start_time": "2022-12-04T11:14:39.064Z"
   },
   {
    "duration": 196,
    "start_time": "2022-12-04T11:14:39.301Z"
   },
   {
    "duration": 204,
    "start_time": "2022-12-04T11:14:39.499Z"
   },
   {
    "duration": 120,
    "start_time": "2022-12-04T11:14:39.705Z"
   },
   {
    "duration": 205,
    "start_time": "2022-12-04T11:14:39.827Z"
   },
   {
    "duration": 400,
    "start_time": "2022-12-04T11:14:40.033Z"
   },
   {
    "duration": 290,
    "start_time": "2022-12-04T11:14:40.435Z"
   },
   {
    "duration": 10,
    "start_time": "2022-12-04T11:14:40.727Z"
   },
   {
    "duration": 121,
    "start_time": "2022-12-04T11:14:40.738Z"
   },
   {
    "duration": 165,
    "start_time": "2022-12-04T11:14:40.861Z"
   },
   {
    "duration": 10,
    "start_time": "2022-12-04T11:14:41.027Z"
   },
   {
    "duration": 169,
    "start_time": "2022-12-04T11:14:41.039Z"
   },
   {
    "duration": 175,
    "start_time": "2022-12-04T11:14:41.210Z"
   },
   {
    "duration": 165,
    "start_time": "2022-12-04T11:14:41.387Z"
   },
   {
    "duration": 165,
    "start_time": "2022-12-04T11:14:41.554Z"
   },
   {
    "duration": 142,
    "start_time": "2022-12-04T11:14:41.721Z"
   },
   {
    "duration": 230,
    "start_time": "2022-12-04T11:14:41.865Z"
   },
   {
    "duration": 160,
    "start_time": "2022-12-04T11:14:42.097Z"
   },
   {
    "duration": 172,
    "start_time": "2022-12-04T11:14:42.259Z"
   },
   {
    "duration": 147,
    "start_time": "2022-12-04T11:14:42.433Z"
   },
   {
    "duration": 19,
    "start_time": "2022-12-04T11:14:42.581Z"
   },
   {
    "duration": 22,
    "start_time": "2022-12-04T11:14:42.602Z"
   },
   {
    "duration": 64,
    "start_time": "2022-12-04T11:14:42.626Z"
   },
   {
    "duration": 18,
    "start_time": "2022-12-04T11:14:42.692Z"
   },
   {
    "duration": 10,
    "start_time": "2022-12-04T11:14:42.711Z"
   },
   {
    "duration": 214,
    "start_time": "2022-12-04T11:14:42.722Z"
   },
   {
    "duration": 227,
    "start_time": "2022-12-04T11:15:27.811Z"
   },
   {
    "duration": 637,
    "start_time": "2022-12-04T11:15:32.927Z"
   },
   {
    "duration": 1916,
    "start_time": "2022-12-04T11:15:33.566Z"
   },
   {
    "duration": 202,
    "start_time": "2022-12-04T11:15:35.484Z"
   },
   {
    "duration": 4,
    "start_time": "2022-12-04T11:15:35.689Z"
   },
   {
    "duration": 52,
    "start_time": "2022-12-04T11:15:35.695Z"
   },
   {
    "duration": 35,
    "start_time": "2022-12-04T11:15:35.749Z"
   },
   {
    "duration": 21,
    "start_time": "2022-12-04T11:15:35.786Z"
   },
   {
    "duration": 9,
    "start_time": "2022-12-04T11:15:35.809Z"
   },
   {
    "duration": 1869,
    "start_time": "2022-12-04T11:15:35.819Z"
   },
   {
    "duration": 4,
    "start_time": "2022-12-04T11:15:37.691Z"
   },
   {
    "duration": 9,
    "start_time": "2022-12-04T11:15:37.697Z"
   },
   {
    "duration": 137,
    "start_time": "2022-12-04T11:15:37.708Z"
   },
   {
    "duration": 21,
    "start_time": "2022-12-04T11:15:37.847Z"
   },
   {
    "duration": 9,
    "start_time": "2022-12-04T11:15:37.878Z"
   },
   {
    "duration": 49,
    "start_time": "2022-12-04T11:15:37.889Z"
   },
   {
    "duration": 38,
    "start_time": "2022-12-04T11:15:37.940Z"
   },
   {
    "duration": 5,
    "start_time": "2022-12-04T11:15:37.980Z"
   },
   {
    "duration": 14,
    "start_time": "2022-12-04T11:15:37.987Z"
   },
   {
    "duration": 4,
    "start_time": "2022-12-04T11:15:38.003Z"
   },
   {
    "duration": 12,
    "start_time": "2022-12-04T11:15:38.009Z"
   },
   {
    "duration": 80,
    "start_time": "2022-12-04T11:15:38.022Z"
   },
   {
    "duration": 8,
    "start_time": "2022-12-04T11:15:38.104Z"
   },
   {
    "duration": 9,
    "start_time": "2022-12-04T11:15:38.113Z"
   },
   {
    "duration": 11,
    "start_time": "2022-12-04T11:15:38.124Z"
   },
   {
    "duration": 44,
    "start_time": "2022-12-04T11:15:38.137Z"
   },
   {
    "duration": 14,
    "start_time": "2022-12-04T11:15:38.182Z"
   },
   {
    "duration": 11,
    "start_time": "2022-12-04T11:15:38.198Z"
   },
   {
    "duration": 28,
    "start_time": "2022-12-04T11:15:38.215Z"
   },
   {
    "duration": 2664,
    "start_time": "2022-12-04T11:15:38.245Z"
   },
   {
    "duration": 2614,
    "start_time": "2022-12-04T11:15:40.910Z"
   },
   {
    "duration": 14,
    "start_time": "2022-12-04T11:15:43.525Z"
   },
   {
    "duration": 9,
    "start_time": "2022-12-04T11:15:43.541Z"
   },
   {
    "duration": 35,
    "start_time": "2022-12-04T11:15:43.552Z"
   },
   {
    "duration": 312,
    "start_time": "2022-12-04T11:15:43.589Z"
   },
   {
    "duration": 11,
    "start_time": "2022-12-04T11:15:43.903Z"
   },
   {
    "duration": 11,
    "start_time": "2022-12-04T11:15:43.918Z"
   },
   {
    "duration": 8,
    "start_time": "2022-12-04T11:15:43.931Z"
   },
   {
    "duration": 18,
    "start_time": "2022-12-04T11:15:43.941Z"
   },
   {
    "duration": 28,
    "start_time": "2022-12-04T11:15:43.960Z"
   },
   {
    "duration": 7,
    "start_time": "2022-12-04T11:15:43.990Z"
   },
   {
    "duration": 14,
    "start_time": "2022-12-04T11:15:43.999Z"
   },
   {
    "duration": 24,
    "start_time": "2022-12-04T11:15:44.015Z"
   },
   {
    "duration": 42,
    "start_time": "2022-12-04T11:15:44.041Z"
   },
   {
    "duration": 8,
    "start_time": "2022-12-04T11:15:44.085Z"
   },
   {
    "duration": 5,
    "start_time": "2022-12-04T11:15:44.095Z"
   },
   {
    "duration": 297,
    "start_time": "2022-12-04T11:15:44.102Z"
   },
   {
    "duration": 213,
    "start_time": "2022-12-04T11:15:44.401Z"
   },
   {
    "duration": 292,
    "start_time": "2022-12-04T11:15:44.616Z"
   },
   {
    "duration": 225,
    "start_time": "2022-12-04T11:15:44.910Z"
   },
   {
    "duration": 131,
    "start_time": "2022-12-04T11:15:45.137Z"
   },
   {
    "duration": 241,
    "start_time": "2022-12-04T11:15:45.270Z"
   },
   {
    "duration": 190,
    "start_time": "2022-12-04T11:15:45.513Z"
   },
   {
    "duration": 220,
    "start_time": "2022-12-04T11:15:45.704Z"
   },
   {
    "duration": 111,
    "start_time": "2022-12-04T11:15:45.926Z"
   },
   {
    "duration": 224,
    "start_time": "2022-12-04T11:15:46.039Z"
   },
   {
    "duration": 395,
    "start_time": "2022-12-04T11:15:46.265Z"
   },
   {
    "duration": 309,
    "start_time": "2022-12-04T11:15:46.661Z"
   },
   {
    "duration": 10,
    "start_time": "2022-12-04T11:15:46.979Z"
   },
   {
    "duration": 145,
    "start_time": "2022-12-04T11:15:46.991Z"
   },
   {
    "duration": 181,
    "start_time": "2022-12-04T11:15:47.138Z"
   },
   {
    "duration": 10,
    "start_time": "2022-12-04T11:15:47.321Z"
   },
   {
    "duration": 184,
    "start_time": "2022-12-04T11:15:47.333Z"
   },
   {
    "duration": 168,
    "start_time": "2022-12-04T11:15:47.519Z"
   },
   {
    "duration": 173,
    "start_time": "2022-12-04T11:15:47.688Z"
   },
   {
    "duration": 163,
    "start_time": "2022-12-04T11:15:47.862Z"
   },
   {
    "duration": 152,
    "start_time": "2022-12-04T11:15:48.026Z"
   },
   {
    "duration": 218,
    "start_time": "2022-12-04T11:15:48.180Z"
   },
   {
    "duration": 148,
    "start_time": "2022-12-04T11:15:48.400Z"
   },
   {
    "duration": 183,
    "start_time": "2022-12-04T11:15:48.549Z"
   },
   {
    "duration": 145,
    "start_time": "2022-12-04T11:15:48.734Z"
   },
   {
    "duration": 18,
    "start_time": "2022-12-04T11:15:48.881Z"
   },
   {
    "duration": 23,
    "start_time": "2022-12-04T11:15:48.900Z"
   },
   {
    "duration": 71,
    "start_time": "2022-12-04T11:15:48.924Z"
   },
   {
    "duration": 19,
    "start_time": "2022-12-04T11:15:48.997Z"
   },
   {
    "duration": 11,
    "start_time": "2022-12-04T11:15:49.018Z"
   },
   {
    "duration": 230,
    "start_time": "2022-12-04T11:15:49.031Z"
   },
   {
    "duration": 209,
    "start_time": "2022-12-04T11:16:08.880Z"
   },
   {
    "duration": 210,
    "start_time": "2022-12-04T11:16:44.993Z"
   },
   {
    "duration": 353,
    "start_time": "2022-12-04T11:16:49.069Z"
   },
   {
    "duration": 426,
    "start_time": "2022-12-04T11:16:58.666Z"
   },
   {
    "duration": 269,
    "start_time": "2022-12-04T11:17:20.597Z"
   },
   {
    "duration": 321,
    "start_time": "2022-12-04T11:17:24.174Z"
   },
   {
    "duration": 278,
    "start_time": "2022-12-04T11:17:26.374Z"
   },
   {
    "duration": 298,
    "start_time": "2022-12-04T11:17:28.772Z"
   },
   {
    "duration": 274,
    "start_time": "2022-12-04T11:17:31.992Z"
   },
   {
    "duration": 490,
    "start_time": "2022-12-04T11:17:34.689Z"
   },
   {
    "duration": 271,
    "start_time": "2022-12-04T11:17:37.649Z"
   },
   {
    "duration": 215,
    "start_time": "2022-12-04T11:17:42.391Z"
   },
   {
    "duration": 259,
    "start_time": "2022-12-04T11:18:12.964Z"
   },
   {
    "duration": 222,
    "start_time": "2022-12-04T11:18:16.769Z"
   },
   {
    "duration": 599,
    "start_time": "2022-12-04T11:18:24.013Z"
   },
   {
    "duration": 1749,
    "start_time": "2022-12-04T11:18:24.613Z"
   },
   {
    "duration": 232,
    "start_time": "2022-12-04T11:18:26.364Z"
   },
   {
    "duration": 2,
    "start_time": "2022-12-04T11:18:26.599Z"
   },
   {
    "duration": 45,
    "start_time": "2022-12-04T11:18:26.603Z"
   },
   {
    "duration": 16,
    "start_time": "2022-12-04T11:18:26.649Z"
   },
   {
    "duration": 23,
    "start_time": "2022-12-04T11:18:26.677Z"
   },
   {
    "duration": 9,
    "start_time": "2022-12-04T11:18:26.701Z"
   },
   {
    "duration": 1844,
    "start_time": "2022-12-04T11:18:26.712Z"
   },
   {
    "duration": 4,
    "start_time": "2022-12-04T11:18:28.559Z"
   },
   {
    "duration": 34,
    "start_time": "2022-12-04T11:18:28.564Z"
   },
   {
    "duration": 162,
    "start_time": "2022-12-04T11:18:28.599Z"
   },
   {
    "duration": 22,
    "start_time": "2022-12-04T11:18:28.762Z"
   },
   {
    "duration": 20,
    "start_time": "2022-12-04T11:18:28.786Z"
   },
   {
    "duration": 61,
    "start_time": "2022-12-04T11:18:28.807Z"
   },
   {
    "duration": 13,
    "start_time": "2022-12-04T11:18:28.869Z"
   },
   {
    "duration": 28,
    "start_time": "2022-12-04T11:18:28.884Z"
   },
   {
    "duration": 37,
    "start_time": "2022-12-04T11:18:28.914Z"
   },
   {
    "duration": 28,
    "start_time": "2022-12-04T11:18:28.953Z"
   },
   {
    "duration": 25,
    "start_time": "2022-12-04T11:18:28.983Z"
   },
   {
    "duration": 75,
    "start_time": "2022-12-04T11:18:29.010Z"
   },
   {
    "duration": 8,
    "start_time": "2022-12-04T11:18:29.087Z"
   },
   {
    "duration": 24,
    "start_time": "2022-12-04T11:18:29.097Z"
   },
   {
    "duration": 23,
    "start_time": "2022-12-04T11:18:29.123Z"
   },
   {
    "duration": 34,
    "start_time": "2022-12-04T11:18:29.148Z"
   },
   {
    "duration": 24,
    "start_time": "2022-12-04T11:18:29.184Z"
   },
   {
    "duration": 16,
    "start_time": "2022-12-04T11:18:29.210Z"
   },
   {
    "duration": 25,
    "start_time": "2022-12-04T11:18:29.231Z"
   },
   {
    "duration": 2780,
    "start_time": "2022-12-04T11:18:29.258Z"
   },
   {
    "duration": 3040,
    "start_time": "2022-12-04T11:18:32.039Z"
   },
   {
    "duration": 17,
    "start_time": "2022-12-04T11:18:35.081Z"
   },
   {
    "duration": 12,
    "start_time": "2022-12-04T11:18:35.100Z"
   },
   {
    "duration": 18,
    "start_time": "2022-12-04T11:18:35.113Z"
   },
   {
    "duration": 359,
    "start_time": "2022-12-04T11:18:35.133Z"
   },
   {
    "duration": 9,
    "start_time": "2022-12-04T11:18:35.494Z"
   },
   {
    "duration": 8,
    "start_time": "2022-12-04T11:18:35.504Z"
   },
   {
    "duration": 5,
    "start_time": "2022-12-04T11:18:35.514Z"
   },
   {
    "duration": 6,
    "start_time": "2022-12-04T11:18:35.520Z"
   },
   {
    "duration": 50,
    "start_time": "2022-12-04T11:18:35.528Z"
   },
   {
    "duration": 7,
    "start_time": "2022-12-04T11:18:35.580Z"
   },
   {
    "duration": 13,
    "start_time": "2022-12-04T11:18:35.588Z"
   },
   {
    "duration": 20,
    "start_time": "2022-12-04T11:18:35.603Z"
   },
   {
    "duration": 22,
    "start_time": "2022-12-04T11:18:35.625Z"
   },
   {
    "duration": 29,
    "start_time": "2022-12-04T11:18:35.649Z"
   },
   {
    "duration": 4,
    "start_time": "2022-12-04T11:18:35.681Z"
   },
   {
    "duration": 318,
    "start_time": "2022-12-04T11:18:35.687Z"
   },
   {
    "duration": 210,
    "start_time": "2022-12-04T11:18:36.007Z"
   },
   {
    "duration": 304,
    "start_time": "2022-12-04T11:18:36.219Z"
   },
   {
    "duration": 211,
    "start_time": "2022-12-04T11:18:36.525Z"
   },
   {
    "duration": 133,
    "start_time": "2022-12-04T11:18:36.737Z"
   },
   {
    "duration": 251,
    "start_time": "2022-12-04T11:18:36.871Z"
   },
   {
    "duration": 183,
    "start_time": "2022-12-04T11:18:37.124Z"
   },
   {
    "duration": 195,
    "start_time": "2022-12-04T11:18:37.309Z"
   },
   {
    "duration": 115,
    "start_time": "2022-12-04T11:18:37.506Z"
   },
   {
    "duration": 200,
    "start_time": "2022-12-04T11:18:37.623Z"
   },
   {
    "duration": 395,
    "start_time": "2022-12-04T11:18:37.824Z"
   },
   {
    "duration": 283,
    "start_time": "2022-12-04T11:18:38.220Z"
   },
   {
    "duration": 9,
    "start_time": "2022-12-04T11:18:38.505Z"
   },
   {
    "duration": 131,
    "start_time": "2022-12-04T11:18:38.515Z"
   },
   {
    "duration": 144,
    "start_time": "2022-12-04T11:18:38.647Z"
   },
   {
    "duration": 8,
    "start_time": "2022-12-04T11:18:38.793Z"
   },
   {
    "duration": 183,
    "start_time": "2022-12-04T11:18:38.803Z"
   },
   {
    "duration": 168,
    "start_time": "2022-12-04T11:18:38.988Z"
   },
   {
    "duration": 170,
    "start_time": "2022-12-04T11:18:39.157Z"
   },
   {
    "duration": 159,
    "start_time": "2022-12-04T11:18:39.329Z"
   },
   {
    "duration": 143,
    "start_time": "2022-12-04T11:18:39.490Z"
   },
   {
    "duration": 217,
    "start_time": "2022-12-04T11:18:39.635Z"
   },
   {
    "duration": 156,
    "start_time": "2022-12-04T11:18:39.853Z"
   },
   {
    "duration": 180,
    "start_time": "2022-12-04T11:18:40.010Z"
   },
   {
    "duration": 136,
    "start_time": "2022-12-04T11:18:40.192Z"
   },
   {
    "duration": 18,
    "start_time": "2022-12-04T11:18:40.330Z"
   },
   {
    "duration": 34,
    "start_time": "2022-12-04T11:18:40.350Z"
   },
   {
    "duration": 37,
    "start_time": "2022-12-04T11:18:40.385Z"
   },
   {
    "duration": 15,
    "start_time": "2022-12-04T11:18:40.424Z"
   },
   {
    "duration": 16,
    "start_time": "2022-12-04T11:18:40.440Z"
   },
   {
    "duration": 183,
    "start_time": "2022-12-04T11:18:40.457Z"
   },
   {
    "duration": 229,
    "start_time": "2022-12-04T11:19:08.973Z"
   },
   {
    "duration": 163,
    "start_time": "2022-12-04T11:21:28.115Z"
   },
   {
    "duration": 169,
    "start_time": "2022-12-04T11:21:36.016Z"
   },
   {
    "duration": 151,
    "start_time": "2022-12-04T11:21:45.517Z"
   },
   {
    "duration": 216,
    "start_time": "2022-12-04T11:24:49.449Z"
   },
   {
    "duration": 672,
    "start_time": "2022-12-04T11:25:04.672Z"
   },
   {
    "duration": 1661,
    "start_time": "2022-12-04T11:25:05.346Z"
   },
   {
    "duration": 147,
    "start_time": "2022-12-04T11:25:07.009Z"
   },
   {
    "duration": 3,
    "start_time": "2022-12-04T11:25:07.158Z"
   },
   {
    "duration": 43,
    "start_time": "2022-12-04T11:25:07.163Z"
   },
   {
    "duration": 16,
    "start_time": "2022-12-04T11:25:07.208Z"
   },
   {
    "duration": 23,
    "start_time": "2022-12-04T11:25:07.226Z"
   },
   {
    "duration": 32,
    "start_time": "2022-12-04T11:25:07.251Z"
   },
   {
    "duration": 1879,
    "start_time": "2022-12-04T11:25:07.285Z"
   },
   {
    "duration": 4,
    "start_time": "2022-12-04T11:25:09.167Z"
   },
   {
    "duration": 8,
    "start_time": "2022-12-04T11:25:09.173Z"
   },
   {
    "duration": 137,
    "start_time": "2022-12-04T11:25:09.183Z"
   },
   {
    "duration": 20,
    "start_time": "2022-12-04T11:25:09.322Z"
   },
   {
    "duration": 12,
    "start_time": "2022-12-04T11:25:09.344Z"
   },
   {
    "duration": 69,
    "start_time": "2022-12-04T11:25:09.357Z"
   },
   {
    "duration": 13,
    "start_time": "2022-12-04T11:25:09.427Z"
   },
   {
    "duration": 4,
    "start_time": "2022-12-04T11:25:09.441Z"
   },
   {
    "duration": 33,
    "start_time": "2022-12-04T11:25:09.446Z"
   },
   {
    "duration": 4,
    "start_time": "2022-12-04T11:25:09.480Z"
   },
   {
    "duration": 8,
    "start_time": "2022-12-04T11:25:09.486Z"
   },
   {
    "duration": 64,
    "start_time": "2022-12-04T11:25:09.495Z"
   },
   {
    "duration": 18,
    "start_time": "2022-12-04T11:25:09.561Z"
   },
   {
    "duration": 9,
    "start_time": "2022-12-04T11:25:09.581Z"
   },
   {
    "duration": 12,
    "start_time": "2022-12-04T11:25:09.591Z"
   },
   {
    "duration": 15,
    "start_time": "2022-12-04T11:25:09.604Z"
   },
   {
    "duration": 13,
    "start_time": "2022-12-04T11:25:09.620Z"
   },
   {
    "duration": 44,
    "start_time": "2022-12-04T11:25:09.635Z"
   },
   {
    "duration": 21,
    "start_time": "2022-12-04T11:25:09.683Z"
   },
   {
    "duration": 2671,
    "start_time": "2022-12-04T11:25:09.706Z"
   },
   {
    "duration": 3049,
    "start_time": "2022-12-04T11:25:12.379Z"
   },
   {
    "duration": 18,
    "start_time": "2022-12-04T11:25:15.430Z"
   },
   {
    "duration": 31,
    "start_time": "2022-12-04T11:25:15.450Z"
   },
   {
    "duration": 19,
    "start_time": "2022-12-04T11:25:15.483Z"
   },
   {
    "duration": 396,
    "start_time": "2022-12-04T11:25:15.504Z"
   },
   {
    "duration": 10,
    "start_time": "2022-12-04T11:25:15.902Z"
   },
   {
    "duration": 12,
    "start_time": "2022-12-04T11:25:15.914Z"
   },
   {
    "duration": 7,
    "start_time": "2022-12-04T11:25:15.928Z"
   },
   {
    "duration": 5,
    "start_time": "2022-12-04T11:25:15.937Z"
   },
   {
    "duration": 46,
    "start_time": "2022-12-04T11:25:15.944Z"
   },
   {
    "duration": 8,
    "start_time": "2022-12-04T11:25:15.992Z"
   },
   {
    "duration": 14,
    "start_time": "2022-12-04T11:25:16.002Z"
   },
   {
    "duration": 15,
    "start_time": "2022-12-04T11:25:16.018Z"
   },
   {
    "duration": 58,
    "start_time": "2022-12-04T11:25:16.035Z"
   },
   {
    "duration": 8,
    "start_time": "2022-12-04T11:25:16.094Z"
   },
   {
    "duration": 5,
    "start_time": "2022-12-04T11:25:16.103Z"
   },
   {
    "duration": 314,
    "start_time": "2022-12-04T11:25:16.110Z"
   },
   {
    "duration": 236,
    "start_time": "2022-12-04T11:25:16.426Z"
   },
   {
    "duration": 281,
    "start_time": "2022-12-04T11:25:16.664Z"
   },
   {
    "duration": 207,
    "start_time": "2022-12-04T11:25:16.947Z"
   },
   {
    "duration": 143,
    "start_time": "2022-12-04T11:25:17.156Z"
   },
   {
    "duration": 233,
    "start_time": "2022-12-04T11:25:17.300Z"
   },
   {
    "duration": 186,
    "start_time": "2022-12-04T11:25:17.535Z"
   },
   {
    "duration": 218,
    "start_time": "2022-12-04T11:25:17.723Z"
   },
   {
    "duration": 127,
    "start_time": "2022-12-04T11:25:17.943Z"
   },
   {
    "duration": 217,
    "start_time": "2022-12-04T11:25:18.077Z"
   },
   {
    "duration": 443,
    "start_time": "2022-12-04T11:25:18.295Z"
   },
   {
    "duration": 344,
    "start_time": "2022-12-04T11:25:18.740Z"
   },
   {
    "duration": 10,
    "start_time": "2022-12-04T11:25:19.085Z"
   },
   {
    "duration": 140,
    "start_time": "2022-12-04T11:25:19.097Z"
   },
   {
    "duration": 147,
    "start_time": "2022-12-04T11:25:19.239Z"
   },
   {
    "duration": 10,
    "start_time": "2022-12-04T11:25:19.387Z"
   },
   {
    "duration": 164,
    "start_time": "2022-12-04T11:25:19.398Z"
   },
   {
    "duration": 157,
    "start_time": "2022-12-04T11:25:19.564Z"
   },
   {
    "duration": 164,
    "start_time": "2022-12-04T11:25:19.723Z"
   },
   {
    "duration": 182,
    "start_time": "2022-12-04T11:25:19.888Z"
   },
   {
    "duration": 161,
    "start_time": "2022-12-04T11:25:20.078Z"
   },
   {
    "duration": 224,
    "start_time": "2022-12-04T11:25:20.241Z"
   },
   {
    "duration": 159,
    "start_time": "2022-12-04T11:25:20.467Z"
   },
   {
    "duration": 174,
    "start_time": "2022-12-04T11:25:20.627Z"
   },
   {
    "duration": 146,
    "start_time": "2022-12-04T11:25:20.802Z"
   },
   {
    "duration": 31,
    "start_time": "2022-12-04T11:25:20.950Z"
   },
   {
    "duration": 24,
    "start_time": "2022-12-04T11:25:20.983Z"
   },
   {
    "duration": 43,
    "start_time": "2022-12-04T11:25:21.009Z"
   },
   {
    "duration": 33,
    "start_time": "2022-12-04T11:25:21.054Z"
   },
   {
    "duration": 11,
    "start_time": "2022-12-04T11:25:21.088Z"
   },
   {
    "duration": 211,
    "start_time": "2022-12-04T11:25:21.100Z"
   },
   {
    "duration": 205,
    "start_time": "2022-12-04T11:25:44.165Z"
   },
   {
    "duration": 155,
    "start_time": "2022-12-04T11:25:53.593Z"
   },
   {
    "duration": 211,
    "start_time": "2022-12-04T11:25:57.273Z"
   },
   {
    "duration": 229,
    "start_time": "2022-12-04T11:26:03.644Z"
   },
   {
    "duration": 646,
    "start_time": "2022-12-04T11:26:55.870Z"
   },
   {
    "duration": 1719,
    "start_time": "2022-12-04T11:26:56.518Z"
   },
   {
    "duration": 155,
    "start_time": "2022-12-04T11:26:58.239Z"
   },
   {
    "duration": 2,
    "start_time": "2022-12-04T11:26:58.396Z"
   },
   {
    "duration": 50,
    "start_time": "2022-12-04T11:26:58.400Z"
   },
   {
    "duration": 17,
    "start_time": "2022-12-04T11:26:58.452Z"
   },
   {
    "duration": 26,
    "start_time": "2022-12-04T11:26:58.477Z"
   },
   {
    "duration": 9,
    "start_time": "2022-12-04T11:26:58.504Z"
   },
   {
    "duration": 1901,
    "start_time": "2022-12-04T11:26:58.515Z"
   },
   {
    "duration": 4,
    "start_time": "2022-12-04T11:27:00.419Z"
   },
   {
    "duration": 12,
    "start_time": "2022-12-04T11:27:00.425Z"
   },
   {
    "duration": 154,
    "start_time": "2022-12-04T11:27:00.438Z"
   },
   {
    "duration": 20,
    "start_time": "2022-12-04T11:27:00.594Z"
   },
   {
    "duration": 31,
    "start_time": "2022-12-04T11:27:00.616Z"
   },
   {
    "duration": 75,
    "start_time": "2022-12-04T11:27:00.649Z"
   },
   {
    "duration": 15,
    "start_time": "2022-12-04T11:27:00.726Z"
   },
   {
    "duration": 10,
    "start_time": "2022-12-04T11:27:00.743Z"
   },
   {
    "duration": 26,
    "start_time": "2022-12-04T11:27:00.754Z"
   },
   {
    "duration": 5,
    "start_time": "2022-12-04T11:27:00.782Z"
   },
   {
    "duration": 29,
    "start_time": "2022-12-04T11:27:00.788Z"
   },
   {
    "duration": 77,
    "start_time": "2022-12-04T11:27:00.819Z"
   },
   {
    "duration": 8,
    "start_time": "2022-12-04T11:27:00.897Z"
   },
   {
    "duration": 20,
    "start_time": "2022-12-04T11:27:00.907Z"
   },
   {
    "duration": 39,
    "start_time": "2022-12-04T11:27:00.928Z"
   },
   {
    "duration": 28,
    "start_time": "2022-12-04T11:27:00.969Z"
   },
   {
    "duration": 18,
    "start_time": "2022-12-04T11:27:00.998Z"
   },
   {
    "duration": 9,
    "start_time": "2022-12-04T11:27:01.018Z"
   },
   {
    "duration": 49,
    "start_time": "2022-12-04T11:27:01.032Z"
   },
   {
    "duration": 2833,
    "start_time": "2022-12-04T11:27:01.083Z"
   },
   {
    "duration": 2831,
    "start_time": "2022-12-04T11:27:03.918Z"
   },
   {
    "duration": 14,
    "start_time": "2022-12-04T11:27:06.751Z"
   },
   {
    "duration": 19,
    "start_time": "2022-12-04T11:27:06.766Z"
   },
   {
    "duration": 20,
    "start_time": "2022-12-04T11:27:06.787Z"
   },
   {
    "duration": 334,
    "start_time": "2022-12-04T11:27:06.809Z"
   },
   {
    "duration": 8,
    "start_time": "2022-12-04T11:27:07.145Z"
   },
   {
    "duration": 19,
    "start_time": "2022-12-04T11:27:07.155Z"
   },
   {
    "duration": 6,
    "start_time": "2022-12-04T11:27:07.178Z"
   },
   {
    "duration": 9,
    "start_time": "2022-12-04T11:27:07.186Z"
   },
   {
    "duration": 24,
    "start_time": "2022-12-04T11:27:07.197Z"
   },
   {
    "duration": 6,
    "start_time": "2022-12-04T11:27:07.223Z"
   },
   {
    "duration": 21,
    "start_time": "2022-12-04T11:27:07.231Z"
   },
   {
    "duration": 17,
    "start_time": "2022-12-04T11:27:07.253Z"
   },
   {
    "duration": 22,
    "start_time": "2022-12-04T11:27:07.272Z"
   },
   {
    "duration": 7,
    "start_time": "2022-12-04T11:27:07.296Z"
   },
   {
    "duration": 7,
    "start_time": "2022-12-04T11:27:07.305Z"
   },
   {
    "duration": 274,
    "start_time": "2022-12-04T11:27:07.314Z"
   },
   {
    "duration": 217,
    "start_time": "2022-12-04T11:27:07.590Z"
   },
   {
    "duration": 300,
    "start_time": "2022-12-04T11:27:07.809Z"
   },
   {
    "duration": 223,
    "start_time": "2022-12-04T11:27:08.111Z"
   },
   {
    "duration": 144,
    "start_time": "2022-12-04T11:27:08.336Z"
   },
   {
    "duration": 239,
    "start_time": "2022-12-04T11:27:08.481Z"
   },
   {
    "duration": 181,
    "start_time": "2022-12-04T11:27:08.722Z"
   },
   {
    "duration": 208,
    "start_time": "2022-12-04T11:27:08.904Z"
   },
   {
    "duration": 116,
    "start_time": "2022-12-04T11:27:09.113Z"
   },
   {
    "duration": 203,
    "start_time": "2022-12-04T11:27:09.230Z"
   },
   {
    "duration": 396,
    "start_time": "2022-12-04T11:27:09.434Z"
   },
   {
    "duration": 297,
    "start_time": "2022-12-04T11:27:09.832Z"
   },
   {
    "duration": 8,
    "start_time": "2022-12-04T11:27:10.131Z"
   },
   {
    "duration": 119,
    "start_time": "2022-12-04T11:27:10.141Z"
   },
   {
    "duration": 145,
    "start_time": "2022-12-04T11:27:10.261Z"
   },
   {
    "duration": 9,
    "start_time": "2022-12-04T11:27:10.407Z"
   },
   {
    "duration": 164,
    "start_time": "2022-12-04T11:27:10.417Z"
   },
   {
    "duration": 180,
    "start_time": "2022-12-04T11:27:10.582Z"
   },
   {
    "duration": 185,
    "start_time": "2022-12-04T11:27:10.764Z"
   },
   {
    "duration": 208,
    "start_time": "2022-12-04T11:27:10.951Z"
   },
   {
    "duration": 150,
    "start_time": "2022-12-04T11:27:11.161Z"
   },
   {
    "duration": 245,
    "start_time": "2022-12-04T11:27:11.313Z"
   },
   {
    "duration": 166,
    "start_time": "2022-12-04T11:27:11.560Z"
   },
   {
    "duration": 171,
    "start_time": "2022-12-04T11:27:11.727Z"
   },
   {
    "duration": 148,
    "start_time": "2022-12-04T11:27:11.900Z"
   },
   {
    "duration": 29,
    "start_time": "2022-12-04T11:27:12.050Z"
   },
   {
    "duration": 29,
    "start_time": "2022-12-04T11:27:12.081Z"
   },
   {
    "duration": 62,
    "start_time": "2022-12-04T11:27:12.112Z"
   },
   {
    "duration": 24,
    "start_time": "2022-12-04T11:27:12.175Z"
   },
   {
    "duration": 47,
    "start_time": "2022-12-04T11:27:12.201Z"
   },
   {
    "duration": 256,
    "start_time": "2022-12-04T11:27:12.250Z"
   },
   {
    "duration": 601,
    "start_time": "2022-12-04T11:27:41.608Z"
   },
   {
    "duration": 1651,
    "start_time": "2022-12-04T11:27:42.211Z"
   },
   {
    "duration": 182,
    "start_time": "2022-12-04T11:27:43.864Z"
   },
   {
    "duration": 5,
    "start_time": "2022-12-04T11:27:44.049Z"
   },
   {
    "duration": 59,
    "start_time": "2022-12-04T11:27:44.056Z"
   },
   {
    "duration": 20,
    "start_time": "2022-12-04T11:27:44.118Z"
   },
   {
    "duration": 30,
    "start_time": "2022-12-04T11:27:44.140Z"
   },
   {
    "duration": 12,
    "start_time": "2022-12-04T11:27:44.178Z"
   },
   {
    "duration": 2029,
    "start_time": "2022-12-04T11:27:44.191Z"
   },
   {
    "duration": 5,
    "start_time": "2022-12-04T11:27:46.223Z"
   },
   {
    "duration": 9,
    "start_time": "2022-12-04T11:27:46.229Z"
   },
   {
    "duration": 149,
    "start_time": "2022-12-04T11:27:46.240Z"
   },
   {
    "duration": 25,
    "start_time": "2022-12-04T11:27:46.391Z"
   },
   {
    "duration": 10,
    "start_time": "2022-12-04T11:27:46.418Z"
   },
   {
    "duration": 71,
    "start_time": "2022-12-04T11:27:46.429Z"
   },
   {
    "duration": 14,
    "start_time": "2022-12-04T11:27:46.502Z"
   },
   {
    "duration": 5,
    "start_time": "2022-12-04T11:27:46.518Z"
   },
   {
    "duration": 15,
    "start_time": "2022-12-04T11:27:46.524Z"
   },
   {
    "duration": 4,
    "start_time": "2022-12-04T11:27:46.541Z"
   },
   {
    "duration": 34,
    "start_time": "2022-12-04T11:27:46.547Z"
   },
   {
    "duration": 58,
    "start_time": "2022-12-04T11:27:46.583Z"
   },
   {
    "duration": 7,
    "start_time": "2022-12-04T11:27:46.643Z"
   },
   {
    "duration": 17,
    "start_time": "2022-12-04T11:27:46.651Z"
   },
   {
    "duration": 13,
    "start_time": "2022-12-04T11:27:46.678Z"
   },
   {
    "duration": 16,
    "start_time": "2022-12-04T11:27:46.692Z"
   },
   {
    "duration": 14,
    "start_time": "2022-12-04T11:27:46.709Z"
   },
   {
    "duration": 10,
    "start_time": "2022-12-04T11:27:46.725Z"
   },
   {
    "duration": 56,
    "start_time": "2022-12-04T11:27:46.740Z"
   },
   {
    "duration": 2801,
    "start_time": "2022-12-04T11:27:46.797Z"
   },
   {
    "duration": 2870,
    "start_time": "2022-12-04T11:27:49.600Z"
   },
   {
    "duration": 18,
    "start_time": "2022-12-04T11:27:52.472Z"
   },
   {
    "duration": 22,
    "start_time": "2022-12-04T11:27:52.491Z"
   },
   {
    "duration": 17,
    "start_time": "2022-12-04T11:27:52.515Z"
   },
   {
    "duration": 318,
    "start_time": "2022-12-04T11:27:52.533Z"
   },
   {
    "duration": 9,
    "start_time": "2022-12-04T11:27:52.853Z"
   },
   {
    "duration": 19,
    "start_time": "2022-12-04T11:27:52.863Z"
   },
   {
    "duration": 4,
    "start_time": "2022-12-04T11:27:52.884Z"
   },
   {
    "duration": 7,
    "start_time": "2022-12-04T11:27:52.890Z"
   },
   {
    "duration": 19,
    "start_time": "2022-12-04T11:27:52.899Z"
   },
   {
    "duration": 8,
    "start_time": "2022-12-04T11:27:52.920Z"
   },
   {
    "duration": 15,
    "start_time": "2022-12-04T11:27:52.930Z"
   },
   {
    "duration": 40,
    "start_time": "2022-12-04T11:27:52.947Z"
   },
   {
    "duration": 20,
    "start_time": "2022-12-04T11:27:52.989Z"
   },
   {
    "duration": 6,
    "start_time": "2022-12-04T11:27:53.011Z"
   },
   {
    "duration": 5,
    "start_time": "2022-12-04T11:27:53.018Z"
   },
   {
    "duration": 307,
    "start_time": "2022-12-04T11:27:53.024Z"
   },
   {
    "duration": 231,
    "start_time": "2022-12-04T11:27:53.332Z"
   },
   {
    "duration": 315,
    "start_time": "2022-12-04T11:27:53.565Z"
   },
   {
    "duration": 267,
    "start_time": "2022-12-04T11:27:53.882Z"
   },
   {
    "duration": 146,
    "start_time": "2022-12-04T11:27:54.150Z"
   },
   {
    "duration": 255,
    "start_time": "2022-12-04T11:27:54.298Z"
   },
   {
    "duration": 196,
    "start_time": "2022-12-04T11:27:54.555Z"
   },
   {
    "duration": 214,
    "start_time": "2022-12-04T11:27:54.752Z"
   },
   {
    "duration": 126,
    "start_time": "2022-12-04T11:27:54.968Z"
   },
   {
    "duration": 220,
    "start_time": "2022-12-04T11:27:55.096Z"
   },
   {
    "duration": 430,
    "start_time": "2022-12-04T11:27:55.318Z"
   },
   {
    "duration": 297,
    "start_time": "2022-12-04T11:27:55.750Z"
   },
   {
    "duration": 10,
    "start_time": "2022-12-04T11:27:56.049Z"
   },
   {
    "duration": 129,
    "start_time": "2022-12-04T11:27:56.061Z"
   },
   {
    "duration": 148,
    "start_time": "2022-12-04T11:27:56.191Z"
   },
   {
    "duration": 9,
    "start_time": "2022-12-04T11:27:56.341Z"
   },
   {
    "duration": 171,
    "start_time": "2022-12-04T11:27:56.352Z"
   },
   {
    "duration": 191,
    "start_time": "2022-12-04T11:27:56.524Z"
   },
   {
    "duration": 180,
    "start_time": "2022-12-04T11:27:56.717Z"
   },
   {
    "duration": 169,
    "start_time": "2022-12-04T11:27:56.899Z"
   },
   {
    "duration": 149,
    "start_time": "2022-12-04T11:27:57.070Z"
   },
   {
    "duration": 224,
    "start_time": "2022-12-04T11:27:57.221Z"
   },
   {
    "duration": 167,
    "start_time": "2022-12-04T11:27:57.447Z"
   },
   {
    "duration": 189,
    "start_time": "2022-12-04T11:27:57.615Z"
   },
   {
    "duration": 163,
    "start_time": "2022-12-04T11:27:57.805Z"
   },
   {
    "duration": 24,
    "start_time": "2022-12-04T11:27:57.970Z"
   },
   {
    "duration": 24,
    "start_time": "2022-12-04T11:27:57.996Z"
   },
   {
    "duration": 70,
    "start_time": "2022-12-04T11:27:58.021Z"
   },
   {
    "duration": 18,
    "start_time": "2022-12-04T11:27:58.092Z"
   },
   {
    "duration": 17,
    "start_time": "2022-12-04T11:27:58.111Z"
   },
   {
    "duration": 193,
    "start_time": "2022-12-04T11:27:58.130Z"
   },
   {
    "duration": 216,
    "start_time": "2022-12-04T11:30:50.374Z"
   },
   {
    "duration": 219,
    "start_time": "2022-12-04T11:34:10.742Z"
   },
   {
    "duration": 114,
    "start_time": "2022-12-04T11:35:55.826Z"
   },
   {
    "duration": 134,
    "start_time": "2022-12-04T11:36:14.497Z"
   },
   {
    "duration": 122,
    "start_time": "2022-12-04T11:36:23.773Z"
   },
   {
    "duration": 174,
    "start_time": "2022-12-04T11:36:34.157Z"
   },
   {
    "duration": 131,
    "start_time": "2022-12-04T11:36:44.428Z"
   },
   {
    "duration": 423,
    "start_time": "2022-12-04T11:37:28.756Z"
   },
   {
    "duration": 179,
    "start_time": "2022-12-04T11:38:09.216Z"
   },
   {
    "duration": 138,
    "start_time": "2022-12-04T11:38:41.402Z"
   },
   {
    "duration": 152,
    "start_time": "2022-12-04T11:38:57.212Z"
   },
   {
    "duration": 173,
    "start_time": "2022-12-04T11:39:09.268Z"
   },
   {
    "duration": 146,
    "start_time": "2022-12-04T11:39:21.742Z"
   },
   {
    "duration": 121,
    "start_time": "2022-12-04T11:39:31.916Z"
   },
   {
    "duration": 137,
    "start_time": "2022-12-04T11:39:43.678Z"
   },
   {
    "duration": 156,
    "start_time": "2022-12-04T11:40:10.189Z"
   },
   {
    "duration": 194,
    "start_time": "2022-12-04T11:40:24.011Z"
   },
   {
    "duration": 160,
    "start_time": "2022-12-04T11:40:52.039Z"
   },
   {
    "duration": 289,
    "start_time": "2022-12-04T11:43:38.689Z"
   },
   {
    "duration": 421,
    "start_time": "2022-12-04T11:43:56.435Z"
   },
   {
    "duration": 202,
    "start_time": "2022-12-04T11:44:30.482Z"
   },
   {
    "duration": 118,
    "start_time": "2022-12-04T11:44:49.661Z"
   },
   {
    "duration": 9,
    "start_time": "2022-12-04T11:45:11.720Z"
   },
   {
    "duration": 194,
    "start_time": "2022-12-04T11:45:17.009Z"
   },
   {
    "duration": 10,
    "start_time": "2022-12-04T11:45:26.558Z"
   },
   {
    "duration": 9,
    "start_time": "2022-12-04T11:45:34.270Z"
   },
   {
    "duration": 199,
    "start_time": "2022-12-04T11:45:37.321Z"
   },
   {
    "duration": 105,
    "start_time": "2022-12-04T11:45:40.549Z"
   },
   {
    "duration": 192,
    "start_time": "2022-12-04T11:46:09.151Z"
   },
   {
    "duration": 9,
    "start_time": "2022-12-04T11:46:25.665Z"
   },
   {
    "duration": 170,
    "start_time": "2022-12-04T11:46:28.038Z"
   },
   {
    "duration": 9,
    "start_time": "2022-12-04T11:46:39.805Z"
   },
   {
    "duration": 220,
    "start_time": "2022-12-04T11:46:51.236Z"
   },
   {
    "duration": 9,
    "start_time": "2022-12-04T11:47:20.741Z"
   },
   {
    "duration": 137,
    "start_time": "2022-12-04T11:47:21.941Z"
   },
   {
    "duration": 348,
    "start_time": "2022-12-04T11:47:48.762Z"
   },
   {
    "duration": 9,
    "start_time": "2022-12-04T11:47:52.996Z"
   },
   {
    "duration": 10,
    "start_time": "2022-12-04T11:48:13.826Z"
   },
   {
    "duration": 217,
    "start_time": "2022-12-04T11:48:18.297Z"
   },
   {
    "duration": 235,
    "start_time": "2022-12-04T11:48:46.947Z"
   },
   {
    "duration": 10,
    "start_time": "2022-12-04T11:48:49.325Z"
   },
   {
    "duration": 178,
    "start_time": "2022-12-04T11:53:17.164Z"
   },
   {
    "duration": 75,
    "start_time": "2022-12-04T11:54:14.571Z"
   },
   {
    "duration": 727,
    "start_time": "2022-12-05T05:56:40.472Z"
   },
   {
    "duration": 1868,
    "start_time": "2022-12-05T05:56:41.201Z"
   },
   {
    "duration": 245,
    "start_time": "2022-12-05T05:56:43.070Z"
   },
   {
    "duration": 2,
    "start_time": "2022-12-05T05:56:43.317Z"
   },
   {
    "duration": 38,
    "start_time": "2022-12-05T05:56:43.321Z"
   },
   {
    "duration": 13,
    "start_time": "2022-12-05T05:56:43.360Z"
   },
   {
    "duration": 20,
    "start_time": "2022-12-05T05:56:43.375Z"
   },
   {
    "duration": 25,
    "start_time": "2022-12-05T05:56:43.396Z"
   },
   {
    "duration": 1852,
    "start_time": "2022-12-05T05:56:43.423Z"
   },
   {
    "duration": 4,
    "start_time": "2022-12-05T05:56:45.278Z"
   },
   {
    "duration": 9,
    "start_time": "2022-12-05T05:56:45.283Z"
   },
   {
    "duration": 140,
    "start_time": "2022-12-05T05:56:45.293Z"
   },
   {
    "duration": 21,
    "start_time": "2022-12-05T05:56:45.435Z"
   },
   {
    "duration": 11,
    "start_time": "2022-12-05T05:56:45.458Z"
   },
   {
    "duration": 64,
    "start_time": "2022-12-05T05:56:45.471Z"
   },
   {
    "duration": 12,
    "start_time": "2022-12-05T05:56:45.536Z"
   },
   {
    "duration": 4,
    "start_time": "2022-12-05T05:56:45.550Z"
   },
   {
    "duration": 17,
    "start_time": "2022-12-05T05:56:45.556Z"
   },
   {
    "duration": 3,
    "start_time": "2022-12-05T05:56:45.575Z"
   },
   {
    "duration": 7,
    "start_time": "2022-12-05T05:56:45.580Z"
   },
   {
    "duration": 75,
    "start_time": "2022-12-05T05:56:45.589Z"
   },
   {
    "duration": 7,
    "start_time": "2022-12-05T05:56:45.665Z"
   },
   {
    "duration": 9,
    "start_time": "2022-12-05T05:56:45.674Z"
   },
   {
    "duration": 31,
    "start_time": "2022-12-05T05:56:45.685Z"
   },
   {
    "duration": 15,
    "start_time": "2022-12-05T05:56:45.718Z"
   },
   {
    "duration": 12,
    "start_time": "2022-12-05T05:56:45.734Z"
   },
   {
    "duration": 7,
    "start_time": "2022-12-05T05:56:45.747Z"
   },
   {
    "duration": 20,
    "start_time": "2022-12-05T05:56:45.758Z"
   },
   {
    "duration": 2715,
    "start_time": "2022-12-05T05:56:45.780Z"
   },
   {
    "duration": 2636,
    "start_time": "2022-12-05T05:56:48.496Z"
   },
   {
    "duration": 14,
    "start_time": "2022-12-05T05:56:51.133Z"
   },
   {
    "duration": 10,
    "start_time": "2022-12-05T05:56:51.148Z"
   },
   {
    "duration": 20,
    "start_time": "2022-12-05T05:56:51.160Z"
   },
   {
    "duration": 319,
    "start_time": "2022-12-05T05:56:51.183Z"
   },
   {
    "duration": 14,
    "start_time": "2022-12-05T05:56:51.504Z"
   },
   {
    "duration": 18,
    "start_time": "2022-12-05T05:56:51.519Z"
   },
   {
    "duration": 7,
    "start_time": "2022-12-05T05:56:51.539Z"
   },
   {
    "duration": 7,
    "start_time": "2022-12-05T05:56:51.547Z"
   },
   {
    "duration": 16,
    "start_time": "2022-12-05T05:56:51.556Z"
   },
   {
    "duration": 6,
    "start_time": "2022-12-05T05:56:51.574Z"
   },
   {
    "duration": 12,
    "start_time": "2022-12-05T05:56:51.582Z"
   },
   {
    "duration": 29,
    "start_time": "2022-12-05T05:56:51.596Z"
   },
   {
    "duration": 21,
    "start_time": "2022-12-05T05:56:51.626Z"
   },
   {
    "duration": 7,
    "start_time": "2022-12-05T05:56:51.649Z"
   },
   {
    "duration": 8,
    "start_time": "2022-12-05T05:56:51.658Z"
   },
   {
    "duration": 288,
    "start_time": "2022-12-05T05:56:51.667Z"
   },
   {
    "duration": 234,
    "start_time": "2022-12-05T05:56:51.956Z"
   },
   {
    "duration": 8,
    "start_time": "2022-12-05T05:56:52.191Z"
   },
   {
    "duration": 289,
    "start_time": "2022-12-05T05:56:52.200Z"
   },
   {
    "duration": 8,
    "start_time": "2022-12-05T05:56:52.491Z"
   },
   {
    "duration": 217,
    "start_time": "2022-12-05T05:56:52.500Z"
   },
   {
    "duration": 8,
    "start_time": "2022-12-05T05:56:52.719Z"
   },
   {
    "duration": 146,
    "start_time": "2022-12-05T05:56:52.728Z"
   },
   {
    "duration": 7,
    "start_time": "2022-12-05T05:56:52.875Z"
   },
   {
    "duration": 255,
    "start_time": "2022-12-05T05:56:52.884Z"
   },
   {
    "duration": 11,
    "start_time": "2022-12-05T05:56:53.141Z"
   },
   {
    "duration": 202,
    "start_time": "2022-12-05T05:56:53.154Z"
   },
   {
    "duration": 9,
    "start_time": "2022-12-05T05:56:53.357Z"
   },
   {
    "duration": 211,
    "start_time": "2022-12-05T05:56:53.367Z"
   },
   {
    "duration": 10,
    "start_time": "2022-12-05T05:56:53.580Z"
   },
   {
    "duration": 130,
    "start_time": "2022-12-05T05:56:53.591Z"
   },
   {
    "duration": 9,
    "start_time": "2022-12-05T05:56:53.723Z"
   },
   {
    "duration": 213,
    "start_time": "2022-12-05T05:56:53.733Z"
   },
   {
    "duration": 8,
    "start_time": "2022-12-05T05:56:53.948Z"
   },
   {
    "duration": 401,
    "start_time": "2022-12-05T05:56:53.958Z"
   },
   {
    "duration": 323,
    "start_time": "2022-12-05T05:56:54.361Z"
   },
   {
    "duration": 8,
    "start_time": "2022-12-05T05:56:54.686Z"
   },
   {
    "duration": 130,
    "start_time": "2022-12-05T05:56:54.695Z"
   },
   {
    "duration": 155,
    "start_time": "2022-12-05T05:56:54.826Z"
   },
   {
    "duration": 11,
    "start_time": "2022-12-05T05:56:54.983Z"
   },
   {
    "duration": 174,
    "start_time": "2022-12-05T05:56:54.995Z"
   },
   {
    "duration": 169,
    "start_time": "2022-12-05T05:56:55.171Z"
   },
   {
    "duration": 165,
    "start_time": "2022-12-05T05:56:55.341Z"
   },
   {
    "duration": 151,
    "start_time": "2022-12-05T05:56:55.508Z"
   },
   {
    "duration": 139,
    "start_time": "2022-12-05T05:56:55.661Z"
   },
   {
    "duration": 217,
    "start_time": "2022-12-05T05:56:55.802Z"
   },
   {
    "duration": 152,
    "start_time": "2022-12-05T05:56:56.020Z"
   },
   {
    "duration": 219,
    "start_time": "2022-12-05T05:56:56.173Z"
   },
   {
    "duration": 142,
    "start_time": "2022-12-05T05:56:56.394Z"
   },
   {
    "duration": 18,
    "start_time": "2022-12-05T05:56:56.538Z"
   },
   {
    "duration": 22,
    "start_time": "2022-12-05T05:56:56.558Z"
   },
   {
    "duration": 60,
    "start_time": "2022-12-05T05:56:56.586Z"
   },
   {
    "duration": 16,
    "start_time": "2022-12-05T05:56:56.648Z"
   },
   {
    "duration": 10,
    "start_time": "2022-12-05T05:56:56.666Z"
   },
   {
    "duration": 200,
    "start_time": "2022-12-05T05:56:56.677Z"
   },
   {
    "duration": 615,
    "start_time": "2022-12-05T05:59:59.819Z"
   },
   {
    "duration": 1870,
    "start_time": "2022-12-05T06:00:00.436Z"
   },
   {
    "duration": 224,
    "start_time": "2022-12-05T06:00:02.308Z"
   },
   {
    "duration": 2,
    "start_time": "2022-12-05T06:00:02.534Z"
   },
   {
    "duration": 75,
    "start_time": "2022-12-05T06:00:02.538Z"
   },
   {
    "duration": 15,
    "start_time": "2022-12-05T06:00:02.615Z"
   },
   {
    "duration": 43,
    "start_time": "2022-12-05T06:00:02.631Z"
   },
   {
    "duration": 45,
    "start_time": "2022-12-05T06:00:02.676Z"
   },
   {
    "duration": 1965,
    "start_time": "2022-12-05T06:00:02.722Z"
   },
   {
    "duration": 4,
    "start_time": "2022-12-05T06:00:04.689Z"
   },
   {
    "duration": 42,
    "start_time": "2022-12-05T06:00:04.694Z"
   },
   {
    "duration": 148,
    "start_time": "2022-12-05T06:00:04.737Z"
   },
   {
    "duration": 28,
    "start_time": "2022-12-05T06:00:04.887Z"
   },
   {
    "duration": 14,
    "start_time": "2022-12-05T06:00:04.918Z"
   },
   {
    "duration": 48,
    "start_time": "2022-12-05T06:00:04.934Z"
   },
   {
    "duration": 11,
    "start_time": "2022-12-05T06:00:04.984Z"
   },
   {
    "duration": 20,
    "start_time": "2022-12-05T06:00:04.996Z"
   },
   {
    "duration": 23,
    "start_time": "2022-12-05T06:00:05.017Z"
   },
   {
    "duration": 19,
    "start_time": "2022-12-05T06:00:05.041Z"
   },
   {
    "duration": 6,
    "start_time": "2022-12-05T06:00:05.061Z"
   },
   {
    "duration": 60,
    "start_time": "2022-12-05T06:00:05.069Z"
   },
   {
    "duration": 6,
    "start_time": "2022-12-05T06:00:05.131Z"
   },
   {
    "duration": 27,
    "start_time": "2022-12-05T06:00:05.139Z"
   },
   {
    "duration": 19,
    "start_time": "2022-12-05T06:00:05.167Z"
   },
   {
    "duration": 19,
    "start_time": "2022-12-05T06:00:05.187Z"
   },
   {
    "duration": 12,
    "start_time": "2022-12-05T06:00:05.208Z"
   },
   {
    "duration": 38,
    "start_time": "2022-12-05T06:00:05.222Z"
   },
   {
    "duration": 28,
    "start_time": "2022-12-05T06:00:05.261Z"
   },
   {
    "duration": 2705,
    "start_time": "2022-12-05T06:00:05.291Z"
   },
   {
    "duration": 2618,
    "start_time": "2022-12-05T06:00:07.998Z"
   },
   {
    "duration": 13,
    "start_time": "2022-12-05T06:00:10.617Z"
   },
   {
    "duration": 9,
    "start_time": "2022-12-05T06:00:10.632Z"
   },
   {
    "duration": 16,
    "start_time": "2022-12-05T06:00:10.643Z"
   },
   {
    "duration": 316,
    "start_time": "2022-12-05T06:00:10.660Z"
   },
   {
    "duration": 7,
    "start_time": "2022-12-05T06:00:10.978Z"
   },
   {
    "duration": 14,
    "start_time": "2022-12-05T06:00:10.986Z"
   },
   {
    "duration": 15,
    "start_time": "2022-12-05T06:00:11.001Z"
   },
   {
    "duration": 19,
    "start_time": "2022-12-05T06:00:11.018Z"
   },
   {
    "duration": 17,
    "start_time": "2022-12-05T06:00:11.038Z"
   },
   {
    "duration": 6,
    "start_time": "2022-12-05T06:00:11.057Z"
   },
   {
    "duration": 10,
    "start_time": "2022-12-05T06:00:11.067Z"
   },
   {
    "duration": 16,
    "start_time": "2022-12-05T06:00:11.078Z"
   },
   {
    "duration": 33,
    "start_time": "2022-12-05T06:00:11.096Z"
   },
   {
    "duration": 6,
    "start_time": "2022-12-05T06:00:11.130Z"
   },
   {
    "duration": 7,
    "start_time": "2022-12-05T06:00:11.137Z"
   },
   {
    "duration": 280,
    "start_time": "2022-12-05T06:00:11.145Z"
   },
   {
    "duration": 213,
    "start_time": "2022-12-05T06:00:11.427Z"
   },
   {
    "duration": 9,
    "start_time": "2022-12-05T06:00:11.641Z"
   },
   {
    "duration": 283,
    "start_time": "2022-12-05T06:00:11.651Z"
   },
   {
    "duration": 9,
    "start_time": "2022-12-05T06:00:11.936Z"
   },
   {
    "duration": 244,
    "start_time": "2022-12-05T06:00:11.947Z"
   },
   {
    "duration": 8,
    "start_time": "2022-12-05T06:00:12.193Z"
   },
   {
    "duration": 142,
    "start_time": "2022-12-05T06:00:12.203Z"
   },
   {
    "duration": 7,
    "start_time": "2022-12-05T06:00:12.347Z"
   },
   {
    "duration": 226,
    "start_time": "2022-12-05T06:00:12.355Z"
   },
   {
    "duration": 12,
    "start_time": "2022-12-05T06:00:12.583Z"
   },
   {
    "duration": 186,
    "start_time": "2022-12-05T06:00:12.597Z"
   },
   {
    "duration": 8,
    "start_time": "2022-12-05T06:00:12.784Z"
   },
   {
    "duration": 208,
    "start_time": "2022-12-05T06:00:12.794Z"
   },
   {
    "duration": 12,
    "start_time": "2022-12-05T06:00:13.004Z"
   },
   {
    "duration": 119,
    "start_time": "2022-12-05T06:00:13.017Z"
   },
   {
    "duration": 9,
    "start_time": "2022-12-05T06:00:13.138Z"
   },
   {
    "duration": 202,
    "start_time": "2022-12-05T06:00:13.148Z"
   },
   {
    "duration": 8,
    "start_time": "2022-12-05T06:00:13.351Z"
   },
   {
    "duration": 423,
    "start_time": "2022-12-05T06:00:13.360Z"
   },
   {
    "duration": 333,
    "start_time": "2022-12-05T06:00:13.785Z"
   },
   {
    "duration": 9,
    "start_time": "2022-12-05T06:00:14.119Z"
   },
   {
    "duration": 115,
    "start_time": "2022-12-05T06:00:14.129Z"
   },
   {
    "duration": 146,
    "start_time": "2022-12-05T06:00:14.246Z"
   },
   {
    "duration": 21,
    "start_time": "2022-12-05T06:00:14.394Z"
   },
   {
    "duration": 155,
    "start_time": "2022-12-05T06:00:14.417Z"
   },
   {
    "duration": 171,
    "start_time": "2022-12-05T06:00:14.574Z"
   },
   {
    "duration": 170,
    "start_time": "2022-12-05T06:00:14.747Z"
   },
   {
    "duration": 158,
    "start_time": "2022-12-05T06:00:14.919Z"
   },
   {
    "duration": 146,
    "start_time": "2022-12-05T06:00:15.079Z"
   },
   {
    "duration": 140,
    "start_time": "2022-12-05T06:00:15.227Z"
   },
   {
    "duration": 248,
    "start_time": "2022-12-05T06:00:15.369Z"
   },
   {
    "duration": 171,
    "start_time": "2022-12-05T06:00:15.619Z"
   },
   {
    "duration": 139,
    "start_time": "2022-12-05T06:00:15.792Z"
   },
   {
    "duration": 20,
    "start_time": "2022-12-05T06:00:15.932Z"
   },
   {
    "duration": 22,
    "start_time": "2022-12-05T06:00:15.953Z"
   },
   {
    "duration": 60,
    "start_time": "2022-12-05T06:00:15.977Z"
   },
   {
    "duration": 25,
    "start_time": "2022-12-05T06:00:16.038Z"
   },
   {
    "duration": 10,
    "start_time": "2022-12-05T06:00:16.065Z"
   },
   {
    "duration": 199,
    "start_time": "2022-12-05T06:00:16.076Z"
   },
   {
    "duration": 208,
    "start_time": "2022-12-05T06:00:26.646Z"
   },
   {
    "duration": 199,
    "start_time": "2022-12-05T06:00:30.232Z"
   },
   {
    "duration": 597,
    "start_time": "2022-12-05T06:00:35.432Z"
   },
   {
    "duration": 1820,
    "start_time": "2022-12-05T06:00:36.031Z"
   },
   {
    "duration": 275,
    "start_time": "2022-12-05T06:00:37.853Z"
   },
   {
    "duration": 2,
    "start_time": "2022-12-05T06:00:38.131Z"
   },
   {
    "duration": 54,
    "start_time": "2022-12-05T06:00:38.134Z"
   },
   {
    "duration": 17,
    "start_time": "2022-12-05T06:00:38.190Z"
   },
   {
    "duration": 28,
    "start_time": "2022-12-05T06:00:38.216Z"
   },
   {
    "duration": 9,
    "start_time": "2022-12-05T06:00:38.246Z"
   },
   {
    "duration": 1870,
    "start_time": "2022-12-05T06:00:38.257Z"
   },
   {
    "duration": 4,
    "start_time": "2022-12-05T06:00:40.130Z"
   },
   {
    "duration": 9,
    "start_time": "2022-12-05T06:00:40.136Z"
   },
   {
    "duration": 133,
    "start_time": "2022-12-05T06:00:40.147Z"
   },
   {
    "duration": 19,
    "start_time": "2022-12-05T06:00:40.282Z"
   },
   {
    "duration": 23,
    "start_time": "2022-12-05T06:00:40.302Z"
   },
   {
    "duration": 50,
    "start_time": "2022-12-05T06:00:40.326Z"
   },
   {
    "duration": 12,
    "start_time": "2022-12-05T06:00:40.378Z"
   },
   {
    "duration": 5,
    "start_time": "2022-12-05T06:00:40.391Z"
   },
   {
    "duration": 26,
    "start_time": "2022-12-05T06:00:40.397Z"
   },
   {
    "duration": 4,
    "start_time": "2022-12-05T06:00:40.425Z"
   },
   {
    "duration": 11,
    "start_time": "2022-12-05T06:00:40.430Z"
   },
   {
    "duration": 55,
    "start_time": "2022-12-05T06:00:40.443Z"
   },
   {
    "duration": 8,
    "start_time": "2022-12-05T06:00:40.515Z"
   },
   {
    "duration": 9,
    "start_time": "2022-12-05T06:00:40.524Z"
   },
   {
    "duration": 10,
    "start_time": "2022-12-05T06:00:40.534Z"
   },
   {
    "duration": 15,
    "start_time": "2022-12-05T06:00:40.546Z"
   },
   {
    "duration": 12,
    "start_time": "2022-12-05T06:00:40.562Z"
   },
   {
    "duration": 42,
    "start_time": "2022-12-05T06:00:40.575Z"
   },
   {
    "duration": 22,
    "start_time": "2022-12-05T06:00:40.621Z"
   },
   {
    "duration": 2728,
    "start_time": "2022-12-05T06:00:40.644Z"
   },
   {
    "duration": 2705,
    "start_time": "2022-12-05T06:00:43.373Z"
   },
   {
    "duration": 13,
    "start_time": "2022-12-05T06:00:46.080Z"
   },
   {
    "duration": 9,
    "start_time": "2022-12-05T06:00:46.095Z"
   },
   {
    "duration": 17,
    "start_time": "2022-12-05T06:00:46.115Z"
   },
   {
    "duration": 368,
    "start_time": "2022-12-05T06:00:46.134Z"
   },
   {
    "duration": 12,
    "start_time": "2022-12-05T06:00:46.503Z"
   },
   {
    "duration": 11,
    "start_time": "2022-12-05T06:00:46.516Z"
   },
   {
    "duration": 19,
    "start_time": "2022-12-05T06:00:46.529Z"
   },
   {
    "duration": 9,
    "start_time": "2022-12-05T06:00:46.549Z"
   },
   {
    "duration": 16,
    "start_time": "2022-12-05T06:00:46.559Z"
   },
   {
    "duration": 8,
    "start_time": "2022-12-05T06:00:46.577Z"
   },
   {
    "duration": 13,
    "start_time": "2022-12-05T06:00:46.586Z"
   },
   {
    "duration": 19,
    "start_time": "2022-12-05T06:00:46.600Z"
   },
   {
    "duration": 26,
    "start_time": "2022-12-05T06:00:46.621Z"
   },
   {
    "duration": 6,
    "start_time": "2022-12-05T06:00:46.649Z"
   },
   {
    "duration": 13,
    "start_time": "2022-12-05T06:00:46.657Z"
   },
   {
    "duration": 292,
    "start_time": "2022-12-05T06:00:46.672Z"
   },
   {
    "duration": 197,
    "start_time": "2022-12-05T06:00:46.966Z"
   },
   {
    "duration": 9,
    "start_time": "2022-12-05T06:00:47.165Z"
   },
   {
    "duration": 275,
    "start_time": "2022-12-05T06:00:47.175Z"
   },
   {
    "duration": 9,
    "start_time": "2022-12-05T06:00:47.451Z"
   },
   {
    "duration": 219,
    "start_time": "2022-12-05T06:00:47.461Z"
   },
   {
    "duration": 9,
    "start_time": "2022-12-05T06:00:47.681Z"
   },
   {
    "duration": 143,
    "start_time": "2022-12-05T06:00:47.692Z"
   },
   {
    "duration": 8,
    "start_time": "2022-12-05T06:00:47.836Z"
   },
   {
    "duration": 216,
    "start_time": "2022-12-05T06:00:47.845Z"
   },
   {
    "duration": 11,
    "start_time": "2022-12-05T06:00:48.063Z"
   },
   {
    "duration": 189,
    "start_time": "2022-12-05T06:00:48.076Z"
   },
   {
    "duration": 8,
    "start_time": "2022-12-05T06:00:48.267Z"
   },
   {
    "duration": 211,
    "start_time": "2022-12-05T06:00:48.277Z"
   },
   {
    "duration": 8,
    "start_time": "2022-12-05T06:00:48.490Z"
   },
   {
    "duration": 129,
    "start_time": "2022-12-05T06:00:48.500Z"
   },
   {
    "duration": 9,
    "start_time": "2022-12-05T06:00:48.631Z"
   },
   {
    "duration": 209,
    "start_time": "2022-12-05T06:00:48.643Z"
   },
   {
    "duration": 8,
    "start_time": "2022-12-05T06:00:48.854Z"
   },
   {
    "duration": 412,
    "start_time": "2022-12-05T06:00:48.864Z"
   },
   {
    "duration": 291,
    "start_time": "2022-12-05T06:00:49.277Z"
   },
   {
    "duration": 8,
    "start_time": "2022-12-05T06:00:49.569Z"
   },
   {
    "duration": 115,
    "start_time": "2022-12-05T06:00:49.578Z"
   },
   {
    "duration": 145,
    "start_time": "2022-12-05T06:00:49.695Z"
   },
   {
    "duration": 9,
    "start_time": "2022-12-05T06:00:49.842Z"
   },
   {
    "duration": 168,
    "start_time": "2022-12-05T06:00:49.853Z"
   },
   {
    "duration": 170,
    "start_time": "2022-12-05T06:00:50.023Z"
   },
   {
    "duration": 171,
    "start_time": "2022-12-05T06:00:50.195Z"
   },
   {
    "duration": 158,
    "start_time": "2022-12-05T06:00:50.368Z"
   },
   {
    "duration": 136,
    "start_time": "2022-12-05T06:00:50.528Z"
   },
   {
    "duration": 224,
    "start_time": "2022-12-05T06:00:50.666Z"
   },
   {
    "duration": 159,
    "start_time": "2022-12-05T06:00:50.891Z"
   },
   {
    "duration": 182,
    "start_time": "2022-12-05T06:00:51.052Z"
   },
   {
    "duration": 140,
    "start_time": "2022-12-05T06:00:51.236Z"
   },
   {
    "duration": 19,
    "start_time": "2022-12-05T06:00:51.378Z"
   },
   {
    "duration": 35,
    "start_time": "2022-12-05T06:00:51.399Z"
   },
   {
    "duration": 42,
    "start_time": "2022-12-05T06:00:51.439Z"
   },
   {
    "duration": 37,
    "start_time": "2022-12-05T06:00:51.483Z"
   },
   {
    "duration": 9,
    "start_time": "2022-12-05T06:00:51.522Z"
   },
   {
    "duration": 194,
    "start_time": "2022-12-05T06:00:51.533Z"
   },
   {
    "duration": 39,
    "start_time": "2022-12-05T06:09:04.009Z"
   },
   {
    "duration": 78,
    "start_time": "2022-12-05T06:09:28.035Z"
   },
   {
    "duration": 12,
    "start_time": "2022-12-05T06:09:36.197Z"
   },
   {
    "duration": 41,
    "start_time": "2022-12-05T06:09:50.260Z"
   },
   {
    "duration": 15,
    "start_time": "2022-12-05T06:09:58.634Z"
   },
   {
    "duration": 18,
    "start_time": "2022-12-05T06:10:09.044Z"
   },
   {
    "duration": 52,
    "start_time": "2022-12-05T06:12:05.113Z"
   },
   {
    "duration": 20337,
    "start_time": "2022-12-05T06:15:47.109Z"
   },
   {
    "duration": 674,
    "start_time": "2022-12-05T06:23:07.353Z"
   },
   {
    "duration": 701,
    "start_time": "2022-12-05T06:23:17.826Z"
   },
   {
    "duration": 5,
    "start_time": "2022-12-05T06:27:29.552Z"
   },
   {
    "duration": 4,
    "start_time": "2022-12-05T06:27:52.617Z"
   },
   {
    "duration": 5,
    "start_time": "2022-12-05T06:28:10.188Z"
   },
   {
    "duration": 4,
    "start_time": "2022-12-05T06:28:31.406Z"
   },
   {
    "duration": 5,
    "start_time": "2022-12-05T06:30:12.514Z"
   },
   {
    "duration": 7,
    "start_time": "2022-12-05T06:36:33.099Z"
   },
   {
    "duration": 60,
    "start_time": "2022-12-05T06:37:43.126Z"
   },
   {
    "duration": 228,
    "start_time": "2022-12-05T06:37:52.280Z"
   },
   {
    "duration": 23,
    "start_time": "2022-12-05T06:38:17.489Z"
   },
   {
    "duration": 675,
    "start_time": "2022-12-05T06:38:36.766Z"
   },
   {
    "duration": 788,
    "start_time": "2022-12-05T06:38:45.871Z"
   },
   {
    "duration": 33,
    "start_time": "2022-12-05T06:39:56.208Z"
   },
   {
    "duration": 176,
    "start_time": "2022-12-05T06:40:01.371Z"
   },
   {
    "duration": 41,
    "start_time": "2022-12-05T06:41:02.253Z"
   },
   {
    "duration": 41,
    "start_time": "2022-12-05T06:41:15.541Z"
   },
   {
    "duration": 9,
    "start_time": "2022-12-05T06:43:54.788Z"
   },
   {
    "duration": 10,
    "start_time": "2022-12-05T06:44:35.718Z"
   },
   {
    "duration": 45,
    "start_time": "2022-12-05T06:47:08.165Z"
   },
   {
    "duration": 7,
    "start_time": "2022-12-05T06:47:34.407Z"
   },
   {
    "duration": 12,
    "start_time": "2022-12-05T06:47:54.478Z"
   },
   {
    "duration": 624,
    "start_time": "2022-12-05T06:48:12.407Z"
   },
   {
    "duration": 1833,
    "start_time": "2022-12-05T06:48:13.033Z"
   },
   {
    "duration": 238,
    "start_time": "2022-12-05T06:48:14.868Z"
   },
   {
    "duration": 2,
    "start_time": "2022-12-05T06:48:15.108Z"
   },
   {
    "duration": 39,
    "start_time": "2022-12-05T06:48:15.112Z"
   },
   {
    "duration": 13,
    "start_time": "2022-12-05T06:48:15.152Z"
   },
   {
    "duration": 20,
    "start_time": "2022-12-05T06:48:15.167Z"
   },
   {
    "duration": 7,
    "start_time": "2022-12-05T06:48:15.189Z"
   },
   {
    "duration": 1910,
    "start_time": "2022-12-05T06:48:15.198Z"
   },
   {
    "duration": 5,
    "start_time": "2022-12-05T06:48:17.110Z"
   },
   {
    "duration": 8,
    "start_time": "2022-12-05T06:48:17.116Z"
   },
   {
    "duration": 133,
    "start_time": "2022-12-05T06:48:17.126Z"
   },
   {
    "duration": 19,
    "start_time": "2022-12-05T06:48:17.261Z"
   },
   {
    "duration": 10,
    "start_time": "2022-12-05T06:48:17.282Z"
   },
   {
    "duration": 66,
    "start_time": "2022-12-05T06:48:17.293Z"
   },
   {
    "duration": 12,
    "start_time": "2022-12-05T06:48:17.360Z"
   },
   {
    "duration": 5,
    "start_time": "2022-12-05T06:48:17.374Z"
   },
   {
    "duration": 10,
    "start_time": "2022-12-05T06:48:17.381Z"
   },
   {
    "duration": 24,
    "start_time": "2022-12-05T06:48:17.393Z"
   },
   {
    "duration": 8,
    "start_time": "2022-12-05T06:48:17.419Z"
   },
   {
    "duration": 54,
    "start_time": "2022-12-05T06:48:17.429Z"
   },
   {
    "duration": 6,
    "start_time": "2022-12-05T06:48:17.485Z"
   },
   {
    "duration": 23,
    "start_time": "2022-12-05T06:48:17.493Z"
   },
   {
    "duration": 9,
    "start_time": "2022-12-05T06:48:17.518Z"
   },
   {
    "duration": 16,
    "start_time": "2022-12-05T06:48:17.528Z"
   },
   {
    "duration": 10,
    "start_time": "2022-12-05T06:48:17.546Z"
   },
   {
    "duration": 14,
    "start_time": "2022-12-05T06:48:17.558Z"
   },
   {
    "duration": 42,
    "start_time": "2022-12-05T06:48:17.576Z"
   },
   {
    "duration": 2770,
    "start_time": "2022-12-05T06:48:17.619Z"
   },
   {
    "duration": 2752,
    "start_time": "2022-12-05T06:48:20.390Z"
   },
   {
    "duration": 14,
    "start_time": "2022-12-05T06:48:23.143Z"
   },
   {
    "duration": 10,
    "start_time": "2022-12-05T06:48:23.158Z"
   },
   {
    "duration": 18,
    "start_time": "2022-12-05T06:48:23.169Z"
   },
   {
    "duration": 333,
    "start_time": "2022-12-05T06:48:23.189Z"
   },
   {
    "duration": 9,
    "start_time": "2022-12-05T06:48:23.524Z"
   },
   {
    "duration": 8,
    "start_time": "2022-12-05T06:48:23.535Z"
   },
   {
    "duration": 5,
    "start_time": "2022-12-05T06:48:23.545Z"
   },
   {
    "duration": 5,
    "start_time": "2022-12-05T06:48:23.552Z"
   },
   {
    "duration": 16,
    "start_time": "2022-12-05T06:48:23.559Z"
   },
   {
    "duration": 40,
    "start_time": "2022-12-05T06:48:23.577Z"
   },
   {
    "duration": 32,
    "start_time": "2022-12-05T06:48:23.618Z"
   },
   {
    "duration": 6,
    "start_time": "2022-12-05T06:48:23.652Z"
   },
   {
    "duration": 15,
    "start_time": "2022-12-05T06:48:23.659Z"
   },
   {
    "duration": 40,
    "start_time": "2022-12-05T06:48:23.676Z"
   },
   {
    "duration": 21,
    "start_time": "2022-12-05T06:48:23.717Z"
   },
   {
    "duration": 7,
    "start_time": "2022-12-05T06:48:23.739Z"
   },
   {
    "duration": 8,
    "start_time": "2022-12-05T06:48:23.748Z"
   },
   {
    "duration": 295,
    "start_time": "2022-12-05T06:48:23.758Z"
   },
   {
    "duration": 201,
    "start_time": "2022-12-05T06:48:24.056Z"
   },
   {
    "duration": 8,
    "start_time": "2022-12-05T06:48:24.258Z"
   },
   {
    "duration": 275,
    "start_time": "2022-12-05T06:48:24.268Z"
   },
   {
    "duration": 10,
    "start_time": "2022-12-05T06:48:24.545Z"
   },
   {
    "duration": 209,
    "start_time": "2022-12-05T06:48:24.556Z"
   },
   {
    "duration": 9,
    "start_time": "2022-12-05T06:48:24.767Z"
   },
   {
    "duration": 140,
    "start_time": "2022-12-05T06:48:24.777Z"
   },
   {
    "duration": 7,
    "start_time": "2022-12-05T06:48:24.919Z"
   },
   {
    "duration": 220,
    "start_time": "2022-12-05T06:48:24.927Z"
   },
   {
    "duration": 8,
    "start_time": "2022-12-05T06:48:25.149Z"
   },
   {
    "duration": 183,
    "start_time": "2022-12-05T06:48:25.159Z"
   },
   {
    "duration": 8,
    "start_time": "2022-12-05T06:48:25.343Z"
   },
   {
    "duration": 198,
    "start_time": "2022-12-05T06:48:25.352Z"
   },
   {
    "duration": 7,
    "start_time": "2022-12-05T06:48:25.552Z"
   },
   {
    "duration": 121,
    "start_time": "2022-12-05T06:48:25.561Z"
   },
   {
    "duration": 8,
    "start_time": "2022-12-05T06:48:25.684Z"
   },
   {
    "duration": 208,
    "start_time": "2022-12-05T06:48:25.694Z"
   },
   {
    "duration": 16,
    "start_time": "2022-12-05T06:48:25.904Z"
   },
   {
    "duration": 415,
    "start_time": "2022-12-05T06:48:25.922Z"
   },
   {
    "duration": 321,
    "start_time": "2022-12-05T06:48:26.339Z"
   },
   {
    "duration": 8,
    "start_time": "2022-12-05T06:48:26.661Z"
   },
   {
    "duration": 116,
    "start_time": "2022-12-05T06:48:26.671Z"
   },
   {
    "duration": 143,
    "start_time": "2022-12-05T06:48:26.789Z"
   },
   {
    "duration": 9,
    "start_time": "2022-12-05T06:48:26.933Z"
   },
   {
    "duration": 162,
    "start_time": "2022-12-05T06:48:26.943Z"
   },
   {
    "duration": 162,
    "start_time": "2022-12-05T06:48:27.106Z"
   },
   {
    "duration": 5,
    "start_time": "2022-12-05T06:48:27.269Z"
   },
   {
    "duration": 176,
    "start_time": "2022-12-05T06:48:27.276Z"
   },
   {
    "duration": 4,
    "start_time": "2022-12-05T06:48:27.453Z"
   },
   {
    "duration": 165,
    "start_time": "2022-12-05T06:48:27.459Z"
   },
   {
    "duration": 5,
    "start_time": "2022-12-05T06:48:27.626Z"
   },
   {
    "duration": 146,
    "start_time": "2022-12-05T06:48:27.633Z"
   },
   {
    "duration": 4,
    "start_time": "2022-12-05T06:48:27.781Z"
   },
   {
    "duration": 234,
    "start_time": "2022-12-05T06:48:27.790Z"
   },
   {
    "duration": 168,
    "start_time": "2022-12-05T06:48:28.026Z"
   },
   {
    "duration": 172,
    "start_time": "2022-12-05T06:48:28.196Z"
   },
   {
    "duration": 149,
    "start_time": "2022-12-05T06:48:28.370Z"
   },
   {
    "duration": 17,
    "start_time": "2022-12-05T06:48:28.521Z"
   },
   {
    "duration": 23,
    "start_time": "2022-12-05T06:48:28.539Z"
   },
   {
    "duration": 197,
    "start_time": "2022-12-05T06:48:28.564Z"
   },
   {
    "duration": 53,
    "start_time": "2022-12-05T06:48:28.763Z"
   },
   {
    "duration": 17,
    "start_time": "2022-12-05T06:48:28.817Z"
   },
   {
    "duration": 13,
    "start_time": "2022-12-05T06:48:28.836Z"
   },
   {
    "duration": 201,
    "start_time": "2022-12-05T06:48:28.850Z"
   },
   {
    "duration": 71,
    "start_time": "2022-12-05T06:49:07.708Z"
   },
   {
    "duration": 12,
    "start_time": "2022-12-05T06:49:21.897Z"
   },
   {
    "duration": 631,
    "start_time": "2022-12-05T06:49:27.183Z"
   },
   {
    "duration": 1873,
    "start_time": "2022-12-05T06:49:27.816Z"
   },
   {
    "duration": 167,
    "start_time": "2022-12-05T06:49:29.691Z"
   },
   {
    "duration": 3,
    "start_time": "2022-12-05T06:49:29.861Z"
   },
   {
    "duration": 43,
    "start_time": "2022-12-05T06:49:29.866Z"
   },
   {
    "duration": 17,
    "start_time": "2022-12-05T06:49:29.911Z"
   },
   {
    "duration": 21,
    "start_time": "2022-12-05T06:49:29.930Z"
   },
   {
    "duration": 8,
    "start_time": "2022-12-05T06:49:29.952Z"
   },
   {
    "duration": 1987,
    "start_time": "2022-12-05T06:49:29.961Z"
   },
   {
    "duration": 5,
    "start_time": "2022-12-05T06:49:31.951Z"
   },
   {
    "duration": 9,
    "start_time": "2022-12-05T06:49:31.957Z"
   },
   {
    "duration": 153,
    "start_time": "2022-12-05T06:49:31.968Z"
   },
   {
    "duration": 24,
    "start_time": "2022-12-05T06:49:32.123Z"
   },
   {
    "duration": 26,
    "start_time": "2022-12-05T06:49:32.149Z"
   },
   {
    "duration": 55,
    "start_time": "2022-12-05T06:49:32.177Z"
   },
   {
    "duration": 12,
    "start_time": "2022-12-05T06:49:32.234Z"
   },
   {
    "duration": 4,
    "start_time": "2022-12-05T06:49:32.248Z"
   },
   {
    "duration": 13,
    "start_time": "2022-12-05T06:49:32.254Z"
   },
   {
    "duration": 4,
    "start_time": "2022-12-05T06:49:32.269Z"
   },
   {
    "duration": 8,
    "start_time": "2022-12-05T06:49:32.274Z"
   },
   {
    "duration": 82,
    "start_time": "2022-12-05T06:49:32.283Z"
   },
   {
    "duration": 7,
    "start_time": "2022-12-05T06:49:32.367Z"
   },
   {
    "duration": 10,
    "start_time": "2022-12-05T06:49:32.375Z"
   },
   {
    "duration": 27,
    "start_time": "2022-12-05T06:49:32.386Z"
   },
   {
    "duration": 19,
    "start_time": "2022-12-05T06:49:32.415Z"
   },
   {
    "duration": 14,
    "start_time": "2022-12-05T06:49:32.436Z"
   },
   {
    "duration": 7,
    "start_time": "2022-12-05T06:49:32.452Z"
   },
   {
    "duration": 53,
    "start_time": "2022-12-05T06:49:32.463Z"
   },
   {
    "duration": 2665,
    "start_time": "2022-12-05T06:49:32.517Z"
   },
   {
    "duration": 2758,
    "start_time": "2022-12-05T06:49:35.184Z"
   },
   {
    "duration": 14,
    "start_time": "2022-12-05T06:49:37.944Z"
   },
   {
    "duration": 9,
    "start_time": "2022-12-05T06:49:37.959Z"
   },
   {
    "duration": 16,
    "start_time": "2022-12-05T06:49:37.970Z"
   },
   {
    "duration": 347,
    "start_time": "2022-12-05T06:49:37.987Z"
   },
   {
    "duration": 9,
    "start_time": "2022-12-05T06:49:38.335Z"
   },
   {
    "duration": 10,
    "start_time": "2022-12-05T06:49:38.345Z"
   },
   {
    "duration": 5,
    "start_time": "2022-12-05T06:49:38.357Z"
   },
   {
    "duration": 5,
    "start_time": "2022-12-05T06:49:38.363Z"
   },
   {
    "duration": 15,
    "start_time": "2022-12-05T06:49:38.369Z"
   },
   {
    "duration": 32,
    "start_time": "2022-12-05T06:49:38.385Z"
   },
   {
    "duration": 31,
    "start_time": "2022-12-05T06:49:38.418Z"
   },
   {
    "duration": 6,
    "start_time": "2022-12-05T06:49:38.450Z"
   },
   {
    "duration": 15,
    "start_time": "2022-12-05T06:49:38.457Z"
   },
   {
    "duration": 17,
    "start_time": "2022-12-05T06:49:38.473Z"
   },
   {
    "duration": 33,
    "start_time": "2022-12-05T06:49:38.492Z"
   },
   {
    "duration": 6,
    "start_time": "2022-12-05T06:49:38.526Z"
   },
   {
    "duration": 4,
    "start_time": "2022-12-05T06:49:38.534Z"
   },
   {
    "duration": 299,
    "start_time": "2022-12-05T06:49:38.540Z"
   },
   {
    "duration": 212,
    "start_time": "2022-12-05T06:49:38.840Z"
   },
   {
    "duration": 8,
    "start_time": "2022-12-05T06:49:39.054Z"
   },
   {
    "duration": 303,
    "start_time": "2022-12-05T06:49:39.064Z"
   },
   {
    "duration": 8,
    "start_time": "2022-12-05T06:49:39.369Z"
   },
   {
    "duration": 229,
    "start_time": "2022-12-05T06:49:39.378Z"
   },
   {
    "duration": 12,
    "start_time": "2022-12-05T06:49:39.609Z"
   },
   {
    "duration": 145,
    "start_time": "2022-12-05T06:49:39.623Z"
   },
   {
    "duration": 8,
    "start_time": "2022-12-05T06:49:39.770Z"
   },
   {
    "duration": 228,
    "start_time": "2022-12-05T06:49:39.779Z"
   },
   {
    "duration": 13,
    "start_time": "2022-12-05T06:49:40.009Z"
   },
   {
    "duration": 193,
    "start_time": "2022-12-05T06:49:40.024Z"
   },
   {
    "duration": 8,
    "start_time": "2022-12-05T06:49:40.219Z"
   },
   {
    "duration": 205,
    "start_time": "2022-12-05T06:49:40.229Z"
   },
   {
    "duration": 9,
    "start_time": "2022-12-05T06:49:40.435Z"
   },
   {
    "duration": 132,
    "start_time": "2022-12-05T06:49:40.445Z"
   },
   {
    "duration": 10,
    "start_time": "2022-12-05T06:49:40.578Z"
   },
   {
    "duration": 264,
    "start_time": "2022-12-05T06:49:40.589Z"
   },
   {
    "duration": 8,
    "start_time": "2022-12-05T06:49:40.855Z"
   },
   {
    "duration": 415,
    "start_time": "2022-12-05T06:49:40.865Z"
   },
   {
    "duration": 303,
    "start_time": "2022-12-05T06:49:41.282Z"
   },
   {
    "duration": 9,
    "start_time": "2022-12-05T06:49:41.586Z"
   },
   {
    "duration": 131,
    "start_time": "2022-12-05T06:49:41.596Z"
   },
   {
    "duration": 150,
    "start_time": "2022-12-05T06:49:41.729Z"
   },
   {
    "duration": 9,
    "start_time": "2022-12-05T06:49:41.881Z"
   },
   {
    "duration": 191,
    "start_time": "2022-12-05T06:49:41.892Z"
   },
   {
    "duration": 195,
    "start_time": "2022-12-05T06:49:42.086Z"
   },
   {
    "duration": 4,
    "start_time": "2022-12-05T06:49:42.282Z"
   },
   {
    "duration": 177,
    "start_time": "2022-12-05T06:49:42.288Z"
   },
   {
    "duration": 4,
    "start_time": "2022-12-05T06:49:42.467Z"
   },
   {
    "duration": 182,
    "start_time": "2022-12-05T06:49:42.473Z"
   },
   {
    "duration": 5,
    "start_time": "2022-12-05T06:49:42.657Z"
   },
   {
    "duration": 143,
    "start_time": "2022-12-05T06:49:42.663Z"
   },
   {
    "duration": 9,
    "start_time": "2022-12-05T06:49:42.808Z"
   },
   {
    "duration": 223,
    "start_time": "2022-12-05T06:49:42.823Z"
   },
   {
    "duration": 157,
    "start_time": "2022-12-05T06:49:43.048Z"
   },
   {
    "duration": 176,
    "start_time": "2022-12-05T06:49:43.207Z"
   },
   {
    "duration": 142,
    "start_time": "2022-12-05T06:49:43.384Z"
   },
   {
    "duration": 18,
    "start_time": "2022-12-05T06:49:43.528Z"
   },
   {
    "duration": 24,
    "start_time": "2022-12-05T06:49:43.547Z"
   },
   {
    "duration": 210,
    "start_time": "2022-12-05T06:49:43.572Z"
   },
   {
    "duration": 50,
    "start_time": "2022-12-05T06:49:43.784Z"
   },
   {
    "duration": 16,
    "start_time": "2022-12-05T06:49:43.835Z"
   },
   {
    "duration": 9,
    "start_time": "2022-12-05T06:49:43.853Z"
   },
   {
    "duration": 217,
    "start_time": "2022-12-05T06:49:43.864Z"
   },
   {
    "duration": 12,
    "start_time": "2022-12-05T06:50:14.537Z"
   },
   {
    "duration": 627,
    "start_time": "2022-12-05T06:50:41.991Z"
   },
   {
    "duration": 1828,
    "start_time": "2022-12-05T06:50:42.620Z"
   },
   {
    "duration": 135,
    "start_time": "2022-12-05T06:50:44.450Z"
   },
   {
    "duration": 2,
    "start_time": "2022-12-05T06:50:44.588Z"
   },
   {
    "duration": 42,
    "start_time": "2022-12-05T06:50:44.591Z"
   },
   {
    "duration": 14,
    "start_time": "2022-12-05T06:50:44.634Z"
   },
   {
    "duration": 20,
    "start_time": "2022-12-05T06:50:44.650Z"
   },
   {
    "duration": 8,
    "start_time": "2022-12-05T06:50:44.672Z"
   },
   {
    "duration": 1941,
    "start_time": "2022-12-05T06:50:44.682Z"
   },
   {
    "duration": 4,
    "start_time": "2022-12-05T06:50:46.626Z"
   },
   {
    "duration": 9,
    "start_time": "2022-12-05T06:50:46.631Z"
   },
   {
    "duration": 153,
    "start_time": "2022-12-05T06:50:46.641Z"
   },
   {
    "duration": 28,
    "start_time": "2022-12-05T06:50:46.796Z"
   },
   {
    "duration": 10,
    "start_time": "2022-12-05T06:50:46.826Z"
   },
   {
    "duration": 48,
    "start_time": "2022-12-05T06:50:46.838Z"
   },
   {
    "duration": 29,
    "start_time": "2022-12-05T06:50:46.887Z"
   },
   {
    "duration": 4,
    "start_time": "2022-12-05T06:50:46.918Z"
   },
   {
    "duration": 14,
    "start_time": "2022-12-05T06:50:46.923Z"
   },
   {
    "duration": 4,
    "start_time": "2022-12-05T06:50:46.938Z"
   },
   {
    "duration": 6,
    "start_time": "2022-12-05T06:50:46.943Z"
   },
   {
    "duration": 76,
    "start_time": "2022-12-05T06:50:46.950Z"
   },
   {
    "duration": 7,
    "start_time": "2022-12-05T06:50:47.027Z"
   },
   {
    "duration": 8,
    "start_time": "2022-12-05T06:50:47.036Z"
   },
   {
    "duration": 11,
    "start_time": "2022-12-05T06:50:47.045Z"
   },
   {
    "duration": 14,
    "start_time": "2022-12-05T06:50:47.057Z"
   },
   {
    "duration": 46,
    "start_time": "2022-12-05T06:50:47.073Z"
   },
   {
    "duration": 9,
    "start_time": "2022-12-05T06:50:47.120Z"
   },
   {
    "duration": 23,
    "start_time": "2022-12-05T06:50:47.132Z"
   },
   {
    "duration": 2795,
    "start_time": "2022-12-05T06:50:47.157Z"
   },
   {
    "duration": 2821,
    "start_time": "2022-12-05T06:50:49.953Z"
   },
   {
    "duration": 14,
    "start_time": "2022-12-05T06:50:52.775Z"
   },
   {
    "duration": 9,
    "start_time": "2022-12-05T06:50:52.791Z"
   },
   {
    "duration": 17,
    "start_time": "2022-12-05T06:50:52.815Z"
   },
   {
    "duration": 342,
    "start_time": "2022-12-05T06:50:52.834Z"
   },
   {
    "duration": 9,
    "start_time": "2022-12-05T06:50:53.178Z"
   },
   {
    "duration": 27,
    "start_time": "2022-12-05T06:50:53.189Z"
   },
   {
    "duration": 5,
    "start_time": "2022-12-05T06:50:53.217Z"
   },
   {
    "duration": 6,
    "start_time": "2022-12-05T06:50:53.223Z"
   },
   {
    "duration": 19,
    "start_time": "2022-12-05T06:50:53.231Z"
   },
   {
    "duration": 7,
    "start_time": "2022-12-05T06:50:53.252Z"
   },
   {
    "duration": 35,
    "start_time": "2022-12-05T06:50:54.859Z"
   },
   {
    "duration": 33,
    "start_time": "2022-12-05T06:51:06.415Z"
   },
   {
    "duration": 31,
    "start_time": "2022-12-05T06:51:17.388Z"
   },
   {
    "duration": 33,
    "start_time": "2022-12-05T06:51:30.902Z"
   },
   {
    "duration": 46,
    "start_time": "2022-12-05T06:51:45.337Z"
   },
   {
    "duration": 46,
    "start_time": "2022-12-05T06:52:47.891Z"
   },
   {
    "duration": 119,
    "start_time": "2022-12-05T06:53:16.906Z"
   },
   {
    "duration": 115,
    "start_time": "2022-12-05T06:54:07.354Z"
   },
   {
    "duration": 32,
    "start_time": "2022-12-05T06:54:19.313Z"
   },
   {
    "duration": 47,
    "start_time": "2022-12-05T06:57:24.594Z"
   },
   {
    "duration": 7,
    "start_time": "2022-12-05T06:57:59.197Z"
   },
   {
    "duration": 18,
    "start_time": "2022-12-05T06:58:21.648Z"
   },
   {
    "duration": 4,
    "start_time": "2022-12-05T06:58:50.200Z"
   },
   {
    "duration": 4,
    "start_time": "2022-12-05T07:02:15.608Z"
   },
   {
    "duration": 1917,
    "start_time": "2022-12-05T07:02:15.614Z"
   },
   {
    "duration": 182,
    "start_time": "2022-12-05T07:02:17.533Z"
   },
   {
    "duration": 2,
    "start_time": "2022-12-05T07:02:17.718Z"
   },
   {
    "duration": 35,
    "start_time": "2022-12-05T07:02:17.722Z"
   },
   {
    "duration": 21,
    "start_time": "2022-12-05T07:02:17.759Z"
   },
   {
    "duration": 21,
    "start_time": "2022-12-05T07:02:17.782Z"
   },
   {
    "duration": 18,
    "start_time": "2022-12-05T07:02:17.804Z"
   },
   {
    "duration": 1953,
    "start_time": "2022-12-05T07:02:17.824Z"
   },
   {
    "duration": 5,
    "start_time": "2022-12-05T07:02:19.778Z"
   },
   {
    "duration": 12,
    "start_time": "2022-12-05T07:02:19.785Z"
   },
   {
    "duration": 148,
    "start_time": "2022-12-05T07:02:19.799Z"
   },
   {
    "duration": 20,
    "start_time": "2022-12-05T07:02:19.949Z"
   },
   {
    "duration": 9,
    "start_time": "2022-12-05T07:02:19.970Z"
   },
   {
    "duration": 67,
    "start_time": "2022-12-05T07:02:19.980Z"
   },
   {
    "duration": 13,
    "start_time": "2022-12-05T07:02:20.048Z"
   },
   {
    "duration": 17,
    "start_time": "2022-12-05T07:02:20.063Z"
   },
   {
    "duration": 13,
    "start_time": "2022-12-05T07:02:20.081Z"
   },
   {
    "duration": 3,
    "start_time": "2022-12-05T07:02:20.096Z"
   },
   {
    "duration": 17,
    "start_time": "2022-12-05T07:02:20.101Z"
   },
   {
    "duration": 57,
    "start_time": "2022-12-05T07:02:20.119Z"
   },
   {
    "duration": 7,
    "start_time": "2022-12-05T07:02:20.178Z"
   },
   {
    "duration": 7,
    "start_time": "2022-12-05T07:02:20.187Z"
   },
   {
    "duration": 10,
    "start_time": "2022-12-05T07:02:20.216Z"
   },
   {
    "duration": 14,
    "start_time": "2022-12-05T07:02:20.228Z"
   },
   {
    "duration": 11,
    "start_time": "2022-12-05T07:02:20.243Z"
   },
   {
    "duration": 7,
    "start_time": "2022-12-05T07:02:20.256Z"
   },
   {
    "duration": 23,
    "start_time": "2022-12-05T07:02:20.264Z"
   },
   {
    "duration": 2785,
    "start_time": "2022-12-05T07:02:20.316Z"
   },
   {
    "duration": 2720,
    "start_time": "2022-12-05T07:02:23.103Z"
   },
   {
    "duration": 13,
    "start_time": "2022-12-05T07:02:25.825Z"
   },
   {
    "duration": 13,
    "start_time": "2022-12-05T07:02:25.839Z"
   },
   {
    "duration": 23,
    "start_time": "2022-12-05T07:02:25.854Z"
   },
   {
    "duration": 364,
    "start_time": "2022-12-05T07:02:25.879Z"
   },
   {
    "duration": 10,
    "start_time": "2022-12-05T07:02:26.246Z"
   },
   {
    "duration": 11,
    "start_time": "2022-12-05T07:02:26.258Z"
   },
   {
    "duration": 18,
    "start_time": "2022-12-05T07:02:26.272Z"
   },
   {
    "duration": 18,
    "start_time": "2022-12-05T07:02:26.292Z"
   },
   {
    "duration": 144,
    "start_time": "2022-12-05T07:02:26.312Z"
   },
   {
    "duration": 32,
    "start_time": "2022-12-05T07:02:26.458Z"
   },
   {
    "duration": 31,
    "start_time": "2022-12-05T07:02:26.491Z"
   },
   {
    "duration": 5,
    "start_time": "2022-12-05T07:02:26.523Z"
   },
   {
    "duration": 26,
    "start_time": "2022-12-05T07:02:26.529Z"
   },
   {
    "duration": 21,
    "start_time": "2022-12-05T07:02:26.557Z"
   },
   {
    "duration": 13,
    "start_time": "2022-12-05T07:02:26.580Z"
   },
   {
    "duration": 21,
    "start_time": "2022-12-05T07:02:26.595Z"
   },
   {
    "duration": 6,
    "start_time": "2022-12-05T07:02:26.617Z"
   },
   {
    "duration": 7,
    "start_time": "2022-12-05T07:02:26.625Z"
   },
   {
    "duration": 275,
    "start_time": "2022-12-05T07:02:26.633Z"
   },
   {
    "duration": 294,
    "start_time": "2022-12-05T07:02:26.909Z"
   },
   {
    "duration": 12,
    "start_time": "2022-12-05T07:02:27.205Z"
   },
   {
    "duration": 213,
    "start_time": "2022-12-05T07:02:27.219Z"
   },
   {
    "duration": 7,
    "start_time": "2022-12-05T07:02:27.434Z"
   },
   {
    "duration": 223,
    "start_time": "2022-12-05T07:02:27.443Z"
   },
   {
    "duration": 8,
    "start_time": "2022-12-05T07:02:27.668Z"
   },
   {
    "duration": 140,
    "start_time": "2022-12-05T07:02:27.677Z"
   },
   {
    "duration": 7,
    "start_time": "2022-12-05T07:02:27.819Z"
   },
   {
    "duration": 219,
    "start_time": "2022-12-05T07:02:27.828Z"
   },
   {
    "duration": 9,
    "start_time": "2022-12-05T07:02:28.048Z"
   },
   {
    "duration": 190,
    "start_time": "2022-12-05T07:02:28.058Z"
   },
   {
    "duration": 8,
    "start_time": "2022-12-05T07:02:28.250Z"
   },
   {
    "duration": 206,
    "start_time": "2022-12-05T07:02:28.260Z"
   },
   {
    "duration": 9,
    "start_time": "2022-12-05T07:02:28.468Z"
   },
   {
    "duration": 131,
    "start_time": "2022-12-05T07:02:28.478Z"
   },
   {
    "duration": 8,
    "start_time": "2022-12-05T07:02:28.615Z"
   },
   {
    "duration": 196,
    "start_time": "2022-12-05T07:02:28.625Z"
   },
   {
    "duration": 8,
    "start_time": "2022-12-05T07:02:28.822Z"
   },
   {
    "duration": 422,
    "start_time": "2022-12-05T07:02:28.831Z"
   },
   {
    "duration": 308,
    "start_time": "2022-12-05T07:02:29.258Z"
   },
   {
    "duration": 9,
    "start_time": "2022-12-05T07:02:29.568Z"
   },
   {
    "duration": 127,
    "start_time": "2022-12-05T07:02:29.578Z"
   },
   {
    "duration": 142,
    "start_time": "2022-12-05T07:02:29.715Z"
   },
   {
    "duration": 10,
    "start_time": "2022-12-05T07:02:29.858Z"
   },
   {
    "duration": 169,
    "start_time": "2022-12-05T07:02:29.869Z"
   },
   {
    "duration": 166,
    "start_time": "2022-12-05T07:02:30.040Z"
   },
   {
    "duration": 4,
    "start_time": "2022-12-05T07:02:30.215Z"
   },
   {
    "duration": 175,
    "start_time": "2022-12-05T07:02:30.220Z"
   },
   {
    "duration": 4,
    "start_time": "2022-12-05T07:02:30.396Z"
   },
   {
    "duration": 185,
    "start_time": "2022-12-05T07:02:30.402Z"
   },
   {
    "duration": 5,
    "start_time": "2022-12-05T07:02:30.589Z"
   },
   {
    "duration": 161,
    "start_time": "2022-12-05T07:02:30.596Z"
   },
   {
    "duration": 5,
    "start_time": "2022-12-05T07:02:30.760Z"
   },
   {
    "duration": 153,
    "start_time": "2022-12-05T07:02:30.767Z"
   },
   {
    "duration": 157,
    "start_time": "2022-12-05T07:02:30.922Z"
   },
   {
    "duration": 181,
    "start_time": "2022-12-05T07:02:31.081Z"
   },
   {
    "duration": 294,
    "start_time": "2022-12-05T07:02:31.264Z"
   },
   {
    "duration": 20,
    "start_time": "2022-12-05T07:02:31.560Z"
   },
   {
    "duration": 20964,
    "start_time": "2022-12-05T07:02:35.082Z"
   },
   {
    "duration": 7,
    "start_time": "2022-12-05T07:05:43.428Z"
   },
   {
    "duration": 9,
    "start_time": "2022-12-05T07:05:47.856Z"
   },
   {
    "duration": 486,
    "start_time": "2022-12-05T07:06:06.036Z"
   },
   {
    "duration": 76320,
    "start_time": "2022-12-05T07:06:23.159Z"
   },
   {
    "duration": 33073,
    "start_time": "2022-12-05T07:08:02.452Z"
   },
   {
    "duration": 60,
    "start_time": "2022-12-05T07:10:34.445Z"
   },
   {
    "duration": 3,
    "start_time": "2022-12-05T07:10:42.890Z"
   },
   {
    "duration": 11,
    "start_time": "2022-12-05T07:11:20.245Z"
   },
   {
    "duration": 11,
    "start_time": "2022-12-05T07:12:23.089Z"
   },
   {
    "duration": 11,
    "start_time": "2022-12-05T07:12:50.141Z"
   },
   {
    "duration": 15,
    "start_time": "2022-12-05T07:13:47.457Z"
   },
   {
    "duration": 138,
    "start_time": "2022-12-05T07:14:59.183Z"
   },
   {
    "duration": 136,
    "start_time": "2022-12-05T07:16:05.771Z"
   },
   {
    "duration": 9,
    "start_time": "2022-12-05T07:16:15.684Z"
   },
   {
    "duration": 5,
    "start_time": "2022-12-05T07:18:31.980Z"
   },
   {
    "duration": 10,
    "start_time": "2022-12-05T07:18:39.068Z"
   },
   {
    "duration": 5,
    "start_time": "2022-12-05T07:18:52.607Z"
   },
   {
    "duration": 15,
    "start_time": "2022-12-05T07:18:56.929Z"
   },
   {
    "duration": 11,
    "start_time": "2022-12-05T07:19:06.522Z"
   },
   {
    "duration": 7,
    "start_time": "2022-12-05T07:19:28.723Z"
   },
   {
    "duration": 4,
    "start_time": "2022-12-05T07:19:33.242Z"
   },
   {
    "duration": 12,
    "start_time": "2022-12-05T07:19:36.328Z"
   },
   {
    "duration": 10,
    "start_time": "2022-12-05T07:19:49.778Z"
   },
   {
    "duration": 12,
    "start_time": "2022-12-05T07:20:21.278Z"
   },
   {
    "duration": 4,
    "start_time": "2022-12-05T07:20:32.209Z"
   },
   {
    "duration": 12,
    "start_time": "2022-12-05T07:20:36.496Z"
   },
   {
    "duration": 9,
    "start_time": "2022-12-05T07:21:07.453Z"
   },
   {
    "duration": 5,
    "start_time": "2022-12-05T07:21:21.575Z"
   },
   {
    "duration": 5,
    "start_time": "2022-12-05T07:21:32.459Z"
   },
   {
    "duration": 4,
    "start_time": "2022-12-05T07:22:32.458Z"
   },
   {
    "duration": 170,
    "start_time": "2022-12-05T07:23:40.298Z"
   },
   {
    "duration": 182,
    "start_time": "2022-12-05T07:24:14.856Z"
   },
   {
    "duration": 9,
    "start_time": "2022-12-05T07:25:07.009Z"
   },
   {
    "duration": 1239,
    "start_time": "2022-12-05T07:25:35.181Z"
   },
   {
    "duration": 1915,
    "start_time": "2022-12-05T07:25:36.423Z"
   },
   {
    "duration": 215,
    "start_time": "2022-12-05T07:25:38.339Z"
   },
   {
    "duration": 3,
    "start_time": "2022-12-05T07:25:38.556Z"
   },
   {
    "duration": 91,
    "start_time": "2022-12-05T07:25:38.560Z"
   },
   {
    "duration": 51,
    "start_time": "2022-12-05T07:25:38.653Z"
   },
   {
    "duration": 80,
    "start_time": "2022-12-05T07:25:38.705Z"
   },
   {
    "duration": 61,
    "start_time": "2022-12-05T07:25:38.787Z"
   },
   {
    "duration": 2157,
    "start_time": "2022-12-05T07:25:38.850Z"
   },
   {
    "duration": 4,
    "start_time": "2022-12-05T07:25:41.010Z"
   },
   {
    "duration": 9,
    "start_time": "2022-12-05T07:25:41.015Z"
   },
   {
    "duration": 163,
    "start_time": "2022-12-05T07:25:41.025Z"
   },
   {
    "duration": 29,
    "start_time": "2022-12-05T07:25:41.190Z"
   },
   {
    "duration": 13,
    "start_time": "2022-12-05T07:25:41.221Z"
   },
   {
    "duration": 62,
    "start_time": "2022-12-05T07:25:41.235Z"
   },
   {
    "duration": 28,
    "start_time": "2022-12-05T07:25:41.298Z"
   },
   {
    "duration": 10,
    "start_time": "2022-12-05T07:25:41.328Z"
   },
   {
    "duration": 17,
    "start_time": "2022-12-05T07:25:41.340Z"
   },
   {
    "duration": 4,
    "start_time": "2022-12-05T07:25:41.359Z"
   },
   {
    "duration": 6,
    "start_time": "2022-12-05T07:25:41.364Z"
   },
   {
    "duration": 88,
    "start_time": "2022-12-05T07:25:41.372Z"
   },
   {
    "duration": 9,
    "start_time": "2022-12-05T07:25:41.462Z"
   },
   {
    "duration": 14,
    "start_time": "2022-12-05T07:25:41.472Z"
   },
   {
    "duration": 34,
    "start_time": "2022-12-05T07:25:41.488Z"
   },
   {
    "duration": 14,
    "start_time": "2022-12-05T07:25:41.524Z"
   },
   {
    "duration": 14,
    "start_time": "2022-12-05T07:25:41.539Z"
   },
   {
    "duration": 11,
    "start_time": "2022-12-05T07:25:41.554Z"
   },
   {
    "duration": 53,
    "start_time": "2022-12-05T07:25:41.570Z"
   },
   {
    "duration": 3133,
    "start_time": "2022-12-05T07:25:41.625Z"
   },
   {
    "duration": 2892,
    "start_time": "2022-12-05T07:25:44.760Z"
   },
   {
    "duration": 14,
    "start_time": "2022-12-05T07:25:47.654Z"
   },
   {
    "duration": 12,
    "start_time": "2022-12-05T07:25:47.670Z"
   },
   {
    "duration": 34,
    "start_time": "2022-12-05T07:25:47.684Z"
   },
   {
    "duration": 320,
    "start_time": "2022-12-05T07:25:47.720Z"
   },
   {
    "duration": 8,
    "start_time": "2022-12-05T07:25:48.041Z"
   },
   {
    "duration": 11,
    "start_time": "2022-12-05T07:25:48.051Z"
   },
   {
    "duration": 4,
    "start_time": "2022-12-05T07:25:48.064Z"
   },
   {
    "duration": 10,
    "start_time": "2022-12-05T07:25:48.069Z"
   },
   {
    "duration": 140,
    "start_time": "2022-12-05T07:25:48.080Z"
   },
   {
    "duration": 6,
    "start_time": "2022-12-05T07:25:48.221Z"
   },
   {
    "duration": 13,
    "start_time": "2022-12-05T07:25:48.228Z"
   },
   {
    "duration": 134,
    "start_time": "2022-12-05T07:25:48.242Z"
   },
   {
    "duration": 42,
    "start_time": "2022-12-05T07:25:48.378Z"
   },
   {
    "duration": 18,
    "start_time": "2022-12-05T07:25:48.421Z"
   },
   {
    "duration": 4,
    "start_time": "2022-12-05T07:25:48.440Z"
   },
   {
    "duration": 14,
    "start_time": "2022-12-05T07:25:48.446Z"
   },
   {
    "duration": 20,
    "start_time": "2022-12-05T07:25:48.462Z"
   },
   {
    "duration": 34,
    "start_time": "2022-12-05T07:25:48.484Z"
   },
   {
    "duration": 21,
    "start_time": "2022-12-05T07:25:48.520Z"
   },
   {
    "duration": 7,
    "start_time": "2022-12-05T07:25:48.542Z"
   },
   {
    "duration": 11,
    "start_time": "2022-12-05T07:25:48.550Z"
   },
   {
    "duration": 293,
    "start_time": "2022-12-05T07:25:48.563Z"
   },
   {
    "duration": 230,
    "start_time": "2022-12-05T07:25:48.858Z"
   },
   {
    "duration": 12,
    "start_time": "2022-12-05T07:25:49.089Z"
   },
   {
    "duration": 265,
    "start_time": "2022-12-05T07:25:49.103Z"
   },
   {
    "duration": 8,
    "start_time": "2022-12-05T07:25:49.370Z"
   },
   {
    "duration": 230,
    "start_time": "2022-12-05T07:25:49.379Z"
   },
   {
    "duration": 12,
    "start_time": "2022-12-05T07:25:49.610Z"
   },
   {
    "duration": 235,
    "start_time": "2022-12-05T07:25:49.625Z"
   },
   {
    "duration": 9,
    "start_time": "2022-12-05T07:25:49.862Z"
   },
   {
    "duration": 240,
    "start_time": "2022-12-05T07:25:49.872Z"
   },
   {
    "duration": 8,
    "start_time": "2022-12-05T07:25:50.115Z"
   },
   {
    "duration": 196,
    "start_time": "2022-12-05T07:25:50.125Z"
   },
   {
    "duration": 9,
    "start_time": "2022-12-05T07:25:50.322Z"
   },
   {
    "duration": 218,
    "start_time": "2022-12-05T07:25:50.333Z"
   },
   {
    "duration": 9,
    "start_time": "2022-12-05T07:25:50.554Z"
   },
   {
    "duration": 129,
    "start_time": "2022-12-05T07:25:50.565Z"
   },
   {
    "duration": 22,
    "start_time": "2022-12-05T07:25:50.696Z"
   },
   {
    "duration": 199,
    "start_time": "2022-12-05T07:25:50.719Z"
   },
   {
    "duration": 8,
    "start_time": "2022-12-05T07:25:50.919Z"
   },
   {
    "duration": 292,
    "start_time": "2022-12-05T07:25:50.929Z"
   },
   {
    "duration": 414,
    "start_time": "2022-12-05T07:25:51.223Z"
   },
   {
    "duration": 8,
    "start_time": "2022-12-05T07:25:51.639Z"
   },
   {
    "duration": 124,
    "start_time": "2022-12-05T07:25:51.649Z"
   },
   {
    "duration": 145,
    "start_time": "2022-12-05T07:25:51.775Z"
   },
   {
    "duration": 8,
    "start_time": "2022-12-05T07:25:51.922Z"
   },
   {
    "duration": 172,
    "start_time": "2022-12-05T07:25:51.931Z"
   },
   {
    "duration": 97,
    "start_time": "2022-12-05T07:25:57.731Z"
   },
   {
    "duration": 9,
    "start_time": "2022-12-05T07:26:32.581Z"
   },
   {
    "duration": 10,
    "start_time": "2022-12-05T07:27:30.946Z"
   },
   {
    "duration": 42,
    "start_time": "2022-12-05T07:28:36.907Z"
   },
   {
    "duration": 141,
    "start_time": "2022-12-05T07:29:11.278Z"
   },
   {
    "duration": 153,
    "start_time": "2022-12-05T07:29:23.060Z"
   },
   {
    "duration": 1228,
    "start_time": "2022-12-05T19:44:55.687Z"
   },
   {
    "duration": 1722,
    "start_time": "2022-12-05T19:44:56.917Z"
   },
   {
    "duration": 251,
    "start_time": "2022-12-05T19:44:58.641Z"
   },
   {
    "duration": 3,
    "start_time": "2022-12-05T19:44:58.893Z"
   },
   {
    "duration": 41,
    "start_time": "2022-12-05T19:44:58.898Z"
   },
   {
    "duration": 16,
    "start_time": "2022-12-05T19:44:58.941Z"
   },
   {
    "duration": 46,
    "start_time": "2022-12-05T19:44:58.959Z"
   },
   {
    "duration": 10,
    "start_time": "2022-12-05T19:44:59.007Z"
   },
   {
    "duration": 2057,
    "start_time": "2022-12-05T19:44:59.018Z"
   },
   {
    "duration": 5,
    "start_time": "2022-12-05T19:45:01.077Z"
   },
   {
    "duration": 26,
    "start_time": "2022-12-05T19:45:01.097Z"
   },
   {
    "duration": 164,
    "start_time": "2022-12-05T19:45:01.125Z"
   },
   {
    "duration": 27,
    "start_time": "2022-12-05T19:45:01.290Z"
   },
   {
    "duration": 24,
    "start_time": "2022-12-05T19:45:01.321Z"
   },
   {
    "duration": 79,
    "start_time": "2022-12-05T19:45:01.347Z"
   },
   {
    "duration": 19,
    "start_time": "2022-12-05T19:45:01.429Z"
   },
   {
    "duration": 44,
    "start_time": "2022-12-05T19:45:01.450Z"
   },
   {
    "duration": 43,
    "start_time": "2022-12-05T19:45:01.497Z"
   },
   {
    "duration": 10,
    "start_time": "2022-12-05T19:45:01.542Z"
   },
   {
    "duration": 21,
    "start_time": "2022-12-05T19:45:01.555Z"
   },
   {
    "duration": 89,
    "start_time": "2022-12-05T19:45:01.579Z"
   },
   {
    "duration": 8,
    "start_time": "2022-12-05T19:45:01.670Z"
   },
   {
    "duration": 29,
    "start_time": "2022-12-05T19:45:01.679Z"
   },
   {
    "duration": 34,
    "start_time": "2022-12-05T19:45:01.710Z"
   },
   {
    "duration": 28,
    "start_time": "2022-12-05T19:45:01.745Z"
   },
   {
    "duration": 60,
    "start_time": "2022-12-05T19:45:01.775Z"
   },
   {
    "duration": 20,
    "start_time": "2022-12-05T19:45:01.836Z"
   },
   {
    "duration": 65,
    "start_time": "2022-12-05T19:45:01.858Z"
   },
   {
    "duration": 2859,
    "start_time": "2022-12-05T19:45:01.925Z"
   },
   {
    "duration": 2942,
    "start_time": "2022-12-05T19:45:04.785Z"
   },
   {
    "duration": 15,
    "start_time": "2022-12-05T19:45:07.729Z"
   },
   {
    "duration": 11,
    "start_time": "2022-12-05T19:45:07.746Z"
   },
   {
    "duration": 46,
    "start_time": "2022-12-05T19:45:07.759Z"
   },
   {
    "duration": 362,
    "start_time": "2022-12-05T19:45:07.807Z"
   },
   {
    "duration": 10,
    "start_time": "2022-12-05T19:45:08.170Z"
   },
   {
    "duration": 23,
    "start_time": "2022-12-05T19:45:08.181Z"
   },
   {
    "duration": 5,
    "start_time": "2022-12-05T19:45:08.206Z"
   },
   {
    "duration": 13,
    "start_time": "2022-12-05T19:45:08.213Z"
   },
   {
    "duration": 139,
    "start_time": "2022-12-05T19:45:08.228Z"
   },
   {
    "duration": 5,
    "start_time": "2022-12-05T19:45:08.369Z"
   },
   {
    "duration": 19,
    "start_time": "2022-12-05T19:45:08.379Z"
   },
   {
    "duration": 141,
    "start_time": "2022-12-05T19:45:08.400Z"
   },
   {
    "duration": 34,
    "start_time": "2022-12-05T19:45:08.543Z"
   },
   {
    "duration": 35,
    "start_time": "2022-12-05T19:45:08.579Z"
   },
   {
    "duration": 4,
    "start_time": "2022-12-05T19:45:08.616Z"
   },
   {
    "duration": 14,
    "start_time": "2022-12-05T19:45:08.621Z"
   },
   {
    "duration": 13,
    "start_time": "2022-12-05T19:45:08.637Z"
   },
   {
    "duration": 11,
    "start_time": "2022-12-05T19:45:08.652Z"
   },
   {
    "duration": 44,
    "start_time": "2022-12-05T19:45:08.665Z"
   },
   {
    "duration": 6,
    "start_time": "2022-12-05T19:45:08.711Z"
   },
   {
    "duration": 4,
    "start_time": "2022-12-05T19:45:08.720Z"
   },
   {
    "duration": 301,
    "start_time": "2022-12-05T19:45:08.725Z"
   },
   {
    "duration": 228,
    "start_time": "2022-12-05T19:45:09.028Z"
   },
   {
    "duration": 8,
    "start_time": "2022-12-05T19:45:09.258Z"
   },
   {
    "duration": 242,
    "start_time": "2022-12-05T19:45:09.267Z"
   },
   {
    "duration": 9,
    "start_time": "2022-12-05T19:45:09.510Z"
   },
   {
    "duration": 242,
    "start_time": "2022-12-05T19:45:09.520Z"
   },
   {
    "duration": 10,
    "start_time": "2022-12-05T19:45:09.764Z"
   },
   {
    "duration": 258,
    "start_time": "2022-12-05T19:45:09.775Z"
   },
   {
    "duration": 9,
    "start_time": "2022-12-05T19:45:10.034Z"
   },
   {
    "duration": 262,
    "start_time": "2022-12-05T19:45:10.045Z"
   },
   {
    "duration": 10,
    "start_time": "2022-12-05T19:45:10.309Z"
   },
   {
    "duration": 212,
    "start_time": "2022-12-05T19:45:10.320Z"
   },
   {
    "duration": 9,
    "start_time": "2022-12-05T19:45:10.534Z"
   },
   {
    "duration": 231,
    "start_time": "2022-12-05T19:45:10.545Z"
   },
   {
    "duration": 22,
    "start_time": "2022-12-05T19:45:10.778Z"
   },
   {
    "duration": 139,
    "start_time": "2022-12-05T19:45:10.802Z"
   },
   {
    "duration": 9,
    "start_time": "2022-12-05T19:45:10.943Z"
   },
   {
    "duration": 246,
    "start_time": "2022-12-05T19:45:10.953Z"
   },
   {
    "duration": 8,
    "start_time": "2022-12-05T19:45:11.201Z"
   },
   {
    "duration": 345,
    "start_time": "2022-12-05T19:45:11.211Z"
   },
   {
    "duration": 470,
    "start_time": "2022-12-05T19:45:11.558Z"
   },
   {
    "duration": 9,
    "start_time": "2022-12-05T19:45:12.030Z"
   },
   {
    "duration": 134,
    "start_time": "2022-12-05T19:45:12.040Z"
   },
   {
    "duration": 164,
    "start_time": "2022-12-05T19:45:12.176Z"
   },
   {
    "duration": 8,
    "start_time": "2022-12-05T19:45:12.342Z"
   },
   {
    "duration": 187,
    "start_time": "2022-12-05T19:45:12.352Z"
   },
   {
    "duration": 159,
    "start_time": "2022-12-05T19:45:12.541Z"
   },
   {
    "duration": 171,
    "start_time": "2022-12-05T19:45:12.702Z"
   },
   {
    "duration": 5,
    "start_time": "2022-12-05T19:45:12.875Z"
   },
   {
    "duration": 185,
    "start_time": "2022-12-05T19:45:12.882Z"
   },
   {
    "duration": 4,
    "start_time": "2022-12-05T19:45:13.068Z"
   },
   {
    "duration": 181,
    "start_time": "2022-12-05T19:45:13.074Z"
   },
   {
    "duration": 4,
    "start_time": "2022-12-05T19:45:13.257Z"
   },
   {
    "duration": 169,
    "start_time": "2022-12-05T19:45:13.263Z"
   },
   {
    "duration": 4,
    "start_time": "2022-12-05T19:45:13.434Z"
   },
   {
    "duration": 147,
    "start_time": "2022-12-05T19:45:13.440Z"
   },
   {
    "duration": 157,
    "start_time": "2022-12-05T19:45:13.596Z"
   },
   {
    "duration": 194,
    "start_time": "2022-12-05T19:45:13.754Z"
   },
   {
    "duration": 157,
    "start_time": "2022-12-05T19:45:13.950Z"
   },
   {
    "duration": 18,
    "start_time": "2022-12-05T19:45:14.109Z"
   },
   {
    "duration": 24,
    "start_time": "2022-12-05T19:45:14.128Z"
   },
   {
    "duration": 212,
    "start_time": "2022-12-05T19:45:14.154Z"
   },
   {
    "duration": 158,
    "start_time": "2022-12-05T19:45:14.368Z"
   },
   {
    "duration": 17,
    "start_time": "2022-12-05T19:45:14.528Z"
   },
   {
    "duration": 10,
    "start_time": "2022-12-05T19:45:14.546Z"
   },
   {
    "duration": 206,
    "start_time": "2022-12-05T19:45:14.558Z"
   }
  ],
  "kernelspec": {
   "display_name": "Python 3 (ipykernel)",
   "language": "python",
   "name": "python3"
  },
  "language_info": {
   "codemirror_mode": {
    "name": "ipython",
    "version": 3
   },
   "file_extension": ".py",
   "mimetype": "text/x-python",
   "name": "python",
   "nbconvert_exporter": "python",
   "pygments_lexer": "ipython3",
   "version": "3.9.13"
  },
  "toc": {
   "base_numbering": "1",
   "nav_menu": {},
   "number_sections": true,
   "sideBar": true,
   "skip_h1_title": true,
   "title_cell": "Table of Contents",
   "title_sidebar": "Contents",
   "toc_cell": false,
   "toc_position": {
    "height": "calc(100% - 180px)",
    "left": "10px",
    "top": "150px",
    "width": "248px"
   },
   "toc_section_display": true,
   "toc_window_display": true
  }
 },
 "nbformat": 4,
 "nbformat_minor": 5
}
