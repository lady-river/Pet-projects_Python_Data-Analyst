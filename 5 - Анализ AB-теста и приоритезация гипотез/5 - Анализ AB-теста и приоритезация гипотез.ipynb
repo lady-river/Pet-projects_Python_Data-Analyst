{
 "cells": [
  {
   "cell_type": "markdown",
   "id": "38eafc0a",
   "metadata": {},
   "source": [
    "# Проект по теме \"Принятие решений в бизнесе\""
   ]
  },
  {
   "cell_type": "markdown",
   "id": "6b41daa3",
   "metadata": {},
   "source": [
    "**Ситуация**\n",
    "\n",
    "Отделом маркетинга крупного интернет-магазина подготовил список гипотез для увеличения выручки."
   ]
  },
  {
   "cell_type": "markdown",
   "id": "7c95378a",
   "metadata": {},
   "source": [
    "Проект состоит из двух частей:\n",
    "- Приоритизация гипотез\n",
    "- Анализ А\\В-теста"
   ]
  },
  {
   "cell_type": "markdown",
   "id": "fdd63888",
   "metadata": {},
   "source": [
    "## Часть 1. Приоритизация гипотез."
   ]
  },
  {
   "cell_type": "markdown",
   "id": "b5932a93",
   "metadata": {},
   "source": [
    "**Входные данные:** список гипотез для увеличения выручки\n",
    "- `Hypothesis` — краткое описание гипотезы;\n",
    "- `Reach` — охват пользователей по 10-балльной шкале;\n",
    "- `Impact` — влияние на пользователей по 10-балльной шкале;\n",
    "- `Confidence` — уверенность в гипотезе по 10-балльной шкале;\n",
    "- `Efforts` — затраты ресурсов на проверку гипотезы по 10-балльной шкале. Чем больше значение Efforts, тем дороже проверка гипотезы.\n",
    "\n",
    "**Задача:** приминить фреймворк ICE и RICE для приоритизации гипотез, определить наиболее приоритетные"
   ]
  },
  {
   "cell_type": "markdown",
   "id": "6dd2ffbc",
   "metadata": {},
   "source": [
    "### Общая информация о данных"
   ]
  },
  {
   "cell_type": "code",
   "execution_count": 1,
   "id": "2f8e9dda",
   "metadata": {},
   "outputs": [],
   "source": [
    "import pandas as pd\n",
    "import numpy as np\n",
    "from datetime import datetime, timedelta\n",
    "from matplotlib import pyplot as plt\n",
    "import seaborn as sns\n",
    "import scipy.stats as stats\n",
    "\n",
    "\n",
    "import warnings #убрать предупреждения \n",
    "warnings.simplefilter(\"ignore\")\n",
    "\n",
    "pd.set_option('display.max_colwidth', 0) # показать всю стороку\n"
   ]
  },
  {
   "cell_type": "code",
   "execution_count": 2,
   "id": "4cb045bb",
   "metadata": {},
   "outputs": [
    {
     "name": "stdout",
     "output_type": "stream",
     "text": [
      "Name: pandas\r\n",
      "Version: 1.2.4\r\n",
      "Summary: Powerful data structures for data analysis, time series, and statistics\r\n",
      "Home-page: https://pandas.pydata.org\r\n",
      "Author: None\r\n",
      "Author-email: None\r\n",
      "License: BSD\r\n",
      "Location: /opt/conda/lib/python3.9/site-packages\r\n",
      "Requires: python-dateutil, pytz, numpy\r\n",
      "Required-by: statsmodels, seaborn, catboost\r\n"
     ]
    }
   ],
   "source": [
    "!pip show pandas "
   ]
  },
  {
   "cell_type": "code",
   "execution_count": 3,
   "id": "3064d5e7",
   "metadata": {},
   "outputs": [],
   "source": [
    "# Импорт таблицы со списоком гипотез\n",
    "\n",
    "try:\n",
    "     hypothesis = pd.read_csv('https://code.s3.yandex.net/datasets/hypothesis.csv')\n",
    "except:\n",
    "    hypothesis = pd.read_csv('‪/Users/Taras/Documents/я-практикум/data/data/hypothesis.csv')\n"
   ]
  },
  {
   "cell_type": "code",
   "execution_count": 4,
   "id": "c8f012d2",
   "metadata": {},
   "outputs": [
    {
     "data": {
      "text/html": [
       "<div>\n",
       "<style scoped>\n",
       "    .dataframe tbody tr th:only-of-type {\n",
       "        vertical-align: middle;\n",
       "    }\n",
       "\n",
       "    .dataframe tbody tr th {\n",
       "        vertical-align: top;\n",
       "    }\n",
       "\n",
       "    .dataframe thead th {\n",
       "        text-align: right;\n",
       "    }\n",
       "</style>\n",
       "<table border=\"1\" class=\"dataframe\">\n",
       "  <thead>\n",
       "    <tr style=\"text-align: right;\">\n",
       "      <th></th>\n",
       "      <th>Hypothesis</th>\n",
       "      <th>Reach</th>\n",
       "      <th>Impact</th>\n",
       "      <th>Confidence</th>\n",
       "      <th>Efforts</th>\n",
       "    </tr>\n",
       "  </thead>\n",
       "  <tbody>\n",
       "    <tr>\n",
       "      <th>0</th>\n",
       "      <td>Добавить два новых канала привлечения трафика, что позволит привлекать на 30% больше пользователей</td>\n",
       "      <td>3</td>\n",
       "      <td>10</td>\n",
       "      <td>8</td>\n",
       "      <td>6</td>\n",
       "    </tr>\n",
       "    <tr>\n",
       "      <th>1</th>\n",
       "      <td>Запустить собственную службу доставки, что сократит срок доставки заказов</td>\n",
       "      <td>2</td>\n",
       "      <td>5</td>\n",
       "      <td>4</td>\n",
       "      <td>10</td>\n",
       "    </tr>\n",
       "    <tr>\n",
       "      <th>2</th>\n",
       "      <td>Добавить блоки рекомендаций товаров на сайт интернет магазина, чтобы повысить конверсию и средний чек заказа</td>\n",
       "      <td>8</td>\n",
       "      <td>3</td>\n",
       "      <td>7</td>\n",
       "      <td>3</td>\n",
       "    </tr>\n",
       "    <tr>\n",
       "      <th>3</th>\n",
       "      <td>Изменить структура категорий, что увеличит конверсию, т.к. пользователи быстрее найдут нужный товар</td>\n",
       "      <td>8</td>\n",
       "      <td>3</td>\n",
       "      <td>3</td>\n",
       "      <td>8</td>\n",
       "    </tr>\n",
       "    <tr>\n",
       "      <th>4</th>\n",
       "      <td>Изменить цвет фона главной страницы, чтобы увеличить вовлеченность пользователей</td>\n",
       "      <td>3</td>\n",
       "      <td>1</td>\n",
       "      <td>1</td>\n",
       "      <td>1</td>\n",
       "    </tr>\n",
       "    <tr>\n",
       "      <th>5</th>\n",
       "      <td>Добавить страницу отзывов клиентов о магазине, что позволит увеличить количество заказов</td>\n",
       "      <td>3</td>\n",
       "      <td>2</td>\n",
       "      <td>2</td>\n",
       "      <td>3</td>\n",
       "    </tr>\n",
       "    <tr>\n",
       "      <th>6</th>\n",
       "      <td>Показать на главной странице баннеры с актуальными акциями и распродажами, чтобы увеличить конверсию</td>\n",
       "      <td>5</td>\n",
       "      <td>3</td>\n",
       "      <td>8</td>\n",
       "      <td>3</td>\n",
       "    </tr>\n",
       "    <tr>\n",
       "      <th>7</th>\n",
       "      <td>Добавить форму подписки на все основные страницы, чтобы собрать базу клиентов для email-рассылок</td>\n",
       "      <td>10</td>\n",
       "      <td>7</td>\n",
       "      <td>8</td>\n",
       "      <td>5</td>\n",
       "    </tr>\n",
       "    <tr>\n",
       "      <th>8</th>\n",
       "      <td>Запустить акцию, дающую скидку на товар в день рождения</td>\n",
       "      <td>1</td>\n",
       "      <td>9</td>\n",
       "      <td>9</td>\n",
       "      <td>5</td>\n",
       "    </tr>\n",
       "  </tbody>\n",
       "</table>\n",
       "</div>"
      ],
      "text/plain": [
       "                                                                                                     Hypothesis  \\\n",
       "0  Добавить два новых канала привлечения трафика, что позволит привлекать на 30% больше пользователей             \n",
       "1  Запустить собственную службу доставки, что сократит срок доставки заказов                                      \n",
       "2  Добавить блоки рекомендаций товаров на сайт интернет магазина, чтобы повысить конверсию и средний чек заказа   \n",
       "3  Изменить структура категорий, что увеличит конверсию, т.к. пользователи быстрее найдут нужный товар            \n",
       "4  Изменить цвет фона главной страницы, чтобы увеличить вовлеченность пользователей                               \n",
       "5  Добавить страницу отзывов клиентов о магазине, что позволит увеличить количество заказов                       \n",
       "6  Показать на главной странице баннеры с актуальными акциями и распродажами, чтобы увеличить конверсию           \n",
       "7  Добавить форму подписки на все основные страницы, чтобы собрать базу клиентов для email-рассылок               \n",
       "8  Запустить акцию, дающую скидку на товар в день рождения                                                        \n",
       "\n",
       "   Reach  Impact  Confidence  Efforts  \n",
       "0  3      10      8           6        \n",
       "1  2      5       4           10       \n",
       "2  8      3       7           3        \n",
       "3  8      3       3           8        \n",
       "4  3      1       1           1        \n",
       "5  3      2       2           3        \n",
       "6  5      3       8           3        \n",
       "7  10     7       8           5        \n",
       "8  1      9       9           5        "
      ]
     },
     "execution_count": 4,
     "metadata": {},
     "output_type": "execute_result"
    }
   ],
   "source": [
    "# изучим содержание таблицы\n",
    "hypothesis"
   ]
  },
  {
   "cell_type": "code",
   "execution_count": 5,
   "id": "edcb00a1",
   "metadata": {},
   "outputs": [
    {
     "name": "stdout",
     "output_type": "stream",
     "text": [
      "<class 'pandas.core.frame.DataFrame'>\n",
      "RangeIndex: 9 entries, 0 to 8\n",
      "Data columns (total 5 columns):\n",
      " #   Column      Non-Null Count  Dtype \n",
      "---  ------      --------------  ----- \n",
      " 0   Hypothesis  9 non-null      object\n",
      " 1   Reach       9 non-null      int64 \n",
      " 2   Impact      9 non-null      int64 \n",
      " 3   Confidence  9 non-null      int64 \n",
      " 4   Efforts     9 non-null      int64 \n",
      "dtypes: int64(4), object(1)\n",
      "memory usage: 488.0+ bytes\n"
     ]
    }
   ],
   "source": [
    "# изучим информацию о данных\n",
    "hypothesis.info()"
   ]
  },
  {
   "cell_type": "code",
   "execution_count": 6,
   "id": "cc4e9181",
   "metadata": {},
   "outputs": [],
   "source": [
    "# для удобства переведем названия столбцов в нижний регистр \n",
    "hypothesis.columns = hypothesis.columns.str.lower()\n"
   ]
  },
  {
   "cell_type": "markdown",
   "id": "3ac23958",
   "metadata": {},
   "source": [
    "### Приоритезация с помощью фреймворка ICE"
   ]
  },
  {
   "cell_type": "code",
   "execution_count": 7,
   "id": "3fe5c0ea",
   "metadata": {
    "scrolled": true
   },
   "outputs": [
    {
     "data": {
      "text/html": [
       "<div>\n",
       "<style scoped>\n",
       "    .dataframe tbody tr th:only-of-type {\n",
       "        vertical-align: middle;\n",
       "    }\n",
       "\n",
       "    .dataframe tbody tr th {\n",
       "        vertical-align: top;\n",
       "    }\n",
       "\n",
       "    .dataframe thead th {\n",
       "        text-align: right;\n",
       "    }\n",
       "</style>\n",
       "<table border=\"1\" class=\"dataframe\">\n",
       "  <thead>\n",
       "    <tr style=\"text-align: right;\">\n",
       "      <th></th>\n",
       "      <th>hypothesis</th>\n",
       "      <th>ICE</th>\n",
       "    </tr>\n",
       "  </thead>\n",
       "  <tbody>\n",
       "    <tr>\n",
       "      <th>8</th>\n",
       "      <td>Запустить акцию, дающую скидку на товар в день рождения</td>\n",
       "      <td>16.200000</td>\n",
       "    </tr>\n",
       "    <tr>\n",
       "      <th>0</th>\n",
       "      <td>Добавить два новых канала привлечения трафика, что позволит привлекать на 30% больше пользователей</td>\n",
       "      <td>13.333333</td>\n",
       "    </tr>\n",
       "    <tr>\n",
       "      <th>7</th>\n",
       "      <td>Добавить форму подписки на все основные страницы, чтобы собрать базу клиентов для email-рассылок</td>\n",
       "      <td>11.200000</td>\n",
       "    </tr>\n",
       "    <tr>\n",
       "      <th>6</th>\n",
       "      <td>Показать на главной странице баннеры с актуальными акциями и распродажами, чтобы увеличить конверсию</td>\n",
       "      <td>8.000000</td>\n",
       "    </tr>\n",
       "    <tr>\n",
       "      <th>2</th>\n",
       "      <td>Добавить блоки рекомендаций товаров на сайт интернет магазина, чтобы повысить конверсию и средний чек заказа</td>\n",
       "      <td>7.000000</td>\n",
       "    </tr>\n",
       "    <tr>\n",
       "      <th>1</th>\n",
       "      <td>Запустить собственную службу доставки, что сократит срок доставки заказов</td>\n",
       "      <td>2.000000</td>\n",
       "    </tr>\n",
       "    <tr>\n",
       "      <th>5</th>\n",
       "      <td>Добавить страницу отзывов клиентов о магазине, что позволит увеличить количество заказов</td>\n",
       "      <td>1.333333</td>\n",
       "    </tr>\n",
       "    <tr>\n",
       "      <th>3</th>\n",
       "      <td>Изменить структура категорий, что увеличит конверсию, т.к. пользователи быстрее найдут нужный товар</td>\n",
       "      <td>1.125000</td>\n",
       "    </tr>\n",
       "    <tr>\n",
       "      <th>4</th>\n",
       "      <td>Изменить цвет фона главной страницы, чтобы увеличить вовлеченность пользователей</td>\n",
       "      <td>1.000000</td>\n",
       "    </tr>\n",
       "  </tbody>\n",
       "</table>\n",
       "</div>"
      ],
      "text/plain": [
       "                                                                                                     hypothesis  \\\n",
       "8  Запустить акцию, дающую скидку на товар в день рождения                                                        \n",
       "0  Добавить два новых канала привлечения трафика, что позволит привлекать на 30% больше пользователей             \n",
       "7  Добавить форму подписки на все основные страницы, чтобы собрать базу клиентов для email-рассылок               \n",
       "6  Показать на главной странице баннеры с актуальными акциями и распродажами, чтобы увеличить конверсию           \n",
       "2  Добавить блоки рекомендаций товаров на сайт интернет магазина, чтобы повысить конверсию и средний чек заказа   \n",
       "1  Запустить собственную службу доставки, что сократит срок доставки заказов                                      \n",
       "5  Добавить страницу отзывов клиентов о магазине, что позволит увеличить количество заказов                       \n",
       "3  Изменить структура категорий, что увеличит конверсию, т.к. пользователи быстрее найдут нужный товар            \n",
       "4  Изменить цвет фона главной страницы, чтобы увеличить вовлеченность пользователей                               \n",
       "\n",
       "         ICE  \n",
       "8  16.200000  \n",
       "0  13.333333  \n",
       "7  11.200000  \n",
       "6  8.000000   \n",
       "2  7.000000   \n",
       "1  2.000000   \n",
       "5  1.333333   \n",
       "3  1.125000   \n",
       "4  1.000000   "
      ]
     },
     "execution_count": 7,
     "metadata": {},
     "output_type": "execute_result"
    }
   ],
   "source": [
    "hypothesis['ICE'] =( hypothesis['impact'] * hypothesis['confidence']) / hypothesis['efforts']\n",
    "ice = hypothesis[['hypothesis','ICE']].sort_values(by='ICE',ascending=False)\n",
    "ice"
   ]
  },
  {
   "cell_type": "markdown",
   "id": "993dc4c6",
   "metadata": {},
   "source": [
    "При использовании фрейсворка ICE более приоритетные гипотезы \n",
    "- 8 - Запустить акцию, дающую скидку на товар в день рождения\t\n",
    "- 0 - Добавить два новых канала привлечения трафика, что позволит привлекать на 30% больше пользователей\t\n",
    "- 7 - Добавить форму подписки на все основные страницы, чтобы собрать базу клиентов для email-рассылок\t"
   ]
  },
  {
   "cell_type": "markdown",
   "id": "d9d19ad6",
   "metadata": {},
   "source": [
    "### Приоритезация с помощью фреймворка RICE"
   ]
  },
  {
   "cell_type": "code",
   "execution_count": 8,
   "id": "6c6a2d1f",
   "metadata": {
    "scrolled": true
   },
   "outputs": [
    {
     "data": {
      "text/html": [
       "<div>\n",
       "<style scoped>\n",
       "    .dataframe tbody tr th:only-of-type {\n",
       "        vertical-align: middle;\n",
       "    }\n",
       "\n",
       "    .dataframe tbody tr th {\n",
       "        vertical-align: top;\n",
       "    }\n",
       "\n",
       "    .dataframe thead th {\n",
       "        text-align: right;\n",
       "    }\n",
       "</style>\n",
       "<table border=\"1\" class=\"dataframe\">\n",
       "  <thead>\n",
       "    <tr style=\"text-align: right;\">\n",
       "      <th></th>\n",
       "      <th>hypothesis</th>\n",
       "      <th>RICE</th>\n",
       "    </tr>\n",
       "  </thead>\n",
       "  <tbody>\n",
       "    <tr>\n",
       "      <th>7</th>\n",
       "      <td>Добавить форму подписки на все основные страницы, чтобы собрать базу клиентов для email-рассылок</td>\n",
       "      <td>112.0</td>\n",
       "    </tr>\n",
       "    <tr>\n",
       "      <th>2</th>\n",
       "      <td>Добавить блоки рекомендаций товаров на сайт интернет магазина, чтобы повысить конверсию и средний чек заказа</td>\n",
       "      <td>56.0</td>\n",
       "    </tr>\n",
       "    <tr>\n",
       "      <th>0</th>\n",
       "      <td>Добавить два новых канала привлечения трафика, что позволит привлекать на 30% больше пользователей</td>\n",
       "      <td>40.0</td>\n",
       "    </tr>\n",
       "    <tr>\n",
       "      <th>6</th>\n",
       "      <td>Показать на главной странице баннеры с актуальными акциями и распродажами, чтобы увеличить конверсию</td>\n",
       "      <td>40.0</td>\n",
       "    </tr>\n",
       "    <tr>\n",
       "      <th>8</th>\n",
       "      <td>Запустить акцию, дающую скидку на товар в день рождения</td>\n",
       "      <td>16.2</td>\n",
       "    </tr>\n",
       "    <tr>\n",
       "      <th>3</th>\n",
       "      <td>Изменить структура категорий, что увеличит конверсию, т.к. пользователи быстрее найдут нужный товар</td>\n",
       "      <td>9.0</td>\n",
       "    </tr>\n",
       "    <tr>\n",
       "      <th>1</th>\n",
       "      <td>Запустить собственную службу доставки, что сократит срок доставки заказов</td>\n",
       "      <td>4.0</td>\n",
       "    </tr>\n",
       "    <tr>\n",
       "      <th>5</th>\n",
       "      <td>Добавить страницу отзывов клиентов о магазине, что позволит увеличить количество заказов</td>\n",
       "      <td>4.0</td>\n",
       "    </tr>\n",
       "    <tr>\n",
       "      <th>4</th>\n",
       "      <td>Изменить цвет фона главной страницы, чтобы увеличить вовлеченность пользователей</td>\n",
       "      <td>3.0</td>\n",
       "    </tr>\n",
       "  </tbody>\n",
       "</table>\n",
       "</div>"
      ],
      "text/plain": [
       "                                                                                                     hypothesis  \\\n",
       "7  Добавить форму подписки на все основные страницы, чтобы собрать базу клиентов для email-рассылок               \n",
       "2  Добавить блоки рекомендаций товаров на сайт интернет магазина, чтобы повысить конверсию и средний чек заказа   \n",
       "0  Добавить два новых канала привлечения трафика, что позволит привлекать на 30% больше пользователей             \n",
       "6  Показать на главной странице баннеры с актуальными акциями и распродажами, чтобы увеличить конверсию           \n",
       "8  Запустить акцию, дающую скидку на товар в день рождения                                                        \n",
       "3  Изменить структура категорий, что увеличит конверсию, т.к. пользователи быстрее найдут нужный товар            \n",
       "1  Запустить собственную службу доставки, что сократит срок доставки заказов                                      \n",
       "5  Добавить страницу отзывов клиентов о магазине, что позволит увеличить количество заказов                       \n",
       "4  Изменить цвет фона главной страницы, чтобы увеличить вовлеченность пользователей                               \n",
       "\n",
       "    RICE  \n",
       "7  112.0  \n",
       "2  56.0   \n",
       "0  40.0   \n",
       "6  40.0   \n",
       "8  16.2   \n",
       "3  9.0    \n",
       "1  4.0    \n",
       "5  4.0    \n",
       "4  3.0    "
      ]
     },
     "execution_count": 8,
     "metadata": {},
     "output_type": "execute_result"
    }
   ],
   "source": [
    "hypothesis['RICE'] = (hypothesis['reach']*hypothesis['impact']*hypothesis['confidence'])/hypothesis['efforts']\n",
    "rice = hypothesis[['hypothesis', 'RICE']].sort_values(by='RICE',ascending=False)\n",
    "rice"
   ]
  },
  {
   "cell_type": "markdown",
   "id": "6849c909",
   "metadata": {},
   "source": [
    "При использовании фрейсворка RICE более приоритетные гипотезы \n",
    "- 7\t- Добавить форму подписки на все основные страницы, чтобы собрать базу клиентов для email-рассылок\t\n",
    "- 2\t- Добавить блоки рекомендаций товаров на сайт интернет магазина, чтобы повысить конверсию и средний чек заказа\t\n",
    "- 0\t- Добавить два новых канала привлечения трафика, что позволит привлекать на 30% больше пользователей\t"
   ]
  },
  {
   "cell_type": "markdown",
   "id": "d84cf3d9",
   "metadata": {},
   "source": [
    "### Вывод"
   ]
  },
  {
   "cell_type": "markdown",
   "id": "19cd190a",
   "metadata": {},
   "source": [
    "При использовании различных фреймворков приоритет каждой гипотезы очень сильно меняется. Это связано с тем, что в RICE учитывается, скольких пользователей затронет изменение, которое мы хотим внести(Reach). \n",
    "Гипотезы с высоким значением Reach при использовании метода RICE получают более высокий приоритет. \n",
    "7я гипотеза была на 3 месте, стала на 1м - так как у них высокий Reach. \n",
    "А 8-я гипотеза, наоборот опустилась до 5го места, так как ее Reach самый низкий. \n",
    "\n",
    "Так как в текущий момент мы приоритезируем гипотезы для увеличения выручки интернет-магазина, логичнее использовать фреймворк RICE, так как в результате оценки этим методом с большим приоритетом будут более дешевые для реализации гипотезы, которые не только сильно повлияют на показатели, но и затронуть большее количество пользователей\\клиентов.\n",
    "\n",
    "Следовательно, топ-3 гипотез с высоким приоритетом:\n",
    "- 7 - Добавить форму подписки на все основные страницы, чтобы собрать базу клиентов для email-рассылок\t\n",
    "- 2 - Добавить блоки рекомендаций товаров на сайт интернет магазина, чтобы повысить конверсию и средний чек заказа\t\n",
    "- 0 - Добавить два новых канала привлечения трафика, что позволит привлекать на 30% больше пользователей"
   ]
  },
  {
   "cell_type": "markdown",
   "id": "60c89ab4",
   "metadata": {},
   "source": [
    "## Часть 2. Анализ A/B-теста"
   ]
  },
  {
   "cell_type": "markdown",
   "id": "b0de3b10",
   "metadata": {},
   "source": [
    "**Входные данные:**'\n",
    "\n",
    "1. Данные о заказах:\n",
    "- `transactionId` — идентификатор заказа;\n",
    "- `visitorId` — идентификатор пользователя, совершившего заказ;\n",
    "- `date` — дата, когда был совершён заказ;\n",
    "- `revenue` — выручка заказа;\n",
    "- `group` — группа A/B-теста, в которую попал заказ.\n",
    "\n",
    "\n",
    "\n",
    "2. Данные о количестве пользователей в указанную дату в указанной группе A/B-теста\n",
    "- `date` — дата;\n",
    "- `group` — группа A/B-теста;\n",
    "- `visitors` — количество пользователей в указанную дату в указанной группе A/B-теста\n",
    "\n",
    "\n",
    "**Задача:** \n",
    "Принятие решения по результатам A/B-теста теста: \n",
    "1. Остановить тест, зафиксировать победу одной из групп.\n",
    "2. Остановить тест, зафиксировать отсутствие различий между группами.\n",
    "3. Продолжить тест.\n",
    "\n",
    "**Исследуемые параметры в A/B-тесте**\n",
    "1. средний чек группы\n",
    "2. среднее колличество заказов на посетителя\n",
    "\n",
    "**Ход исследования:**\n",
    "1. Проверка корректности входных данных \n",
    "2. Анализ распределения трафика по группам\n",
    "3. Построить графики куммулятивного значени для исследуемых параметров \n",
    "4. Построить графики отностельного изменения для исследуемых параметров \n",
    "5. Проверить данные на наличие аномалий, определить параметры для исключения аномалий\n",
    "6. Рассчитать статистическую значимость по сырым данным\n",
    "7. ассчитать статистическую значимость по очищенным данным\n",
    "8. Провести анализ и сформлировать выводы"
   ]
  },
  {
   "cell_type": "markdown",
   "id": "5575f521",
   "metadata": {},
   "source": [
    "### Общая информация о данных"
   ]
  },
  {
   "cell_type": "code",
   "execution_count": 9,
   "id": "48ff8572",
   "metadata": {},
   "outputs": [],
   "source": [
    "# Импорт таблицы с данными о заказах\n",
    "\n",
    "try:\n",
    "     orders = pd.read_csv('https://code.s3.yandex.net/datasets/orders.csv')\n",
    "except:\n",
    "    orders = pd.read_csv('‪/Users/Taras/Documents/я-практикум/data/data/orders.csv')\n",
    "    \n",
    "\n",
    "    \n",
    "# Импорт таблицы с данными о визитах\n",
    "try:\n",
    "     visitors = pd.read_csv('https://code.s3.yandex.net/datasets/visitors.csv')\n",
    "except:\n",
    "    visitors = pd.read_csv('‪/Users/Taras/Documents/я-практикум/data/data/visitors.csv')    \n"
   ]
  },
  {
   "cell_type": "code",
   "execution_count": 10,
   "id": "39ce73c6",
   "metadata": {},
   "outputs": [
    {
     "name": "stdout",
     "output_type": "stream",
     "text": [
      "   transactionId   visitorId        date  revenue group\n",
      "0  3667963787     3312258926  2019-08-15  1650     B   \n",
      "1  2804400009     3642806036  2019-08-15  730      B   \n",
      "2  2961555356     4069496402  2019-08-15  400      A   \n",
      "3  3797467345     1196621759  2019-08-15  9759     B   \n",
      "4  2282983706     2322279887  2019-08-15  2308     B   \n",
      "5  182168103      935554773   2019-08-15  2210     B   \n",
      "6  398296753      2900797465  2019-08-15  1860     B   \n",
      "7  2626614568     78758296    2019-08-15  1044     A   \n",
      "8  1576988021     295230930   2019-08-15  13710    A   \n",
      "9  1506739906     1882260405  2019-08-15  1855     B   \n",
      "<class 'pandas.core.frame.DataFrame'>\n",
      "RangeIndex: 1197 entries, 0 to 1196\n",
      "Data columns (total 5 columns):\n",
      " #   Column         Non-Null Count  Dtype \n",
      "---  ------         --------------  ----- \n",
      " 0   transactionId  1197 non-null   int64 \n",
      " 1   visitorId      1197 non-null   int64 \n",
      " 2   date           1197 non-null   object\n",
      " 3   revenue        1197 non-null   int64 \n",
      " 4   group          1197 non-null   object\n",
      "dtypes: int64(3), object(2)\n",
      "memory usage: 46.9+ KB\n"
     ]
    }
   ],
   "source": [
    "# изучим содержание таблицы\n",
    "print(orders.head(10))\n",
    "\n",
    "# изучим информацию о данных\n",
    "orders.info()\n"
   ]
  },
  {
   "cell_type": "code",
   "execution_count": 11,
   "id": "ade89f59",
   "metadata": {},
   "outputs": [
    {
     "name": "stdout",
     "output_type": "stream",
     "text": [
      "         date group  visitors\n",
      "0  2019-08-01  A     719     \n",
      "1  2019-08-02  A     619     \n",
      "2  2019-08-03  A     507     \n",
      "3  2019-08-04  A     717     \n",
      "4  2019-08-05  A     756     \n",
      "5  2019-08-06  A     667     \n",
      "6  2019-08-07  A     644     \n",
      "7  2019-08-08  A     610     \n",
      "8  2019-08-09  A     617     \n",
      "9  2019-08-10  A     406     \n",
      "<class 'pandas.core.frame.DataFrame'>\n",
      "RangeIndex: 62 entries, 0 to 61\n",
      "Data columns (total 3 columns):\n",
      " #   Column    Non-Null Count  Dtype \n",
      "---  ------    --------------  ----- \n",
      " 0   date      62 non-null     object\n",
      " 1   group     62 non-null     object\n",
      " 2   visitors  62 non-null     int64 \n",
      "dtypes: int64(1), object(2)\n",
      "memory usage: 1.6+ KB\n"
     ]
    }
   ],
   "source": [
    "# изучим содержание таблицы\n",
    "print(visitors.head(10))\n",
    "\n",
    "# изучим информацию о данных\n",
    "visitors.info()"
   ]
  },
  {
   "cell_type": "code",
   "execution_count": 12,
   "id": "122a5ffe",
   "metadata": {},
   "outputs": [
    {
     "name": "stdout",
     "output_type": "stream",
     "text": [
      "0\n",
      "0\n"
     ]
    }
   ],
   "source": [
    "#Проверим дубликаты\n",
    "print(orders.duplicated().sum())\n",
    "print(visitors.duplicated().sum())\n"
   ]
  },
  {
   "cell_type": "code",
   "execution_count": 13,
   "id": "3fde0375",
   "metadata": {
    "scrolled": true
   },
   "outputs": [],
   "source": [
    "# приведем столбцы с датой к формату date\n",
    "orders['date'] = pd.to_datetime(orders['date'])\n",
    "visitors['date'] = pd.to_datetime(visitors['date'])"
   ]
  },
  {
   "cell_type": "markdown",
   "id": "be3ec823",
   "metadata": {},
   "source": [
    "**Вывод по предварительному анализу:**\n",
    "- Отсутствуют пропуски и явные дубликаты,\n",
    "- Столбцы с датой преведены к нужному формату,\n",
    "- Там, где необходимо, названия столбцов преведены к нихнему регистру."
   ]
  },
  {
   "cell_type": "markdown",
   "id": "8b41d937",
   "metadata": {},
   "source": [
    "### Оценка корректности входных данных "
   ]
  },
  {
   "cell_type": "markdown",
   "id": "8994aa5d",
   "metadata": {},
   "source": [
    "**1. Проверим временные интервалы**"
   ]
  },
  {
   "cell_type": "code",
   "execution_count": 14,
   "id": "0ecf71a6",
   "metadata": {},
   "outputs": [
    {
     "name": "stdout",
     "output_type": "stream",
     "text": [
      "Минимальное значение даты заказа 2019-08-01 00:00:00\n",
      "Максимальное значение даты заказа 2019-08-31 00:00:00\n",
      "Минимальное значение даты визита 2019-08-01 00:00:00\n",
      "Максимальное значение даты визита 2019-08-31 00:00:00\n"
     ]
    }
   ],
   "source": [
    "print('Минимальное значение даты заказа', orders['date'].min())\n",
    "print('Максимальное значение даты заказа', orders['date'].max())\n",
    "print('Минимальное значение даты визита', visitors['date'].min())\n",
    "print('Максимальное значение даты визита', visitors['date'].max())"
   ]
  },
  {
   "cell_type": "markdown",
   "id": "754a656d",
   "metadata": {},
   "source": [
    "Временные интервалы совпадают. "
   ]
  },
  {
   "cell_type": "markdown",
   "id": "a97651cc",
   "metadata": {},
   "source": [
    "**2.Посмотрим как распределился трафик по группам**\n"
   ]
  },
  {
   "cell_type": "code",
   "execution_count": 15,
   "id": "96facda8",
   "metadata": {},
   "outputs": [
    {
     "data": {
      "text/plain": [
       "group\n",
       "A    503\n",
       "B    586\n",
       "Name: visitorId, dtype: int64"
      ]
     },
     "execution_count": 15,
     "metadata": {},
     "output_type": "execute_result"
    }
   ],
   "source": [
    "#orders.groupby('group')['visitorId'].count()\n",
    "\n",
    "orders.groupby('group')['visitorId'].nunique()"
   ]
  },
  {
   "cell_type": "markdown",
   "id": "83a911d7",
   "metadata": {},
   "source": [
    "Трафик разделен не корректно, пользователей в группе B на 14% (83 покупателя) больше. \n",
    "Такое возможно и это не критично, но это стоит отметить в общем выводе по исследованию. "
   ]
  },
  {
   "cell_type": "markdown",
   "id": "4f1b0eb1",
   "metadata": {},
   "source": [
    "Проверим попали ли одни и те же пользователи в разные группы. "
   ]
  },
  {
   "cell_type": "code",
   "execution_count": 16,
   "id": "8836628f",
   "metadata": {},
   "outputs": [
    {
     "data": {
      "text/plain": [
       "58"
      ]
     },
     "execution_count": 16,
     "metadata": {},
     "output_type": "execute_result"
    }
   ],
   "source": [
    "# Создадим списки пользователей из группы A и B\n",
    "# Объединим датасеты, в новом должны отстатьься только те ID, что встречаются и в группе А и в группе B\n",
    "# Сосчитаем колличество уникальных ID\n",
    "\n",
    "group_A_users = orders[orders['group']=='A']\n",
    "group_B_users = orders[orders['group']=='B']\n",
    "\n",
    "duplicate = group_A_users.merge(group_B_users, on='visitorId', how='inner')\n",
    "\n",
    "len(duplicate[\"visitorId\"].unique())\n"
   ]
  },
  {
   "cell_type": "code",
   "execution_count": 17,
   "id": "3ddc7151",
   "metadata": {},
   "outputs": [
    {
     "data": {
      "text/html": [
       "<div>\n",
       "<style scoped>\n",
       "    .dataframe tbody tr th:only-of-type {\n",
       "        vertical-align: middle;\n",
       "    }\n",
       "\n",
       "    .dataframe tbody tr th {\n",
       "        vertical-align: top;\n",
       "    }\n",
       "\n",
       "    .dataframe thead th {\n",
       "        text-align: right;\n",
       "    }\n",
       "</style>\n",
       "<table border=\"1\" class=\"dataframe\">\n",
       "  <thead>\n",
       "    <tr style=\"text-align: right;\">\n",
       "      <th></th>\n",
       "      <th>transactionId_x</th>\n",
       "      <th>visitorId</th>\n",
       "      <th>date_x</th>\n",
       "      <th>revenue_x</th>\n",
       "      <th>group_x</th>\n",
       "      <th>transactionId_y</th>\n",
       "      <th>date_y</th>\n",
       "      <th>revenue_y</th>\n",
       "      <th>group_y</th>\n",
       "    </tr>\n",
       "  </thead>\n",
       "  <tbody>\n",
       "    <tr>\n",
       "      <th>0</th>\n",
       "      <td>2961555356</td>\n",
       "      <td>4069496402</td>\n",
       "      <td>2019-08-15</td>\n",
       "      <td>400</td>\n",
       "      <td>A</td>\n",
       "      <td>1473132782</td>\n",
       "      <td>2019-08-12</td>\n",
       "      <td>640</td>\n",
       "      <td>B</td>\n",
       "    </tr>\n",
       "    <tr>\n",
       "      <th>1</th>\n",
       "      <td>2223239646</td>\n",
       "      <td>199603092</td>\n",
       "      <td>2019-08-15</td>\n",
       "      <td>3488</td>\n",
       "      <td>A</td>\n",
       "      <td>437656952</td>\n",
       "      <td>2019-08-02</td>\n",
       "      <td>3488</td>\n",
       "      <td>B</td>\n",
       "    </tr>\n",
       "    <tr>\n",
       "      <th>2</th>\n",
       "      <td>62794304</td>\n",
       "      <td>199603092</td>\n",
       "      <td>2019-08-22</td>\n",
       "      <td>6976</td>\n",
       "      <td>A</td>\n",
       "      <td>437656952</td>\n",
       "      <td>2019-08-02</td>\n",
       "      <td>3488</td>\n",
       "      <td>B</td>\n",
       "    </tr>\n",
       "    <tr>\n",
       "      <th>3</th>\n",
       "      <td>2971973105</td>\n",
       "      <td>199603092</td>\n",
       "      <td>2019-08-27</td>\n",
       "      <td>2790</td>\n",
       "      <td>A</td>\n",
       "      <td>437656952</td>\n",
       "      <td>2019-08-02</td>\n",
       "      <td>3488</td>\n",
       "      <td>B</td>\n",
       "    </tr>\n",
       "    <tr>\n",
       "      <th>4</th>\n",
       "      <td>1941707234</td>\n",
       "      <td>199603092</td>\n",
       "      <td>2019-08-12</td>\n",
       "      <td>6438</td>\n",
       "      <td>A</td>\n",
       "      <td>437656952</td>\n",
       "      <td>2019-08-02</td>\n",
       "      <td>3488</td>\n",
       "      <td>B</td>\n",
       "    </tr>\n",
       "    <tr>\n",
       "      <th>...</th>\n",
       "      <td>...</td>\n",
       "      <td>...</td>\n",
       "      <td>...</td>\n",
       "      <td>...</td>\n",
       "      <td>...</td>\n",
       "      <td>...</td>\n",
       "      <td>...</td>\n",
       "      <td>...</td>\n",
       "      <td>...</td>\n",
       "    </tr>\n",
       "    <tr>\n",
       "      <th>178</th>\n",
       "      <td>3757656646</td>\n",
       "      <td>4186807279</td>\n",
       "      <td>2019-08-14</td>\n",
       "      <td>4990</td>\n",
       "      <td>A</td>\n",
       "      <td>1759418862</td>\n",
       "      <td>2019-08-21</td>\n",
       "      <td>18560</td>\n",
       "      <td>B</td>\n",
       "    </tr>\n",
       "    <tr>\n",
       "      <th>179</th>\n",
       "      <td>3757656646</td>\n",
       "      <td>4186807279</td>\n",
       "      <td>2019-08-14</td>\n",
       "      <td>4990</td>\n",
       "      <td>A</td>\n",
       "      <td>380064637</td>\n",
       "      <td>2019-08-27</td>\n",
       "      <td>13740</td>\n",
       "      <td>B</td>\n",
       "    </tr>\n",
       "    <tr>\n",
       "      <th>180</th>\n",
       "      <td>3612788481</td>\n",
       "      <td>2712142231</td>\n",
       "      <td>2019-08-14</td>\n",
       "      <td>2490</td>\n",
       "      <td>A</td>\n",
       "      <td>1251767592</td>\n",
       "      <td>2019-08-16</td>\n",
       "      <td>790</td>\n",
       "      <td>B</td>\n",
       "    </tr>\n",
       "    <tr>\n",
       "      <th>181</th>\n",
       "      <td>4052155355</td>\n",
       "      <td>2949041841</td>\n",
       "      <td>2019-08-14</td>\n",
       "      <td>190</td>\n",
       "      <td>A</td>\n",
       "      <td>1329499668</td>\n",
       "      <td>2019-08-14</td>\n",
       "      <td>10380</td>\n",
       "      <td>B</td>\n",
       "    </tr>\n",
       "    <tr>\n",
       "      <th>182</th>\n",
       "      <td>1458356232</td>\n",
       "      <td>963407295</td>\n",
       "      <td>2019-08-14</td>\n",
       "      <td>4940</td>\n",
       "      <td>A</td>\n",
       "      <td>2904772834</td>\n",
       "      <td>2019-08-15</td>\n",
       "      <td>300</td>\n",
       "      <td>B</td>\n",
       "    </tr>\n",
       "  </tbody>\n",
       "</table>\n",
       "<p>183 rows × 9 columns</p>\n",
       "</div>"
      ],
      "text/plain": [
       "     transactionId_x   visitorId     date_x  revenue_x group_x  \\\n",
       "0    2961555356       4069496402 2019-08-15  400        A        \n",
       "1    2223239646       199603092  2019-08-15  3488       A        \n",
       "2    62794304         199603092  2019-08-22  6976       A        \n",
       "3    2971973105       199603092  2019-08-27  2790       A        \n",
       "4    1941707234       199603092  2019-08-12  6438       A        \n",
       "..          ...             ...         ...   ...      ..        \n",
       "178  3757656646       4186807279 2019-08-14  4990       A        \n",
       "179  3757656646       4186807279 2019-08-14  4990       A        \n",
       "180  3612788481       2712142231 2019-08-14  2490       A        \n",
       "181  4052155355       2949041841 2019-08-14  190        A        \n",
       "182  1458356232       963407295  2019-08-14  4940       A        \n",
       "\n",
       "     transactionId_y     date_y  revenue_y group_y  \n",
       "0    1473132782      2019-08-12  640        B       \n",
       "1    437656952       2019-08-02  3488       B       \n",
       "2    437656952       2019-08-02  3488       B       \n",
       "3    437656952       2019-08-02  3488       B       \n",
       "4    437656952       2019-08-02  3488       B       \n",
       "..         ...              ...   ...      ..       \n",
       "178  1759418862      2019-08-21  18560      B       \n",
       "179  380064637       2019-08-27  13740      B       \n",
       "180  1251767592      2019-08-16  790        B       \n",
       "181  1329499668      2019-08-14  10380      B       \n",
       "182  2904772834      2019-08-15  300        B       \n",
       "\n",
       "[183 rows x 9 columns]"
      ]
     },
     "execution_count": 17,
     "metadata": {},
     "output_type": "execute_result"
    }
   ],
   "source": [
    "duplicate"
   ]
  },
  {
   "cell_type": "code",
   "execution_count": 20,
   "id": "7f1987b6",
   "metadata": {},
   "outputs": [],
   "source": [
    "# Создадим список visitorId, которые попали в обе группы\n",
    "duplicate_id = list(duplicate[\"visitorId\"].unique())\n",
    "\n",
    "\n",
    "#Найдем в таблице oders строки с таким visitorId  и удалим их \n",
    "clear_orders = (orders[orders.visitorId.isin(duplicate_id) == False])\n",
    "\n",
    "#присвоем значение clear_orders переменной orders, чтобы не исправлять весь код. И если вдруг понадобятся еще исправления их будет проще добавить \n",
    "orders = clear_orders"
   ]
  },
  {
   "cell_type": "markdown",
   "id": "6a8cf571",
   "metadata": {},
   "source": [
    "### График кумулятивной выручки по группам"
   ]
  },
  {
   "cell_type": "code",
   "execution_count": 21,
   "id": "bd9e36e1",
   "metadata": {},
   "outputs": [
    {
     "data": {
      "text/html": [
       "<div>\n",
       "<style scoped>\n",
       "    .dataframe tbody tr th:only-of-type {\n",
       "        vertical-align: middle;\n",
       "    }\n",
       "\n",
       "    .dataframe tbody tr th {\n",
       "        vertical-align: top;\n",
       "    }\n",
       "\n",
       "    .dataframe thead th {\n",
       "        text-align: right;\n",
       "    }\n",
       "</style>\n",
       "<table border=\"1\" class=\"dataframe\">\n",
       "  <thead>\n",
       "    <tr style=\"text-align: right;\">\n",
       "      <th></th>\n",
       "      <th>date</th>\n",
       "      <th>group</th>\n",
       "      <th>orders</th>\n",
       "      <th>buyers</th>\n",
       "      <th>revenue</th>\n",
       "      <th>visitors</th>\n",
       "    </tr>\n",
       "  </thead>\n",
       "  <tbody>\n",
       "    <tr>\n",
       "      <th>0</th>\n",
       "      <td>2019-08-01</td>\n",
       "      <td>A</td>\n",
       "      <td>23</td>\n",
       "      <td>19</td>\n",
       "      <td>142779</td>\n",
       "      <td>719</td>\n",
       "    </tr>\n",
       "    <tr>\n",
       "      <th>1</th>\n",
       "      <td>2019-08-01</td>\n",
       "      <td>B</td>\n",
       "      <td>17</td>\n",
       "      <td>17</td>\n",
       "      <td>59758</td>\n",
       "      <td>713</td>\n",
       "    </tr>\n",
       "    <tr>\n",
       "      <th>2</th>\n",
       "      <td>2019-08-02</td>\n",
       "      <td>A</td>\n",
       "      <td>42</td>\n",
       "      <td>36</td>\n",
       "      <td>234381</td>\n",
       "      <td>1338</td>\n",
       "    </tr>\n",
       "    <tr>\n",
       "      <th>3</th>\n",
       "      <td>2019-08-02</td>\n",
       "      <td>B</td>\n",
       "      <td>40</td>\n",
       "      <td>39</td>\n",
       "      <td>221801</td>\n",
       "      <td>1294</td>\n",
       "    </tr>\n",
       "    <tr>\n",
       "      <th>4</th>\n",
       "      <td>2019-08-03</td>\n",
       "      <td>A</td>\n",
       "      <td>66</td>\n",
       "      <td>60</td>\n",
       "      <td>346854</td>\n",
       "      <td>1845</td>\n",
       "    </tr>\n",
       "  </tbody>\n",
       "</table>\n",
       "</div>"
      ],
      "text/plain": [
       "        date group  orders  buyers  revenue  visitors\n",
       "0 2019-08-01  A     23      19      142779   719     \n",
       "1 2019-08-01  B     17      17      59758    713     \n",
       "2 2019-08-02  A     42      36      234381   1338    \n",
       "3 2019-08-02  B     40      39      221801   1294    \n",
       "4 2019-08-03  A     66      60      346854   1845    "
      ]
     },
     "execution_count": 21,
     "metadata": {},
     "output_type": "execute_result"
    }
   ],
   "source": [
    "# Создадим массив уникальных пар значений дат и групп теста\n",
    "datesGroups = orders[['date','group']].drop_duplicates()\n",
    "\n",
    "#Соберём агрегированные кумулятивные по дням данные о заказах\n",
    "\n",
    "\n",
    "ordersAggregated = datesGroups.apply(lambda x: orders[np.logical_and(orders['date'] <= x['date'], orders['group'] == x['group'])] \\\n",
    "    .agg({'date' : 'max', \n",
    "      'group' : 'max', \n",
    "      'transactionId' : 'nunique',\n",
    "      'visitorId' : 'nunique', \n",
    "      'revenue' : 'sum'}), axis=1).sort_values(by=['date','group'])\n",
    "\n",
    "visitorsAggregated = datesGroups.apply(lambda x: visitors[np.logical_and(visitors['date'] <= x['date'], visitors['group'] == x['group'])] \\\n",
    "    .agg({'date' : 'max', 'group' : 'max', 'visitors' : 'sum'}), axis=1).sort_values(by=['date','group']) \n",
    "\n",
    "#Объединим обе таблицы в одну \n",
    "cumulativeData = ordersAggregated.merge(visitorsAggregated, left_on=['date', 'group'], right_on=['date', 'group'])\n",
    "cumulativeData.columns = ['date', 'group', 'orders', 'buyers', 'revenue', 'visitors']\n",
    "\n",
    "cumulativeData.head(5)"
   ]
  },
  {
   "cell_type": "code",
   "execution_count": 22,
   "id": "3878c601",
   "metadata": {},
   "outputs": [],
   "source": [
    "# датафрейм с кумулятивным количеством заказов и кумулятивной выручкой по дням в группе А\n",
    "cumulativeRevenueA = cumulativeData[cumulativeData['group']=='A'][['date','revenue', 'orders', 'visitors']]\n",
    "\n",
    "# датафрейм с кумулятивным количеством заказов и кумулятивной выручкой по дням в группе B\n",
    "cumulativeRevenueB = cumulativeData[cumulativeData['group']=='B'][['date','revenue', 'orders', 'visitors' ]]"
   ]
  },
  {
   "cell_type": "code",
   "execution_count": 23,
   "id": "3d61a1e0",
   "metadata": {},
   "outputs": [
    {
     "data": {
      "text/html": [
       "<div>\n",
       "<style scoped>\n",
       "    .dataframe tbody tr th:only-of-type {\n",
       "        vertical-align: middle;\n",
       "    }\n",
       "\n",
       "    .dataframe tbody tr th {\n",
       "        vertical-align: top;\n",
       "    }\n",
       "\n",
       "    .dataframe thead th {\n",
       "        text-align: right;\n",
       "    }\n",
       "</style>\n",
       "<table border=\"1\" class=\"dataframe\">\n",
       "  <thead>\n",
       "    <tr style=\"text-align: right;\">\n",
       "      <th></th>\n",
       "      <th>date</th>\n",
       "      <th>revenue</th>\n",
       "      <th>orders</th>\n",
       "      <th>visitors</th>\n",
       "    </tr>\n",
       "  </thead>\n",
       "  <tbody>\n",
       "    <tr>\n",
       "      <th>0</th>\n",
       "      <td>2019-08-01</td>\n",
       "      <td>142779</td>\n",
       "      <td>23</td>\n",
       "      <td>719</td>\n",
       "    </tr>\n",
       "    <tr>\n",
       "      <th>2</th>\n",
       "      <td>2019-08-02</td>\n",
       "      <td>234381</td>\n",
       "      <td>42</td>\n",
       "      <td>1338</td>\n",
       "    </tr>\n",
       "    <tr>\n",
       "      <th>4</th>\n",
       "      <td>2019-08-03</td>\n",
       "      <td>346854</td>\n",
       "      <td>66</td>\n",
       "      <td>1845</td>\n",
       "    </tr>\n",
       "    <tr>\n",
       "      <th>6</th>\n",
       "      <td>2019-08-04</td>\n",
       "      <td>388030</td>\n",
       "      <td>77</td>\n",
       "      <td>2562</td>\n",
       "    </tr>\n",
       "    <tr>\n",
       "      <th>8</th>\n",
       "      <td>2019-08-05</td>\n",
       "      <td>474413</td>\n",
       "      <td>99</td>\n",
       "      <td>3318</td>\n",
       "    </tr>\n",
       "  </tbody>\n",
       "</table>\n",
       "</div>"
      ],
      "text/plain": [
       "        date  revenue  orders  visitors\n",
       "0 2019-08-01  142779   23      719     \n",
       "2 2019-08-02  234381   42      1338    \n",
       "4 2019-08-03  346854   66      1845    \n",
       "6 2019-08-04  388030   77      2562    \n",
       "8 2019-08-05  474413   99      3318    "
      ]
     },
     "execution_count": 23,
     "metadata": {},
     "output_type": "execute_result"
    }
   ],
   "source": [
    "cumulativeRevenueA.head(5)"
   ]
  },
  {
   "cell_type": "code",
   "execution_count": 24,
   "id": "41c8bbff",
   "metadata": {},
   "outputs": [
    {
     "data": {
      "text/html": [
       "<div>\n",
       "<style scoped>\n",
       "    .dataframe tbody tr th:only-of-type {\n",
       "        vertical-align: middle;\n",
       "    }\n",
       "\n",
       "    .dataframe tbody tr th {\n",
       "        vertical-align: top;\n",
       "    }\n",
       "\n",
       "    .dataframe thead th {\n",
       "        text-align: right;\n",
       "    }\n",
       "</style>\n",
       "<table border=\"1\" class=\"dataframe\">\n",
       "  <thead>\n",
       "    <tr style=\"text-align: right;\">\n",
       "      <th></th>\n",
       "      <th>date</th>\n",
       "      <th>revenue</th>\n",
       "      <th>orders</th>\n",
       "      <th>visitors</th>\n",
       "    </tr>\n",
       "  </thead>\n",
       "  <tbody>\n",
       "    <tr>\n",
       "      <th>1</th>\n",
       "      <td>2019-08-01</td>\n",
       "      <td>59758</td>\n",
       "      <td>17</td>\n",
       "      <td>713</td>\n",
       "    </tr>\n",
       "    <tr>\n",
       "      <th>3</th>\n",
       "      <td>2019-08-02</td>\n",
       "      <td>221801</td>\n",
       "      <td>40</td>\n",
       "      <td>1294</td>\n",
       "    </tr>\n",
       "    <tr>\n",
       "      <th>5</th>\n",
       "      <td>2019-08-03</td>\n",
       "      <td>288850</td>\n",
       "      <td>54</td>\n",
       "      <td>1803</td>\n",
       "    </tr>\n",
       "    <tr>\n",
       "      <th>7</th>\n",
       "      <td>2019-08-04</td>\n",
       "      <td>385740</td>\n",
       "      <td>68</td>\n",
       "      <td>2573</td>\n",
       "    </tr>\n",
       "    <tr>\n",
       "      <th>9</th>\n",
       "      <td>2019-08-05</td>\n",
       "      <td>475648</td>\n",
       "      <td>89</td>\n",
       "      <td>3280</td>\n",
       "    </tr>\n",
       "  </tbody>\n",
       "</table>\n",
       "</div>"
      ],
      "text/plain": [
       "        date  revenue  orders  visitors\n",
       "1 2019-08-01  59758    17      713     \n",
       "3 2019-08-02  221801   40      1294    \n",
       "5 2019-08-03  288850   54      1803    \n",
       "7 2019-08-04  385740   68      2573    \n",
       "9 2019-08-05  475648   89      3280    "
      ]
     },
     "execution_count": 24,
     "metadata": {},
     "output_type": "execute_result"
    }
   ],
   "source": [
    "cumulativeRevenueB.head(5)"
   ]
  },
  {
   "cell_type": "code",
   "execution_count": 25,
   "id": "c33fa898",
   "metadata": {},
   "outputs": [
    {
     "data": {
      "image/png": "[encoded data removed]",
      "text/plain": [
       "<Figure size 1440x720 with 1 Axes>"
      ]
     },
     "metadata": {
      "needs_background": "light"
     },
     "output_type": "display_data"
    }
   ],
   "source": [
    "plt.figure(figsize=(20,10))\n",
    "plt.title('Суммарная выручка группы А и В', fontsize = 18)\n",
    "plt.ylabel('Выручка')\n",
    "plt.xlabel('Дата')\n",
    "\n",
    "\n",
    "# Строим график выручки группы А\n",
    "plt.plot(cumulativeRevenueA['date'], cumulativeRevenueA['revenue'], label='A')\n",
    "\n",
    "# Строим график выручки группы B\n",
    "plt.plot(cumulativeRevenueB['date'], cumulativeRevenueB['revenue'], label='B')\n",
    "\n",
    "plt.grid()\n",
    "plt.legend() \n",
    "plt.show()\n"
   ]
  },
  {
   "cell_type": "markdown",
   "id": "b42e412e",
   "metadata": {},
   "source": [
    "**Вывод:**\n",
    "- К концу временного интервала графики стабилизируются. \n",
    "- Есть сильный скачек в группе B 19.08, скорее всего в группу попал заказ с аномально большим чеком или было несколько больших заказов. Мы проверим это далее построив точечный график. \n",
    "\n"
   ]
  },
  {
   "cell_type": "markdown",
   "id": "87117993",
   "metadata": {},
   "source": [
    "### График кумулятивного среднего чека по группам."
   ]
  },
  {
   "cell_type": "code",
   "execution_count": 26,
   "id": "b768d5d5",
   "metadata": {},
   "outputs": [
    {
     "data": {
      "image/png": "[encoded data removed]",
      "text/plain": [
       "<Figure size 1440x720 with 1 Axes>"
      ]
     },
     "metadata": {
      "needs_background": "light"
     },
     "output_type": "display_data"
    }
   ],
   "source": [
    "plt.figure(figsize=(20,10))\n",
    "plt.title('Кумулятивный средний чек', fontsize = 18)\n",
    "plt.ylabel('Средний чек')\n",
    "plt.xlabel('Дата')\n",
    "\n",
    "plt.plot(cumulativeRevenueA['date'], cumulativeRevenueA['revenue']/cumulativeRevenueA['orders'], label='A')\n",
    "plt.plot(cumulativeRevenueB['date'], cumulativeRevenueB['revenue']/cumulativeRevenueB['orders'], label='B')\n",
    "\n",
    "plt.grid()\n",
    "plt.legend()\n",
    "plt.show()"
   ]
  },
  {
   "cell_type": "markdown",
   "id": "59a2262c",
   "metadata": {},
   "source": [
    "**Вывод:**\n",
    "- Кумулятивный средний чек группы А после до 13 августа рос , но после начал проседать и зафиксировался в районе 7 тыс. \n",
    "- Здесь мы тоже видим скачек в группе B, значит это все же влияние анномально-большого чека в этот день. \n",
    "\n",
    "\n"
   ]
  },
  {
   "cell_type": "markdown",
   "id": "2bbf3314",
   "metadata": {},
   "source": [
    "### График относительного изменения кумулятивного среднего чека группы B к группе A"
   ]
  },
  {
   "cell_type": "code",
   "execution_count": 27,
   "id": "48a71660",
   "metadata": {
    "scrolled": false
   },
   "outputs": [
    {
     "data": {
      "image/png": "[encoded data removed]",
      "text/plain": [
       "<Figure size 1440x720 with 1 Axes>"
      ]
     },
     "metadata": {
      "needs_background": "light"
     },
     "output_type": "display_data"
    }
   ],
   "source": [
    "# собираем данные в одном датафрейме\n",
    "mergedCumulativeRevenue = cumulativeRevenueA.merge(cumulativeRevenueB, left_on='date', right_on='date', how='left', suffixes=['A', 'B'])\n",
    "\n",
    "\n",
    "plt.figure(figsize=(20,10))\n",
    "plt.title('График относительного изменения кумулятивного среднего чека группы B к группе A', fontsize = 18)\n",
    "plt.ylabel('Средний чек')\n",
    "plt.xlabel('Соотношение')\n",
    "\n",
    "\n",
    "# cтроим отношение средних чеков\n",
    "plt.plot(mergedCumulativeRevenue['date'], (mergedCumulativeRevenue['revenueB']/mergedCumulativeRevenue['ordersB'])/(mergedCumulativeRevenue['revenueA']/mergedCumulativeRevenue['ordersA'])-1)\n",
    "\n",
    "# добавляем ось X\n",
    "plt.axhline(y=0, color='black', linestyle='--') \n",
    "\n",
    "\n",
    "plt.grid()\n",
    "\n",
    "plt.show()"
   ]
  },
  {
   "cell_type": "markdown",
   "id": "66575fdd",
   "metadata": {},
   "source": [
    "**Вывод:**\n",
    "- В граффике большие перепады.\n",
    "- 12 августа средний чек группы B был больше, и оставался таким до скачка, который мы зафиксировали на прдыдущих граффиках.  "
   ]
  },
  {
   "cell_type": "markdown",
   "id": "99b8f180",
   "metadata": {},
   "source": [
    "### График кумулятивного среднего количества заказов на посетителя по группам."
   ]
  },
  {
   "cell_type": "code",
   "execution_count": 28,
   "id": "644bd05a",
   "metadata": {},
   "outputs": [],
   "source": [
    "# добавляем в cumulativeData столбец со средним колличеством чеков на посетителя\n",
    "cumulativeData['avg_orders'] = cumulativeData['orders']/cumulativeData['visitors']\n",
    "\n",
    "\n",
    "# отделяем данные по группам\n",
    "cumulativeDataA = cumulativeData[cumulativeData['group']=='A']\n",
    "cumulativeDataB = cumulativeData[cumulativeData['group']=='B']"
   ]
  },
  {
   "cell_type": "code",
   "execution_count": 29,
   "id": "d50729c3",
   "metadata": {},
   "outputs": [
    {
     "data": {
      "image/png": "[encoded data removed]",
      "text/plain": [
       "<Figure size 1440x720 with 1 Axes>"
      ]
     },
     "metadata": {
      "needs_background": "light"
     },
     "output_type": "display_data"
    }
   ],
   "source": [
    "# строим графики\n",
    "plt.figure(figsize=(20,10))\n",
    "plt.title('График кумулятивного среднего количества заказов', fontsize = 18)\n",
    "plt.ylabel('Дата')\n",
    "plt.xlabel('Среднее колличество заказов на посетителя')\n",
    "\n",
    "\n",
    "plt.plot(cumulativeDataA['date'], cumulativeDataA['avg_orders'], label='A')\n",
    "plt.plot(cumulativeDataB['date'], cumulativeDataB['avg_orders'], label='B')\n",
    "plt.legend()\n",
    "plt.grid()\n",
    "plt.show()\n"
   ]
  },
  {
   "cell_type": "markdown",
   "id": "078edd1a",
   "metadata": {},
   "source": [
    "**Вывод:**\n",
    "- В начале месяца по колличеству заказов на поситителя лидировала группа А, но достигнув своего пика 3 августа показатель стал падать. \n",
    "- Среднее колличество заказов в группе B достигло максимумам к 9 августа, потом плавно снижалась.\n",
    "- Среднее колличество заказов по предварительному анализу в группе B гораздо больше. "
   ]
  },
  {
   "cell_type": "markdown",
   "id": "c47ace93",
   "metadata": {},
   "source": [
    "### График относительного изменения кумулятивного среднего количества заказов на посетителя группы B к группе A"
   ]
  },
  {
   "cell_type": "code",
   "execution_count": 30,
   "id": "f31c0a45",
   "metadata": {},
   "outputs": [
    {
     "data": {
      "text/html": [
       "<div>\n",
       "<style scoped>\n",
       "    .dataframe tbody tr th:only-of-type {\n",
       "        vertical-align: middle;\n",
       "    }\n",
       "\n",
       "    .dataframe tbody tr th {\n",
       "        vertical-align: top;\n",
       "    }\n",
       "\n",
       "    .dataframe thead th {\n",
       "        text-align: right;\n",
       "    }\n",
       "</style>\n",
       "<table border=\"1\" class=\"dataframe\">\n",
       "  <thead>\n",
       "    <tr style=\"text-align: right;\">\n",
       "      <th></th>\n",
       "      <th>date</th>\n",
       "      <th>avg_ordersA</th>\n",
       "      <th>avg_ordersB</th>\n",
       "    </tr>\n",
       "  </thead>\n",
       "  <tbody>\n",
       "    <tr>\n",
       "      <th>0</th>\n",
       "      <td>2019-08-01</td>\n",
       "      <td>0.031989</td>\n",
       "      <td>0.023843</td>\n",
       "    </tr>\n",
       "    <tr>\n",
       "      <th>1</th>\n",
       "      <td>2019-08-02</td>\n",
       "      <td>0.031390</td>\n",
       "      <td>0.030912</td>\n",
       "    </tr>\n",
       "    <tr>\n",
       "      <th>2</th>\n",
       "      <td>2019-08-03</td>\n",
       "      <td>0.035772</td>\n",
       "      <td>0.029950</td>\n",
       "    </tr>\n",
       "    <tr>\n",
       "      <th>3</th>\n",
       "      <td>2019-08-04</td>\n",
       "      <td>0.030055</td>\n",
       "      <td>0.026428</td>\n",
       "    </tr>\n",
       "    <tr>\n",
       "      <th>4</th>\n",
       "      <td>2019-08-05</td>\n",
       "      <td>0.029837</td>\n",
       "      <td>0.027134</td>\n",
       "    </tr>\n",
       "  </tbody>\n",
       "</table>\n",
       "</div>"
      ],
      "text/plain": [
       "        date  avg_ordersA  avg_ordersB\n",
       "0 2019-08-01  0.031989     0.023843   \n",
       "1 2019-08-02  0.031390     0.030912   \n",
       "2 2019-08-03  0.035772     0.029950   \n",
       "3 2019-08-04  0.030055     0.026428   \n",
       "4 2019-08-05  0.029837     0.027134   "
      ]
     },
     "execution_count": 30,
     "metadata": {},
     "output_type": "execute_result"
    }
   ],
   "source": [
    "mergedCumulative_avg_orders = cumulativeDataA[['date','avg_orders']].merge(cumulativeDataB[['date','avg_orders']], left_on='date', right_on='date', how='left', suffixes=['A', 'B'])\n",
    "mergedCumulative_avg_orders.head(5)\n"
   ]
  },
  {
   "cell_type": "code",
   "execution_count": 31,
   "id": "bb96ef32",
   "metadata": {},
   "outputs": [
    {
     "data": {
      "image/png": "[encoded data removed]",
      "text/plain": [
       "<Figure size 1440x648 with 1 Axes>"
      ]
     },
     "metadata": {
      "needs_background": "light"
     },
     "output_type": "display_data"
    }
   ],
   "source": [
    "plt.figure(figsize=(20,9))\n",
    "plt.title(' График относительного изменения кумулятивного среднего количества заказов на посетителя группы B к группе A', fontsize = 18)\n",
    "plt.xlabel('Дата')\n",
    "\n",
    "\n",
    "plt.plot(mergedCumulative_avg_orders['date'], mergedCumulative_avg_orders['avg_ordersB']/mergedCumulative_avg_orders['avg_ordersA']-1, label=\"Изменения кумулятивного среднего количества заказов на посетителя\")\n",
    "\n",
    "\n",
    "plt.axhline(y=0, color='black', linestyle='--')\n",
    "plt.axhline(y=0.14, color='grey', linestyle='--')\n",
    "#plt.axis([\"2019-03-10\", '2019-04-23', -0.5, 0.5])\n",
    "plt.legend()\n",
    "\n",
    "plt.show()\n"
   ]
  },
  {
   "cell_type": "markdown",
   "id": "9851e864",
   "metadata": {},
   "source": [
    "**Вывод:**"
   ]
  },
  {
   "cell_type": "markdown",
   "id": "47b6e600",
   "metadata": {},
   "source": [
    "Здесь ситуация аналогичная предыдущему граффику. \n",
    "- в начале периода мы видим рост колличества заказов в группе B, а потом резкий перевес в пользу группы А\n",
    "- после 5 августа среднее колличество заказов в группе B резко выросло и оставалась в лидерах до конца периода. "
   ]
  },
  {
   "cell_type": "markdown",
   "id": "f1d08374",
   "metadata": {},
   "source": [
    "### Количества заказов по пользователям. "
   ]
  },
  {
   "cell_type": "markdown",
   "id": "8ac792ba",
   "metadata": {},
   "source": [
    "Построим точечный график количества заказов по пользователям."
   ]
  },
  {
   "cell_type": "code",
   "execution_count": 32,
   "id": "324dbb59",
   "metadata": {},
   "outputs": [
    {
     "name": "stdout",
     "output_type": "stream",
     "text": [
      "         userId  orders\n",
      "908  3967698036  3     \n",
      "55   249864742   3     \n",
      "478  2108163459  3     \n",
      "687  2988190573  3     \n",
      "890  3908431265  3     \n",
      "138  611059232   3     \n",
      "632  2742574263  3     \n",
      "157  678354126   2     \n",
      "323  1404560065  2     \n",
      "452  1985475298  2     \n"
     ]
    }
   ],
   "source": [
    "ordersByUsers = (\n",
    "    orders.groupby('visitorId', as_index=False)\n",
    "    .agg({'transactionId': 'nunique'})\n",
    ")\n",
    "\n",
    "ordersByUsers.columns = ['userId', 'orders']\n",
    "\n",
    "print(ordersByUsers.sort_values(by='orders', ascending=False).head(10)) \n"
   ]
  },
  {
   "cell_type": "code",
   "execution_count": 33,
   "id": "970ab73f",
   "metadata": {},
   "outputs": [
    {
     "data": {
      "image/png": "[encoded data removed]",
      "text/plain": [
       "<Figure size 720x432 with 1 Axes>"
      ]
     },
     "metadata": {
      "needs_background": "light"
     },
     "output_type": "display_data"
    }
   ],
   "source": [
    "plt.figure(figsize=(10,6))\n",
    "plt.title('Количество заказов по пользователям', fontsize = 12)\n",
    "plt.ylabel('Колличество заказов')\n",
    "\n",
    "\n",
    "x_values = pd.Series(range(0,len(ordersByUsers)))\n",
    "\n",
    "plt.scatter(x_values, ordersByUsers['orders']) \n",
    "\n",
    "plt.grid()\n",
    "plt.show()\n"
   ]
  },
  {
   "cell_type": "markdown",
   "id": "e2e05193",
   "metadata": {},
   "source": [
    "В основном посетители интернет-магазина совершают один заказ, но есть доля посетителей с 2-3 заказами. "
   ]
  },
  {
   "cell_type": "markdown",
   "id": "f42a5ee2",
   "metadata": {},
   "source": [
    "Посчитаем выборочные перцентили количества заказов на одного пользователя:"
   ]
  },
  {
   "cell_type": "code",
   "execution_count": 34,
   "id": "1a1b4445",
   "metadata": {
    "scrolled": true
   },
   "outputs": [
    {
     "name": "stdout",
     "output_type": "stream",
     "text": [
      "[1. 2.]\n"
     ]
    }
   ],
   "source": [
    "print(np.percentile(ordersByUsers['orders'], [ 95, 99])) \n"
   ]
  },
  {
   "cell_type": "markdown",
   "id": "534d9d4a",
   "metadata": {},
   "source": [
    "95% покупателей совершали 1 заказ, и только 1% совершали повторные покупки"
   ]
  },
  {
   "cell_type": "markdown",
   "id": "082aad5f",
   "metadata": {},
   "source": [
    "### Cтоимость заказов"
   ]
  },
  {
   "cell_type": "markdown",
   "id": "f81a0b20",
   "metadata": {},
   "source": [
    "Построим точечный график стоимостей заказов."
   ]
  },
  {
   "cell_type": "code",
   "execution_count": 36,
   "id": "251d8254",
   "metadata": {},
   "outputs": [
    {
     "data": {
      "text/html": [
       "<div>\n",
       "<style scoped>\n",
       "    .dataframe tbody tr th:only-of-type {\n",
       "        vertical-align: middle;\n",
       "    }\n",
       "\n",
       "    .dataframe tbody tr th {\n",
       "        vertical-align: top;\n",
       "    }\n",
       "\n",
       "    .dataframe thead th {\n",
       "        text-align: right;\n",
       "    }\n",
       "</style>\n",
       "<table border=\"1\" class=\"dataframe\">\n",
       "  <thead>\n",
       "    <tr style=\"text-align: right;\">\n",
       "      <th></th>\n",
       "      <th>transactionId</th>\n",
       "      <th>visitorId</th>\n",
       "      <th>date</th>\n",
       "      <th>revenue</th>\n",
       "      <th>group</th>\n",
       "    </tr>\n",
       "  </thead>\n",
       "  <tbody>\n",
       "    <tr>\n",
       "      <th>425</th>\n",
       "      <td>590470918</td>\n",
       "      <td>1920142716</td>\n",
       "      <td>2019-08-19</td>\n",
       "      <td>1294500</td>\n",
       "      <td>B</td>\n",
       "    </tr>\n",
       "    <tr>\n",
       "      <th>1196</th>\n",
       "      <td>3936777065</td>\n",
       "      <td>2108080724</td>\n",
       "      <td>2019-08-15</td>\n",
       "      <td>202740</td>\n",
       "      <td>B</td>\n",
       "    </tr>\n",
       "    <tr>\n",
       "      <th>1136</th>\n",
       "      <td>666610489</td>\n",
       "      <td>1307669133</td>\n",
       "      <td>2019-08-13</td>\n",
       "      <td>92550</td>\n",
       "      <td>A</td>\n",
       "    </tr>\n",
       "    <tr>\n",
       "      <th>744</th>\n",
       "      <td>3668308183</td>\n",
       "      <td>888512513</td>\n",
       "      <td>2019-08-27</td>\n",
       "      <td>86620</td>\n",
       "      <td>B</td>\n",
       "    </tr>\n",
       "    <tr>\n",
       "      <th>743</th>\n",
       "      <td>3603576309</td>\n",
       "      <td>4133034833</td>\n",
       "      <td>2019-08-09</td>\n",
       "      <td>67990</td>\n",
       "      <td>A</td>\n",
       "    </tr>\n",
       "    <tr>\n",
       "      <th>1103</th>\n",
       "      <td>1348774318</td>\n",
       "      <td>1164614297</td>\n",
       "      <td>2019-08-12</td>\n",
       "      <td>66350</td>\n",
       "      <td>A</td>\n",
       "    </tr>\n",
       "    <tr>\n",
       "      <th>1099</th>\n",
       "      <td>316924019</td>\n",
       "      <td>148427295</td>\n",
       "      <td>2019-08-12</td>\n",
       "      <td>65710</td>\n",
       "      <td>A</td>\n",
       "    </tr>\n",
       "    <tr>\n",
       "      <th>949</th>\n",
       "      <td>1347999392</td>\n",
       "      <td>887908475</td>\n",
       "      <td>2019-08-21</td>\n",
       "      <td>60450</td>\n",
       "      <td>A</td>\n",
       "    </tr>\n",
       "    <tr>\n",
       "      <th>940</th>\n",
       "      <td>2420050534</td>\n",
       "      <td>4003628586</td>\n",
       "      <td>2019-08-08</td>\n",
       "      <td>58550</td>\n",
       "      <td>B</td>\n",
       "    </tr>\n",
       "    <tr>\n",
       "      <th>131</th>\n",
       "      <td>3163614039</td>\n",
       "      <td>2254586615</td>\n",
       "      <td>2019-08-22</td>\n",
       "      <td>53904</td>\n",
       "      <td>A</td>\n",
       "    </tr>\n",
       "  </tbody>\n",
       "</table>\n",
       "</div>"
      ],
      "text/plain": [
       "      transactionId   visitorId       date  revenue group\n",
       "425   590470918      1920142716 2019-08-19  1294500  B   \n",
       "1196  3936777065     2108080724 2019-08-15  202740   B   \n",
       "1136  666610489      1307669133 2019-08-13  92550    A   \n",
       "744   3668308183     888512513  2019-08-27  86620    B   \n",
       "743   3603576309     4133034833 2019-08-09  67990    A   \n",
       "1103  1348774318     1164614297 2019-08-12  66350    A   \n",
       "1099  316924019      148427295  2019-08-12  65710    A   \n",
       "949   1347999392     887908475  2019-08-21  60450    A   \n",
       "940   2420050534     4003628586 2019-08-08  58550    B   \n",
       "131   3163614039     2254586615 2019-08-22  53904    A   "
      ]
     },
     "execution_count": 36,
     "metadata": {},
     "output_type": "execute_result"
    }
   ],
   "source": [
    "orders.sort_values(by='revenue', ascending=False).head(10)"
   ]
  },
  {
   "cell_type": "code",
   "execution_count": 37,
   "id": "b7006ebc",
   "metadata": {},
   "outputs": [
    {
     "data": {
      "image/png": "[encoded data removed]",
      "text/plain": [
       "<Figure size 1440x720 with 1 Axes>"
      ]
     },
     "metadata": {
      "needs_background": "light"
     },
     "output_type": "display_data"
    }
   ],
   "source": [
    "plt.figure(figsize=(20,10))\n",
    "plt.title('Стоимость заказов', fontsize = 12)\n",
    "plt.ylabel('Стоимость заказа')\n",
    "\n",
    "orders.sort_values(by='revenue', ascending=False)\n",
    "x_values = pd.Series(range(0,len(orders['revenue'])))\n",
    "\n",
    "plt.scatter(x_values, orders['revenue']) \n",
    "\n",
    "plt.grid()\n",
    "plt.show()"
   ]
  },
  {
   "cell_type": "markdown",
   "id": "85dccbb4",
   "metadata": {},
   "source": [
    "Из-за выбросов график получается не читабельный. Уберем выбросы со стоимостью заказов больше 199990"
   ]
  },
  {
   "cell_type": "code",
   "execution_count": 38,
   "id": "a46a2b5f",
   "metadata": {},
   "outputs": [],
   "source": [
    "temp_orders = orders[orders['revenue']<=199990]['revenue']"
   ]
  },
  {
   "cell_type": "code",
   "execution_count": 39,
   "id": "cbeb78a0",
   "metadata": {},
   "outputs": [
    {
     "data": {
      "image/png": "[encoded data removed]",
      "text/plain": [
       "<Figure size 1440x720 with 1 Axes>"
      ]
     },
     "metadata": {
      "needs_background": "light"
     },
     "output_type": "display_data"
    }
   ],
   "source": [
    "\n",
    "plt.figure(figsize=(20,10))\n",
    "plt.title('Стоимость заказов', fontsize = 12)\n",
    "plt.ylabel('Стоимость заказа')\n",
    "\n",
    "\n",
    "temp_orders = orders[orders['revenue']<=199990]['revenue']\n",
    "xn_values = pd.Series(range(0,len(temp_orders)))\n",
    "\n",
    "plt.grid()\n",
    "plt.scatter(xn_values, temp_orders, alpha=0.7)\n",
    "plt.show()\n",
    "\n"
   ]
  },
  {
   "cell_type": "markdown",
   "id": "bbc800fd",
   "metadata": {},
   "source": [
    "По мимо выбросов, на графике видны дорогие заказы. Это объясняет скачек среднего чека в группе ????, там был аномально дорогой заказ. \n",
    "Не будем определять границу по которой будем далее фильтровать данные -  посчитаем 95-й и 99-й перцентили стоимости заказов. "
   ]
  },
  {
   "cell_type": "code",
   "execution_count": 40,
   "id": "370f46ab",
   "metadata": {},
   "outputs": [
    {
     "name": "stdout",
     "output_type": "stream",
     "text": [
      "[26785. 53904.]\n"
     ]
    }
   ],
   "source": [
    "print(np.percentile(orders['revenue'], [ 95, 99])) \n"
   ]
  },
  {
   "cell_type": "markdown",
   "id": "1f1513fb",
   "metadata": {},
   "source": [
    "5% заказов дороже 26785, и 1% дороже 58233."
   ]
  },
  {
   "cell_type": "markdown",
   "id": "4bf0e118",
   "metadata": {},
   "source": [
    "**Вывод:**\n",
    "оставляем покупателей с 1 заказом и с чеком не выше 26785"
   ]
  },
  {
   "cell_type": "markdown",
   "id": "63293955",
   "metadata": {},
   "source": [
    "### Cтатистическая значимость"
   ]
  },
  {
   "cell_type": "markdown",
   "id": "c61e5fed",
   "metadata": {},
   "source": [
    "Для анализа результатов А\\В-теста будем использовать критерий Манна-Уитни:\n",
    "1. Выборки независимы друг от друга\n",
    "2. Необходимо оценить сдвиг значений в разных группах относительно друг-друга, это можно сделать с помощью рангов. \n",
    "\n"
   ]
  },
  {
   "cell_type": "code",
   "execution_count": 42,
   "id": "bc6d5615",
   "metadata": {},
   "outputs": [],
   "source": [
    "# Подготовка данных \n",
    "\n",
    "visitorsADaily = visitors[visitors['group'] == 'A'][['date', 'visitors']]\n",
    "visitorsADaily.columns = ['date', 'visitorsPerDateA']\n",
    "\n",
    "visitorsACummulative = visitorsADaily.apply(\n",
    "    lambda x: visitorsADaily[visitorsADaily['date'] <= x['date']].agg(\n",
    "        {'date': 'max', 'visitorsPerDateA': 'sum'}\n",
    "    ),\n",
    "    axis=1,\n",
    ")\n",
    "visitorsACummulative.columns = ['date', 'visitorsCummulativeA']\n",
    "\n",
    "visitorsBDaily = visitors[visitors['group'] == 'B'][['date', 'visitors']]\n",
    "visitorsBDaily.columns = ['date', 'visitorsPerDateB']\n",
    "\n",
    "visitorsBCummulative = visitorsBDaily.apply(\n",
    "    lambda x: visitorsBDaily[visitorsBDaily['date'] <= x['date']].agg(\n",
    "        {'date': 'max', 'visitorsPerDateB': 'sum'}\n",
    "    ),\n",
    "    axis=1,\n",
    ")\n",
    "visitorsBCummulative.columns = ['date', 'visitorsCummulativeB']\n",
    "\n",
    "ordersADaily = (\n",
    "    orders[orders['group'] == 'A'][['date', 'transactionId', 'visitorId', 'revenue']]\n",
    "    .groupby('date', as_index=False)\n",
    "    .agg({'transactionId': pd.Series.nunique, 'revenue': 'sum'})\n",
    ")\n",
    "ordersADaily.columns = ['date', 'ordersPerDateA', 'revenuePerDateA']\n",
    "\n",
    "ordersACummulative = ordersADaily.apply(\n",
    "    lambda x: ordersADaily[ordersADaily['date'] <= x['date']].agg(\n",
    "        {'date': 'max', 'ordersPerDateA': 'sum', 'revenuePerDateA': 'sum'}\n",
    "    ),\n",
    "    axis=1,\n",
    ").sort_values(by=['date'])\n",
    "ordersACummulative.columns = [\n",
    "    'date',\n",
    "    'ordersCummulativeA',\n",
    "    'revenueCummulativeA',\n",
    "]\n",
    "\n",
    "ordersBDaily = (\n",
    "    orders[orders['group'] == 'B'][['date', 'transactionId', 'visitorId', 'revenue']]\n",
    "    .groupby('date', as_index=False)\n",
    "    .agg({'transactionId': pd.Series.nunique, 'revenue': 'sum'})\n",
    ")\n",
    "ordersBDaily.columns = ['date', 'ordersPerDateB', 'revenuePerDateB']\n",
    "\n",
    "ordersBCummulative = ordersBDaily.apply(\n",
    "    lambda x: ordersBDaily[ordersBDaily['date'] <= x['date']].agg(\n",
    "        {'date': 'max', 'ordersPerDateB': 'sum', 'revenuePerDateB': 'sum'}\n",
    "    ),\n",
    "    axis=1,\n",
    ").sort_values(by=['date'])\n",
    "ordersBCummulative.columns = [\n",
    "    'date',\n",
    "    'ordersCummulativeB',\n",
    "    'revenueCummulativeB',\n",
    "]\n",
    "\n",
    "data = (\n",
    "    ordersADaily.merge(\n",
    "        ordersBDaily, left_on='date', right_on='date', how='left'\n",
    "    )\n",
    "    .merge(ordersACummulative, left_on='date', right_on='date', how='left')\n",
    "    .merge(ordersBCummulative, left_on='date', right_on='date', how='left')\n",
    "    .merge(visitorsADaily, left_on='date', right_on='date', how='left')\n",
    "    .merge(visitorsBDaily, left_on='date', right_on='date', how='left')\n",
    "    .merge(visitorsACummulative, left_on='date', right_on='date', how='left')\n",
    "    .merge(visitorsBCummulative, left_on='date', right_on='date', how='left')\n",
    ")\n"
   ]
  },
  {
   "cell_type": "code",
   "execution_count": 43,
   "id": "425efac0",
   "metadata": {
    "scrolled": true
   },
   "outputs": [
    {
     "data": {
      "text/html": [
       "<div>\n",
       "<style scoped>\n",
       "    .dataframe tbody tr th:only-of-type {\n",
       "        vertical-align: middle;\n",
       "    }\n",
       "\n",
       "    .dataframe tbody tr th {\n",
       "        vertical-align: top;\n",
       "    }\n",
       "\n",
       "    .dataframe thead th {\n",
       "        text-align: right;\n",
       "    }\n",
       "</style>\n",
       "<table border=\"1\" class=\"dataframe\">\n",
       "  <thead>\n",
       "    <tr style=\"text-align: right;\">\n",
       "      <th></th>\n",
       "      <th>date</th>\n",
       "      <th>ordersPerDateA</th>\n",
       "      <th>revenuePerDateA</th>\n",
       "      <th>ordersPerDateB</th>\n",
       "      <th>revenuePerDateB</th>\n",
       "      <th>ordersCummulativeA</th>\n",
       "      <th>revenueCummulativeA</th>\n",
       "      <th>ordersCummulativeB</th>\n",
       "      <th>revenueCummulativeB</th>\n",
       "      <th>visitorsPerDateA</th>\n",
       "      <th>visitorsPerDateB</th>\n",
       "      <th>visitorsCummulativeA</th>\n",
       "      <th>visitorsCummulativeB</th>\n",
       "    </tr>\n",
       "  </thead>\n",
       "  <tbody>\n",
       "    <tr>\n",
       "      <th>0</th>\n",
       "      <td>2019-08-01</td>\n",
       "      <td>23</td>\n",
       "      <td>142779</td>\n",
       "      <td>17</td>\n",
       "      <td>59758</td>\n",
       "      <td>23</td>\n",
       "      <td>142779</td>\n",
       "      <td>17</td>\n",
       "      <td>59758</td>\n",
       "      <td>719</td>\n",
       "      <td>713</td>\n",
       "      <td>719</td>\n",
       "      <td>713</td>\n",
       "    </tr>\n",
       "    <tr>\n",
       "      <th>1</th>\n",
       "      <td>2019-08-02</td>\n",
       "      <td>19</td>\n",
       "      <td>91602</td>\n",
       "      <td>23</td>\n",
       "      <td>162043</td>\n",
       "      <td>42</td>\n",
       "      <td>234381</td>\n",
       "      <td>40</td>\n",
       "      <td>221801</td>\n",
       "      <td>619</td>\n",
       "      <td>581</td>\n",
       "      <td>1338</td>\n",
       "      <td>1294</td>\n",
       "    </tr>\n",
       "    <tr>\n",
       "      <th>2</th>\n",
       "      <td>2019-08-03</td>\n",
       "      <td>24</td>\n",
       "      <td>112473</td>\n",
       "      <td>14</td>\n",
       "      <td>67049</td>\n",
       "      <td>66</td>\n",
       "      <td>346854</td>\n",
       "      <td>54</td>\n",
       "      <td>288850</td>\n",
       "      <td>507</td>\n",
       "      <td>509</td>\n",
       "      <td>1845</td>\n",
       "      <td>1803</td>\n",
       "    </tr>\n",
       "    <tr>\n",
       "      <th>3</th>\n",
       "      <td>2019-08-04</td>\n",
       "      <td>11</td>\n",
       "      <td>41176</td>\n",
       "      <td>14</td>\n",
       "      <td>96890</td>\n",
       "      <td>77</td>\n",
       "      <td>388030</td>\n",
       "      <td>68</td>\n",
       "      <td>385740</td>\n",
       "      <td>717</td>\n",
       "      <td>770</td>\n",
       "      <td>2562</td>\n",
       "      <td>2573</td>\n",
       "    </tr>\n",
       "    <tr>\n",
       "      <th>4</th>\n",
       "      <td>2019-08-05</td>\n",
       "      <td>22</td>\n",
       "      <td>86383</td>\n",
       "      <td>21</td>\n",
       "      <td>89908</td>\n",
       "      <td>99</td>\n",
       "      <td>474413</td>\n",
       "      <td>89</td>\n",
       "      <td>475648</td>\n",
       "      <td>756</td>\n",
       "      <td>707</td>\n",
       "      <td>3318</td>\n",
       "      <td>3280</td>\n",
       "    </tr>\n",
       "  </tbody>\n",
       "</table>\n",
       "</div>"
      ],
      "text/plain": [
       "        date  ordersPerDateA  revenuePerDateA  ordersPerDateB  \\\n",
       "0 2019-08-01  23              142779           17               \n",
       "1 2019-08-02  19              91602            23               \n",
       "2 2019-08-03  24              112473           14               \n",
       "3 2019-08-04  11              41176            14               \n",
       "4 2019-08-05  22              86383            21               \n",
       "\n",
       "   revenuePerDateB  ordersCummulativeA  revenueCummulativeA  \\\n",
       "0  59758            23                  142779                \n",
       "1  162043           42                  234381                \n",
       "2  67049            66                  346854                \n",
       "3  96890            77                  388030                \n",
       "4  89908            99                  474413                \n",
       "\n",
       "   ordersCummulativeB  revenueCummulativeB  visitorsPerDateA  \\\n",
       "0  17                  59758                719                \n",
       "1  40                  221801               619                \n",
       "2  54                  288850               507                \n",
       "3  68                  385740               717                \n",
       "4  89                  475648               756                \n",
       "\n",
       "   visitorsPerDateB  visitorsCummulativeA  visitorsCummulativeB  \n",
       "0  713               719                   713                   \n",
       "1  581               1338                  1294                  \n",
       "2  509               1845                  1803                  \n",
       "3  770               2562                  2573                  \n",
       "4  707               3318                  3280                  "
      ]
     },
     "execution_count": 43,
     "metadata": {},
     "output_type": "execute_result"
    }
   ],
   "source": [
    "data.head(5)"
   ]
  },
  {
   "cell_type": "markdown",
   "id": "78c21e20",
   "metadata": {},
   "source": [
    "#### Cтатистическая значимость различий в среднем количестве заказов на посетителя между группами по «сырым» данным. "
   ]
  },
  {
   "cell_type": "markdown",
   "id": "c387bc4d",
   "metadata": {},
   "source": [
    "**Сформулируем гипотезы.** \n",
    "- **H0:** различий в среднем количестве заказов между группами A и B нет. \n",
    "- **H1:** различия в среднем между между группами A и B есть.\n"
   ]
  },
  {
   "cell_type": "code",
   "execution_count": 44,
   "id": "fa6559e1",
   "metadata": {},
   "outputs": [],
   "source": [
    "# Посчитаем статистическую значимость\n",
    "\n",
    "ordersByUsersA = (\n",
    "    orders[orders['group'] == 'A']\n",
    "    .groupby('visitorId', as_index=False)\n",
    "    .agg({'transactionId': pd.Series.nunique})\n",
    ")\n",
    "ordersByUsersA.columns = ['userId', 'orders']\n",
    "\n",
    "ordersByUsersB = (\n",
    "    orders[orders['group'] == 'B']\n",
    "    .groupby('visitorId', as_index=False)\n",
    "    .agg({'transactionId': pd.Series.nunique})\n",
    ")\n",
    "ordersByUsersB.columns = ['userId', 'orders']\n",
    "\n",
    "sampleA = pd.concat([ordersByUsersA['orders'],pd.Series(0, index=np.arange(data['visitorsPerDateA'].sum() - len(ordersByUsersA['orders'])), name='orders')],axis=0)\n",
    "\n",
    "sampleB = pd.concat([ordersByUsersB['orders'],pd.Series(0, index=np.arange(data['visitorsPerDateB'].sum() - len(ordersByUsersB['orders'])), name='orders')],axis=0) \n",
    "\n"
   ]
  },
  {
   "cell_type": "code",
   "execution_count": 45,
   "id": "78a55a05",
   "metadata": {
    "scrolled": true
   },
   "outputs": [
    {
     "name": "stdout",
     "output_type": "stream",
     "text": [
      "alpha = 0.05\n",
      "p-value = 0.01102\n",
      "Отношение показателей группы B и  группы A = 0.160\n"
     ]
    }
   ],
   "source": [
    "print('alpha = 0.05')\n",
    "print(\"p-value = {0:.5f}\".format(stats.mannwhitneyu(sampleA, sampleB)[1]))\n",
    "print(\"Отношение показателей группы B и  группы A = {0:.3f}\".format(sampleB.mean() / sampleA.mean() - 1))\n"
   ]
  },
  {
   "cell_type": "markdown",
   "id": "6de03187",
   "metadata": {},
   "source": [
    "**Вывод** \n",
    "- p-value меньше 0.005. Нулевую гипотезу отвергаем, принимая альтернативную - в среднем колличестве заказов между группами есть статистически значимые различия. \n",
    "- Относительный прирост среднего группы B к среднему колличеству заказов равен 16 %"
   ]
  },
  {
   "cell_type": "markdown",
   "id": "050f4475",
   "metadata": {},
   "source": [
    "#### Cтатистическая значимость различий в среднем чеке заказа между группами по «сырым» данным. "
   ]
  },
  {
   "cell_type": "markdown",
   "id": "aab63c77",
   "metadata": {},
   "source": [
    "**Сформулируем гипотезы.** \n",
    "- **Н0:** различий в среднем чеке заказа между группами между группами нет (по «сырым» данным). \n",
    "- **Н1:** различия в среднем чеке заказа между группами есть (по «сырым» данным)."
   ]
  },
  {
   "cell_type": "code",
   "execution_count": 46,
   "id": "a62a08ab",
   "metadata": {},
   "outputs": [],
   "source": [
    "# Посчитаем статистическую значимость\n",
    "ordersByUsersA = (\n",
    "    orders[orders['group'] == 'A']\n",
    "    .groupby('visitorId', as_index=False)\n",
    "    .agg({'transactionId': pd.Series.nunique})\n",
    ")\n",
    "ordersByUsersA.columns = ['userId', 'orders']\n",
    "\n",
    "ordersByUsersB = (\n",
    "    orders[orders['group'] == 'B']\n",
    "    .groupby('visitorId', as_index=False)\n",
    "    .agg({'transactionId': pd.Series.nunique})\n",
    ")\n",
    "ordersByUsersB.columns = ['userId', 'orders']\n",
    "\n",
    "sampleA = pd.concat(\n",
    "    [\n",
    "        ordersByUsersA['orders'],\n",
    "        pd.Series(\n",
    "            0,\n",
    "            index=np.arange(\n",
    "                data['visitorsPerDateA'].sum() - len(ordersByUsersA['orders'])\n",
    "            ),\n",
    "            name='orders',\n",
    "        ),\n",
    "    ],\n",
    "    axis=0,\n",
    ")\n",
    "\n",
    "sampleB = pd.concat(\n",
    "    [\n",
    "        ordersByUsersB['orders'],\n",
    "        pd.Series(\n",
    "            0,\n",
    "            index=np.arange(\n",
    "                data['visitorsPerDateB'].sum() - len(ordersByUsersB['orders'])\n",
    "            ),\n",
    "            name='orders',\n",
    "        ),\n",
    "    ],\n",
    "    axis=0,\n",
    ")\n"
   ]
  },
  {
   "cell_type": "code",
   "execution_count": 47,
   "id": "3466a28c",
   "metadata": {
    "scrolled": true
   },
   "outputs": [
    {
     "name": "stdout",
     "output_type": "stream",
     "text": [
      "alpha = 0.05\n",
      "p-value = 0.829\n",
      "Отношение показателей группы B и  группы A 0.287\n"
     ]
    }
   ],
   "source": [
    "print('alpha = 0.05')\n",
    "print('p-value = {0:.3f}'.format(stats.mannwhitneyu(orders[orders['group']=='A']['revenue'], orders[orders['group']=='B']['revenue'])[1]))\n",
    "print('Отношение показателей группы B и  группы A {0:.3f}'.format(orders[orders['group']=='B']['revenue'].mean()/orders[orders['group']=='A']['revenue'].mean()-1)) "
   ]
  },
  {
   "cell_type": "markdown",
   "id": "c75d4c96",
   "metadata": {},
   "source": [
    "**Вывод** \n",
    "Средний чек заказа группы B и больше группы A на 28%, но так как p-value больше 0.05, то для данной выборки, даже значение не является статистически значимым"
   ]
  },
  {
   "cell_type": "markdown",
   "id": "ad465e8b",
   "metadata": {},
   "source": [
    "**Вывод** \n"
   ]
  },
  {
   "cell_type": "markdown",
   "id": "f739506e",
   "metadata": {},
   "source": [
    "#### Cтатистическая значимость различий в среднем количестве заказов на посетителя между группами по «очищенным» данным"
   ]
  },
  {
   "cell_type": "code",
   "execution_count": 49,
   "id": "8553d670",
   "metadata": {},
   "outputs": [
    {
     "name": "stdout",
     "output_type": "stream",
     "text": [
      "568     113298937\n",
      "1099    148427295\n",
      "928     204675465\n",
      "33      249864742\n",
      "684     358944393\n",
      "dtype: int64\n",
      "86\n"
     ]
    }
   ],
   "source": [
    "# Очистим данные\n",
    "\n",
    "\n",
    "# Уберем пользователей, у которых более 1 заказов\n",
    "\n",
    "orders_lim = 1\n",
    "\n",
    "usersWithManyOrders = pd.concat(\n",
    "    [\n",
    "        ordersByUsersA[ordersByUsersA['orders'] > orders_lim]['userId'],\n",
    "        ordersByUsersB[ordersByUsersB['orders'] > orders_lim]['userId'],\n",
    "    ],\n",
    "    axis=0,\n",
    ")\n",
    "\n",
    "# Уберем заказы дороже 26785\n",
    "\n",
    "revenue_lim = 26785\n",
    "\n",
    "usersWithExpensiveOrders = orders[orders['revenue'] > revenue_lim]['visitorId']\n",
    "abnormalUsers = (\n",
    "    pd.concat([usersWithManyOrders, usersWithExpensiveOrders], axis=0)\n",
    "    .drop_duplicates()\n",
    "    .sort_values()\n",
    ")\n",
    "\n",
    "#Узнаем, сколько всего аномальных пользователей атрибутом shape.\n",
    " \n",
    "print(abnormalUsers.head(5))\n",
    "print(abnormalUsers.shape[0]) "
   ]
  },
  {
   "cell_type": "markdown",
   "id": "2d90171a",
   "metadata": {},
   "source": [
    "Всего 86 аномальных пользователей. "
   ]
  },
  {
   "cell_type": "markdown",
   "id": "d794246e",
   "metadata": {},
   "source": [
    "Посчитаем статистическую значимость различий в среднем количестве заказов на посетителя между группами по «очищенным» данным."
   ]
  },
  {
   "cell_type": "markdown",
   "id": "d50f3e85",
   "metadata": {},
   "source": [
    "**Сформулируем гипотезы.** \n",
    "- **Нулевая:** различий в среднем количестве заказов между группами нет. \n",
    "- **Альтернативная:** различия в среднем между группами есть.\n"
   ]
  },
  {
   "cell_type": "code",
   "execution_count": 50,
   "id": "9373db8b",
   "metadata": {},
   "outputs": [],
   "source": [
    "sampleAFiltered = pd.concat(\n",
    "    [\n",
    "        ordersByUsersA[\n",
    "            np.logical_not(ordersByUsersA['userId'].isin(abnormalUsers))\n",
    "        ]['orders'],\n",
    "        pd.Series(\n",
    "            0,\n",
    "            index=np.arange(\n",
    "                data['visitorsPerDateA'].sum() - len(ordersByUsersA['orders'])\n",
    "            ),\n",
    "            name='orders',\n",
    "        ),\n",
    "    ],\n",
    "    axis=0,\n",
    ")\n",
    "\n",
    "sampleBFiltered = pd.concat(\n",
    "    [\n",
    "        ordersByUsersB[\n",
    "            np.logical_not(ordersByUsersB['userId'].isin(abnormalUsers))\n",
    "        ]['orders'],\n",
    "        pd.Series(\n",
    "            0,\n",
    "            index=np.arange(\n",
    "                data['visitorsPerDateB'].sum() - len(ordersByUsersB['orders'])\n",
    "            ),\n",
    "            name='orders',\n",
    "        ),\n",
    "    ],\n",
    "    axis=0,\n",
    ") "
   ]
  },
  {
   "cell_type": "code",
   "execution_count": 51,
   "id": "02650af4",
   "metadata": {},
   "outputs": [
    {
     "name": "stdout",
     "output_type": "stream",
     "text": [
      "alpha = 0.05\n",
      "p-value = 0.01593\n",
      "Отношение показателей группы B и  группы A 0.174\n"
     ]
    }
   ],
   "source": [
    "print('alpha = 0.05')\n",
    "print('p-value = {0:.5f}'.format(stats.mannwhitneyu(sampleAFiltered, sampleBFiltered)[1]))\n",
    "print('Отношение показателей группы B и  группы A {0:.3f}'.format(sampleBFiltered.mean()/sampleAFiltered.mean()-1)) "
   ]
  },
  {
   "cell_type": "markdown",
   "id": "86bac77e",
   "metadata": {},
   "source": [
    "**Вывод** \n",
    "- p-value меньше 0.005. Нулевую гипотезу отвергаем - различия в среднем между группами есть. \n",
    "- Относительное различие среднего чека между сегментами целых 17%"
   ]
  },
  {
   "cell_type": "markdown",
   "id": "66d4658a",
   "metadata": {},
   "source": [
    "#### Cтатистическая значимость различий в среднем чеке заказа между группами по «очищенным» данным."
   ]
  },
  {
   "cell_type": "markdown",
   "id": "55efca81",
   "metadata": {},
   "source": [
    "**Сформулируем гипотезы.** \n",
    "- **Нулевая:** различий в среднем чеке заказа между группами нет. \n",
    "- **Альтернативная:** различия в среднем между группами есть.\n"
   ]
  },
  {
   "cell_type": "code",
   "execution_count": 52,
   "id": "f4b69f60",
   "metadata": {},
   "outputs": [
    {
     "name": "stdout",
     "output_type": "stream",
     "text": [
      "alpha = 0.05\n",
      "p-value = 0.727\n",
      "Отношение показателей группы B и группы A -0.034\n"
     ]
    }
   ],
   "source": [
    "print('alpha = 0.05')\n",
    "\n",
    "print(\n",
    "    'p-value = {0:.3f}'.format(\n",
    "        stats.mannwhitneyu(\n",
    "            orders[\n",
    "                np.logical_and(\n",
    "                    orders['group'] == 'A',\n",
    "                    np.logical_not(orders['visitorId'].isin(abnormalUsers)),\n",
    "                )\n",
    "            ]['revenue'],\n",
    "            orders[\n",
    "                np.logical_and(\n",
    "                    orders['group'] == 'B',\n",
    "                    np.logical_not(orders['visitorId'].isin(abnormalUsers)),\n",
    "                )\n",
    "            ]['revenue'],\n",
    "        )[1]\n",
    "    )\n",
    ")\n",
    "\n",
    "print(\n",
    "    \"Отношение показателей группы B и группы A {0:.3f}\".format(\n",
    "        orders[\n",
    "            np.logical_and(\n",
    "                orders['group'] == 'B',\n",
    "                np.logical_not(orders['visitorId'].isin(abnormalUsers)),\n",
    "            )\n",
    "        ]['revenue'].mean()\n",
    "        / orders[\n",
    "            np.logical_and(\n",
    "                orders['group'] == 'A',\n",
    "                np.logical_not(orders['visitorId'].isin(abnormalUsers)),\n",
    "            )\n",
    "        ]['revenue'].mean()\n",
    "        - 1\n",
    "    )\n",
    ") \n"
   ]
  },
  {
   "cell_type": "markdown",
   "id": "3858c24e",
   "metadata": {},
   "source": [
    "**Вывод** \n",
    "Относительное различие среднего чека 3,5% в польщу группы B, но так-как p-value больше 0.005 это не является статестически значемым. \n"
   ]
  },
  {
   "cell_type": "markdown",
   "id": "ede071c2",
   "metadata": {},
   "source": [
    "#### Вывод по анализу статистической значимости"
   ]
  },
  {
   "cell_type": "markdown",
   "id": "90d9961e",
   "metadata": {},
   "source": [
    "Собирем данные вместе:\n",
    "\n",
    "Среднее количество заказов на посетителя:\n",
    "- Сырые данные:  p-value = 0.01102, разница между сегментами 16%\n",
    "- Очищенные данные: p-value = 0.01593, разница между сегментами 17,4% \n",
    "\n",
    "Как по сырым, так и по очищенным данным p-value меньше 0,05. Статистическая значимость достигнута. Среднее количество заказов на посетителя в группе B выше  \n",
    "\n",
    "Средний чек заказа:   \n",
    "- Сырые данные:    p-value = 0.829 , разница между сегментами 28,7 %\n",
    "- Очищенные данные: p-value = 0.727,  разница между сегментами незначительна  -3,4%\n",
    "\n",
    "Как по сырым, так и по очищенным данным p-value гораздо больше 0,05. Вывод о различии сделать нельзя. "
   ]
  },
  {
   "cell_type": "markdown",
   "id": "2fe1d2ae",
   "metadata": {},
   "source": [
    "### Вывод "
   ]
  },
  {
   "cell_type": "markdown",
   "id": "a5ca5538",
   "metadata": {},
   "source": [
    "**Что было сделано**:\n",
    "1. Проверили корректности входных данных \n",
    "2. Проанализировали распределения трафика по группам\n",
    "3. Построили графики кумулятивного значениz для исследуемых параметров \n",
    "4. Построили графики относbтельного изменения для исследуемых параметров \n",
    "5. Проверили данные на наличие аномалий, определили параметры для исключения аномалий\n",
    "6. Рассчитали статистическую значимость по сырым данным\n",
    "7. Рассчитали статистическую значимость по очищенным данным\n"
   ]
  },
  {
   "cell_type": "markdown",
   "id": "d381efc8",
   "metadata": {},
   "source": [
    "**Выводы:**\n",
    "\n",
    "- 58 покупателей попали в обе группы для тестирования. Мы удадали их из выборки. \n",
    "- Группы были поделены не поровну и после удаления перевес сохранился. \n",
    "- Мы построили графики кумулятивных значений исследуемых параметров и их относительное изменение кумулятивного среднего, чтобы избежать проблемы подглядывания. По предварительной оценке показатели группы B выше\n",
    "- На графиках так же были зафиксированы аномальные всплески. На всех среднего чека мы видим скачек 18 августа. На графиках по среднему количеству заказов - скачки в группе B.\n",
    "- Определили выбросы: для среднего чека более 26 тыс, и больше 1го заказов на покупателя. В результате обнаружено 86 аномальных пользователя, которые не учитывались при расчете по \"чистым\" данным. \n",
    "- Среднее количество заказов на посетителя как по сырым, так и по очищенным данным в группе А больше группы Б, и достигнута статистическая значимость \n",
    "- Что касается среднего чека заказа, то вывода о различии нельзя сделать ни по сырым ни по очищенным данным. \n",
    "\n",
    "\n",
    "\n"
   ]
  },
  {
   "cell_type": "markdown",
   "id": "ce92ba49",
   "metadata": {},
   "source": [
    "**Решение:**\n",
    "Останвливаем тест, фиксируем победу группы B. Среднее колличество заказов в грппе B выше на 17%. \n"
   ]
  }
 ],
 "metadata": {
  "ExecuteTimeLog": [
   {
    "duration": 1186,
    "start_time": "2023-02-25T12:45:31.250Z"
   },
   {
    "duration": 1899,
    "start_time": "2023-02-25T12:45:32.438Z"
   },
   {
    "duration": 48,
    "start_time": "2023-02-25T12:45:34.339Z"
   },
   {
    "duration": 16,
    "start_time": "2023-02-25T12:45:34.389Z"
   },
   {
    "duration": 14,
    "start_time": "2023-02-25T12:45:34.408Z"
   },
   {
    "duration": 7,
    "start_time": "2023-02-25T12:45:34.424Z"
   },
   {
    "duration": 23,
    "start_time": "2023-02-25T12:45:34.432Z"
   },
   {
    "duration": 12,
    "start_time": "2023-02-25T12:45:34.456Z"
   },
   {
    "duration": 107,
    "start_time": "2023-02-25T12:45:34.470Z"
   },
   {
    "duration": 14,
    "start_time": "2023-02-25T12:45:34.579Z"
   },
   {
    "duration": 17,
    "start_time": "2023-02-25T12:45:34.595Z"
   },
   {
    "duration": 7,
    "start_time": "2023-02-25T12:45:34.614Z"
   },
   {
    "duration": 8,
    "start_time": "2023-02-25T12:45:34.624Z"
   },
   {
    "duration": 9,
    "start_time": "2023-02-25T12:45:34.636Z"
   },
   {
    "duration": 12,
    "start_time": "2023-02-25T12:45:34.647Z"
   },
   {
    "duration": 40,
    "start_time": "2023-02-25T12:45:34.661Z"
   },
   {
    "duration": 330,
    "start_time": "2023-02-25T12:45:34.703Z"
   },
   {
    "duration": 7,
    "start_time": "2023-02-25T12:45:35.035Z"
   },
   {
    "duration": 22,
    "start_time": "2023-02-25T12:45:35.044Z"
   },
   {
    "duration": 25,
    "start_time": "2023-02-25T12:45:35.068Z"
   },
   {
    "duration": 360,
    "start_time": "2023-02-25T12:45:35.095Z"
   },
   {
    "duration": 308,
    "start_time": "2023-02-25T12:45:35.457Z"
   },
   {
    "duration": 446,
    "start_time": "2023-02-25T12:45:35.767Z"
   },
   {
    "duration": 7,
    "start_time": "2023-02-25T12:45:36.215Z"
   },
   {
    "duration": 338,
    "start_time": "2023-02-25T12:45:36.223Z"
   },
   {
    "duration": 17,
    "start_time": "2023-02-25T12:45:36.563Z"
   },
   {
    "duration": 415,
    "start_time": "2023-02-25T12:45:36.581Z"
   },
   {
    "duration": 10,
    "start_time": "2023-02-25T12:45:36.999Z"
   },
   {
    "duration": 181,
    "start_time": "2023-02-25T12:45:37.011Z"
   },
   {
    "duration": 6,
    "start_time": "2023-02-25T12:45:37.199Z"
   },
   {
    "duration": 17,
    "start_time": "2023-02-25T12:45:37.207Z"
   },
   {
    "duration": 207,
    "start_time": "2023-02-25T12:45:37.226Z"
   },
   {
    "duration": 5,
    "start_time": "2023-02-25T12:45:37.435Z"
   },
   {
    "duration": 331,
    "start_time": "2023-02-25T12:45:37.442Z"
   },
   {
    "duration": 5,
    "start_time": "2023-02-25T12:45:37.775Z"
   },
   {
    "duration": 243,
    "start_time": "2023-02-25T12:45:37.782Z"
   },
   {
    "duration": 158,
    "start_time": "2023-02-25T12:45:38.027Z"
   },
   {
    "duration": 26,
    "start_time": "2023-02-25T12:45:38.187Z"
   },
   {
    "duration": 172,
    "start_time": "2023-02-25T12:45:38.214Z"
   },
   {
    "duration": 18,
    "start_time": "2023-02-25T12:45:38.387Z"
   },
   {
    "duration": 15,
    "start_time": "2023-02-25T12:45:38.410Z"
   },
   {
    "duration": 15,
    "start_time": "2023-02-25T12:45:38.427Z"
   },
   {
    "duration": 25,
    "start_time": "2023-02-25T12:45:38.444Z"
   },
   {
    "duration": 35,
    "start_time": "2023-02-25T12:45:38.471Z"
   },
   {
    "duration": 79,
    "start_time": "2023-02-28T10:01:00.421Z"
   },
   {
    "duration": 1468,
    "start_time": "2023-02-28T10:01:05.529Z"
   },
   {
    "duration": 2197,
    "start_time": "2023-02-28T10:01:06.999Z"
   },
   {
    "duration": 211,
    "start_time": "2023-02-28T10:01:09.198Z"
   },
   {
    "duration": 13,
    "start_time": "2023-02-28T10:01:09.410Z"
   },
   {
    "duration": 24,
    "start_time": "2023-02-28T10:01:09.425Z"
   },
   {
    "duration": 7,
    "start_time": "2023-02-28T10:01:09.451Z"
   },
   {
    "duration": 28,
    "start_time": "2023-02-28T10:01:09.460Z"
   },
   {
    "duration": 12,
    "start_time": "2023-02-28T10:01:09.490Z"
   },
   {
    "duration": 229,
    "start_time": "2023-02-28T10:01:09.505Z"
   },
   {
    "duration": 15,
    "start_time": "2023-02-28T10:01:09.736Z"
   },
   {
    "duration": 26,
    "start_time": "2023-02-28T10:01:09.753Z"
   },
   {
    "duration": 7,
    "start_time": "2023-02-28T10:01:09.781Z"
   },
   {
    "duration": 6,
    "start_time": "2023-02-28T10:01:09.790Z"
   },
   {
    "duration": 11,
    "start_time": "2023-02-28T10:01:09.799Z"
   },
   {
    "duration": 10,
    "start_time": "2023-02-28T10:01:09.812Z"
   },
   {
    "duration": 11,
    "start_time": "2023-02-28T10:01:09.824Z"
   },
   {
    "duration": 316,
    "start_time": "2023-02-28T10:01:09.837Z"
   },
   {
    "duration": 9,
    "start_time": "2023-02-28T10:01:10.159Z"
   },
   {
    "duration": 12,
    "start_time": "2023-02-28T10:01:10.170Z"
   },
   {
    "duration": 12,
    "start_time": "2023-02-28T10:01:10.184Z"
   },
   {
    "duration": 376,
    "start_time": "2023-02-28T10:01:10.199Z"
   },
   {
    "duration": 296,
    "start_time": "2023-02-28T10:01:10.577Z"
   },
   {
    "duration": 424,
    "start_time": "2023-02-28T10:01:10.875Z"
   },
   {
    "duration": 7,
    "start_time": "2023-02-28T10:01:11.300Z"
   },
   {
    "duration": 319,
    "start_time": "2023-02-28T10:01:11.309Z"
   },
   {
    "duration": 13,
    "start_time": "2023-02-28T10:01:11.630Z"
   },
   {
    "duration": 404,
    "start_time": "2023-02-28T10:01:11.645Z"
   },
   {
    "duration": 10,
    "start_time": "2023-02-28T10:01:12.059Z"
   },
   {
    "duration": 164,
    "start_time": "2023-02-28T10:01:12.072Z"
   },
   {
    "duration": 5,
    "start_time": "2023-02-28T10:01:12.238Z"
   },
   {
    "duration": 19,
    "start_time": "2023-02-28T10:01:12.245Z"
   },
   {
    "duration": 227,
    "start_time": "2023-02-28T10:01:12.266Z"
   },
   {
    "duration": 5,
    "start_time": "2023-02-28T10:01:12.495Z"
   },
   {
    "duration": 309,
    "start_time": "2023-02-28T10:01:12.502Z"
   },
   {
    "duration": 5,
    "start_time": "2023-02-28T10:01:12.813Z"
   },
   {
    "duration": 241,
    "start_time": "2023-02-28T10:01:12.821Z"
   },
   {
    "duration": 11,
    "start_time": "2023-02-28T10:01:13.064Z"
   },
   {
    "duration": 166,
    "start_time": "2023-02-28T10:01:13.077Z"
   },
   {
    "duration": 32,
    "start_time": "2023-02-28T10:01:13.245Z"
   },
   {
    "duration": 164,
    "start_time": "2023-02-28T10:01:13.279Z"
   },
   {
    "duration": 17,
    "start_time": "2023-02-28T10:01:13.447Z"
   },
   {
    "duration": 10,
    "start_time": "2023-02-28T10:01:13.466Z"
   },
   {
    "duration": 15,
    "start_time": "2023-02-28T10:01:13.478Z"
   },
   {
    "duration": 29,
    "start_time": "2023-02-28T10:01:13.496Z"
   },
   {
    "duration": 36,
    "start_time": "2023-02-28T10:01:13.527Z"
   },
   {
    "duration": 11,
    "start_time": "2023-02-28T10:04:41.567Z"
   },
   {
    "duration": 3,
    "start_time": "2023-02-28T10:12:43.130Z"
   },
   {
    "duration": 17,
    "start_time": "2023-02-28T10:19:16.398Z"
   },
   {
    "duration": 5,
    "start_time": "2023-02-28T10:22:14.431Z"
   },
   {
    "duration": 5,
    "start_time": "2023-02-28T10:23:22.009Z"
   },
   {
    "duration": 11,
    "start_time": "2023-02-28T10:23:38.375Z"
   },
   {
    "duration": 14,
    "start_time": "2023-02-28T10:25:31.557Z"
   },
   {
    "duration": 12,
    "start_time": "2023-02-28T10:25:41.588Z"
   },
   {
    "duration": 12,
    "start_time": "2023-02-28T10:25:58.298Z"
   },
   {
    "duration": 11,
    "start_time": "2023-02-28T10:26:00.552Z"
   },
   {
    "duration": 11,
    "start_time": "2023-02-28T10:26:08.463Z"
   },
   {
    "duration": 5,
    "start_time": "2023-02-28T10:26:15.331Z"
   },
   {
    "duration": 11,
    "start_time": "2023-02-28T10:26:17.028Z"
   },
   {
    "duration": 312,
    "start_time": "2023-02-28T10:32:50.241Z"
   },
   {
    "duration": 7,
    "start_time": "2023-02-28T10:32:53.132Z"
   },
   {
    "duration": 9,
    "start_time": "2023-02-28T10:32:55.364Z"
   },
   {
    "duration": 8,
    "start_time": "2023-02-28T10:32:56.914Z"
   },
   {
    "duration": 264,
    "start_time": "2023-02-28T10:32:59.141Z"
   },
   {
    "duration": 266,
    "start_time": "2023-02-28T10:33:03.239Z"
   },
   {
    "duration": 386,
    "start_time": "2023-02-28T10:33:06.560Z"
   },
   {
    "duration": 6,
    "start_time": "2023-02-28T10:33:11.768Z"
   },
   {
    "duration": 285,
    "start_time": "2023-02-28T10:33:22.481Z"
   },
   {
    "duration": 15,
    "start_time": "2023-02-28T10:33:29.426Z"
   },
   {
    "duration": 408,
    "start_time": "2023-02-28T10:33:31.341Z"
   },
   {
    "duration": 10,
    "start_time": "2023-02-28T10:43:56.768Z"
   },
   {
    "duration": 136,
    "start_time": "2023-02-28T10:43:59.197Z"
   },
   {
    "duration": 4,
    "start_time": "2023-02-28T10:44:03.334Z"
   },
   {
    "duration": 9,
    "start_time": "2023-02-28T10:44:13.838Z"
   },
   {
    "duration": 136,
    "start_time": "2023-02-28T10:44:15.876Z"
   },
   {
    "duration": 142,
    "start_time": "2023-02-28T10:44:17.895Z"
   },
   {
    "duration": 5,
    "start_time": "2023-02-28T10:44:20.900Z"
   },
   {
    "duration": 5,
    "start_time": "2023-02-28T10:49:37.297Z"
   },
   {
    "duration": 10,
    "start_time": "2023-02-28T10:49:39.667Z"
   },
   {
    "duration": 200,
    "start_time": "2023-02-28T10:49:41.720Z"
   },
   {
    "duration": 1256,
    "start_time": "2023-02-28T10:49:56.270Z"
   },
   {
    "duration": 1987,
    "start_time": "2023-02-28T10:49:57.530Z"
   },
   {
    "duration": 55,
    "start_time": "2023-02-28T10:49:59.519Z"
   },
   {
    "duration": 12,
    "start_time": "2023-02-28T10:49:59.577Z"
   },
   {
    "duration": 16,
    "start_time": "2023-02-28T10:49:59.591Z"
   },
   {
    "duration": 9,
    "start_time": "2023-02-28T10:49:59.609Z"
   },
   {
    "duration": 15,
    "start_time": "2023-02-28T10:49:59.620Z"
   },
   {
    "duration": 11,
    "start_time": "2023-02-28T10:49:59.636Z"
   },
   {
    "duration": 91,
    "start_time": "2023-02-28T10:49:59.648Z"
   },
   {
    "duration": 13,
    "start_time": "2023-02-28T10:49:59.742Z"
   },
   {
    "duration": 16,
    "start_time": "2023-02-28T10:49:59.757Z"
   },
   {
    "duration": 6,
    "start_time": "2023-02-28T10:49:59.775Z"
   },
   {
    "duration": 6,
    "start_time": "2023-02-28T10:49:59.782Z"
   },
   {
    "duration": 7,
    "start_time": "2023-02-28T10:49:59.789Z"
   },
   {
    "duration": 7,
    "start_time": "2023-02-28T10:49:59.798Z"
   },
   {
    "duration": 14,
    "start_time": "2023-02-28T10:49:59.807Z"
   },
   {
    "duration": 43,
    "start_time": "2023-02-28T10:49:59.823Z"
   },
   {
    "duration": 4,
    "start_time": "2023-02-28T10:49:59.867Z"
   },
   {
    "duration": 7,
    "start_time": "2023-02-28T10:49:59.873Z"
   },
   {
    "duration": 7,
    "start_time": "2023-02-28T10:49:59.881Z"
   },
   {
    "duration": 288,
    "start_time": "2023-02-28T10:49:59.889Z"
   },
   {
    "duration": 6,
    "start_time": "2023-02-28T10:50:00.179Z"
   },
   {
    "duration": 17,
    "start_time": "2023-02-28T10:50:00.186Z"
   },
   {
    "duration": 18,
    "start_time": "2023-02-28T10:50:00.205Z"
   },
   {
    "duration": 364,
    "start_time": "2023-02-28T10:50:00.224Z"
   },
   {
    "duration": 307,
    "start_time": "2023-02-28T10:50:00.590Z"
   },
   {
    "duration": 369,
    "start_time": "2023-02-28T10:50:00.899Z"
   },
   {
    "duration": 6,
    "start_time": "2023-02-28T10:50:01.271Z"
   },
   {
    "duration": 324,
    "start_time": "2023-02-28T10:50:01.280Z"
   },
   {
    "duration": 16,
    "start_time": "2023-02-28T10:50:01.606Z"
   },
   {
    "duration": 395,
    "start_time": "2023-02-28T10:50:01.623Z"
   },
   {
    "duration": 9,
    "start_time": "2023-02-28T10:50:02.020Z"
   },
   {
    "duration": 189,
    "start_time": "2023-02-28T10:50:02.030Z"
   },
   {
    "duration": 4,
    "start_time": "2023-02-28T10:50:02.221Z"
   },
   {
    "duration": 33,
    "start_time": "2023-02-28T10:50:02.226Z"
   },
   {
    "duration": 222,
    "start_time": "2023-02-28T10:50:02.261Z"
   },
   {
    "duration": 4,
    "start_time": "2023-02-28T10:50:02.485Z"
   },
   {
    "duration": 300,
    "start_time": "2023-02-28T10:50:02.491Z"
   },
   {
    "duration": 5,
    "start_time": "2023-02-28T10:50:02.793Z"
   },
   {
    "duration": 269,
    "start_time": "2023-02-28T10:50:02.800Z"
   },
   {
    "duration": 13,
    "start_time": "2023-02-28T10:50:03.071Z"
   },
   {
    "duration": 180,
    "start_time": "2023-02-28T10:50:03.085Z"
   },
   {
    "duration": 27,
    "start_time": "2023-02-28T10:50:03.267Z"
   },
   {
    "duration": 136,
    "start_time": "2023-02-28T10:50:03.296Z"
   },
   {
    "duration": 11,
    "start_time": "2023-02-28T10:50:03.434Z"
   },
   {
    "duration": 13,
    "start_time": "2023-02-28T10:50:03.446Z"
   },
   {
    "duration": 10,
    "start_time": "2023-02-28T10:50:03.461Z"
   },
   {
    "duration": 8,
    "start_time": "2023-02-28T10:50:03.473Z"
   },
   {
    "duration": 24,
    "start_time": "2023-02-28T10:50:03.483Z"
   },
   {
    "duration": 13,
    "start_time": "2023-02-28T10:50:03.508Z"
   },
   {
    "duration": 3,
    "start_time": "2023-02-28T10:50:31.426Z"
   },
   {
    "duration": 3,
    "start_time": "2023-02-28T10:50:40.898Z"
   },
   {
    "duration": 2,
    "start_time": "2023-02-28T10:52:16.127Z"
   },
   {
    "duration": 10,
    "start_time": "2023-02-28T11:03:55.458Z"
   },
   {
    "duration": 11,
    "start_time": "2023-02-28T11:06:48.147Z"
   },
   {
    "duration": 28,
    "start_time": "2023-02-28T11:07:29.137Z"
   },
   {
    "duration": 8,
    "start_time": "2023-02-28T11:07:30.688Z"
   },
   {
    "duration": 24,
    "start_time": "2023-02-28T11:07:31.940Z"
   },
   {
    "duration": 14,
    "start_time": "2023-02-28T11:10:11.831Z"
   },
   {
    "duration": 1210,
    "start_time": "2023-02-28T14:24:44.350Z"
   },
   {
    "duration": 2616,
    "start_time": "2023-02-28T14:24:45.562Z"
   },
   {
    "duration": 124,
    "start_time": "2023-02-28T14:24:48.180Z"
   },
   {
    "duration": 12,
    "start_time": "2023-02-28T14:24:48.308Z"
   },
   {
    "duration": 12,
    "start_time": "2023-02-28T14:24:48.322Z"
   },
   {
    "duration": 6,
    "start_time": "2023-02-28T14:24:48.335Z"
   },
   {
    "duration": 15,
    "start_time": "2023-02-28T14:24:48.342Z"
   },
   {
    "duration": 9,
    "start_time": "2023-02-28T14:24:48.359Z"
   },
   {
    "duration": 238,
    "start_time": "2023-02-28T14:24:48.370Z"
   },
   {
    "duration": 12,
    "start_time": "2023-02-28T14:24:48.609Z"
   },
   {
    "duration": 13,
    "start_time": "2023-02-28T14:24:48.623Z"
   },
   {
    "duration": 7,
    "start_time": "2023-02-28T14:24:48.637Z"
   },
   {
    "duration": 6,
    "start_time": "2023-02-28T14:24:48.645Z"
   },
   {
    "duration": 7,
    "start_time": "2023-02-28T14:24:48.654Z"
   },
   {
    "duration": 43,
    "start_time": "2023-02-28T14:24:48.662Z"
   },
   {
    "duration": 35,
    "start_time": "2023-02-28T14:24:48.707Z"
   },
   {
    "duration": 17,
    "start_time": "2023-02-28T14:24:48.743Z"
   },
   {
    "duration": 5,
    "start_time": "2023-02-28T14:24:48.762Z"
   },
   {
    "duration": 5,
    "start_time": "2023-02-28T14:24:48.769Z"
   },
   {
    "duration": 6,
    "start_time": "2023-02-28T14:24:48.775Z"
   },
   {
    "duration": 342,
    "start_time": "2023-02-28T14:24:48.782Z"
   },
   {
    "duration": 7,
    "start_time": "2023-02-28T14:24:49.126Z"
   },
   {
    "duration": 12,
    "start_time": "2023-02-28T14:24:49.135Z"
   },
   {
    "duration": 11,
    "start_time": "2023-02-28T14:24:49.148Z"
   },
   {
    "duration": 388,
    "start_time": "2023-02-28T14:24:49.160Z"
   },
   {
    "duration": 289,
    "start_time": "2023-02-28T14:24:49.550Z"
   },
   {
    "duration": 434,
    "start_time": "2023-02-28T14:24:49.841Z"
   },
   {
    "duration": 7,
    "start_time": "2023-02-28T14:24:50.276Z"
   },
   {
    "duration": 325,
    "start_time": "2023-02-28T14:24:50.285Z"
   },
   {
    "duration": 15,
    "start_time": "2023-02-28T14:24:50.612Z"
   },
   {
    "duration": 361,
    "start_time": "2023-02-28T14:24:50.629Z"
   },
   {
    "duration": 13,
    "start_time": "2023-02-28T14:24:51.004Z"
   },
   {
    "duration": 171,
    "start_time": "2023-02-28T14:24:51.019Z"
   },
   {
    "duration": 5,
    "start_time": "2023-02-28T14:24:51.204Z"
   },
   {
    "duration": 9,
    "start_time": "2023-02-28T14:24:51.211Z"
   },
   {
    "duration": 15,
    "start_time": "2023-02-28T14:24:51.221Z"
   },
   {
    "duration": 213,
    "start_time": "2023-02-28T14:24:51.237Z"
   },
   {
    "duration": 5,
    "start_time": "2023-02-28T14:24:51.451Z"
   },
   {
    "duration": 303,
    "start_time": "2023-02-28T14:24:51.457Z"
   },
   {
    "duration": 4,
    "start_time": "2023-02-28T14:24:51.762Z"
   },
   {
    "duration": 7,
    "start_time": "2023-02-28T14:24:51.769Z"
   },
   {
    "duration": 261,
    "start_time": "2023-02-28T14:24:51.777Z"
   },
   {
    "duration": 9,
    "start_time": "2023-02-28T14:24:52.040Z"
   },
   {
    "duration": 214,
    "start_time": "2023-02-28T14:24:52.051Z"
   },
   {
    "duration": 42,
    "start_time": "2023-02-28T14:24:52.267Z"
   },
   {
    "duration": 139,
    "start_time": "2023-02-28T14:24:52.311Z"
   },
   {
    "duration": 9,
    "start_time": "2023-02-28T14:24:52.452Z"
   },
   {
    "duration": 8,
    "start_time": "2023-02-28T14:24:52.463Z"
   },
   {
    "duration": 30,
    "start_time": "2023-02-28T14:24:52.473Z"
   },
   {
    "duration": 19,
    "start_time": "2023-02-28T14:24:52.505Z"
   },
   {
    "duration": 25,
    "start_time": "2023-02-28T14:24:52.525Z"
   },
   {
    "duration": 12,
    "start_time": "2023-02-28T14:24:52.552Z"
   }
  ],
  "kernelspec": {
   "display_name": "Python 3 (ipykernel)",
   "language": "python",
   "name": "python3"
  },
  "language_info": {
   "codemirror_mode": {
    "name": "ipython",
    "version": 3
   },
   "file_extension": ".py",
   "mimetype": "text/x-python",
   "name": "python",
   "nbconvert_exporter": "python",
   "pygments_lexer": "ipython3",
   "version": "3.9.13"
  },
  "toc": {
   "base_numbering": "1",
   "nav_menu": {},
   "number_sections": true,
   "sideBar": true,
   "skip_h1_title": true,
   "title_cell": "Table of Contents",
   "title_sidebar": "Contents",
   "toc_cell": false,
   "toc_position": {
    "height": "calc(100% - 180px)",
    "left": "10px",
    "top": "150px",
    "width": "384px"
   },
   "toc_section_display": true,
   "toc_window_display": true
  },
  "widgets": {
   "application/vnd.jupyter.widget-state+json": {
    "state": {},
    "version_major": 2,
    "version_minor": 0
   }
  }
 },
 "nbformat": 4,
 "nbformat_minor": 5
}
